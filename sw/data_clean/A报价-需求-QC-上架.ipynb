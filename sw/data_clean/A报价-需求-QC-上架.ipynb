{
 "cells": [
  {
   "cell_type": "code",
   "execution_count": 1,
   "id": "11c87ac6",
   "metadata": {
    "ExecuteTime": {
     "end_time": "2022-06-27T01:50:17.142864Z",
     "start_time": "2022-06-27T01:50:16.588350Z"
    }
   },
   "outputs": [],
   "source": [
    "import pandas as pd\n",
    "import numpy as np\n",
    "import re\n",
    "import os\n",
    "from datetime import datetime"
   ]
  },
  {
   "cell_type": "code",
   "execution_count": 2,
   "id": "3ccd413d",
   "metadata": {
    "ExecuteTime": {
     "end_time": "2022-06-27T01:50:17.158823Z",
     "start_time": "2022-06-27T01:50:17.144860Z"
    }
   },
   "outputs": [],
   "source": [
    "original_data_path = './原始数据/'\n",
    "final_data_path = './清洗结果/'\n",
    "DIRS = [original_data_path, final_data_path]\n",
    "for output_dir in DIRS:\n",
    "    if not os.path.exists(output_dir):\n",
    "        os.makedirs(output_dir)"
   ]
  },
  {
   "cell_type": "markdown",
   "id": "b7bc1fbb",
   "metadata": {},
   "source": [
    "# 报价单"
   ]
  },
  {
   "cell_type": "code",
   "execution_count": null,
   "id": "23b2d5d8",
   "metadata": {},
   "outputs": [],
   "source": [
    "# 检查业务员采购员"
   ]
  },
  {
   "cell_type": "code",
   "execution_count": 136,
   "id": "6a59a1af",
   "metadata": {
    "ExecuteTime": {
     "end_time": "2022-06-27T05:21:21.775179Z",
     "start_time": "2022-06-27T05:21:21.078046Z"
    },
    "scrolled": true
   },
   "outputs": [],
   "source": [
    "quotation_data = pd.read_excel('./原始数据/报价表.xlsx',dtype=object)"
   ]
  },
  {
   "cell_type": "code",
   "execution_count": 137,
   "id": "47c0b35d",
   "metadata": {
    "ExecuteTime": {
     "end_time": "2022-06-27T05:21:22.243926Z",
     "start_time": "2022-06-27T05:21:22.218994Z"
    },
    "scrolled": true
   },
   "outputs": [
    {
     "data": {
      "text/html": [
       "<div>\n",
       "<style scoped>\n",
       "    .dataframe tbody tr th:only-of-type {\n",
       "        vertical-align: middle;\n",
       "    }\n",
       "\n",
       "    .dataframe tbody tr th {\n",
       "        vertical-align: top;\n",
       "    }\n",
       "\n",
       "    .dataframe thead th {\n",
       "        text-align: right;\n",
       "    }\n",
       "</style>\n",
       "<table border=\"1\" class=\"dataframe\">\n",
       "  <thead>\n",
       "    <tr style=\"text-align: right;\">\n",
       "      <th></th>\n",
       "      <th>审批编号</th>\n",
       "      <th>标题</th>\n",
       "      <th>审批状态</th>\n",
       "      <th>审批结果</th>\n",
       "      <th>发起时间</th>\n",
       "      <th>完成时间</th>\n",
       "      <th>耗时(时:分:秒)</th>\n",
       "      <th>发起人工号</th>\n",
       "      <th>发起人UserID</th>\n",
       "      <th>发起人姓名</th>\n",
       "      <th>...</th>\n",
       "      <th>产品材质  (Product Material)</th>\n",
       "      <th>产品尺寸  (Product size).1</th>\n",
       "      <th>联系人 (Contact).2</th>\n",
       "      <th>联系方式  (Tel/Phone).1</th>\n",
       "      <th>产品链接  (Product Website Link).1</th>\n",
       "      <th>采购员意见/评价  (Comments from Buyer).1</th>\n",
       "      <th>备注 (Remark)</th>\n",
       "      <th>附件 (Attachment)</th>\n",
       "      <th>业务员评价 (Feedback from Salesman)</th>\n",
       "      <th>若未采用报价的原因 (Reasons for declining the quotation)</th>\n",
       "    </tr>\n",
       "  </thead>\n",
       "  <tbody>\n",
       "    <tr>\n",
       "      <th>0</th>\n",
       "      <td>202206271259000168264</td>\n",
       "      <td>马威Jesse提交的采购报价单 (Quotation)</td>\n",
       "      <td>审批中</td>\n",
       "      <td>NaN</td>\n",
       "      <td>2022-06-27 12:59:17</td>\n",
       "      <td>NaN</td>\n",
       "      <td>0:6:9</td>\n",
       "      <td>NaN</td>\n",
       "      <td>1329683850-1329604872</td>\n",
       "      <td>马威Jesse</td>\n",
       "      <td>...</td>\n",
       "      <td>NaN</td>\n",
       "      <td>NaN</td>\n",
       "      <td>NaN</td>\n",
       "      <td>NaN</td>\n",
       "      <td>NaN</td>\n",
       "      <td>NaN</td>\n",
       "      <td>NaN</td>\n",
       "      <td>NaN</td>\n",
       "      <td>NaN</td>\n",
       "      <td>NaN</td>\n",
       "    </tr>\n",
       "    <tr>\n",
       "      <th>1</th>\n",
       "      <td>202206271259000168264</td>\n",
       "      <td>马威Jesse提交的采购报价单 (Quotation)</td>\n",
       "      <td>审批中</td>\n",
       "      <td>NaN</td>\n",
       "      <td>2022-06-27 12:59:17</td>\n",
       "      <td>NaN</td>\n",
       "      <td>0:6:9</td>\n",
       "      <td>NaN</td>\n",
       "      <td>1329683850-1329604872</td>\n",
       "      <td>马威Jesse</td>\n",
       "      <td>...</td>\n",
       "      <td>NaN</td>\n",
       "      <td>NaN</td>\n",
       "      <td>NaN</td>\n",
       "      <td>NaN</td>\n",
       "      <td>NaN</td>\n",
       "      <td>NaN</td>\n",
       "      <td>NaN</td>\n",
       "      <td>NaN</td>\n",
       "      <td>NaN</td>\n",
       "      <td>NaN</td>\n",
       "    </tr>\n",
       "    <tr>\n",
       "      <th>2</th>\n",
       "      <td>202206271259000168264</td>\n",
       "      <td>马威Jesse提交的采购报价单 (Quotation)</td>\n",
       "      <td>审批中</td>\n",
       "      <td>NaN</td>\n",
       "      <td>2022-06-27 12:59:17</td>\n",
       "      <td>NaN</td>\n",
       "      <td>0:6:9</td>\n",
       "      <td>NaN</td>\n",
       "      <td>1329683850-1329604872</td>\n",
       "      <td>马威Jesse</td>\n",
       "      <td>...</td>\n",
       "      <td>NaN</td>\n",
       "      <td>NaN</td>\n",
       "      <td>NaN</td>\n",
       "      <td>NaN</td>\n",
       "      <td>NaN</td>\n",
       "      <td>NaN</td>\n",
       "      <td>NaN</td>\n",
       "      <td>NaN</td>\n",
       "      <td>NaN</td>\n",
       "      <td>NaN</td>\n",
       "    </tr>\n",
       "    <tr>\n",
       "      <th>3</th>\n",
       "      <td>202206271257000570000</td>\n",
       "      <td>马威Jesse提交的采购报价单 (Quotation)</td>\n",
       "      <td>审批中</td>\n",
       "      <td>NaN</td>\n",
       "      <td>2022-06-27 12:57:57</td>\n",
       "      <td>NaN</td>\n",
       "      <td>0:7:29</td>\n",
       "      <td>NaN</td>\n",
       "      <td>1329683850-1329604872</td>\n",
       "      <td>马威Jesse</td>\n",
       "      <td>...</td>\n",
       "      <td>NaN</td>\n",
       "      <td>NaN</td>\n",
       "      <td>NaN</td>\n",
       "      <td>NaN</td>\n",
       "      <td>NaN</td>\n",
       "      <td>NaN</td>\n",
       "      <td>NaN</td>\n",
       "      <td>NaN</td>\n",
       "      <td>NaN</td>\n",
       "      <td>NaN</td>\n",
       "    </tr>\n",
       "    <tr>\n",
       "      <th>4</th>\n",
       "      <td>202206271257000570000</td>\n",
       "      <td>马威Jesse提交的采购报价单 (Quotation)</td>\n",
       "      <td>审批中</td>\n",
       "      <td>NaN</td>\n",
       "      <td>2022-06-27 12:57:57</td>\n",
       "      <td>NaN</td>\n",
       "      <td>0:7:29</td>\n",
       "      <td>NaN</td>\n",
       "      <td>1329683850-1329604872</td>\n",
       "      <td>马威Jesse</td>\n",
       "      <td>...</td>\n",
       "      <td>NaN</td>\n",
       "      <td>NaN</td>\n",
       "      <td>NaN</td>\n",
       "      <td>NaN</td>\n",
       "      <td>NaN</td>\n",
       "      <td>NaN</td>\n",
       "      <td>NaN</td>\n",
       "      <td>NaN</td>\n",
       "      <td>NaN</td>\n",
       "      <td>NaN</td>\n",
       "    </tr>\n",
       "  </tbody>\n",
       "</table>\n",
       "<p>5 rows × 82 columns</p>\n",
       "</div>"
      ],
      "text/plain": [
       "                    审批编号                           标题 审批状态 审批结果  \\\n",
       "0  202206271259000168264  马威Jesse提交的采购报价单 (Quotation)  审批中  NaN   \n",
       "1  202206271259000168264  马威Jesse提交的采购报价单 (Quotation)  审批中  NaN   \n",
       "2  202206271259000168264  马威Jesse提交的采购报价单 (Quotation)  审批中  NaN   \n",
       "3  202206271257000570000  马威Jesse提交的采购报价单 (Quotation)  审批中  NaN   \n",
       "4  202206271257000570000  马威Jesse提交的采购报价单 (Quotation)  审批中  NaN   \n",
       "\n",
       "                  发起时间 完成时间 耗时(时:分:秒) 发起人工号              发起人UserID    发起人姓名  \\\n",
       "0  2022-06-27 12:59:17  NaN     0:6:9   NaN  1329683850-1329604872  马威Jesse   \n",
       "1  2022-06-27 12:59:17  NaN     0:6:9   NaN  1329683850-1329604872  马威Jesse   \n",
       "2  2022-06-27 12:59:17  NaN     0:6:9   NaN  1329683850-1329604872  马威Jesse   \n",
       "3  2022-06-27 12:57:57  NaN    0:7:29   NaN  1329683850-1329604872  马威Jesse   \n",
       "4  2022-06-27 12:57:57  NaN    0:7:29   NaN  1329683850-1329604872  马威Jesse   \n",
       "\n",
       "   ... 产品材质  (Product Material) 产品尺寸  (Product size).1 联系人 (Contact).2  \\\n",
       "0  ...                      NaN                    NaN             NaN   \n",
       "1  ...                      NaN                    NaN             NaN   \n",
       "2  ...                      NaN                    NaN             NaN   \n",
       "3  ...                      NaN                    NaN             NaN   \n",
       "4  ...                      NaN                    NaN             NaN   \n",
       "\n",
       "  联系方式  (Tel/Phone).1 产品链接  (Product Website Link).1  \\\n",
       "0                 NaN                            NaN   \n",
       "1                 NaN                            NaN   \n",
       "2                 NaN                            NaN   \n",
       "3                 NaN                            NaN   \n",
       "4                 NaN                            NaN   \n",
       "\n",
       "  采购员意见/评价  (Comments from Buyer).1 备注 (Remark) 附件 (Attachment)  \\\n",
       "0                               NaN         NaN             NaN   \n",
       "1                               NaN         NaN             NaN   \n",
       "2                               NaN         NaN             NaN   \n",
       "3                               NaN         NaN             NaN   \n",
       "4                               NaN         NaN             NaN   \n",
       "\n",
       "  业务员评价 (Feedback from Salesman)  \\\n",
       "0                            NaN   \n",
       "1                            NaN   \n",
       "2                            NaN   \n",
       "3                            NaN   \n",
       "4                            NaN   \n",
       "\n",
       "  若未采用报价的原因 (Reasons for declining the quotation)  \n",
       "0                                             NaN  \n",
       "1                                             NaN  \n",
       "2                                             NaN  \n",
       "3                                             NaN  \n",
       "4                                             NaN  \n",
       "\n",
       "[5 rows x 82 columns]"
      ]
     },
     "execution_count": 137,
     "metadata": {},
     "output_type": "execute_result"
    }
   ],
   "source": [
    "quotation_data.head()"
   ]
  },
  {
   "cell_type": "code",
   "execution_count": 138,
   "id": "d7233699",
   "metadata": {
    "ExecuteTime": {
     "end_time": "2022-06-27T05:21:22.696714Z",
     "start_time": "2022-06-27T05:21:22.651835Z"
    }
   },
   "outputs": [],
   "source": [
    "quotation_header = pd.read_excel('./辅助数据/报价单表头.xlsx', sheet_name='初始')\n",
    "quotation_data.columns = list(quotation_header)"
   ]
  },
  {
   "cell_type": "code",
   "execution_count": 139,
   "id": "92fa0253",
   "metadata": {
    "ExecuteTime": {
     "end_time": "2022-06-27T05:21:22.961007Z",
     "start_time": "2022-06-27T05:21:22.946048Z"
    },
    "code_folding": [
     0
    ]
   },
   "outputs": [],
   "source": [
    "# 工厂A\n",
    "factory_dictB = {\"工厂A\":\"工厂\",\n",
    "\"工厂名称A\":\"工厂名称\",\n",
    "\"产品图片A\":\"产品图片\",\n",
    "\"印刷logo位置/最大尺寸A\":\"印刷logo位置/最大尺寸\",\n",
    "\"产品颜色A\":\"产品颜色\",\n",
    "\"起订量(PCS)A\":\"起订量(PCS)\",\n",
    "\"起订价(人民币)A\":\"起订价(人民币)\",\n",
    "\"交期(工作日)A\":\"交期(工作日)\",\n",
    "\"印刷方式A\":\"印刷方式\",\n",
    "\"打样费用(人民币)A\":\"打样费用(人民币)\",\n",
    "\"打样时间(工作日)A\":\"打样时间(工作日)\",\n",
    "\"包装方式A\":\"包装方式\",\n",
    "\"单个产品克重(克)A\":\"单个产品克重(克)\",\n",
    "\"产品材质A\":\"产品材质\",\n",
    "\"产品尺寸A\":\"产品尺寸\",\n",
    "\"联系人A\":\"联系人\",\n",
    "\"联系方式A\":\"联系方式\",\n",
    "\"产品链接A\":\"产品链接\",\n",
    "\"采购员意见/评价A\":\"采购员意见/评价\"}\n",
    "quotation_dataB = quotation_data.copy()\n",
    "quotation_dataB.rename(columns=factory_dictB,inplace=True)"
   ]
  },
  {
   "cell_type": "code",
   "execution_count": 140,
   "id": "2cad3a24",
   "metadata": {
    "ExecuteTime": {
     "end_time": "2022-06-27T05:21:23.181503Z",
     "start_time": "2022-06-27T05:21:23.161558Z"
    },
    "code_folding": [
     0
    ]
   },
   "outputs": [],
   "source": [
    "# 工厂\n",
    "factory_dictC = {\"工厂B\":\"工厂\",\n",
    "\"工厂名称B\":\"工厂名称\",\n",
    "\"产品图片B\":\"产品图片\",\n",
    "\"印刷logo位置/最大尺寸B\":\"印刷logo位置/最大尺寸\",\n",
    "\"产品颜色B\":\"产品颜色\",\n",
    "\"起订量(PCS)B\":\"起订量(PCS)\",\n",
    "\"起订价(人民币)B\":\"起订价(人民币)\",\n",
    "\"交期(工作日)B\":\"交期(工作日)\",\n",
    "\"印刷方式B\":\"印刷方式\",\n",
    "\"打样费用(人民币)B\":\"打样费用(人民币)\",\n",
    "\"打样时间(工作日)B\":\"打样时间(工作日)\",\n",
    "\"包装方式B\":\"包装方式\",\n",
    "\"单个产品克重(克)B\":\"单个产品克重(克)\",\n",
    "\"产品材质B\":\"产品材质\",\n",
    "\"产品尺寸B\":\"产品尺寸\",\n",
    "\"联系人B\":\"联系人\",\n",
    "\"联系方式B\":\"联系方式\",\n",
    "\"产品链接B\":\"产品链接\",\n",
    "\"采购员意见/评价B\":\"采购员意见/评价\"}\n",
    "quotation_dataC = quotation_data.copy()\n",
    "quotation_dataC.rename(columns=factory_dictC,inplace=True)"
   ]
  },
  {
   "cell_type": "code",
   "execution_count": 141,
   "id": "675c5422",
   "metadata": {
    "ExecuteTime": {
     "end_time": "2022-06-27T05:21:23.352050Z",
     "start_time": "2022-06-27T05:21:23.346064Z"
    },
    "code_folding": [
     0
    ]
   },
   "outputs": [],
   "source": [
    "# 工厂C\n",
    "factory_dictA = {\"工厂C\":\"工厂\",\n",
    "\"工厂名称C\":\"工厂名称\",\n",
    "\"产品图片C\":\"产品图片\",\n",
    "\"印刷logo位置/最大尺寸C\":\"印刷logo位置/最大尺寸\",\n",
    "\"产品颜色C\":\"产品颜色\",\n",
    "\"起订量(PCS)C\":\"起订量(PCS)\",\n",
    "\"起订价(人民币)C\":\"起订价(人民币)\",\n",
    "\"交期(工作日)C\":\"交期(工作日)\",\n",
    "\"印刷方式C\":\"印刷方式\",\n",
    "\"打样费用(人民币)C\":\"打样费用(人民币)\",\n",
    "\"打样时间(工作日)C\":\"打样时间(工作日)\",\n",
    "\"包装方式C\":\"包装方式\",\n",
    "\"单个产品克重(克)C\":\"单个产品克重(克)\",\n",
    "\"产品材质C\":\"产品材质\",\n",
    "\"产品尺寸C\":\"产品尺寸\",\n",
    "\"联系人C\":\"联系人\",\n",
    "\"联系方式C\":\"联系方式\",\n",
    "\"产品链接C\":\"产品链接\",\n",
    "\"采购员意见/评价C\":\"采购员意见/评价\"}\n",
    "quotation_data.rename(columns=factory_dictA,inplace=True)"
   ]
  },
  {
   "cell_type": "code",
   "execution_count": 142,
   "id": "6f6a2500",
   "metadata": {
    "ExecuteTime": {
     "end_time": "2022-06-27T05:21:23.492672Z",
     "start_time": "2022-06-27T05:21:23.484693Z"
    }
   },
   "outputs": [],
   "source": [
    "factory0 = [\"工厂\",\"工厂名称\",\"产品图片\",\"印刷logo位置/最大尺寸\",\"产品颜色\",\"起订量(PCS)\",\"起订价(人民币)\",\"交期(工作日)\",\"印刷方式\",\"打样费用(人民币)\",\"打样时间(工作日)\",\"包装方式\",\"单个产品克重(克)\",\"产品材质\",\"产品尺寸\",\"联系人\",\"联系方式\",\"产品链接\",\"采购员意见/评价\"]\n",
    "\n",
    "factoryB = [\"工厂B\",\"工厂名称B\",\"产品图片B\",\"印刷logo位置/最大尺寸B\",\"产品颜色B\",\"起订量(PCS)B\",\"起订价(人民币)B\",\"交期(工作日)B\",\"印刷方式B\",\"打样费用(人民币)B\",\"打样时间(工作日)B\",\"包装方式B\",\"单个产品克重(克)B\",\"产品材质B\",\"产品尺寸B\",\"联系人B\",\"联系方式B\",\"产品链接B\",\"采购员意见/评价B\"]\n",
    "\n",
    "factoryC = [\"工厂C\",\"工厂名称C\",\"产品图片C\",\"印刷logo位置/最大尺寸C\",\"产品颜色C\",\"起订量(PCS)C\",\"起订价(人民币)C\",\"交期(工作日)C\",\"印刷方式C\",\"打样费用(人民币)C\",\"打样时间(工作日)C\",\"包装方式C\",\"单个产品克重(克)C\",\"产品材质C\",\"产品尺寸C\",\"联系人C\",\"联系方式C\",\"产品链接C\",\"采购员意见/评价C\"]"
   ]
  },
  {
   "cell_type": "code",
   "execution_count": 143,
   "id": "df93a1e2",
   "metadata": {
    "ExecuteTime": {
     "end_time": "2022-06-27T05:21:23.743999Z",
     "start_time": "2022-06-27T05:21:23.697124Z"
    },
    "scrolled": true
   },
   "outputs": [],
   "source": [
    "quotation_data[factory0]=quotation_data[factory0].combine_first(quotation_dataB[factory0])\n",
    "quotation_data[factory0]=quotation_data[factory0].combine_first(quotation_dataC[factory0])"
   ]
  },
  {
   "cell_type": "code",
   "execution_count": 144,
   "id": "d7331b76",
   "metadata": {
    "ExecuteTime": {
     "end_time": "2022-06-27T05:21:24.039208Z",
     "start_time": "2022-06-27T05:21:23.913545Z"
    }
   },
   "outputs": [],
   "source": [
    "salesman = pd.read_excel('./辅助数据/业务-采购名称对应.xlsx', sheet_name='业务')\n",
    "buyer = pd.read_excel('./辅助数据/业务-采购名称对应.xlsx', sheet_name='采购')\n",
    "department = pd.read_excel('./辅助数据/业务-采购名称对应.xlsx', sheet_name='审批部门')"
   ]
  },
  {
   "cell_type": "code",
   "execution_count": 145,
   "id": "92c3bba8",
   "metadata": {
    "ExecuteTime": {
     "end_time": "2022-06-27T05:21:24.117998Z",
     "start_time": "2022-06-27T05:21:24.105033Z"
    }
   },
   "outputs": [],
   "source": [
    "quotation_data['业务员中文'] = quotation_data['对应业务员 (Salesman)'].apply(lambda x: re.sub(\"[A-Za-z0-9\\,\\。\\s]\", \"\", x))\n",
    "quotation_data['业务员英文'] = quotation_data['对应业务员 (Salesman)'].apply(lambda x: re.sub(\"[\\u4e00-\\u9fa5\\0-9\\,\\。\\s]\", \"\", x))\n",
    "quotation_data['对应业务员'] = quotation_data['业务员英文'] + ' ' + quotation_data['业务员中文']"
   ]
  },
  {
   "cell_type": "code",
   "execution_count": 146,
   "id": "628dc0cf",
   "metadata": {
    "ExecuteTime": {
     "end_time": "2022-06-27T05:21:24.305496Z",
     "start_time": "2022-06-27T05:21:24.288542Z"
    }
   },
   "outputs": [],
   "source": [
    "quotation_data['采购员中文'] = quotation_data['对应采购员 (Buyer)'].apply(lambda x: re.sub(\"[A-Za-z0-9\\,\\。\\s]\", \"\", x))\n",
    "quotation_data['采购员英文'] = quotation_data['对应采购员 (Buyer)'].apply(lambda x: re.sub(\"[\\u4e00-\\u9fa5\\0-9\\,\\。\\s]\", \"\", x))\n",
    "quotation_data['对应采购员'] = quotation_data['采购员英文'] + ' ' + quotation_data['采购员中文']"
   ]
  },
  {
   "cell_type": "code",
   "execution_count": null,
   "id": "912b1096",
   "metadata": {},
   "outputs": [],
   "source": []
  },
  {
   "cell_type": "code",
   "execution_count": 147,
   "id": "48019d85",
   "metadata": {
    "ExecuteTime": {
     "end_time": "2022-06-27T05:21:24.758285Z",
     "start_time": "2022-06-27T05:21:24.720386Z"
    },
    "collapsed": true
   },
   "outputs": [
    {
     "ename": "FileNotFoundError",
     "evalue": "[Errno 2] No such file or directory: '任务来源.xlsx'",
     "output_type": "error",
     "traceback": [
      "\u001b[1;31m---------------------------------------------------------------------------\u001b[0m",
      "\u001b[1;31mFileNotFoundError\u001b[0m                         Traceback (most recent call last)",
      "\u001b[1;32mC:\\Users\\ADMINI~1\\AppData\\Local\\Temp/ipykernel_10556/851551342.py\u001b[0m in \u001b[0;36m<module>\u001b[1;34m\u001b[0m\n\u001b[1;32m----> 1\u001b[1;33m \u001b[0mname\u001b[0m \u001b[1;33m=\u001b[0m \u001b[0mpd\u001b[0m\u001b[1;33m.\u001b[0m\u001b[0mread_excel\u001b[0m\u001b[1;33m(\u001b[0m\u001b[1;34m'任务来源.xlsx'\u001b[0m\u001b[1;33m)\u001b[0m\u001b[1;33m\u001b[0m\u001b[1;33m\u001b[0m\u001b[0m\n\u001b[0m",
      "\u001b[1;32mD:\\anaconda\\lib\\site-packages\\pandas\\util\\_decorators.py\u001b[0m in \u001b[0;36mwrapper\u001b[1;34m(*args, **kwargs)\u001b[0m\n\u001b[0;32m    309\u001b[0m                     \u001b[0mstacklevel\u001b[0m\u001b[1;33m=\u001b[0m\u001b[0mstacklevel\u001b[0m\u001b[1;33m,\u001b[0m\u001b[1;33m\u001b[0m\u001b[1;33m\u001b[0m\u001b[0m\n\u001b[0;32m    310\u001b[0m                 )\n\u001b[1;32m--> 311\u001b[1;33m             \u001b[1;32mreturn\u001b[0m \u001b[0mfunc\u001b[0m\u001b[1;33m(\u001b[0m\u001b[1;33m*\u001b[0m\u001b[0margs\u001b[0m\u001b[1;33m,\u001b[0m \u001b[1;33m**\u001b[0m\u001b[0mkwargs\u001b[0m\u001b[1;33m)\u001b[0m\u001b[1;33m\u001b[0m\u001b[1;33m\u001b[0m\u001b[0m\n\u001b[0m\u001b[0;32m    312\u001b[0m \u001b[1;33m\u001b[0m\u001b[0m\n\u001b[0;32m    313\u001b[0m         \u001b[1;32mreturn\u001b[0m \u001b[0mwrapper\u001b[0m\u001b[1;33m\u001b[0m\u001b[1;33m\u001b[0m\u001b[0m\n",
      "\u001b[1;32mD:\\anaconda\\lib\\site-packages\\pandas\\io\\excel\\_base.py\u001b[0m in \u001b[0;36mread_excel\u001b[1;34m(io, sheet_name, header, names, index_col, usecols, squeeze, dtype, engine, converters, true_values, false_values, skiprows, nrows, na_values, keep_default_na, na_filter, verbose, parse_dates, date_parser, thousands, comment, skipfooter, convert_float, mangle_dupe_cols, storage_options)\u001b[0m\n\u001b[0;32m    362\u001b[0m     \u001b[1;32mif\u001b[0m \u001b[1;32mnot\u001b[0m \u001b[0misinstance\u001b[0m\u001b[1;33m(\u001b[0m\u001b[0mio\u001b[0m\u001b[1;33m,\u001b[0m \u001b[0mExcelFile\u001b[0m\u001b[1;33m)\u001b[0m\u001b[1;33m:\u001b[0m\u001b[1;33m\u001b[0m\u001b[1;33m\u001b[0m\u001b[0m\n\u001b[0;32m    363\u001b[0m         \u001b[0mshould_close\u001b[0m \u001b[1;33m=\u001b[0m \u001b[1;32mTrue\u001b[0m\u001b[1;33m\u001b[0m\u001b[1;33m\u001b[0m\u001b[0m\n\u001b[1;32m--> 364\u001b[1;33m         \u001b[0mio\u001b[0m \u001b[1;33m=\u001b[0m \u001b[0mExcelFile\u001b[0m\u001b[1;33m(\u001b[0m\u001b[0mio\u001b[0m\u001b[1;33m,\u001b[0m \u001b[0mstorage_options\u001b[0m\u001b[1;33m=\u001b[0m\u001b[0mstorage_options\u001b[0m\u001b[1;33m,\u001b[0m \u001b[0mengine\u001b[0m\u001b[1;33m=\u001b[0m\u001b[0mengine\u001b[0m\u001b[1;33m)\u001b[0m\u001b[1;33m\u001b[0m\u001b[1;33m\u001b[0m\u001b[0m\n\u001b[0m\u001b[0;32m    365\u001b[0m     \u001b[1;32melif\u001b[0m \u001b[0mengine\u001b[0m \u001b[1;32mand\u001b[0m \u001b[0mengine\u001b[0m \u001b[1;33m!=\u001b[0m \u001b[0mio\u001b[0m\u001b[1;33m.\u001b[0m\u001b[0mengine\u001b[0m\u001b[1;33m:\u001b[0m\u001b[1;33m\u001b[0m\u001b[1;33m\u001b[0m\u001b[0m\n\u001b[0;32m    366\u001b[0m         raise ValueError(\n",
      "\u001b[1;32mD:\\anaconda\\lib\\site-packages\\pandas\\io\\excel\\_base.py\u001b[0m in \u001b[0;36m__init__\u001b[1;34m(self, path_or_buffer, engine, storage_options)\u001b[0m\n\u001b[0;32m   1189\u001b[0m                 \u001b[0mext\u001b[0m \u001b[1;33m=\u001b[0m \u001b[1;34m\"xls\"\u001b[0m\u001b[1;33m\u001b[0m\u001b[1;33m\u001b[0m\u001b[0m\n\u001b[0;32m   1190\u001b[0m             \u001b[1;32melse\u001b[0m\u001b[1;33m:\u001b[0m\u001b[1;33m\u001b[0m\u001b[1;33m\u001b[0m\u001b[0m\n\u001b[1;32m-> 1191\u001b[1;33m                 ext = inspect_excel_format(\n\u001b[0m\u001b[0;32m   1192\u001b[0m                     \u001b[0mcontent_or_path\u001b[0m\u001b[1;33m=\u001b[0m\u001b[0mpath_or_buffer\u001b[0m\u001b[1;33m,\u001b[0m \u001b[0mstorage_options\u001b[0m\u001b[1;33m=\u001b[0m\u001b[0mstorage_options\u001b[0m\u001b[1;33m\u001b[0m\u001b[1;33m\u001b[0m\u001b[0m\n\u001b[0;32m   1193\u001b[0m                 )\n",
      "\u001b[1;32mD:\\anaconda\\lib\\site-packages\\pandas\\io\\excel\\_base.py\u001b[0m in \u001b[0;36minspect_excel_format\u001b[1;34m(content_or_path, storage_options)\u001b[0m\n\u001b[0;32m   1068\u001b[0m         \u001b[0mcontent_or_path\u001b[0m \u001b[1;33m=\u001b[0m \u001b[0mBytesIO\u001b[0m\u001b[1;33m(\u001b[0m\u001b[0mcontent_or_path\u001b[0m\u001b[1;33m)\u001b[0m\u001b[1;33m\u001b[0m\u001b[1;33m\u001b[0m\u001b[0m\n\u001b[0;32m   1069\u001b[0m \u001b[1;33m\u001b[0m\u001b[0m\n\u001b[1;32m-> 1070\u001b[1;33m     with get_handle(\n\u001b[0m\u001b[0;32m   1071\u001b[0m         \u001b[0mcontent_or_path\u001b[0m\u001b[1;33m,\u001b[0m \u001b[1;34m\"rb\"\u001b[0m\u001b[1;33m,\u001b[0m \u001b[0mstorage_options\u001b[0m\u001b[1;33m=\u001b[0m\u001b[0mstorage_options\u001b[0m\u001b[1;33m,\u001b[0m \u001b[0mis_text\u001b[0m\u001b[1;33m=\u001b[0m\u001b[1;32mFalse\u001b[0m\u001b[1;33m\u001b[0m\u001b[1;33m\u001b[0m\u001b[0m\n\u001b[0;32m   1072\u001b[0m     ) as handle:\n",
      "\u001b[1;32mD:\\anaconda\\lib\\site-packages\\pandas\\io\\common.py\u001b[0m in \u001b[0;36mget_handle\u001b[1;34m(path_or_buf, mode, encoding, compression, memory_map, is_text, errors, storage_options)\u001b[0m\n\u001b[0;32m    709\u001b[0m         \u001b[1;32melse\u001b[0m\u001b[1;33m:\u001b[0m\u001b[1;33m\u001b[0m\u001b[1;33m\u001b[0m\u001b[0m\n\u001b[0;32m    710\u001b[0m             \u001b[1;31m# Binary mode\u001b[0m\u001b[1;33m\u001b[0m\u001b[1;33m\u001b[0m\u001b[0m\n\u001b[1;32m--> 711\u001b[1;33m             \u001b[0mhandle\u001b[0m \u001b[1;33m=\u001b[0m \u001b[0mopen\u001b[0m\u001b[1;33m(\u001b[0m\u001b[0mhandle\u001b[0m\u001b[1;33m,\u001b[0m \u001b[0mioargs\u001b[0m\u001b[1;33m.\u001b[0m\u001b[0mmode\u001b[0m\u001b[1;33m)\u001b[0m\u001b[1;33m\u001b[0m\u001b[1;33m\u001b[0m\u001b[0m\n\u001b[0m\u001b[0;32m    712\u001b[0m         \u001b[0mhandles\u001b[0m\u001b[1;33m.\u001b[0m\u001b[0mappend\u001b[0m\u001b[1;33m(\u001b[0m\u001b[0mhandle\u001b[0m\u001b[1;33m)\u001b[0m\u001b[1;33m\u001b[0m\u001b[1;33m\u001b[0m\u001b[0m\n\u001b[0;32m    713\u001b[0m \u001b[1;33m\u001b[0m\u001b[0m\n",
      "\u001b[1;31mFileNotFoundError\u001b[0m: [Errno 2] No such file or directory: '任务来源.xlsx'"
     ]
    }
   ],
   "source": [
    "name = pd.read_excel('任务来源.xlsx')"
   ]
  },
  {
   "cell_type": "code",
   "execution_count": null,
   "id": "42acd025",
   "metadata": {
    "ExecuteTime": {
     "end_time": "2022-06-24T08:02:43.146556Z",
     "start_time": "2022-06-24T08:02:43.110652Z"
    }
   },
   "outputs": [],
   "source": [
    "name['采购员中文'] = name['任务来源'].apply(lambda x: re.sub(\"[A-Za-z0-9\\,\\。\\s]\", \"\", x))\n",
    "name['采购员英文'] = name['任务来源'].apply(lambda x: re.sub(\"[\\u4e00-\\u9fa5\\0-9\\,\\。\\s]\", \"\", x))\n",
    "name['对应采购员'] = name['采购员英文'] + ' ' + name['采购员中文']"
   ]
  },
  {
   "cell_type": "code",
   "execution_count": null,
   "id": "09da3927",
   "metadata": {
    "ExecuteTime": {
     "end_time": "2022-06-24T08:02:58.754673Z",
     "start_time": "2022-06-24T08:02:58.430541Z"
    }
   },
   "outputs": [],
   "source": [
    "name.to_excel('names.xlsx', index=False)"
   ]
  },
  {
   "cell_type": "code",
   "execution_count": null,
   "id": "067623aa",
   "metadata": {},
   "outputs": [],
   "source": []
  },
  {
   "cell_type": "code",
   "execution_count": 148,
   "id": "6ebfd7ac",
   "metadata": {
    "ExecuteTime": {
     "end_time": "2022-06-27T05:21:30.372262Z",
     "start_time": "2022-06-27T05:21:30.362290Z"
    }
   },
   "outputs": [],
   "source": [
    "# 审批部门\n",
    "quotation_data = pd.merge(quotation_data, department, on='对应业务员', how='left')"
   ]
  },
  {
   "cell_type": "code",
   "execution_count": 149,
   "id": "ac67d766",
   "metadata": {
    "ExecuteTime": {
     "end_time": "2022-06-27T05:21:30.705371Z",
     "start_time": "2022-06-27T05:21:30.684428Z"
    }
   },
   "outputs": [],
   "source": [
    "quotation_data['发起日期(新增)']=quotation_data['发起时间']\n",
    "quotation_data['产品类型']=quotation_data['产品名称']\n",
    "quotation_data = quotation_data[quotation_data['审批状态']!='已撤销']"
   ]
  },
  {
   "cell_type": "code",
   "execution_count": 150,
   "id": "324459d3",
   "metadata": {
    "ExecuteTime": {
     "end_time": "2022-06-27T05:21:31.100315Z",
     "start_time": "2022-06-27T05:21:31.084358Z"
    }
   },
   "outputs": [],
   "source": [
    "quotation_data[[\"表格\",\"业务员\",\"报价单附件\",\"产品型号\",\"阶梯量\",\"阶梯价格\",\"交期\",\"是否开票\",\"税点(%)\",\"外箱尺寸（cm）\",\"装箱数(PCS)\",\"毛重(Kg)\",\"产品编码（没有填0）\",\"产品编码\",\"阶梯量/价格/交期\"]] = ''"
   ]
  },
  {
   "cell_type": "code",
   "execution_count": 151,
   "id": "bfd9ef5d",
   "metadata": {
    "ExecuteTime": {
     "end_time": "2022-06-27T05:21:31.336682Z",
     "start_time": "2022-06-27T05:21:31.313745Z"
    }
   },
   "outputs": [],
   "source": [
    "quotation_data['发起时间'] = quotation_data['发起时间'].apply(lambda x: datetime.strptime(x,'%Y-%m-%d %H:%M:%S'))\n",
    "quotation_data['发起日期(新增)'] = quotation_data['发起日期(新增)'].apply(lambda x: datetime.strptime(x,'%Y-%m-%d %H:%M:%S'))"
   ]
  },
  {
   "cell_type": "code",
   "execution_count": 152,
   "id": "98857485",
   "metadata": {
    "ExecuteTime": {
     "end_time": "2022-06-27T05:21:31.650841Z",
     "start_time": "2022-06-27T05:21:31.593995Z"
    },
    "scrolled": true
   },
   "outputs": [],
   "source": [
    "final_header = pd.read_excel('./辅助数据/报价单表头.xlsx', sheet_name='最终')\n",
    "quotation_data = quotation_data[list(final_header)]"
   ]
  },
  {
   "cell_type": "code",
   "execution_count": 153,
   "id": "7b172c4f",
   "metadata": {
    "ExecuteTime": {
     "end_time": "2022-06-27T05:21:32.808743Z",
     "start_time": "2022-06-27T05:21:32.297113Z"
    }
   },
   "outputs": [],
   "source": [
    "quotation_data.to_excel('./清洗结果/报价单结果.xlsx', index=False)"
   ]
  },
  {
   "cell_type": "markdown",
   "id": "ad0f6328",
   "metadata": {},
   "source": []
  },
  {
   "cell_type": "markdown",
   "id": "2de42a0e",
   "metadata": {},
   "source": [
    "# 需求单"
   ]
  },
  {
   "cell_type": "code",
   "execution_count": 3,
   "id": "268b35bd",
   "metadata": {
    "ExecuteTime": {
     "end_time": "2022-06-27T02:20:34.047831Z",
     "start_time": "2022-06-27T02:20:33.087400Z"
    }
   },
   "outputs": [
    {
     "name": "stderr",
     "output_type": "stream",
     "text": [
      "D:\\anaconda\\lib\\site-packages\\openpyxl\\styles\\stylesheet.py:226: UserWarning: Workbook contains no default style, apply openpyxl's default\n",
      "  warn(\"Workbook contains no default style, apply openpyxl's default\")\n"
     ]
    }
   ],
   "source": [
    "demand_data = pd.read_excel('./原始数据/需求表.xlsx', dtype=object)"
   ]
  },
  {
   "cell_type": "code",
   "execution_count": 5,
   "id": "f19965d5",
   "metadata": {
    "ExecuteTime": {
     "end_time": "2022-06-27T02:20:35.824078Z",
     "start_time": "2022-06-27T02:20:35.767231Z"
    }
   },
   "outputs": [],
   "source": [
    "demand_header = pd.read_excel('./辅助数据/需求单表头.xlsx', sheet_name='初始')\n",
    "demand_data.columns = list(demand_header)"
   ]
  },
  {
   "cell_type": "code",
   "execution_count": 6,
   "id": "8a4d5e4e",
   "metadata": {
    "ExecuteTime": {
     "end_time": "2022-06-27T02:20:41.071038Z",
     "start_time": "2022-06-27T02:20:41.053088Z"
    }
   },
   "outputs": [],
   "source": [
    "demand_data['发起日期(新增)']=demand_data['发起时间']\n",
    "demand_data['产品类型']=demand_data['产品名称']\n",
    "demand_data = demand_data[demand_data['审批状态']!='已撤销']"
   ]
  },
  {
   "cell_type": "code",
   "execution_count": 7,
   "id": "881e29b9",
   "metadata": {
    "ExecuteTime": {
     "end_time": "2022-06-27T02:20:42.032466Z",
     "start_time": "2022-06-27T02:20:42.006536Z"
    }
   },
   "outputs": [],
   "source": [
    "demand_data['业务员中文'] = demand_data['对应业务员'].apply(lambda x: re.sub(\"[A-Za-z0-9\\,\\。\\s]\", \"\", x))\n",
    "demand_data['业务员英文'] = demand_data['对应业务员'].apply(lambda x: re.sub(\"[\\u4e00-\\u9fa5\\0-9\\,\\。\\s]\", \"\", x))\n",
    "demand_data['对应业务员'] = demand_data['业务员英文'] + ' ' + demand_data['业务员中文']"
   ]
  },
  {
   "cell_type": "code",
   "execution_count": 8,
   "id": "8eda4704",
   "metadata": {
    "ExecuteTime": {
     "end_time": "2022-06-27T02:20:42.659787Z",
     "start_time": "2022-06-27T02:20:42.653805Z"
    }
   },
   "outputs": [],
   "source": [
    "demand_data['采购员'] = demand_data['审批人'].combine_first(demand_data['当前处理人姓名'])"
   ]
  },
  {
   "cell_type": "code",
   "execution_count": 9,
   "id": "dfa3b5f8",
   "metadata": {
    "ExecuteTime": {
     "end_time": "2022-06-27T02:20:43.150474Z",
     "start_time": "2022-06-27T02:20:43.142496Z"
    }
   },
   "outputs": [],
   "source": [
    "if len(demand_data['采购员']) > 3:\n",
    "    demand_data['采购员中文'] = demand_data['采购员'].apply(lambda x: re.sub(\"[A-Za-z0-9\\,\\。\\s]\", \"\", x))\n",
    "    demand_data['采购员英文'] = demand_data['采购员'].apply(lambda x: re.sub(\"[\\u4e00-\\u9fa5\\0-9\\,\\。\\s]\", \"\", x))\n",
    "    demand_data['对应采购员'] = demand_data['采购员英文'] + ' ' + demand_data['采购员中文']"
   ]
  },
  {
   "cell_type": "code",
   "execution_count": 10,
   "id": "f814ead6",
   "metadata": {
    "ExecuteTime": {
     "end_time": "2022-06-27T02:20:43.590298Z",
     "start_time": "2022-06-27T02:20:43.576337Z"
    }
   },
   "outputs": [],
   "source": [
    "demand_data['发起时间'] = demand_data['发起时间'].apply(lambda x: datetime.strptime(x,'%Y-%m-%d %H:%M:%S'))\n",
    "demand_data['发起日期(新增)'] = demand_data['发起日期(新增)'].apply(lambda x: datetime.strptime(x,'%Y-%m-%d %H:%M:%S'))"
   ]
  },
  {
   "cell_type": "code",
   "execution_count": 11,
   "id": "4d009f82",
   "metadata": {
    "ExecuteTime": {
     "end_time": "2022-06-27T02:20:44.108910Z",
     "start_time": "2022-06-27T02:20:44.071011Z"
    }
   },
   "outputs": [],
   "source": [
    "final_header_demand = pd.read_excel('./辅助数据/需求单表头.xlsx', sheet_name='最终')\n",
    "demand_data = demand_data[list(final_header_demand)]"
   ]
  },
  {
   "cell_type": "code",
   "execution_count": 12,
   "id": "69eff610",
   "metadata": {
    "ExecuteTime": {
     "end_time": "2022-06-27T02:20:44.589623Z",
     "start_time": "2022-06-27T02:20:44.477923Z"
    }
   },
   "outputs": [],
   "source": [
    "demand_data.to_excel('./清洗结果/需求单结果.xlsx', index=False)"
   ]
  },
  {
   "cell_type": "markdown",
   "id": "a1eccf3e",
   "metadata": {},
   "source": [
    "# QC验货"
   ]
  },
  {
   "cell_type": "code",
   "execution_count": 13,
   "id": "3d79c334",
   "metadata": {
    "ExecuteTime": {
     "end_time": "2022-06-27T02:20:45.904106Z",
     "start_time": "2022-06-27T02:20:45.822325Z"
    }
   },
   "outputs": [
    {
     "name": "stderr",
     "output_type": "stream",
     "text": [
      "D:\\anaconda\\lib\\site-packages\\openpyxl\\styles\\stylesheet.py:226: UserWarning: Workbook contains no default style, apply openpyxl's default\n",
      "  warn(\"Workbook contains no default style, apply openpyxl's default\")\n"
     ]
    }
   ],
   "source": [
    "qc_data = pd.read_excel('./原始数据/QC质检.xlsx', dtype=object)"
   ]
  },
  {
   "cell_type": "code",
   "execution_count": 14,
   "id": "b1d133a8",
   "metadata": {
    "ExecuteTime": {
     "end_time": "2022-06-27T02:20:46.627173Z",
     "start_time": "2022-06-27T02:20:46.614207Z"
    }
   },
   "outputs": [
    {
     "data": {
      "text/plain": [
       "Index(['审批编号', '标题', '审批状态', '审批结果', '发起时间', '完成时间', '耗时(时:分:秒)', '发起人工号',\n",
       "       '发起人UserID', '发起人姓名', '发起人部门', '历史审批人姓名', '审批记录', '当前处理人姓名', '对应采购员',\n",
       "       '对应业务员', '对应QC', '验货仓库', '需验货时间（工厂验货预留3天）', '是否需前往工厂验货', '工厂名称', '工厂地址',\n",
       "       '工厂联系人及联系方式', '物流公司及运单号', '外包装图片(含运单信息）', '检验标准', '详细要求', 'PI号', '产品名称',\n",
       "       '数量', '产品类型', '产品尺寸', '产品材质', '产品色号', 'LOGO色号', 'LOGO尺寸', 'LOGO位置',\n",
       "       '装箱信息', '产品图（正面）', '产品图（侧面/背面）', '产品图（Logo位置或包装）', '备注', '附件', '验货项目',\n",
       "       '验货标准', '验货结果', '图片', '抽检数量', '严重问题数量', '一般问题数量', '严重不良率', '一般不良率',\n",
       "       '整体不良率', '不良率（不再填写）', '其他依据', '验货人结论', '验货人结论说明', '箱规图（唛头，开箱图）',\n",
       "       '产品包装图', '产品图（Logo,正面，侧面，背面）', '不合格整改意见', '整改结果'],\n",
       "      dtype='object')"
      ]
     },
     "execution_count": 14,
     "metadata": {},
     "output_type": "execute_result"
    }
   ],
   "source": [
    "qc_data.columns"
   ]
  },
  {
   "cell_type": "code",
   "execution_count": 15,
   "id": "d9e627c4",
   "metadata": {
    "ExecuteTime": {
     "end_time": "2022-06-27T02:20:47.209613Z",
     "start_time": "2022-06-27T02:20:47.189668Z"
    }
   },
   "outputs": [],
   "source": [
    "qc_data['业务员中文'] = qc_data['对应业务员'].apply(lambda x: re.sub(\"[A-Za-z0-9\\,\\。\\s]\", \"\", x))\n",
    "qc_data['业务员英文'] = qc_data['对应业务员'].apply(lambda x: re.sub(\"[\\u4e00-\\u9fa5\\0-9\\,\\。\\s]\", \"\", x))\n",
    "qc_data['对应业务员'] = qc_data['业务员英文'] + ' ' + qc_data['业务员中文']"
   ]
  },
  {
   "cell_type": "code",
   "execution_count": 16,
   "id": "d5e34f54",
   "metadata": {
    "ExecuteTime": {
     "end_time": "2022-06-27T02:20:47.793052Z",
     "start_time": "2022-06-27T02:20:47.774103Z"
    }
   },
   "outputs": [],
   "source": [
    "qc_data['采购员中文'] = qc_data['对应采购员'].apply(lambda x: re.sub(\"[A-Za-z0-9\\,\\。\\s]\", \"\", x))\n",
    "qc_data['采购员英文'] = qc_data['对应采购员'].apply(lambda x: re.sub(\"[\\u4e00-\\u9fa5\\0-9\\,\\。\\s]\", \"\", x))\n",
    "qc_data['对应采购员'] = qc_data['采购员英文'] + ' ' + qc_data['采购员中文']"
   ]
  },
  {
   "cell_type": "code",
   "execution_count": 17,
   "id": "2cf1e718",
   "metadata": {
    "ExecuteTime": {
     "end_time": "2022-06-27T02:20:48.341584Z",
     "start_time": "2022-06-27T02:20:48.254817Z"
    }
   },
   "outputs": [],
   "source": [
    "qc_data.to_excel('./清洗结果/QC验货结果.xlsx', index=False)"
   ]
  },
  {
   "cell_type": "markdown",
   "id": "5b16faea",
   "metadata": {},
   "source": [
    "# QC苏州"
   ]
  },
  {
   "cell_type": "code",
   "execution_count": 18,
   "id": "bff685a4",
   "metadata": {
    "ExecuteTime": {
     "end_time": "2022-06-27T02:21:08.054836Z",
     "start_time": "2022-06-27T02:21:07.765611Z"
    }
   },
   "outputs": [],
   "source": [
    "qcsz_data = pd.read_excel('./原始数据/QC苏州.xlsx', dtype=object)"
   ]
  },
  {
   "cell_type": "code",
   "execution_count": 19,
   "id": "836a3157",
   "metadata": {
    "ExecuteTime": {
     "end_time": "2022-06-27T02:21:08.510617Z",
     "start_time": "2022-06-27T02:21:08.493664Z"
    }
   },
   "outputs": [
    {
     "data": {
      "text/plain": [
       "Index(['入库编号', 'SKU', '到货数量', '良品数', '次品数', '收货员', '到货时间', '质检员', '质检时间',\n",
       "       '来源单号', '备注'],\n",
       "      dtype='object')"
      ]
     },
     "execution_count": 19,
     "metadata": {},
     "output_type": "execute_result"
    }
   ],
   "source": [
    "qcsz_data.columns"
   ]
  },
  {
   "cell_type": "code",
   "execution_count": 20,
   "id": "f367aa3a",
   "metadata": {
    "ExecuteTime": {
     "end_time": "2022-06-27T02:21:09.093059Z",
     "start_time": "2022-06-27T02:21:09.086078Z"
    }
   },
   "outputs": [],
   "source": [
    "qcsz_data = qcsz_data[qcsz_data['质检员'] == 'WeiWo_warehouse']"
   ]
  },
  {
   "cell_type": "code",
   "execution_count": 21,
   "id": "015e1f83",
   "metadata": {
    "ExecuteTime": {
     "end_time": "2022-06-27T02:21:09.733347Z",
     "start_time": "2022-06-27T02:21:09.726365Z"
    }
   },
   "outputs": [],
   "source": [
    "qcsz_data['审批编号'] = qcsz_data['来源单号']\n",
    "qcsz_data['审批状态'] = '完成'\n",
    "qcsz_data['发起时间'] = qcsz_data['质检时间']\n",
    "qcsz_data['标题'] = 'WeiWo_warehouse'\n",
    "qcsz_data['验货仓库'] = '苏州'\n",
    "qcsz_data['验货人结论'] = ''"
   ]
  },
  {
   "cell_type": "code",
   "execution_count": 22,
   "id": "4f407a7d",
   "metadata": {
    "ExecuteTime": {
     "end_time": "2022-06-27T02:21:10.218048Z",
     "start_time": "2022-06-27T02:21:10.206081Z"
    }
   },
   "outputs": [],
   "source": [
    "qcsz_data_header = ['审批编号','标题','审批状态','发起时间','验货仓库','验货人结论']\n",
    "qcsz_data = qcsz_data[list(qcsz_data_header)]"
   ]
  },
  {
   "cell_type": "code",
   "execution_count": 23,
   "id": "354012e7",
   "metadata": {
    "ExecuteTime": {
     "end_time": "2022-06-27T02:21:10.720703Z",
     "start_time": "2022-06-27T02:21:10.645905Z"
    }
   },
   "outputs": [],
   "source": [
    "qcsz_data.to_excel('./清洗结果/QC苏州结果.xlsx', index=False)"
   ]
  },
  {
   "cell_type": "markdown",
   "id": "04362ddd",
   "metadata": {},
   "source": [
    "# 产品上架"
   ]
  },
  {
   "cell_type": "code",
   "execution_count": 24,
   "id": "eee1edaa",
   "metadata": {
    "ExecuteTime": {
     "end_time": "2022-06-27T02:21:28.543015Z",
     "start_time": "2022-06-27T02:21:28.486169Z"
    }
   },
   "outputs": [],
   "source": [
    "puton_shelf_data = pd.read_excel('./原始数据/专利查询.xlsx', dtype=object)"
   ]
  },
  {
   "cell_type": "code",
   "execution_count": 25,
   "id": "1f295e64",
   "metadata": {
    "ExecuteTime": {
     "end_time": "2022-06-27T02:21:29.323926Z",
     "start_time": "2022-06-27T02:21:29.309965Z"
    }
   },
   "outputs": [
    {
     "data": {
      "text/plain": [
       "Index(['审批编号', '标题', '审批状态', '审批结果', '发起时间', '完成时间', '耗时(时:分:秒)', '发起人工号',\n",
       "       '发起人UserID', '发起人姓名', '发起人部门', '历史审批人姓名', '审批记录', '当前处理人姓名', '申请人',\n",
       "       '表格', '产品名称（英文）', '产品链接', '产品图片', '备注', '附件', '查询结果', '处理结果反馈'],\n",
       "      dtype='object')"
      ]
     },
     "execution_count": 25,
     "metadata": {},
     "output_type": "execute_result"
    }
   ],
   "source": [
    "puton_shelf_data.columns"
   ]
  },
  {
   "cell_type": "code",
   "execution_count": 26,
   "id": "623cfb1e",
   "metadata": {
    "ExecuteTime": {
     "end_time": "2022-06-27T02:21:30.165674Z",
     "start_time": "2022-06-27T02:21:30.141739Z"
    }
   },
   "outputs": [],
   "source": [
    "puton_shelf_data['申请人中文'] = puton_shelf_data['申请人'].apply(lambda x: re.sub(\"[A-Za-z0-9\\,\\。\\s（）\\(\\)-]\", \"\", x))\n",
    "puton_shelf_data['申请人英文'] = puton_shelf_data['申请人'].apply(lambda x: re.sub(\"[\\u4e00-\\u9fa5\\0-9\\,\\。\\s（）\\(\\)-]\", \"\", x))\n",
    "puton_shelf_data['申请人'] = puton_shelf_data['申请人英文'] + ' ' + puton_shelf_data['申请人中文']"
   ]
  },
  {
   "cell_type": "markdown",
   "id": "e4a10933",
   "metadata": {},
   "source": [
    "<b><font size=3 color=green>导出后检查申请人列有无问题</font></b>"
   ]
  },
  {
   "cell_type": "code",
   "execution_count": 27,
   "id": "a8f65675",
   "metadata": {
    "ExecuteTime": {
     "end_time": "2022-06-27T02:21:33.851810Z",
     "start_time": "2022-06-27T02:21:33.845828Z"
    }
   },
   "outputs": [],
   "source": [
    "puton_shelf_data.drop(columns=['申请人中文','申请人英文'], axis=1, inplace=True)"
   ]
  },
  {
   "cell_type": "code",
   "execution_count": 28,
   "id": "4c3659fc",
   "metadata": {
    "ExecuteTime": {
     "end_time": "2022-06-27T02:21:34.828198Z",
     "start_time": "2022-06-27T02:21:34.758386Z"
    }
   },
   "outputs": [],
   "source": [
    "puton_shelf_data.to_excel('./清洗结果/上架表结果.xlsx', index=False)\n",
    "# 导出后需检查申请人列是否有问题"
   ]
  },
  {
   "cell_type": "markdown",
   "id": "5fd2f3a4",
   "metadata": {},
   "source": [
    "# 助理工作统计"
   ]
  },
  {
   "cell_type": "code",
   "execution_count": 29,
   "id": "7ff6a721",
   "metadata": {
    "ExecuteTime": {
     "end_time": "2022-06-27T02:22:12.518349Z",
     "start_time": "2022-06-27T02:22:12.406648Z"
    }
   },
   "outputs": [],
   "source": [
    "# 报价单21 需求表22  美工5 QC质检23     物流打单12 合同及用印4  费用报销199\n",
    "\n",
    "assistant = pd.read_excel('./辅助数据/助理名单.xlsx')\n",
    "\n",
    "names = pd.read_excel(r'E:\\code\\pbi_data\\业务员.xlsx')\n",
    "\n",
    "assistant_header = pd.read_excel('./辅助数据/助理工作表头.xlsx')"
   ]
  },
  {
   "cell_type": "markdown",
   "id": "4e82a1d0",
   "metadata": {},
   "source": [
    "<b><font size=3 color=red>时间字段填写：</font></b>"
   ]
  },
  {
   "cell_type": "code",
   "execution_count": 30,
   "id": "f4f7878c",
   "metadata": {
    "ExecuteTime": {
     "end_time": "2022-06-27T02:22:35.527782Z",
     "start_time": "2022-06-27T02:22:35.518806Z"
    }
   },
   "outputs": [],
   "source": [
    "date = '2022/6/26'"
   ]
  },
  {
   "cell_type": "code",
   "execution_count": 238,
   "id": "ca0817c5",
   "metadata": {
    "ExecuteTime": {
     "end_time": "2022-06-27T06:25:20.635685Z",
     "start_time": "2022-06-27T06:25:20.627707Z"
    }
   },
   "outputs": [],
   "source": [
    "start_date = '2022/6/20'\n",
    "end_date = '2022/6/27'"
   ]
  },
  {
   "cell_type": "markdown",
   "id": "6402ec41",
   "metadata": {},
   "source": [
    "## 报价单"
   ]
  },
  {
   "cell_type": "code",
   "execution_count": 239,
   "id": "c863ce24",
   "metadata": {
    "ExecuteTime": {
     "end_time": "2022-06-27T06:25:22.368051Z",
     "start_time": "2022-06-27T06:25:22.355086Z"
    }
   },
   "outputs": [],
   "source": [
    "assistant_quotation_data = quotation_data.copy()"
   ]
  },
  {
   "cell_type": "code",
   "execution_count": 240,
   "id": "9b103a9e",
   "metadata": {
    "ExecuteTime": {
     "end_time": "2022-06-27T06:25:22.716119Z",
     "start_time": "2022-06-27T06:25:22.707144Z"
    }
   },
   "outputs": [],
   "source": [
    "assistant_quotation_data = assistant_quotation_data.drop_duplicates(['审批编号'])"
   ]
  },
  {
   "cell_type": "code",
   "execution_count": 241,
   "id": "fc61f414",
   "metadata": {
    "ExecuteTime": {
     "end_time": "2022-06-27T06:25:23.232289Z",
     "start_time": "2022-06-27T06:25:23.226306Z"
    }
   },
   "outputs": [],
   "source": [
    "assistant_quotation_data = assistant_quotation_data[(assistant_quotation_data['发起时间']>=start_date)&(assistant_quotation_data['发起时间']<end_date)]"
   ]
  },
  {
   "cell_type": "code",
   "execution_count": 242,
   "id": "1e38cf5b",
   "metadata": {
    "ExecuteTime": {
     "end_time": "2022-06-27T06:25:23.541461Z",
     "start_time": "2022-06-27T06:25:23.531489Z"
    }
   },
   "outputs": [],
   "source": [
    "assistant_quotation_data['发起人中文'] = assistant_quotation_data['发起人姓名'].apply(lambda x: re.sub(\"[A-Za-z0-9\\,\\。\\s支持组]\", \"\", x))"
   ]
  },
  {
   "cell_type": "code",
   "execution_count": 243,
   "id": "1bc9fa4f",
   "metadata": {
    "ExecuteTime": {
     "end_time": "2022-06-27T06:25:23.808746Z",
     "start_time": "2022-06-27T06:25:23.785809Z"
    }
   },
   "outputs": [],
   "source": [
    "assistant_quotation_data = pd.merge(assistant_quotation_data, assistant, left_on='发起人中文', right_on='中文名', how='left')"
   ]
  },
  {
   "cell_type": "code",
   "execution_count": 244,
   "id": "a45e7a94",
   "metadata": {
    "ExecuteTime": {
     "end_time": "2022-06-27T06:25:24.044117Z",
     "start_time": "2022-06-27T06:25:24.027163Z"
    }
   },
   "outputs": [],
   "source": [
    "assistant_quotation_data = assistant_quotation_data[assistant_quotation_data['中文名'].notnull()]"
   ]
  },
  {
   "cell_type": "code",
   "execution_count": 245,
   "id": "0e40d1d2",
   "metadata": {
    "ExecuteTime": {
     "end_time": "2022-06-27T06:25:24.246575Z",
     "start_time": "2022-06-27T06:25:24.233610Z"
    }
   },
   "outputs": [],
   "source": [
    "assistant_quotation_data = pd.merge(assistant_quotation_data, names[['英中名', '英文名']], left_on='对应采购员', right_on='英中名', how='left')"
   ]
  },
  {
   "cell_type": "code",
   "execution_count": 246,
   "id": "67faa7b2",
   "metadata": {
    "ExecuteTime": {
     "end_time": "2022-06-27T06:25:24.436068Z",
     "start_time": "2022-06-27T06:25:24.427092Z"
    }
   },
   "outputs": [],
   "source": [
    "assistant_quotation_data['任务来源人员'] = assistant_quotation_data['英文名']\n",
    "\n",
    "assistant_quotation_data['助理'] = assistant_quotation_data['助理英文名']\n",
    "\n",
    "assistant_quotation_data['PI号/产品编码'] = ''\n",
    "\n",
    "assistant_quotation_data['产品'] = assistant_quotation_data['产品名称']\n",
    "\n",
    "assistant_quotation_data['工作内容分类'] = '21 钉钉表单协助录入-报价单'\n",
    "\n",
    "assistant_quotation_data['具体事项'] = '钉钉录采购报价单'\n",
    "\n",
    "assistant_quotation_data['备注'] = assistant_quotation_data['审批编号']\n",
    "\n",
    "assistant_quotation_data['开始日期'] = assistant_quotation_data['发起时间']\n",
    "\n",
    "assistant_quotation_data['来源人员'] = assistant_quotation_data['任务来源人员']\n",
    "\n",
    "assistant_quotation_data['日期'] = date"
   ]
  },
  {
   "cell_type": "code",
   "execution_count": 247,
   "id": "9862300c",
   "metadata": {
    "ExecuteTime": {
     "end_time": "2022-06-27T06:25:24.618579Z",
     "start_time": "2022-06-27T06:25:24.610603Z"
    }
   },
   "outputs": [],
   "source": [
    "assistant_quotation_data = assistant_quotation_data[list(assistant_header)]"
   ]
  },
  {
   "cell_type": "code",
   "execution_count": 248,
   "id": "4cada62d",
   "metadata": {
    "ExecuteTime": {
     "end_time": "2022-06-27T06:25:24.854947Z",
     "start_time": "2022-06-27T06:25:24.801092Z"
    }
   },
   "outputs": [],
   "source": [
    "assistant_quotation_data.to_excel('./清洗结果/助理-报价.xlsx', index=False)"
   ]
  },
  {
   "cell_type": "markdown",
   "id": "9047d541",
   "metadata": {},
   "source": [
    "## 需求单"
   ]
  },
  {
   "cell_type": "code",
   "execution_count": 249,
   "id": "2c1467f1",
   "metadata": {
    "ExecuteTime": {
     "end_time": "2022-06-27T06:25:25.166114Z",
     "start_time": "2022-06-27T06:25:25.155145Z"
    }
   },
   "outputs": [],
   "source": [
    "assistant_demand_data = demand_data.copy()"
   ]
  },
  {
   "cell_type": "code",
   "execution_count": 250,
   "id": "695e1368",
   "metadata": {
    "ExecuteTime": {
     "end_time": "2022-06-27T06:25:25.340648Z",
     "start_time": "2022-06-27T06:25:25.332669Z"
    }
   },
   "outputs": [],
   "source": [
    "assistant_demand_data = assistant_demand_data[(assistant_demand_data['发起时间']>=start_date)&(assistant_demand_data['发起时间']<end_date)]"
   ]
  },
  {
   "cell_type": "code",
   "execution_count": 251,
   "id": "334bcdcb",
   "metadata": {
    "ExecuteTime": {
     "end_time": "2022-06-27T06:25:25.527148Z",
     "start_time": "2022-06-27T06:25:25.522163Z"
    }
   },
   "outputs": [],
   "source": [
    "assistant_demand_data['发起人中文'] = assistant_demand_data['发起人姓名'].apply(lambda x: re.sub(\"[A-Za-z0-9\\,\\。\\s支持组]\", \"\", x))"
   ]
  },
  {
   "cell_type": "code",
   "execution_count": 252,
   "id": "5276364f",
   "metadata": {
    "ExecuteTime": {
     "end_time": "2022-06-27T06:25:25.728609Z",
     "start_time": "2022-06-27T06:25:25.715644Z"
    }
   },
   "outputs": [],
   "source": [
    "assistant_demand_data = pd.merge(assistant_demand_data, assistant, left_on='发起人中文', right_on='中文名', how='left')"
   ]
  },
  {
   "cell_type": "code",
   "execution_count": 253,
   "id": "45cb7d51",
   "metadata": {
    "ExecuteTime": {
     "end_time": "2022-06-27T06:25:25.915110Z",
     "start_time": "2022-06-27T06:25:25.898156Z"
    }
   },
   "outputs": [],
   "source": [
    "assistant_demand_data = assistant_demand_data[assistant_demand_data['中文名'].notnull()]"
   ]
  },
  {
   "cell_type": "code",
   "execution_count": 254,
   "id": "995f3248",
   "metadata": {
    "ExecuteTime": {
     "end_time": "2022-06-27T06:25:26.089198Z",
     "start_time": "2022-06-27T06:25:26.074666Z"
    }
   },
   "outputs": [],
   "source": [
    "assistant_demand_data = pd.merge(assistant_demand_data, names[['英中名', '英文名']], left_on='对应业务员', right_on='英中名', how='left')"
   ]
  },
  {
   "cell_type": "code",
   "execution_count": 255,
   "id": "893ac0ca",
   "metadata": {
    "ExecuteTime": {
     "end_time": "2022-06-27T06:25:26.273704Z",
     "start_time": "2022-06-27T06:25:26.250766Z"
    }
   },
   "outputs": [],
   "source": [
    "assistant_demand_data['任务来源人员'] = assistant_demand_data['英文名']\n",
    "\n",
    "assistant_demand_data['助理'] = assistant_demand_data['助理英文名']\n",
    "\n",
    "assistant_demand_data['PI号/产品编码'] = ''\n",
    "\n",
    "assistant_demand_data['产品'] = assistant_demand_data['产品名称']\n",
    "\n",
    "assistant_demand_data['工作内容分类'] = '22 钉钉表单协助录入-产品需求单'\n",
    "\n",
    "assistant_demand_data['具体事项'] = '录入产品需求单'\n",
    "\n",
    "assistant_demand_data['备注'] = assistant_demand_data['审批编号']\n",
    "\n",
    "assistant_demand_data['开始日期'] = assistant_demand_data['发起时间']\n",
    "\n",
    "assistant_demand_data['来源人员'] = assistant_demand_data['任务来源人员']\n",
    "\n",
    "assistant_demand_data['日期'] = date"
   ]
  },
  {
   "cell_type": "code",
   "execution_count": 256,
   "id": "c0566401",
   "metadata": {
    "ExecuteTime": {
     "end_time": "2022-06-27T06:25:26.462199Z",
     "start_time": "2022-06-27T06:25:26.442254Z"
    }
   },
   "outputs": [],
   "source": [
    "assistant_demand_data = assistant_demand_data[list(assistant_header)]"
   ]
  },
  {
   "cell_type": "code",
   "execution_count": 257,
   "id": "bcae91d4",
   "metadata": {
    "ExecuteTime": {
     "end_time": "2022-06-27T06:25:26.681612Z",
     "start_time": "2022-06-27T06:25:26.634738Z"
    }
   },
   "outputs": [],
   "source": [
    "assistant_demand_data.to_excel('./清洗结果/助理-需求.xlsx', index=False)"
   ]
  },
  {
   "cell_type": "markdown",
   "id": "6bb0c643",
   "metadata": {},
   "source": [
    "## QC质检"
   ]
  },
  {
   "cell_type": "code",
   "execution_count": 258,
   "id": "29dca4b7",
   "metadata": {
    "ExecuteTime": {
     "end_time": "2022-06-27T06:25:26.993777Z",
     "start_time": "2022-06-27T06:25:26.985799Z"
    }
   },
   "outputs": [],
   "source": [
    "assistant_qc_data = qc_data.copy()"
   ]
  },
  {
   "cell_type": "code",
   "execution_count": 259,
   "id": "551a4613",
   "metadata": {
    "ExecuteTime": {
     "end_time": "2022-06-27T06:25:27.163866Z",
     "start_time": "2022-06-27T06:25:27.154891Z"
    }
   },
   "outputs": [],
   "source": [
    "assistant_qc_data['发起时间'] = assistant_qc_data['发起时间'].apply(lambda x: datetime.strptime(x,'%Y-%m-%d %H:%M:%S'))"
   ]
  },
  {
   "cell_type": "code",
   "execution_count": 260,
   "id": "256ae3ba",
   "metadata": {
    "ExecuteTime": {
     "end_time": "2022-06-27T06:25:27.347374Z",
     "start_time": "2022-06-27T06:25:27.333413Z"
    }
   },
   "outputs": [],
   "source": [
    "assistant_qc_data = assistant_qc_data[(assistant_qc_data['发起时间']>=start_date)&(assistant_qc_data['发起时间']<end_date)]"
   ]
  },
  {
   "cell_type": "code",
   "execution_count": 261,
   "id": "c22f62be",
   "metadata": {
    "ExecuteTime": {
     "end_time": "2022-06-27T06:25:27.521908Z",
     "start_time": "2022-06-27T06:25:27.515923Z"
    }
   },
   "outputs": [],
   "source": [
    "assistant_qc_data['发起人中文'] = assistant_qc_data['发起人姓名'].apply(lambda x: re.sub(\"[A-Za-z0-9\\,\\。\\s支持组]\", \"\", x))"
   ]
  },
  {
   "cell_type": "code",
   "execution_count": 262,
   "id": "16479ab9",
   "metadata": {
    "ExecuteTime": {
     "end_time": "2022-06-27T06:25:27.694446Z",
     "start_time": "2022-06-27T06:25:27.684472Z"
    }
   },
   "outputs": [],
   "source": [
    "assistant_qc_data = pd.merge(assistant_qc_data, assistant, left_on='发起人中文', right_on='中文名', how='left')"
   ]
  },
  {
   "cell_type": "code",
   "execution_count": 263,
   "id": "f8693c03",
   "metadata": {
    "ExecuteTime": {
     "end_time": "2022-06-27T06:25:27.878952Z",
     "start_time": "2022-06-27T06:25:27.859007Z"
    }
   },
   "outputs": [],
   "source": [
    "assistant_qc_data = assistant_qc_data[assistant_qc_data['中文名'].notnull()]"
   ]
  },
  {
   "cell_type": "code",
   "execution_count": 264,
   "id": "cb143872",
   "metadata": {
    "ExecuteTime": {
     "end_time": "2022-06-27T06:25:28.049496Z",
     "start_time": "2022-06-27T06:25:28.034537Z"
    }
   },
   "outputs": [],
   "source": [
    "assistant_qc_data = pd.merge(assistant_qc_data, names[['英中名', '英文名']], left_on='对应采购员', right_on='英中名', how='left')"
   ]
  },
  {
   "cell_type": "code",
   "execution_count": 265,
   "id": "6bf7a7ba",
   "metadata": {
    "ExecuteTime": {
     "end_time": "2022-06-27T06:25:28.235996Z",
     "start_time": "2022-06-27T06:25:28.218045Z"
    }
   },
   "outputs": [],
   "source": [
    "assistant_qc_data['任务来源人员'] = assistant_qc_data['英文名']\n",
    "\n",
    "assistant_qc_data['助理'] = assistant_qc_data['助理英文名']\n",
    "\n",
    "assistant_qc_data['PI号/产品编码'] = ''\n",
    "\n",
    "assistant_qc_data['产品'] = assistant_qc_data['产品名称']\n",
    "\n",
    "assistant_qc_data['工作内容分类'] = '23 钉钉表单协助录入-QC验货单'\n",
    "\n",
    "assistant_qc_data['具体事项'] = '再次申请验货'\n",
    "\n",
    "assistant_qc_data['备注'] = assistant_qc_data['审批编号']\n",
    "\n",
    "assistant_qc_data['开始日期'] = assistant_qc_data['发起时间']\n",
    "\n",
    "assistant_qc_data['来源人员'] = assistant_qc_data['任务来源人员']\n",
    "\n",
    "assistant_qc_data['日期'] = date"
   ]
  },
  {
   "cell_type": "code",
   "execution_count": 266,
   "id": "0b705520",
   "metadata": {
    "ExecuteTime": {
     "end_time": "2022-06-27T06:25:28.409533Z",
     "start_time": "2022-06-27T06:25:28.397569Z"
    }
   },
   "outputs": [],
   "source": [
    "assistant_qc_data = assistant_qc_data[list(assistant_header)]"
   ]
  },
  {
   "cell_type": "code",
   "execution_count": 267,
   "id": "498b7b58",
   "metadata": {
    "ExecuteTime": {
     "end_time": "2022-06-27T06:25:28.597031Z",
     "start_time": "2022-06-27T06:25:28.564119Z"
    }
   },
   "outputs": [],
   "source": [
    "assistant_qc_data.to_excel('./清洗结果/助理-QC.xlsx', index=False)"
   ]
  },
  {
   "cell_type": "markdown",
   "id": "1598117a",
   "metadata": {},
   "source": [
    "## 美工"
   ]
  },
  {
   "cell_type": "code",
   "execution_count": 268,
   "id": "9a62b8bf",
   "metadata": {
    "ExecuteTime": {
     "end_time": "2022-06-27T06:25:30.139902Z",
     "start_time": "2022-06-27T06:25:28.899227Z"
    }
   },
   "outputs": [],
   "source": [
    "artist_data = pd.read_excel('./原始数据/美工表.xlsx')"
   ]
  },
  {
   "cell_type": "code",
   "execution_count": 269,
   "id": "d14cfcc9",
   "metadata": {
    "ExecuteTime": {
     "end_time": "2022-06-27T06:25:30.186776Z",
     "start_time": "2022-06-27T06:25:30.141897Z"
    }
   },
   "outputs": [],
   "source": [
    "artist_data['发起时间'] = artist_data['发起时间'].apply(lambda x: datetime.strptime(x,'%Y-%m-%d %H:%M:%S'))"
   ]
  },
  {
   "cell_type": "code",
   "execution_count": 270,
   "id": "a8dedd52",
   "metadata": {
    "ExecuteTime": {
     "end_time": "2022-06-27T06:25:30.201736Z",
     "start_time": "2022-06-27T06:25:30.190768Z"
    }
   },
   "outputs": [],
   "source": [
    "artist_data = artist_data[(artist_data['发起时间']>=start_date)&(artist_data['发起时间']<end_date)]"
   ]
  },
  {
   "cell_type": "code",
   "execution_count": 271,
   "id": "027778e3",
   "metadata": {
    "ExecuteTime": {
     "end_time": "2022-06-27T06:25:30.216698Z",
     "start_time": "2022-06-27T06:25:30.204730Z"
    },
    "scrolled": true
   },
   "outputs": [],
   "source": [
    "artist_data['发起人中文'] = artist_data['任务来源'].apply(lambda x: re.sub(\"[A-Za-z0-9\\,\\。\\s支持组]\", \"\", x))"
   ]
  },
  {
   "cell_type": "code",
   "execution_count": 272,
   "id": "c3436ba3",
   "metadata": {
    "ExecuteTime": {
     "end_time": "2022-06-27T06:25:30.232654Z",
     "start_time": "2022-06-27T06:25:30.217695Z"
    }
   },
   "outputs": [],
   "source": [
    "artist_data['业务员中文'] = artist_data[artist_data['业务员或采购员'].notnull()]['业务员或采购员'].apply(lambda x: re.sub(\"[A-Za-z0-9\\,\\。\\s]\", \"\", x))"
   ]
  },
  {
   "cell_type": "code",
   "execution_count": 273,
   "id": "8ac78381",
   "metadata": {
    "ExecuteTime": {
     "end_time": "2022-06-27T06:25:30.247614Z",
     "start_time": "2022-06-27T06:25:30.234650Z"
    }
   },
   "outputs": [],
   "source": [
    "assistant_artist_data = pd.merge(artist_data, assistant, left_on='发起人中文', right_on='中文名', how='left')"
   ]
  },
  {
   "cell_type": "code",
   "execution_count": 274,
   "id": "52217535",
   "metadata": {
    "ExecuteTime": {
     "end_time": "2022-06-27T06:25:30.263571Z",
     "start_time": "2022-06-27T06:25:30.249610Z"
    }
   },
   "outputs": [],
   "source": [
    "assistant_artist_data = assistant_artist_data[assistant_artist_data['中文名'].notnull()]"
   ]
  },
  {
   "cell_type": "code",
   "execution_count": 275,
   "id": "66d3f344",
   "metadata": {
    "ExecuteTime": {
     "end_time": "2022-06-27T06:25:30.279529Z",
     "start_time": "2022-06-27T06:25:30.264570Z"
    }
   },
   "outputs": [],
   "source": [
    "assistant_artist_data = pd.merge(assistant_artist_data, names[['业务员', '英文名']], left_on='业务员中文', right_on='业务员', how='left')"
   ]
  },
  {
   "cell_type": "code",
   "execution_count": 276,
   "id": "126d1b19",
   "metadata": {
    "ExecuteTime": {
     "end_time": "2022-06-27T06:25:30.295486Z",
     "start_time": "2022-06-27T06:25:30.283518Z"
    }
   },
   "outputs": [],
   "source": [
    "assistant_artist_data['任务来源人员'] = assistant_artist_data['英文名']\n",
    "\n",
    "assistant_artist_data['助理'] = assistant_artist_data['助理英文名']\n",
    "\n",
    "assistant_artist_data['PI号/产品编码'] = ''\n",
    "\n",
    "assistant_artist_data['产品'] = ''\n",
    "\n",
    "assistant_artist_data['工作内容分类'] = '5 跟单-做效果图'\n",
    "\n",
    "assistant_artist_data['具体事项'] = '安排效果图'\n",
    "\n",
    "assistant_artist_data['备注'] = assistant_artist_data['审批编号']\n",
    "\n",
    "assistant_artist_data['开始日期'] = assistant_artist_data['发起时间']\n",
    "\n",
    "assistant_artist_data['来源人员'] = assistant_artist_data['任务来源人员']\n",
    "\n",
    "\n",
    "assistant_artist_data['日期'] = date"
   ]
  },
  {
   "cell_type": "code",
   "execution_count": 277,
   "id": "65f5876a",
   "metadata": {
    "ExecuteTime": {
     "end_time": "2022-06-27T06:25:30.451070Z",
     "start_time": "2022-06-27T06:25:30.434116Z"
    }
   },
   "outputs": [],
   "source": [
    "assistant_artist_data = assistant_artist_data[list(assistant_header)]"
   ]
  },
  {
   "cell_type": "code",
   "execution_count": 278,
   "id": "34740837",
   "metadata": {
    "ExecuteTime": {
     "end_time": "2022-06-27T06:25:30.639566Z",
     "start_time": "2022-06-27T06:25:30.602665Z"
    }
   },
   "outputs": [],
   "source": [
    "assistant_artist_data.to_excel('./清洗结果/助理-美工.xlsx', index=False)"
   ]
  },
  {
   "cell_type": "markdown",
   "id": "0be7d112",
   "metadata": {},
   "source": [
    "## 物流打单"
   ]
  },
  {
   "cell_type": "code",
   "execution_count": 279,
   "id": "438945e2",
   "metadata": {
    "ExecuteTime": {
     "end_time": "2022-06-27T06:25:31.912160Z",
     "start_time": "2022-06-27T06:25:31.212035Z"
    }
   },
   "outputs": [
    {
     "name": "stderr",
     "output_type": "stream",
     "text": [
      "D:\\anaconda\\lib\\site-packages\\openpyxl\\styles\\stylesheet.py:226: UserWarning: Workbook contains no default style, apply openpyxl's default\n",
      "  warn(\"Workbook contains no default style, apply openpyxl's default\")\n"
     ]
    }
   ],
   "source": [
    "# 检查业务员是否都含有中文名\n",
    "logistics_data = pd.read_excel('./原始数据/物流打单.xlsx')"
   ]
  },
  {
   "cell_type": "code",
   "execution_count": 280,
   "id": "807a2506",
   "metadata": {
    "ExecuteTime": {
     "end_time": "2022-06-27T06:25:31.943077Z",
     "start_time": "2022-06-27T06:25:31.914157Z"
    }
   },
   "outputs": [],
   "source": [
    "logistics_data['发起时间'] = logistics_data['发起时间'].apply(lambda x: datetime.strptime(x,'%Y-%m-%d %H:%M:%S'))"
   ]
  },
  {
   "cell_type": "code",
   "execution_count": 281,
   "id": "af77a190",
   "metadata": {
    "ExecuteTime": {
     "end_time": "2022-06-27T06:25:31.958038Z",
     "start_time": "2022-06-27T06:25:31.945074Z"
    }
   },
   "outputs": [],
   "source": [
    "logistics_data = logistics_data[(logistics_data['发起时间']>=start_date)&(logistics_data['发起时间']<end_date)]"
   ]
  },
  {
   "cell_type": "code",
   "execution_count": 282,
   "id": "aeb0ec2a",
   "metadata": {
    "ExecuteTime": {
     "end_time": "2022-06-27T06:25:31.974994Z",
     "start_time": "2022-06-27T06:25:31.960033Z"
    }
   },
   "outputs": [],
   "source": [
    "logistics_data['发起人中文'] = logistics_data['发起人姓名'].apply(lambda x: re.sub(\"[A-Za-z0-9\\,\\。\\s支持组]\", \"\", x))\n",
    "\n",
    "logistics_data['业务员中文'] = logistics_data['业务员'].apply(lambda x: re.sub(\"[A-Za-z0-9\\,\\。\\s]\", \"\", x))"
   ]
  },
  {
   "cell_type": "code",
   "execution_count": 283,
   "id": "f1aa4b3c",
   "metadata": {
    "ExecuteTime": {
     "end_time": "2022-06-27T06:25:32.068741Z",
     "start_time": "2022-06-27T06:25:32.058770Z"
    }
   },
   "outputs": [],
   "source": [
    "assistant_logistics_data = pd.merge(logistics_data, assistant, left_on='发起人中文', right_on='中文名', how='left')"
   ]
  },
  {
   "cell_type": "code",
   "execution_count": 284,
   "id": "b912ec15",
   "metadata": {
    "ExecuteTime": {
     "end_time": "2022-06-27T06:25:32.274192Z",
     "start_time": "2022-06-27T06:25:32.259233Z"
    }
   },
   "outputs": [],
   "source": [
    "assistant_logistics_data = assistant_logistics_data[assistant_logistics_data['中文名'].notnull()]"
   ]
  },
  {
   "cell_type": "code",
   "execution_count": 285,
   "id": "43da3ce6",
   "metadata": {
    "ExecuteTime": {
     "end_time": "2022-06-27T06:25:32.460692Z",
     "start_time": "2022-06-27T06:25:32.442741Z"
    }
   },
   "outputs": [],
   "source": [
    "assistant_logistics_data = pd.merge(assistant_logistics_data, names[['业务员', '英文名']], left_on='业务员中文', right_on='业务员', how='left')"
   ]
  },
  {
   "cell_type": "code",
   "execution_count": 286,
   "id": "ad6b5602",
   "metadata": {
    "ExecuteTime": {
     "end_time": "2022-06-27T06:25:32.912484Z",
     "start_time": "2022-06-27T06:25:32.890543Z"
    }
   },
   "outputs": [],
   "source": [
    "assistant_logistics_data['任务来源人员'] = assistant_logistics_data['英文名']\n",
    "\n",
    "assistant_logistics_data['助理'] = assistant_logistics_data['助理英文名']\n",
    "\n",
    "assistant_logistics_data['PI号/产品编码'] = assistant_logistics_data['PI号']\n",
    "\n",
    "assistant_logistics_data['产品'] = assistant_logistics_data['货件明细']\n",
    "\n",
    "assistant_logistics_data['工作内容分类'] = '12 跟单-打单排单'\n",
    "\n",
    "assistant_logistics_data['具体事项'] = '打单发货'\n",
    "\n",
    "assistant_logistics_data['备注'] = assistant_logistics_data['审批编号']\n",
    "\n",
    "assistant_logistics_data['开始日期'] = assistant_logistics_data['发起时间']\n",
    "\n",
    "assistant_logistics_data['来源人员'] = assistant_logistics_data['任务来源人员']\n",
    "\n",
    "assistant_logistics_data['日期'] = date"
   ]
  },
  {
   "cell_type": "code",
   "execution_count": 287,
   "id": "62a96e01",
   "metadata": {
    "ExecuteTime": {
     "end_time": "2022-06-27T06:25:33.220659Z",
     "start_time": "2022-06-27T06:25:33.195726Z"
    }
   },
   "outputs": [
    {
     "data": {
      "text/html": [
       "<div>\n",
       "<style scoped>\n",
       "    .dataframe tbody tr th:only-of-type {\n",
       "        vertical-align: middle;\n",
       "    }\n",
       "\n",
       "    .dataframe tbody tr th {\n",
       "        vertical-align: top;\n",
       "    }\n",
       "\n",
       "    .dataframe thead th {\n",
       "        text-align: right;\n",
       "    }\n",
       "</style>\n",
       "<table border=\"1\" class=\"dataframe\">\n",
       "  <thead>\n",
       "    <tr style=\"text-align: right;\">\n",
       "      <th></th>\n",
       "      <th>审批编号</th>\n",
       "      <th>标题</th>\n",
       "      <th>审批状态</th>\n",
       "      <th>审批结果</th>\n",
       "      <th>发起时间</th>\n",
       "      <th>完成时间</th>\n",
       "      <th>耗时(时:分:秒)</th>\n",
       "      <th>发起人工号</th>\n",
       "      <th>发起人UserID</th>\n",
       "      <th>发起人姓名</th>\n",
       "      <th>...</th>\n",
       "      <th>英文名</th>\n",
       "      <th>任务来源人员</th>\n",
       "      <th>助理</th>\n",
       "      <th>PI号/产品编码</th>\n",
       "      <th>产品</th>\n",
       "      <th>工作内容分类</th>\n",
       "      <th>具体事项</th>\n",
       "      <th>开始日期</th>\n",
       "      <th>来源人员</th>\n",
       "      <th>日期</th>\n",
       "    </tr>\n",
       "  </thead>\n",
       "  <tbody>\n",
       "  </tbody>\n",
       "</table>\n",
       "<p>0 rows × 55 columns</p>\n",
       "</div>"
      ],
      "text/plain": [
       "Empty DataFrame\n",
       "Columns: [审批编号, 标题, 审批状态, 审批结果, 发起时间, 完成时间, 耗时(时:分:秒), 发起人工号, 发起人UserID, 发起人姓名, 发起人部门, 历史审批人姓名, 审批记录, 当前处理人姓名, 打单明细, PI号, 出运类型, 合格验货单, 发货地, 物流渠道, 时效要求（运输时间）, 邮编+联系人+电话, 业务员_x, 收件国家, 收件公司, 收件人, 收件地址, 联系电话, 货件明细, 产品/外箱图片, 备注, 附件, 出货渠道, 打单员, 物流单号, 参考数据, Unnamed: 36, Unnamed: 37, Unnamed: 38, 发起人中文, 业务员中文, 助理英文名, 英中文名, 中文名, 业务员_y, 英文名, 任务来源人员, 助理, PI号/产品编码, 产品, 工作内容分类, 具体事项, 开始日期, 来源人员, 日期]\n",
       "Index: []\n",
       "\n",
       "[0 rows x 55 columns]"
      ]
     },
     "execution_count": 287,
     "metadata": {},
     "output_type": "execute_result"
    }
   ],
   "source": [
    "assistant_logistics_data[assistant_logistics_data['来源人员'].isnull()]"
   ]
  },
  {
   "cell_type": "code",
   "execution_count": 288,
   "id": "7517f095",
   "metadata": {
    "ExecuteTime": {
     "end_time": "2022-06-27T06:25:33.393198Z",
     "start_time": "2022-06-27T06:25:33.385219Z"
    }
   },
   "outputs": [],
   "source": [
    "assistant_logistics_data = assistant_logistics_data[list(assistant_header)]"
   ]
  },
  {
   "cell_type": "code",
   "execution_count": 289,
   "id": "e310ecac",
   "metadata": {
    "ExecuteTime": {
     "end_time": "2022-06-27T06:25:33.613608Z",
     "start_time": "2022-06-27T06:25:33.569726Z"
    }
   },
   "outputs": [],
   "source": [
    "assistant_logistics_data.to_excel('./清洗结果/助理-物流打单.xlsx', index=False)"
   ]
  },
  {
   "cell_type": "markdown",
   "id": "8e9b75ec",
   "metadata": {},
   "source": [
    "## 合同用印"
   ]
  },
  {
   "cell_type": "code",
   "execution_count": 290,
   "id": "fbbeff1b",
   "metadata": {
    "ExecuteTime": {
     "end_time": "2022-06-27T06:25:34.070385Z",
     "start_time": "2022-06-27T06:25:33.938739Z"
    }
   },
   "outputs": [
    {
     "name": "stderr",
     "output_type": "stream",
     "text": [
      "D:\\anaconda\\lib\\site-packages\\openpyxl\\styles\\stylesheet.py:226: UserWarning: Workbook contains no default style, apply openpyxl's default\n",
      "  warn(\"Workbook contains no default style, apply openpyxl's default\")\n"
     ]
    }
   ],
   "source": [
    "use_seal_data = pd.read_excel('./原始数据/合同用印.xlsx')"
   ]
  },
  {
   "cell_type": "code",
   "execution_count": 291,
   "id": "74aeb99a",
   "metadata": {
    "ExecuteTime": {
     "end_time": "2022-06-27T06:25:34.336673Z",
     "start_time": "2022-06-27T06:25:34.316729Z"
    }
   },
   "outputs": [],
   "source": [
    "use_seal_data['发起时间'] = use_seal_data['发起时间'].apply(lambda x: datetime.strptime(x,'%Y-%m-%d %H:%M:%S'))"
   ]
  },
  {
   "cell_type": "code",
   "execution_count": 292,
   "id": "9c87e0de",
   "metadata": {
    "ExecuteTime": {
     "end_time": "2022-06-27T06:25:34.523174Z",
     "start_time": "2022-06-27T06:25:34.507217Z"
    }
   },
   "outputs": [],
   "source": [
    "use_seal_data = use_seal_data[(use_seal_data['发起时间']>=start_date)&(use_seal_data['发起时间']<end_date)]"
   ]
  },
  {
   "cell_type": "code",
   "execution_count": 293,
   "id": "b44c3dea",
   "metadata": {
    "ExecuteTime": {
     "end_time": "2022-06-27T06:25:34.709675Z",
     "start_time": "2022-06-27T06:25:34.690726Z"
    }
   },
   "outputs": [],
   "source": [
    "use_seal_data=use_seal_data[use_seal_data['采购单号'].notnull()]"
   ]
  },
  {
   "cell_type": "code",
   "execution_count": 294,
   "id": "590cf3a2",
   "metadata": {
    "ExecuteTime": {
     "end_time": "2022-06-27T06:25:34.879221Z",
     "start_time": "2022-06-27T06:25:34.866257Z"
    }
   },
   "outputs": [],
   "source": [
    "use_seal_data['发起人中文'] = use_seal_data['发起人姓名'].apply(lambda x: re.sub(\"[A-Za-z0-9\\,\\。\\s支持组]\", \"\", x))"
   ]
  },
  {
   "cell_type": "code",
   "execution_count": 295,
   "id": "85b0ee17",
   "metadata": {
    "ExecuteTime": {
     "end_time": "2022-06-27T06:25:35.051760Z",
     "start_time": "2022-06-27T06:25:35.033808Z"
    }
   },
   "outputs": [],
   "source": [
    "assistant_use_seal_data = pd.merge(use_seal_data, assistant, left_on='发起人中文', right_on='中文名', how='left')"
   ]
  },
  {
   "cell_type": "code",
   "execution_count": 296,
   "id": "6ae5e4f3",
   "metadata": {
    "ExecuteTime": {
     "end_time": "2022-06-27T06:25:35.220308Z",
     "start_time": "2022-06-27T06:25:35.201360Z"
    }
   },
   "outputs": [
    {
     "data": {
      "text/plain": [
       "12    Frink 潘琪\n",
       "18     Leon 张斌\n",
       "Name: 发起人姓名, dtype: object"
      ]
     },
     "execution_count": 296,
     "metadata": {},
     "output_type": "execute_result"
    }
   ],
   "source": [
    "assistant_use_seal_data[assistant_use_seal_data['中文名'].isnull()]['发起人姓名']"
   ]
  },
  {
   "cell_type": "code",
   "execution_count": 297,
   "id": "d4822de1",
   "metadata": {
    "ExecuteTime": {
     "end_time": "2022-06-27T06:25:35.405812Z",
     "start_time": "2022-06-27T06:25:35.395839Z"
    }
   },
   "outputs": [],
   "source": [
    "assistant_use_seal_data = assistant_use_seal_data[assistant_use_seal_data['中文名'].notnull()]"
   ]
  },
  {
   "cell_type": "code",
   "execution_count": 298,
   "id": "77c9e87a",
   "metadata": {
    "ExecuteTime": {
     "end_time": "2022-06-27T06:25:35.610265Z",
     "start_time": "2022-06-27T06:25:35.594309Z"
    }
   },
   "outputs": [],
   "source": [
    "assistant_use_seal_data = assistant_use_seal_data[assistant_use_seal_data['采购单号'].notnull()]"
   ]
  },
  {
   "cell_type": "code",
   "execution_count": 299,
   "id": "4a31f4fd",
   "metadata": {
    "ExecuteTime": {
     "end_time": "2022-06-27T06:25:35.873561Z",
     "start_time": "2022-06-27T06:25:35.859599Z"
    }
   },
   "outputs": [],
   "source": [
    "# 采购单号清洗"
   ]
  },
  {
   "cell_type": "code",
   "execution_count": 300,
   "id": "747be2db",
   "metadata": {
    "ExecuteTime": {
     "end_time": "2022-06-27T06:25:36.183731Z",
     "start_time": "2022-06-27T06:25:36.178745Z"
    }
   },
   "outputs": [],
   "source": [
    "def split_orderno(x):\n",
    "    x = re.sub('([-,].*)', '', x).strip()\n",
    "#     x = re.sub(',.*?', '', x)\n",
    "#     x = x.strip()\n",
    "    return x"
   ]
  },
  {
   "cell_type": "code",
   "execution_count": 301,
   "id": "00ad4d8c",
   "metadata": {
    "ExecuteTime": {
     "end_time": "2022-06-27T06:25:36.419100Z",
     "start_time": "2022-06-27T06:25:36.412121Z"
    }
   },
   "outputs": [],
   "source": [
    "assistant_use_seal_data['采购单号'] = assistant_use_seal_data['采购单号'].apply(split_orderno)"
   ]
  },
  {
   "cell_type": "code",
   "execution_count": 302,
   "id": "9d7f0c64",
   "metadata": {
    "ExecuteTime": {
     "end_time": "2022-06-27T06:25:36.608593Z",
     "start_time": "2022-06-27T06:25:36.588649Z"
    }
   },
   "outputs": [
    {
     "data": {
      "text/plain": [
       "0     CRP22682315\n",
       "1     CRP22651930\n",
       "2     CRP22652060\n",
       "3     CRP22604348\n",
       "4     CRP22679280\n",
       "5     CRP22697544\n",
       "6     CRP22645026\n",
       "7     CRP22641583\n",
       "8     CRP22678943\n",
       "9     CRP22602965\n",
       "10    CRP22613835\n",
       "11    CRP22675123\n",
       "13    CRP22611617\n",
       "14    CRP22632576\n",
       "15    CRP22650275\n",
       "16    CRP22607459\n",
       "Name: 采购单号, dtype: object"
      ]
     },
     "execution_count": 302,
     "metadata": {},
     "output_type": "execute_result"
    }
   ],
   "source": [
    "assistant_use_seal_data['采购单号'].drop_duplicates()"
   ]
  },
  {
   "cell_type": "code",
   "execution_count": 303,
   "id": "39486dd0",
   "metadata": {
    "ExecuteTime": {
     "end_time": "2022-06-27T06:25:39.369208Z",
     "start_time": "2022-06-27T06:25:36.770162Z"
    }
   },
   "outputs": [],
   "source": [
    "purchase_data = pd.read_excel(r'E:\\code\\pbi_data\\采购管理\\采购订单维护结果.xlsx')"
   ]
  },
  {
   "cell_type": "code",
   "execution_count": 304,
   "id": "d4c99e4f",
   "metadata": {
    "ExecuteTime": {
     "end_time": "2022-06-27T06:25:39.385165Z",
     "start_time": "2022-06-27T06:25:39.372201Z"
    }
   },
   "outputs": [],
   "source": [
    "purchase_data = purchase_data.drop_duplicates(['采购单号'])"
   ]
  },
  {
   "cell_type": "code",
   "execution_count": 305,
   "id": "1d121d18",
   "metadata": {
    "ExecuteTime": {
     "end_time": "2022-06-27T06:25:39.401123Z",
     "start_time": "2022-06-27T06:25:39.388158Z"
    }
   },
   "outputs": [
    {
     "data": {
      "text/plain": [
       "Index(['采购单号', '合同号', '产品编码', '产品名称', '产品英文名称', '一级分类', '二级分类', '产品金额', '币种',\n",
       "       '税率', '数量', '产品单价', '颜色', '产品尺寸', '材质', '业务员', '采购员', '地区', '供应商编码',\n",
       "       '供应商名称', '供应商等级', '合同状态', '辅助项', '创建时间', '产品线', '产品类型'],\n",
       "      dtype='object')"
      ]
     },
     "execution_count": 305,
     "metadata": {},
     "output_type": "execute_result"
    }
   ],
   "source": [
    "purchase_data.columns"
   ]
  },
  {
   "cell_type": "code",
   "execution_count": 306,
   "id": "fe3eb740",
   "metadata": {
    "ExecuteTime": {
     "end_time": "2022-06-27T06:25:39.433036Z",
     "start_time": "2022-06-27T06:25:39.405112Z"
    }
   },
   "outputs": [
    {
     "name": "stdout",
     "output_type": "stream",
     "text": [
      "17\n",
      "17\n"
     ]
    }
   ],
   "source": [
    "print(len(assistant_use_seal_data))\n",
    "assistant_use_seal_data = pd.merge(\n",
    "    assistant_use_seal_data,\n",
    "    purchase_data[['采购单号', '产品名称', '采购员', '业务员']],\n",
    "    on='采购单号',\n",
    "    how='left')\n",
    "print(len(assistant_use_seal_data))"
   ]
  },
  {
   "cell_type": "code",
   "execution_count": 307,
   "id": "e8a31d6e",
   "metadata": {
    "ExecuteTime": {
     "end_time": "2022-06-27T06:25:39.447996Z",
     "start_time": "2022-06-27T06:25:39.435040Z"
    }
   },
   "outputs": [],
   "source": [
    "assistant_use_seal_data.loc[assistant_use_seal_data['采购员'] == 'Greta Guo', '采购员']= assistant_use_seal_data.loc[:, '业务员']"
   ]
  },
  {
   "cell_type": "code",
   "execution_count": 308,
   "id": "9f031431",
   "metadata": {
    "ExecuteTime": {
     "end_time": "2022-06-27T06:25:39.463954Z",
     "start_time": "2022-06-27T06:25:39.450989Z"
    }
   },
   "outputs": [],
   "source": [
    "assistant_use_seal_data['任务来源人员'] = assistant_use_seal_data['采购员']\n",
    "\n",
    "assistant_use_seal_data['助理'] = assistant_use_seal_data['助理英文名']\n",
    "\n",
    "# 同一采购单对应的合同号不唯一\n",
    "assistant_use_seal_data['PI号/产品编码'] = assistant_use_seal_data['采购单号']\n",
    "\n",
    "assistant_use_seal_data['产品'] = assistant_use_seal_data['产品名称']\n",
    "\n",
    "assistant_use_seal_data['工作内容分类'] = '4 跟单-采购合同钉钉审批'\n",
    "\n",
    "assistant_use_seal_data['具体事项'] = '采购合同审批'\n",
    "\n",
    "assistant_use_seal_data['备注'] = assistant_use_seal_data['审批编号']\n",
    "\n",
    "assistant_use_seal_data['开始日期'] = assistant_use_seal_data['发起时间']\n",
    "\n",
    "assistant_use_seal_data['来源人员'] = assistant_use_seal_data['任务来源人员']\n",
    "\n",
    "\n",
    "assistant_use_seal_data['日期'] = date"
   ]
  },
  {
   "cell_type": "code",
   "execution_count": 309,
   "id": "6d9fcf8d",
   "metadata": {
    "ExecuteTime": {
     "end_time": "2022-06-27T06:25:39.479913Z",
     "start_time": "2022-06-27T06:25:39.467944Z"
    }
   },
   "outputs": [],
   "source": [
    "assistant_use_seal_data = assistant_use_seal_data[list(assistant_header)]"
   ]
  },
  {
   "cell_type": "code",
   "execution_count": 310,
   "id": "4480748e",
   "metadata": {
    "ExecuteTime": {
     "end_time": "2022-06-27T06:25:39.526786Z",
     "start_time": "2022-06-27T06:25:39.482904Z"
    }
   },
   "outputs": [],
   "source": [
    "assistant_use_seal_data.to_excel('./清洗结果/助理-合同用印.xlsx', index=False)"
   ]
  },
  {
   "cell_type": "markdown",
   "id": "13797f91",
   "metadata": {},
   "source": [
    "## 费用报销"
   ]
  },
  {
   "cell_type": "code",
   "execution_count": 311,
   "id": "056830c4",
   "metadata": {
    "ExecuteTime": {
     "end_time": "2022-06-27T06:25:39.999430Z",
     "start_time": "2022-06-27T06:25:39.750189Z"
    }
   },
   "outputs": [
    {
     "name": "stderr",
     "output_type": "stream",
     "text": [
      "D:\\anaconda\\lib\\site-packages\\openpyxl\\styles\\stylesheet.py:226: UserWarning: Workbook contains no default style, apply openpyxl's default\n",
      "  warn(\"Workbook contains no default style, apply openpyxl's default\")\n"
     ]
    }
   ],
   "source": [
    "reimbursement_data = pd.read_excel('./原始数据/费用报销.xlsx')"
   ]
  },
  {
   "cell_type": "code",
   "execution_count": 312,
   "id": "5a42ff5d",
   "metadata": {
    "ExecuteTime": {
     "end_time": "2022-06-27T06:25:40.205656Z",
     "start_time": "2022-06-27T06:25:40.194686Z"
    }
   },
   "outputs": [],
   "source": [
    "reimbursement_data['发起时间'] = reimbursement_data['发起时间'].apply(lambda x: datetime.strptime(x,'%Y-%m-%d %H:%M:%S'))"
   ]
  },
  {
   "cell_type": "code",
   "execution_count": 313,
   "id": "9ea06898",
   "metadata": {
    "ExecuteTime": {
     "end_time": "2022-06-27T06:25:40.566690Z",
     "start_time": "2022-06-27T06:25:40.554723Z"
    }
   },
   "outputs": [],
   "source": [
    "reimbursement_data = reimbursement_data[(reimbursement_data['发起时间']>=start_date)&(reimbursement_data['发起时间']<end_date)]"
   ]
  },
  {
   "cell_type": "code",
   "execution_count": 314,
   "id": "c2a6b795",
   "metadata": {
    "ExecuteTime": {
     "end_time": "2022-06-27T06:25:41.008508Z",
     "start_time": "2022-06-27T06:25:40.995542Z"
    }
   },
   "outputs": [],
   "source": [
    "reimbursement_data['发起人中文'] = reimbursement_data['发起人姓名'].apply(lambda x: re.sub(\"[A-Za-z0-9\\,\\。\\s支持组]\", \"\", x))"
   ]
  },
  {
   "cell_type": "code",
   "execution_count": 315,
   "id": "f91413a1",
   "metadata": {
    "ExecuteTime": {
     "end_time": "2022-06-27T06:25:41.383504Z",
     "start_time": "2022-06-27T06:25:41.365552Z"
    }
   },
   "outputs": [],
   "source": [
    "reimbursement_data['业务员中文'] = reimbursement_data['申请人'].apply(lambda x: re.sub(\"[A-Za-z0-9\\,\\。\\s]\", \"\", x))"
   ]
  },
  {
   "cell_type": "code",
   "execution_count": 316,
   "id": "71dde862",
   "metadata": {
    "ExecuteTime": {
     "end_time": "2022-06-27T06:25:41.760495Z",
     "start_time": "2022-06-27T06:25:41.738555Z"
    }
   },
   "outputs": [],
   "source": [
    "assistant_reimbursement_data = pd.merge(reimbursement_data, assistant, left_on='发起人中文', right_on='中文名', how='left')"
   ]
  },
  {
   "cell_type": "code",
   "execution_count": 317,
   "id": "1acea9a9",
   "metadata": {
    "ExecuteTime": {
     "end_time": "2022-06-27T06:25:41.981902Z",
     "start_time": "2022-06-27T06:25:41.969936Z"
    }
   },
   "outputs": [],
   "source": [
    "assistant_reimbursement_data = assistant_reimbursement_data[assistant_reimbursement_data['中文名'].notnull()]"
   ]
  },
  {
   "cell_type": "code",
   "execution_count": 318,
   "id": "dc239983",
   "metadata": {
    "ExecuteTime": {
     "end_time": "2022-06-27T06:25:42.185553Z",
     "start_time": "2022-06-27T06:25:42.165606Z"
    },
    "scrolled": true
   },
   "outputs": [],
   "source": [
    "assistant_reimbursement_data = pd.merge(assistant_reimbursement_data, names[['业务员', '英文名']], left_on='业务员中文', right_on='业务员', how='left')"
   ]
  },
  {
   "cell_type": "code",
   "execution_count": 319,
   "id": "81655d18",
   "metadata": {
    "ExecuteTime": {
     "end_time": "2022-06-27T06:25:42.373051Z",
     "start_time": "2022-06-27T06:25:42.354102Z"
    }
   },
   "outputs": [],
   "source": [
    "assistant_reimbursement_data.loc[assistant_reimbursement_data['产品名'].isnull(), '产品名'] = assistant_reimbursement_data.loc[:,'产品名.1']"
   ]
  },
  {
   "cell_type": "code",
   "execution_count": 320,
   "id": "560b3eb3",
   "metadata": {
    "ExecuteTime": {
     "end_time": "2022-06-27T06:25:42.558554Z",
     "start_time": "2022-06-27T06:25:42.548581Z"
    }
   },
   "outputs": [],
   "source": [
    "assistant_reimbursement_data['任务来源人员'] = assistant_reimbursement_data['英文名']\n",
    "\n",
    "assistant_reimbursement_data['助理'] = assistant_reimbursement_data['助理英文名']\n",
    "\n",
    "assistant_reimbursement_data['PI号/产品编码'] = ''\n",
    "\n",
    "\n",
    "assistant_reimbursement_data['产品'] = assistant_reimbursement_data['产品名']\n",
    "\n",
    "assistant_reimbursement_data['工作内容分类'] = '199 跟单-其他（请备注）'\n",
    "\n",
    "assistant_reimbursement_data['具体事项'] = assistant_reimbursement_data['费用类型'] \n",
    "\n",
    "assistant_reimbursement_data['备注'] = assistant_reimbursement_data['审批编号']\n",
    "\n",
    "assistant_reimbursement_data['开始日期'] = assistant_reimbursement_data['发起时间']\n",
    "\n",
    "assistant_reimbursement_data['来源人员'] = assistant_reimbursement_data['任务来源人员']\n",
    "\n",
    "assistant_reimbursement_data['日期'] = date"
   ]
  },
  {
   "cell_type": "code",
   "execution_count": 321,
   "id": "7a97173e",
   "metadata": {
    "ExecuteTime": {
     "end_time": "2022-06-27T06:25:42.748048Z",
     "start_time": "2022-06-27T06:25:42.732092Z"
    }
   },
   "outputs": [],
   "source": [
    "assistant_reimbursement_data = assistant_reimbursement_data[list(assistant_header)]"
   ]
  },
  {
   "cell_type": "code",
   "execution_count": 322,
   "id": "3f2b839a",
   "metadata": {
    "ExecuteTime": {
     "end_time": "2022-06-27T06:25:43.180860Z",
     "start_time": "2022-06-27T06:25:43.138973Z"
    }
   },
   "outputs": [],
   "source": [
    "assistant_reimbursement_data.to_excel('./清洗结果/助理-费用报销.xlsx', index=False)"
   ]
  },
  {
   "cell_type": "code",
   "execution_count": null,
   "id": "1cdf8e6c",
   "metadata": {},
   "outputs": [],
   "source": []
  },
  {
   "cell_type": "code",
   "execution_count": null,
   "id": "4d1e7320",
   "metadata": {},
   "outputs": [],
   "source": []
  },
  {
   "cell_type": "code",
   "execution_count": null,
   "id": "fd6e5c37",
   "metadata": {},
   "outputs": [],
   "source": []
  },
  {
   "cell_type": "code",
   "execution_count": null,
   "id": "3ee5a8bb",
   "metadata": {},
   "outputs": [],
   "source": []
  }
 ],
 "metadata": {
  "kernelspec": {
   "display_name": "Python 3 (ipykernel)",
   "language": "python",
   "name": "python3"
  },
  "language_info": {
   "codemirror_mode": {
    "name": "ipython",
    "version": 3
   },
   "file_extension": ".py",
   "mimetype": "text/x-python",
   "name": "python",
   "nbconvert_exporter": "python",
   "pygments_lexer": "ipython3",
   "version": "3.9.7"
  },
  "toc": {
   "base_numbering": 1,
   "nav_menu": {},
   "number_sections": true,
   "sideBar": true,
   "skip_h1_title": false,
   "title_cell": "Table of Contents",
   "title_sidebar": "Contents",
   "toc_cell": false,
   "toc_position": {
    "height": "606px",
    "left": "27px",
    "top": "111.133px",
    "width": "201px"
   },
   "toc_section_display": true,
   "toc_window_display": true
  },
  "varInspector": {
   "cols": {
    "lenName": 16,
    "lenType": 16,
    "lenVar": 40
   },
   "kernels_config": {
    "python": {
     "delete_cmd_postfix": "",
     "delete_cmd_prefix": "del ",
     "library": "var_list.py",
     "varRefreshCmd": "print(var_dic_list())"
    },
    "r": {
     "delete_cmd_postfix": ") ",
     "delete_cmd_prefix": "rm(",
     "library": "var_list.r",
     "varRefreshCmd": "cat(var_dic_list()) "
    }
   },
   "types_to_exclude": [
    "module",
    "function",
    "builtin_function_or_method",
    "instance",
    "_Feature"
   ],
   "window_display": false
  }
 },
 "nbformat": 4,
 "nbformat_minor": 5
}

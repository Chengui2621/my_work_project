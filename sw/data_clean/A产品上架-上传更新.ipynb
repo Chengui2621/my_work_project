{
 "cells": [
  {
   "cell_type": "code",
   "execution_count": 1,
   "id": "408ab4af",
   "metadata": {
    "ExecuteTime": {
     "end_time": "2022-06-28T01:13:44.774123Z",
     "start_time": "2022-06-28T01:13:43.315028Z"
    }
   },
   "outputs": [],
   "source": [
    "import re\n",
    "import pandas as pd\n",
    "import numpy as np"
   ]
  },
  {
   "cell_type": "markdown",
   "id": "d70aa391",
   "metadata": {},
   "source": [
    "# 产品上架"
   ]
  },
  {
   "cell_type": "code",
   "execution_count": 15,
   "id": "1564f0dd",
   "metadata": {
    "ExecuteTime": {
     "end_time": "2022-06-28T01:16:55.095340Z",
     "start_time": "2022-06-28T01:16:55.077389Z"
    }
   },
   "outputs": [],
   "source": [
    "# 归属人名称处理"
   ]
  },
  {
   "cell_type": "code",
   "execution_count": 16,
   "id": "61bfe871",
   "metadata": {
    "ExecuteTime": {
     "end_time": "2022-06-28T01:16:55.810425Z",
     "start_time": "2022-06-28T01:16:55.682768Z"
    }
   },
   "outputs": [],
   "source": [
    "shelves = pd.read_excel('产品上架.xls')"
   ]
  },
  {
   "cell_type": "code",
   "execution_count": 17,
   "id": "de03ac04",
   "metadata": {
    "ExecuteTime": {
     "end_time": "2022-06-28T01:16:56.343000Z",
     "start_time": "2022-06-28T01:16:56.316073Z"
    }
   },
   "outputs": [],
   "source": [
    "shelves = shelves[(shelves['产品类型'] == '标准品')&(shelves['产品状态'].isin(['审核通过', '审核中']))]"
   ]
  },
  {
   "cell_type": "code",
   "execution_count": 18,
   "id": "44abc1e5",
   "metadata": {
    "ExecuteTime": {
     "end_time": "2022-06-28T01:16:56.813740Z",
     "start_time": "2022-06-28T01:16:56.803768Z"
    }
   },
   "outputs": [],
   "source": [
    "def split_num(x):\n",
    "    if x:\n",
    "        regex = '([0-9]+-?[0-9]+)'\n",
    "        result = re.compile(regex).search(x).group()\n",
    "        if result:\n",
    "            return result\n",
    "        else:\n",
    "            return x"
   ]
  },
  {
   "cell_type": "code",
   "execution_count": 19,
   "id": "28d69603",
   "metadata": {
    "ExecuteTime": {
     "end_time": "2022-06-28T01:16:57.316397Z",
     "start_time": "2022-06-28T01:16:57.307421Z"
    }
   },
   "outputs": [],
   "source": [
    "shelves['编码拆分'] = shelves['产品编码'].apply(split_num)"
   ]
  },
  {
   "cell_type": "code",
   "execution_count": 20,
   "id": "e392eec1",
   "metadata": {
    "ExecuteTime": {
     "end_time": "2022-06-28T01:16:57.748240Z",
     "start_time": "2022-06-28T01:16:57.740263Z"
    }
   },
   "outputs": [],
   "source": [
    "# 产品分类拆分\n",
    "def divide_type(x):\n",
    "    if x != np.nan:\n",
    "        regex_three = '(.*?)/(.*?)/(.*)'\n",
    "        regex_two = '(.*?)/(.*)'   # 非贪婪模式，/后的内容会取不到\n",
    "        result_three = re.compile(regex_three, re.S).search(x)\n",
    "        result_two = re.compile(regex_two, re.S).search(x)\n",
    "        if result_three:\n",
    "            class_one = result_three.group(1)\n",
    "            class_two = result_three.group(2)\n",
    "            class_three = result_three.group(3)\n",
    "            return class_one,class_two,class_three\n",
    "        if result_two:\n",
    "            class_one = result_two.group(1)\n",
    "            class_two = result_two.group(2)\n",
    "            class_three = result_two.group(2)\n",
    "            return class_one,class_two,class_three\n",
    "        if '/' not in x:\n",
    "            class_one = x\n",
    "            class_two = x\n",
    "            class_three = x\n",
    "            return class_one,class_two,class_three\n",
    "    return x"
   ]
  },
  {
   "cell_type": "code",
   "execution_count": 21,
   "id": "c7ffd0d4",
   "metadata": {
    "ExecuteTime": {
     "end_time": "2022-06-28T01:16:58.239925Z",
     "start_time": "2022-06-28T01:16:58.219979Z"
    }
   },
   "outputs": [],
   "source": [
    "shelves['二级分类'] = shelves['产品类别'].apply(lambda x: divide_type(x)[1])\n",
    "shelves['二级分类'] = shelves['二级分类'].apply(lambda x: x.replace(' ', ''))"
   ]
  },
  {
   "cell_type": "code",
   "execution_count": 22,
   "id": "b59537fe",
   "metadata": {
    "ExecuteTime": {
     "end_time": "2022-06-28T01:16:58.723632Z",
     "start_time": "2022-06-28T01:16:58.667781Z"
    }
   },
   "outputs": [],
   "source": [
    "people_list = pd.read_excel('E:/code/pbi_data/业务员.xlsx')\n",
    "\n",
    "shelves = pd.merge(shelves, people_list[['业务员', '英文名']], left_on = '归属人', right_on = '业务员' , how='left')"
   ]
  },
  {
   "cell_type": "code",
   "execution_count": 23,
   "id": "62eb1f93",
   "metadata": {
    "ExecuteTime": {
     "end_time": "2022-06-28T01:16:59.164452Z",
     "start_time": "2022-06-28T01:16:59.125556Z"
    }
   },
   "outputs": [],
   "source": [
    "product_line = pd.read_excel('E:/code/pbi_data/产线归属.xlsx')"
   ]
  },
  {
   "cell_type": "code",
   "execution_count": 24,
   "id": "07b7c42d",
   "metadata": {
    "ExecuteTime": {
     "end_time": "2022-06-28T01:16:59.588318Z",
     "start_time": "2022-06-28T01:16:59.564383Z"
    }
   },
   "outputs": [],
   "source": [
    "shelves = pd.merge(shelves, product_line[['产品线2_0', '产品线2', '产品线归属']], left_on = '产线', right_on = '产品线2_0' , how='left')"
   ]
  },
  {
   "cell_type": "code",
   "execution_count": 25,
   "id": "8b161f5b",
   "metadata": {
    "ExecuteTime": {
     "end_time": "2022-06-28T01:17:00.124881Z",
     "start_time": "2022-06-28T01:17:00.115906Z"
    }
   },
   "outputs": [],
   "source": [
    "shelves['产品名称'] = shelves['中文名称']\n",
    "shelves['提交日期'] = shelves['创建时间']\n",
    "shelves['负责业务'] = shelves['英文名']\n",
    "shelves['状态'] = ''\n",
    "shelves['当前状态'] = ''"
   ]
  },
  {
   "cell_type": "code",
   "execution_count": 26,
   "id": "1512c376",
   "metadata": {
    "ExecuteTime": {
     "end_time": "2022-06-28T01:17:00.669424Z",
     "start_time": "2022-06-28T01:17:00.651474Z"
    }
   },
   "outputs": [],
   "source": [
    "shelves['日期'] = '2022/6/1'"
   ]
  },
  {
   "cell_type": "code",
   "execution_count": 27,
   "id": "07d80bbe",
   "metadata": {
    "ExecuteTime": {
     "end_time": "2022-06-28T01:17:01.777459Z",
     "start_time": "2022-06-28T01:17:01.572010Z"
    }
   },
   "outputs": [],
   "source": [
    "header = ['日期', '产品编码', '产品名称', '状态','当前状态', '负责业务', '提交日期', '产品类别', '产品状态']\n",
    "shelves_input = shelves[header]\n",
    "\n",
    "shelves_input.to_excel('产品进度表.xlsx', index=False)"
   ]
  },
  {
   "cell_type": "code",
   "execution_count": 28,
   "id": "1c58090f",
   "metadata": {
    "ExecuteTime": {
     "end_time": "2022-06-28T01:17:02.323998Z",
     "start_time": "2022-06-28T01:17:02.284104Z"
    }
   },
   "outputs": [],
   "source": [
    "header_match = pd.read_excel('./辅助数据/匹配表表头.xlsx')\n",
    "shelves_match = shelves[list(header_match)]"
   ]
  },
  {
   "cell_type": "code",
   "execution_count": 29,
   "id": "c1e6541d",
   "metadata": {
    "ExecuteTime": {
     "end_time": "2022-06-28T01:17:03.062022Z",
     "start_time": "2022-06-28T01:17:02.803714Z"
    }
   },
   "outputs": [],
   "source": [
    "shelves_match.to_excel('产品匹配表.xlsx', index=False)"
   ]
  },
  {
   "cell_type": "markdown",
   "id": "d43e9390",
   "metadata": {},
   "source": [
    "# 产品上传更新"
   ]
  },
  {
   "cell_type": "code",
   "execution_count": 30,
   "id": "d6853146",
   "metadata": {
    "ExecuteTime": {
     "end_time": "2022-06-28T01:17:04.375507Z",
     "start_time": "2022-06-28T01:17:04.275775Z"
    }
   },
   "outputs": [],
   "source": [
    "upload_data = pd.read_excel('上传更新.xlsx', sheet_name = '上传', header = 1)\n",
    "update_data = pd.read_excel('上传更新.xlsx', sheet_name = '更新', header = 1)"
   ]
  },
  {
   "cell_type": "code",
   "execution_count": 31,
   "id": "9a62890e",
   "metadata": {
    "ExecuteTime": {
     "end_time": "2022-06-28T01:17:04.829198Z",
     "start_time": "2022-06-28T01:17:04.811246Z"
    }
   },
   "outputs": [
    {
     "data": {
      "text/html": [
       "<div>\n",
       "<style scoped>\n",
       "    .dataframe tbody tr th:only-of-type {\n",
       "        vertical-align: middle;\n",
       "    }\n",
       "\n",
       "    .dataframe tbody tr th {\n",
       "        vertical-align: top;\n",
       "    }\n",
       "\n",
       "    .dataframe thead th {\n",
       "        text-align: right;\n",
       "    }\n",
       "</style>\n",
       "<table border=\"1\" class=\"dataframe\">\n",
       "  <thead>\n",
       "    <tr style=\"text-align: right;\">\n",
       "      <th></th>\n",
       "      <th>Office</th>\n",
       "      <th>业务</th>\n",
       "      <th>SKU</th>\n",
       "      <th>平台</th>\n",
       "      <th>通知日期</th>\n",
       "      <th>完成日期</th>\n",
       "      <th>是否新品</th>\n",
       "      <th>上传人</th>\n",
       "    </tr>\n",
       "  </thead>\n",
       "  <tbody>\n",
       "    <tr>\n",
       "      <th>0</th>\n",
       "      <td>HF</td>\n",
       "      <td>Rena</td>\n",
       "      <td>301450</td>\n",
       "      <td>dc-rp+esp-rg+sage</td>\n",
       "      <td>6.22</td>\n",
       "      <td>6.22</td>\n",
       "      <td>是</td>\n",
       "      <td>Ivy</td>\n",
       "    </tr>\n",
       "    <tr>\n",
       "      <th>1</th>\n",
       "      <td>HF</td>\n",
       "      <td>Meggie</td>\n",
       "      <td>300957</td>\n",
       "      <td>dc-rp+esp-rg+sage</td>\n",
       "      <td>6.22</td>\n",
       "      <td>6.22</td>\n",
       "      <td>是</td>\n",
       "      <td>Ivy</td>\n",
       "    </tr>\n",
       "  </tbody>\n",
       "</table>\n",
       "</div>"
      ],
      "text/plain": [
       "  Office      业务     SKU                 平台  通知日期  完成日期 是否新品  上传人\n",
       "0     HF    Rena  301450  dc-rp+esp-rg+sage  6.22  6.22    是  Ivy\n",
       "1     HF  Meggie  300957  dc-rp+esp-rg+sage  6.22  6.22    是  Ivy"
      ]
     },
     "execution_count": 31,
     "metadata": {},
     "output_type": "execute_result"
    }
   ],
   "source": [
    "upload_data"
   ]
  },
  {
   "cell_type": "code",
   "execution_count": 32,
   "id": "6c1d05fb",
   "metadata": {
    "ExecuteTime": {
     "end_time": "2022-06-28T01:17:05.316637Z",
     "start_time": "2022-06-28T01:17:05.292704Z"
    },
    "scrolled": true
   },
   "outputs": [
    {
     "data": {
      "text/html": [
       "<div>\n",
       "<style scoped>\n",
       "    .dataframe tbody tr th:only-of-type {\n",
       "        vertical-align: middle;\n",
       "    }\n",
       "\n",
       "    .dataframe tbody tr th {\n",
       "        vertical-align: top;\n",
       "    }\n",
       "\n",
       "    .dataframe thead th {\n",
       "        text-align: right;\n",
       "    }\n",
       "</style>\n",
       "<table border=\"1\" class=\"dataframe\">\n",
       "  <thead>\n",
       "    <tr style=\"text-align: right;\">\n",
       "      <th></th>\n",
       "      <th>Office</th>\n",
       "      <th>Sales</th>\n",
       "      <th>SKU</th>\n",
       "      <th>Update</th>\n",
       "      <th>平台</th>\n",
       "      <th>通知日期</th>\n",
       "      <th>完成日期</th>\n",
       "      <th>更新人</th>\n",
       "    </tr>\n",
       "  </thead>\n",
       "  <tbody>\n",
       "    <tr>\n",
       "      <th>0</th>\n",
       "      <td>HF</td>\n",
       "      <td>Jenna</td>\n",
       "      <td>201329</td>\n",
       "      <td>描述，关键词，图片</td>\n",
       "      <td>dc-rp+sage</td>\n",
       "      <td>6.20</td>\n",
       "      <td>6.20</td>\n",
       "      <td>Vincent</td>\n",
       "    </tr>\n",
       "    <tr>\n",
       "      <th>1</th>\n",
       "      <td>HF</td>\n",
       "      <td>Rena</td>\n",
       "      <td>124236</td>\n",
       "      <td>价格</td>\n",
       "      <td>dc-rg+esp-rg+sage</td>\n",
       "      <td>6.20</td>\n",
       "      <td>6.20</td>\n",
       "      <td>Vincent</td>\n",
       "    </tr>\n",
       "    <tr>\n",
       "      <th>2</th>\n",
       "      <td>HF</td>\n",
       "      <td>Jenna</td>\n",
       "      <td>300584</td>\n",
       "      <td>Large Size: Extra $1.7/pc for 3XL to 5XL</td>\n",
       "      <td>dc-rp+esp-rg+sage</td>\n",
       "      <td>6.20</td>\n",
       "      <td>6.20</td>\n",
       "      <td>Vincent</td>\n",
       "    </tr>\n",
       "    <tr>\n",
       "      <th>3</th>\n",
       "      <td>HF</td>\n",
       "      <td>Jenna</td>\n",
       "      <td>300583</td>\n",
       "      <td>Milk Silk Material: Free</td>\n",
       "      <td>dc-rp+esp-rg+sage</td>\n",
       "      <td>6.20</td>\n",
       "      <td>6.20</td>\n",
       "      <td>Vincent</td>\n",
       "    </tr>\n",
       "    <tr>\n",
       "      <th>4</th>\n",
       "      <td>HF</td>\n",
       "      <td>Jenna</td>\n",
       "      <td>300585</td>\n",
       "      <td>Milk Silk Material: Free</td>\n",
       "      <td>dc-rp+esp-rg+sage</td>\n",
       "      <td>6.20</td>\n",
       "      <td>6.20</td>\n",
       "      <td>Vincent</td>\n",
       "    </tr>\n",
       "    <tr>\n",
       "      <th>...</th>\n",
       "      <td>...</td>\n",
       "      <td>...</td>\n",
       "      <td>...</td>\n",
       "      <td>...</td>\n",
       "      <td>...</td>\n",
       "      <td>...</td>\n",
       "      <td>...</td>\n",
       "      <td>...</td>\n",
       "    </tr>\n",
       "    <tr>\n",
       "      <th>190</th>\n",
       "      <td>HF</td>\n",
       "      <td>Rena</td>\n",
       "      <td>204830</td>\n",
       "      <td>主图，价格</td>\n",
       "      <td>dc-rp+esp-rg+sage</td>\n",
       "      <td>6.24</td>\n",
       "      <td>6.24</td>\n",
       "      <td>Ivy</td>\n",
       "    </tr>\n",
       "    <tr>\n",
       "      <th>191</th>\n",
       "      <td>HF</td>\n",
       "      <td>Rena</td>\n",
       "      <td>204830-Ocean</td>\n",
       "      <td>主图</td>\n",
       "      <td>dc-rp+esp-rg+sage</td>\n",
       "      <td>6.24</td>\n",
       "      <td>6.24</td>\n",
       "      <td>Ivy</td>\n",
       "    </tr>\n",
       "    <tr>\n",
       "      <th>192</th>\n",
       "      <td>HF</td>\n",
       "      <td>Rena</td>\n",
       "      <td>204109</td>\n",
       "      <td>价格,交期，数量</td>\n",
       "      <td>dc-rp+esp-rg+sage</td>\n",
       "      <td>6.24</td>\n",
       "      <td>6.24</td>\n",
       "      <td>Ivy</td>\n",
       "    </tr>\n",
       "    <tr>\n",
       "      <th>193</th>\n",
       "      <td>YW</td>\n",
       "      <td>Funny</td>\n",
       "      <td>204362</td>\n",
       "      <td>品名、关键词、价格</td>\n",
       "      <td>dc-rp+sage</td>\n",
       "      <td>6.20</td>\n",
       "      <td>6.20</td>\n",
       "      <td>Coco</td>\n",
       "    </tr>\n",
       "    <tr>\n",
       "      <th>194</th>\n",
       "      <td>YW</td>\n",
       "      <td>Funny</td>\n",
       "      <td>180823430-8</td>\n",
       "      <td>图片</td>\n",
       "      <td>dc-rp+sage</td>\n",
       "      <td>6.21</td>\n",
       "      <td>6.21</td>\n",
       "      <td>Coco</td>\n",
       "    </tr>\n",
       "  </tbody>\n",
       "</table>\n",
       "<p>195 rows × 8 columns</p>\n",
       "</div>"
      ],
      "text/plain": [
       "    Office  Sales           SKU                                    Update  \\\n",
       "0       HF  Jenna        201329                                 描述，关键词，图片   \n",
       "1       HF   Rena        124236                                        价格   \n",
       "2       HF  Jenna        300584  Large Size: Extra $1.7/pc for 3XL to 5XL   \n",
       "3       HF  Jenna        300583                  Milk Silk Material: Free   \n",
       "4       HF  Jenna        300585                  Milk Silk Material: Free   \n",
       "..     ...    ...           ...                                       ...   \n",
       "190     HF   Rena        204830                                     主图，价格   \n",
       "191     HF   Rena  204830-Ocean                                        主图   \n",
       "192     HF   Rena        204109                                  价格,交期，数量   \n",
       "193     YW  Funny        204362                                 品名、关键词、价格   \n",
       "194     YW  Funny   180823430-8                                        图片   \n",
       "\n",
       "                    平台  通知日期  完成日期      更新人  \n",
       "0           dc-rp+sage  6.20  6.20  Vincent  \n",
       "1    dc-rg+esp-rg+sage  6.20  6.20  Vincent  \n",
       "2    dc-rp+esp-rg+sage  6.20  6.20  Vincent  \n",
       "3    dc-rp+esp-rg+sage  6.20  6.20  Vincent  \n",
       "4    dc-rp+esp-rg+sage  6.20  6.20  Vincent  \n",
       "..                 ...   ...   ...      ...  \n",
       "190  dc-rp+esp-rg+sage  6.24  6.24      Ivy  \n",
       "191  dc-rp+esp-rg+sage  6.24  6.24      Ivy  \n",
       "192  dc-rp+esp-rg+sage  6.24  6.24      Ivy  \n",
       "193         dc-rp+sage  6.20  6.20     Coco  \n",
       "194         dc-rp+sage  6.21  6.21     Coco  \n",
       "\n",
       "[195 rows x 8 columns]"
      ]
     },
     "execution_count": 32,
     "metadata": {},
     "output_type": "execute_result"
    }
   ],
   "source": [
    "update_data"
   ]
  },
  {
   "cell_type": "code",
   "execution_count": 33,
   "id": "a0733961",
   "metadata": {
    "ExecuteTime": {
     "end_time": "2022-06-28T01:17:05.742498Z",
     "start_time": "2022-06-28T01:17:05.731528Z"
    }
   },
   "outputs": [],
   "source": [
    "district = {'HF':'合肥', 'SZ':'苏州', 'YW':'义乌'}\n",
    "\n",
    "upload_data['地区'] = upload_data['Office'].map(district)\n",
    "update_data['地区'] = update_data['Office'].map(district)"
   ]
  },
  {
   "cell_type": "code",
   "execution_count": 34,
   "id": "fcbed29e",
   "metadata": {
    "ExecuteTime": {
     "end_time": "2022-06-28T01:17:06.165918Z",
     "start_time": "2022-06-28T01:17:06.155946Z"
    }
   },
   "outputs": [],
   "source": [
    "upload_data['辅助'] = upload_data['业务']\n",
    "update_data['辅助'] = update_data['Sales']"
   ]
  },
  {
   "cell_type": "markdown",
   "id": "ffbe0d5f",
   "metadata": {},
   "source": [
    "<b><font size=2 color=green>时间字段手动填写：</font></b>"
   ]
  },
  {
   "cell_type": "code",
   "execution_count": 35,
   "id": "0b125a87",
   "metadata": {
    "ExecuteTime": {
     "end_time": "2022-06-28T01:17:07.077013Z",
     "start_time": "2022-06-28T01:17:07.056069Z"
    }
   },
   "outputs": [],
   "source": [
    "upload_data['年份'] = update_data['年份'] = '2022'\n",
    "upload_data['月份'] = update_data['月份'] = '6'\n",
    "upload_data['年月'] = update_data['年月'] = '2022/6/1'\n",
    "upload_data['周'] = update_data['周'] = '第4周'\n",
    "\n",
    "month = '6.'\n",
    "new_month = '2022/6/'"
   ]
  },
  {
   "cell_type": "code",
   "execution_count": 36,
   "id": "764e2382",
   "metadata": {
    "ExecuteTime": {
     "end_time": "2022-06-28T01:17:07.624548Z",
     "start_time": "2022-06-28T01:17:07.603604Z"
    }
   },
   "outputs": [],
   "source": [
    "upload_data['通知日期'] = upload_data['通知日期'].apply(lambda x: str(x).replace(month, new_month))\n",
    "upload_data['完成日期'] = upload_data['完成日期'].apply(lambda x: str(x).replace(month, new_month))\n",
    "\n",
    "update_data['通知日期'] = update_data['通知日期'].apply(lambda x: str(x).replace(month, new_month))\n",
    "update_data['完成日期'] = update_data['完成日期'].apply(lambda x: str(x).replace(month, new_month))"
   ]
  },
  {
   "cell_type": "code",
   "execution_count": 37,
   "id": "072d2fe4",
   "metadata": {
    "ExecuteTime": {
     "end_time": "2022-06-28T01:17:08.143160Z",
     "start_time": "2022-06-28T01:17:08.084318Z"
    }
   },
   "outputs": [],
   "source": [
    "staff_list = pd.read_excel('E:/code/pbi_data/业务员.xlsx')"
   ]
  },
  {
   "cell_type": "code",
   "execution_count": 38,
   "id": "27faec04",
   "metadata": {
    "ExecuteTime": {
     "end_time": "2022-06-28T01:17:08.615895Z",
     "start_time": "2022-06-28T01:17:08.604925Z"
    }
   },
   "outputs": [],
   "source": [
    "upload_data = pd.merge(upload_data, staff_list[['名', '英文名']], left_on = '辅助', right_on = '名', how = 'left')"
   ]
  },
  {
   "cell_type": "code",
   "execution_count": 39,
   "id": "da2efa00",
   "metadata": {
    "ExecuteTime": {
     "end_time": "2022-06-28T01:17:09.101596Z",
     "start_time": "2022-06-28T01:17:09.092621Z"
    }
   },
   "outputs": [],
   "source": [
    "update_data = pd.merge(update_data, staff_list[['名', '英文名']], left_on = '辅助', right_on = '名', how = 'left')"
   ]
  },
  {
   "cell_type": "code",
   "execution_count": 40,
   "id": "cec51a78",
   "metadata": {
    "ExecuteTime": {
     "end_time": "2022-06-28T01:17:09.848596Z",
     "start_time": "2022-06-28T01:17:09.836630Z"
    }
   },
   "outputs": [],
   "source": [
    "upload_data['编码拆分'] = upload_data['SKU'].astype(str)\n",
    "upload_data['编码拆分'] = upload_data['编码拆分'].apply(split_num)\n",
    "upload_data = pd.merge(upload_data, shelves[['编码拆分', '中文名称', '二级分类', '产品线2', '产品线归属']], on = '编码拆分', how = 'left')"
   ]
  },
  {
   "cell_type": "code",
   "execution_count": 41,
   "id": "77db75e1",
   "metadata": {
    "ExecuteTime": {
     "end_time": "2022-06-28T01:17:10.350254Z",
     "start_time": "2022-06-28T01:17:10.325322Z"
    }
   },
   "outputs": [],
   "source": [
    "update_data['编码拆分'] = update_data['SKU'].astype(str)\n",
    "update_data['编码拆分'] = update_data['编码拆分'].apply(split_num)\n",
    "update_data = pd.merge(update_data, shelves[['编码拆分', '中文名称', '二级分类', '产品线2', '产品线归属']], on = '编码拆分', how = 'left')"
   ]
  },
  {
   "cell_type": "code",
   "execution_count": 42,
   "id": "75feeb7f",
   "metadata": {
    "ExecuteTime": {
     "end_time": "2022-06-28T01:17:10.824984Z",
     "start_time": "2022-06-28T01:17:10.781102Z"
    }
   },
   "outputs": [],
   "source": [
    "# sage中用到的匹配表\n",
    "upload_data['注释'] = upload_data['业务组'] = upload_data['是否产线2'] = upload_data['备注'] = ''\n",
    "match_table = upload_data[['SKU', '编码拆分', '注释', '备注', '完成日期', '英文名', '业务组', '中文名称', '产品线2', '是否产线2', '产品线2', '产品线归属']]\n",
    "match_table.to_excel('匹配0102.xlsx', index=False)"
   ]
  },
  {
   "cell_type": "code",
   "execution_count": 43,
   "id": "87532263",
   "metadata": {
    "ExecuteTime": {
     "end_time": "2022-06-28T01:17:12.068656Z",
     "start_time": "2022-06-28T01:17:12.059680Z"
    }
   },
   "outputs": [],
   "source": [
    "upload_data['分组'] = ''\n",
    "upload_data.rename(columns={'SKU':'上传编码', '平台':'上传平台', '通知日期':'通知时间', '完成日期':'完成时间', '英文名':'人员', '中文名称':'上传产品', '二级分类':'上传类目', '产品线2':'产品线'}, inplace=True)"
   ]
  },
  {
   "cell_type": "code",
   "execution_count": 44,
   "id": "11e39ea5",
   "metadata": {
    "ExecuteTime": {
     "end_time": "2022-06-28T01:17:12.629156Z",
     "start_time": "2022-06-28T01:17:12.611205Z"
    }
   },
   "outputs": [],
   "source": [
    "update_data['分组'] = ''\n",
    "update_data.rename(columns={'SKU':'更新编码', 'Update':'修改内容', '通知日期':'通知时间', '完成日期':'完成时间', '英文名':'人员', '中文名称':'更新产品', '二级分类':'更新类目', '产品线2':'产品线'}, inplace=True)"
   ]
  },
  {
   "cell_type": "code",
   "execution_count": 45,
   "id": "bcfb98f4",
   "metadata": {
    "ExecuteTime": {
     "end_time": "2022-06-28T01:17:13.285400Z",
     "start_time": "2022-06-28T01:17:13.212595Z"
    }
   },
   "outputs": [],
   "source": [
    "upload_header = pd.read_excel('./辅助数据/上传更新表头.xlsx', sheet_name='上传')\n",
    "update_header = pd.read_excel('./辅助数据/上传更新表头.xlsx', sheet_name='更新')"
   ]
  },
  {
   "cell_type": "code",
   "execution_count": 46,
   "id": "01bac2af",
   "metadata": {
    "ExecuteTime": {
     "end_time": "2022-06-28T01:17:14.410391Z",
     "start_time": "2022-06-28T01:17:14.403410Z"
    }
   },
   "outputs": [],
   "source": [
    "upload_data = upload_data[list(upload_header)]"
   ]
  },
  {
   "cell_type": "code",
   "execution_count": 47,
   "id": "dedcd356",
   "metadata": {
    "ExecuteTime": {
     "end_time": "2022-06-28T01:17:14.909056Z",
     "start_time": "2022-06-28T01:17:14.900080Z"
    }
   },
   "outputs": [],
   "source": [
    "update_data = update_data[list(update_header)]"
   ]
  },
  {
   "cell_type": "code",
   "execution_count": 48,
   "id": "42e07bd2",
   "metadata": {
    "ExecuteTime": {
     "end_time": "2022-06-28T01:17:15.453600Z",
     "start_time": "2022-06-28T01:17:15.419690Z"
    }
   },
   "outputs": [],
   "source": [
    "upload_data.to_excel('上传表维护结果.xlsx', index=False)"
   ]
  },
  {
   "cell_type": "code",
   "execution_count": 49,
   "id": "3b351741",
   "metadata": {
    "ExecuteTime": {
     "end_time": "2022-06-28T01:17:16.110840Z",
     "start_time": "2022-06-28T01:17:16.012105Z"
    }
   },
   "outputs": [],
   "source": [
    "update_data.to_excel('更新表维护结果.xlsx', index=False)"
   ]
  },
  {
   "cell_type": "markdown",
   "id": "d5903c97",
   "metadata": {},
   "source": [
    "# 询盘"
   ]
  },
  {
   "cell_type": "code",
   "execution_count": 52,
   "id": "a5b0ba0c",
   "metadata": {
    "ExecuteTime": {
     "end_time": "2022-06-28T01:50:01.007783Z",
     "start_time": "2022-06-28T01:50:00.722701Z"
    }
   },
   "outputs": [
    {
     "name": "stderr",
     "output_type": "stream",
     "text": [
      "D:\\anaconda\\lib\\site-packages\\openpyxl\\styles\\stylesheet.py:226: UserWarning: Workbook contains no default style, apply openpyxl's default\n",
      "  warn(\"Workbook contains no default style, apply openpyxl's default\")\n"
     ]
    }
   ],
   "source": [
    "inquiry_output_data = pd.read_excel('询盘导出表.xlsx')"
   ]
  },
  {
   "cell_type": "code",
   "execution_count": 53,
   "id": "df469e9b",
   "metadata": {
    "ExecuteTime": {
     "end_time": "2022-06-28T01:50:01.607997Z",
     "start_time": "2022-06-28T01:50:01.586057Z"
    },
    "scrolled": true
   },
   "outputs": [
    {
     "data": {
      "text/html": [
       "<div>\n",
       "<style scoped>\n",
       "    .dataframe tbody tr th:only-of-type {\n",
       "        vertical-align: middle;\n",
       "    }\n",
       "\n",
       "    .dataframe tbody tr th {\n",
       "        vertical-align: top;\n",
       "    }\n",
       "\n",
       "    .dataframe thead th {\n",
       "        text-align: right;\n",
       "    }\n",
       "</style>\n",
       "<table border=\"1\" class=\"dataframe\">\n",
       "  <thead>\n",
       "    <tr style=\"text-align: right;\">\n",
       "      <th></th>\n",
       "      <th>Date</th>\n",
       "      <th>Sales</th>\n",
       "      <th>Remarks</th>\n",
       "      <th>Inquiry #</th>\n",
       "      <th>RP</th>\n",
       "      <th>ESP/SAGE/DC/Website/Other</th>\n",
       "      <th>Item NO.</th>\n",
       "      <th>Item Name</th>\n",
       "      <th>Quantity</th>\n",
       "      <th>Email</th>\n",
       "      <th>Contact Name</th>\n",
       "      <th>Company Name</th>\n",
       "      <th>Tel.</th>\n",
       "      <th>Fax</th>\n",
       "      <th>Website</th>\n",
       "      <th>Add.</th>\n",
       "    </tr>\n",
       "  </thead>\n",
       "  <tbody>\n",
       "    <tr>\n",
       "      <th>0</th>\n",
       "      <td>2022-06-20</td>\n",
       "      <td>Terry Chu</td>\n",
       "      <td>P22052676询价下单</td>\n",
       "      <td>PO# 7372  null</td>\n",
       "      <td>P</td>\n",
       "      <td>Email</td>\n",
       "      <td>202452</td>\n",
       "      <td>Mouse Pad</td>\n",
       "      <td>1000</td>\n",
       "      <td>Gloriabrayer@comcast.net</td>\n",
       "      <td>NaN</td>\n",
       "      <td>Iconic Promotions</td>\n",
       "      <td>954-385-4771</td>\n",
       "      <td>NaN</td>\n",
       "      <td>NaN</td>\n",
       "      <td>NaN</td>\n",
       "    </tr>\n",
       "    <tr>\n",
       "      <th>1</th>\n",
       "      <td>2022-06-20</td>\n",
       "      <td>Clover Wang</td>\n",
       "      <td>Email下单</td>\n",
       "      <td>PO#40308  null</td>\n",
       "      <td>P</td>\n",
       "      <td>Email</td>\n",
       "      <td>120888</td>\n",
       "      <td>10\" Folding Flyer With Pouch</td>\n",
       "      <td>500</td>\n",
       "      <td>jill@mprintspromo.com</td>\n",
       "      <td>NaN</td>\n",
       "      <td>M'Prints Promtional Products</td>\n",
       "      <td>601.553.1522</td>\n",
       "      <td>NaN</td>\n",
       "      <td>NaN</td>\n",
       "      <td>NaN</td>\n",
       "    </tr>\n",
       "    <tr>\n",
       "      <th>2</th>\n",
       "      <td>2022-06-20</td>\n",
       "      <td>Meggie Fan</td>\n",
       "      <td>NaN</td>\n",
       "      <td>P22061906</td>\n",
       "      <td>P</td>\n",
       "      <td>Email</td>\n",
       "      <td>129114</td>\n",
       "      <td>Sports Drawstring Backpack with Zipper Pocket</td>\n",
       "      <td>1100</td>\n",
       "      <td>jay@universitysilkscreen.com</td>\n",
       "      <td>NaN</td>\n",
       "      <td>University Silkscreen</td>\n",
       "      <td>405-366-8256</td>\n",
       "      <td>NaN</td>\n",
       "      <td>NaN</td>\n",
       "      <td>NaN</td>\n",
       "    </tr>\n",
       "    <tr>\n",
       "      <th>3</th>\n",
       "      <td>2022-06-20</td>\n",
       "      <td>Jane Zhou</td>\n",
       "      <td>NaN</td>\n",
       "      <td>P22061907</td>\n",
       "      <td>P</td>\n",
       "      <td>Email</td>\n",
       "      <td>NaN</td>\n",
       "      <td>15 oz photo mugs</td>\n",
       "      <td>144-288-500</td>\n",
       "      <td>mail@wlcpromotions.com/\\t wlc.promotionalmarke...</td>\n",
       "      <td>NaN</td>\n",
       "      <td>WLC Promotions</td>\n",
       "      <td>562-443-1367</td>\n",
       "      <td>NaN</td>\n",
       "      <td>NaN</td>\n",
       "      <td>NaN</td>\n",
       "    </tr>\n",
       "    <tr>\n",
       "      <th>4</th>\n",
       "      <td>2022-06-20</td>\n",
       "      <td>Tori Lee</td>\n",
       "      <td>客户直接发PO</td>\n",
       "      <td>PO 18135  null</td>\n",
       "      <td>P</td>\n",
       "      <td>Email</td>\n",
       "      <td>202242</td>\n",
       "      <td>Flip Open PU Leather Luggage Tag</td>\n",
       "      <td>300</td>\n",
       "      <td>cindy.beierle@ideasource.ca</td>\n",
       "      <td>NaN</td>\n",
       "      <td>Ideasource Recognition &amp; Rewards Inc.</td>\n",
       "      <td>403-912-9161</td>\n",
       "      <td>NaN</td>\n",
       "      <td>NaN</td>\n",
       "      <td>NaN</td>\n",
       "    </tr>\n",
       "    <tr>\n",
       "      <th>...</th>\n",
       "      <td>...</td>\n",
       "      <td>...</td>\n",
       "      <td>...</td>\n",
       "      <td>...</td>\n",
       "      <td>...</td>\n",
       "      <td>...</td>\n",
       "      <td>...</td>\n",
       "      <td>...</td>\n",
       "      <td>...</td>\n",
       "      <td>...</td>\n",
       "      <td>...</td>\n",
       "      <td>...</td>\n",
       "      <td>...</td>\n",
       "      <td>...</td>\n",
       "      <td>...</td>\n",
       "      <td>...</td>\n",
       "    </tr>\n",
       "    <tr>\n",
       "      <th>721</th>\n",
       "      <td>2022-06-25</td>\n",
       "      <td>Karen Li</td>\n",
       "      <td>客户直接联系</td>\n",
       "      <td>P22062572</td>\n",
       "      <td>P</td>\n",
       "      <td>Email</td>\n",
       "      <td>123915</td>\n",
       "      <td>Drawstring bag/bottle/Single Pocket Coin Pouch</td>\n",
       "      <td>1600</td>\n",
       "      <td>ara@raptclothing.com</td>\n",
       "      <td>NaN</td>\n",
       "      <td>Rapt Clothing Inc</td>\n",
       "      <td>323-697-3733</td>\n",
       "      <td>NaN</td>\n",
       "      <td>NaN</td>\n",
       "      <td>NaN</td>\n",
       "    </tr>\n",
       "    <tr>\n",
       "      <th>722</th>\n",
       "      <td>2022-06-25</td>\n",
       "      <td>Selina Gong</td>\n",
       "      <td>客户直接联系</td>\n",
       "      <td>P22062573</td>\n",
       "      <td>P</td>\n",
       "      <td>Email</td>\n",
       "      <td>NaN</td>\n",
       "      <td>drawstring bag</td>\n",
       "      <td>/</td>\n",
       "      <td>sales@fxpromowear.com</td>\n",
       "      <td>NaN</td>\n",
       "      <td>Fxpromowear</td>\n",
       "      <td>206-383-1861</td>\n",
       "      <td>NaN</td>\n",
       "      <td>NaN</td>\n",
       "      <td>NaN</td>\n",
       "    </tr>\n",
       "    <tr>\n",
       "      <th>723</th>\n",
       "      <td>2022-06-25</td>\n",
       "      <td>Daniel Chen</td>\n",
       "      <td>客户直接联系</td>\n",
       "      <td>P22062574</td>\n",
       "      <td>P</td>\n",
       "      <td>Email</td>\n",
       "      <td>202097</td>\n",
       "      <td>Lanyard</td>\n",
       "      <td>/</td>\n",
       "      <td>Robyn@abracadabraprinting.com</td>\n",
       "      <td>NaN</td>\n",
       "      <td>Abracadabra Printing</td>\n",
       "      <td>206-3473-9087</td>\n",
       "      <td>NaN</td>\n",
       "      <td>NaN</td>\n",
       "      <td>NaN</td>\n",
       "    </tr>\n",
       "    <tr>\n",
       "      <th>724</th>\n",
       "      <td>2022-06-25</td>\n",
       "      <td>Clover Wang</td>\n",
       "      <td>报价下单</td>\n",
       "      <td>PO WHSKBEANIES062422  null</td>\n",
       "      <td>P</td>\n",
       "      <td>Email</td>\n",
       "      <td>NaN</td>\n",
       "      <td>BLACK WOOL BEANIE CAP</td>\n",
       "      <td>50</td>\n",
       "      <td>rok@warmachinemerch.com</td>\n",
       "      <td>NaN</td>\n",
       "      <td>War Machine Marketing</td>\n",
       "      <td>310-991-2800</td>\n",
       "      <td>NaN</td>\n",
       "      <td>NaN</td>\n",
       "      <td>NaN</td>\n",
       "    </tr>\n",
       "    <tr>\n",
       "      <th>725</th>\n",
       "      <td>2022-06-25</td>\n",
       "      <td>Tori Lee</td>\n",
       "      <td>客户直接联系</td>\n",
       "      <td>P22062576</td>\n",
       "      <td>P</td>\n",
       "      <td>Email</td>\n",
       "      <td>NaN</td>\n",
       "      <td>Beach Towel</td>\n",
       "      <td>180/60</td>\n",
       "      <td>brettc@mypromoink.com</td>\n",
       "      <td>NaN</td>\n",
       "      <td>Promo LMk LLC</td>\n",
       "      <td>435-671-8584</td>\n",
       "      <td>NaN</td>\n",
       "      <td>NaN</td>\n",
       "      <td>NaN</td>\n",
       "    </tr>\n",
       "  </tbody>\n",
       "</table>\n",
       "<p>726 rows × 16 columns</p>\n",
       "</div>"
      ],
      "text/plain": [
       "           Date        Sales        Remarks                   Inquiry # RP  \\\n",
       "0    2022-06-20    Terry Chu  P22052676询价下单              PO# 7372  null  P   \n",
       "1    2022-06-20  Clover Wang        Email下单              PO#40308  null  P   \n",
       "2    2022-06-20   Meggie Fan            NaN                   P22061906  P   \n",
       "3    2022-06-20    Jane Zhou            NaN                   P22061907  P   \n",
       "4    2022-06-20     Tori Lee        客户直接发PO              PO 18135  null  P   \n",
       "..          ...          ...            ...                         ... ..   \n",
       "721  2022-06-25     Karen Li         客户直接联系                   P22062572  P   \n",
       "722  2022-06-25  Selina Gong         客户直接联系                   P22062573  P   \n",
       "723  2022-06-25  Daniel Chen         客户直接联系                   P22062574  P   \n",
       "724  2022-06-25  Clover Wang           报价下单  PO WHSKBEANIES062422  null  P   \n",
       "725  2022-06-25     Tori Lee         客户直接联系                   P22062576  P   \n",
       "\n",
       "    ESP/SAGE/DC/Website/Other Item NO.  \\\n",
       "0                       Email   202452   \n",
       "1                       Email   120888   \n",
       "2                       Email   129114   \n",
       "3                       Email      NaN   \n",
       "4                       Email   202242   \n",
       "..                        ...      ...   \n",
       "721                     Email   123915   \n",
       "722                     Email      NaN   \n",
       "723                     Email   202097   \n",
       "724                     Email      NaN   \n",
       "725                     Email      NaN   \n",
       "\n",
       "                                          Item Name     Quantity  \\\n",
       "0                                         Mouse Pad         1000   \n",
       "1                      10\" Folding Flyer With Pouch          500   \n",
       "2     Sports Drawstring Backpack with Zipper Pocket         1100   \n",
       "3                                  15 oz photo mugs  144-288-500   \n",
       "4                  Flip Open PU Leather Luggage Tag          300   \n",
       "..                                              ...          ...   \n",
       "721  Drawstring bag/bottle/Single Pocket Coin Pouch         1600   \n",
       "722                                  drawstring bag            /   \n",
       "723                                         Lanyard            /   \n",
       "724                           BLACK WOOL BEANIE CAP           50   \n",
       "725                                     Beach Towel       180/60   \n",
       "\n",
       "                                                 Email Contact Name  \\\n",
       "0                             Gloriabrayer@comcast.net          NaN   \n",
       "1                                jill@mprintspromo.com          NaN   \n",
       "2                         jay@universitysilkscreen.com          NaN   \n",
       "3    mail@wlcpromotions.com/\\t wlc.promotionalmarke...          NaN   \n",
       "4                          cindy.beierle@ideasource.ca          NaN   \n",
       "..                                                 ...          ...   \n",
       "721                               ara@raptclothing.com          NaN   \n",
       "722                              sales@fxpromowear.com          NaN   \n",
       "723                      Robyn@abracadabraprinting.com          NaN   \n",
       "724                            rok@warmachinemerch.com          NaN   \n",
       "725                              brettc@mypromoink.com          NaN   \n",
       "\n",
       "                              Company Name           Tel.  Fax  Website  Add.  \n",
       "0                        Iconic Promotions   954-385-4771  NaN      NaN   NaN  \n",
       "1             M'Prints Promtional Products   601.553.1522  NaN      NaN   NaN  \n",
       "2                    University Silkscreen   405-366-8256  NaN      NaN   NaN  \n",
       "3                           WLC Promotions   562-443-1367  NaN      NaN   NaN  \n",
       "4    Ideasource Recognition & Rewards Inc.   403-912-9161  NaN      NaN   NaN  \n",
       "..                                     ...            ...  ...      ...   ...  \n",
       "721                      Rapt Clothing Inc   323-697-3733  NaN      NaN   NaN  \n",
       "722                            Fxpromowear   206-383-1861  NaN      NaN   NaN  \n",
       "723                   Abracadabra Printing  206-3473-9087  NaN      NaN   NaN  \n",
       "724                  War Machine Marketing   310-991-2800  NaN      NaN   NaN  \n",
       "725                          Promo LMk LLC   435-671-8584  NaN      NaN   NaN  \n",
       "\n",
       "[726 rows x 16 columns]"
      ]
     },
     "execution_count": 53,
     "metadata": {},
     "output_type": "execute_result"
    }
   ],
   "source": [
    "inquiry_output_data"
   ]
  },
  {
   "cell_type": "code",
   "execution_count": 54,
   "id": "954dd3ba",
   "metadata": {
    "ExecuteTime": {
     "end_time": "2022-06-28T01:50:02.132712Z",
     "start_time": "2022-06-28T01:50:02.113095Z"
    }
   },
   "outputs": [],
   "source": [
    "inquiry_output_data.rename(columns={\n",
    "    'Date': '日期',\n",
    "    'Sales': '业务员0',\n",
    "    'Inquiry #': '询盘号',\n",
    "    'ESP/SAGE/DC/Website/Other': '询盘来源',\n",
    "    'Item NO.': '产品编号',\n",
    "    'Item Name': '产品名称',\n",
    "    'Quantity': '询盘数量（PCS）',\n",
    "    'Email': '客户邮箱',\n",
    "    'Contact Name': '客户名',\n",
    "    'Company Name': '客户公司名',\n",
    "    'Tel.': '客户电话'\n",
    "},\n",
    "                           inplace=True)"
   ]
  },
  {
   "cell_type": "code",
   "execution_count": 55,
   "id": "bd45b3d1",
   "metadata": {
    "ExecuteTime": {
     "end_time": "2022-06-28T01:50:09.300053Z",
     "start_time": "2022-06-28T01:50:09.290081Z"
    }
   },
   "outputs": [],
   "source": [
    "inquiry_output_data['年份'] = '2022'\n",
    "inquiry_output_data['月份'] = '6'\n",
    "inquiry_output_data['年月'] = '2022/6/1'\n",
    "inquiry_output_data['周'] = '第4周'"
   ]
  },
  {
   "cell_type": "code",
   "execution_count": 56,
   "id": "23eed1fb",
   "metadata": {
    "ExecuteTime": {
     "end_time": "2022-06-28T01:50:10.244212Z",
     "start_time": "2022-06-28T01:50:10.202164Z"
    }
   },
   "outputs": [],
   "source": [
    "inquiry_man = pd.read_excel('./辅助数据/询盘表业务员.xlsx')"
   ]
  },
  {
   "cell_type": "code",
   "execution_count": 57,
   "id": "f97e0668",
   "metadata": {
    "ExecuteTime": {
     "end_time": "2022-06-28T01:50:10.722525Z",
     "start_time": "2022-06-28T01:50:10.713419Z"
    }
   },
   "outputs": [],
   "source": [
    "inquiry_output_data = pd.merge(inquiry_output_data, inquiry_man, on='业务员0', how='left')"
   ]
  },
  {
   "cell_type": "code",
   "execution_count": 58,
   "id": "442f3394",
   "metadata": {
    "ExecuteTime": {
     "end_time": "2022-06-28T01:50:11.578924Z",
     "start_time": "2022-06-28T01:50:11.543020Z"
    },
    "scrolled": true
   },
   "outputs": [],
   "source": [
    "inquiry_header = pd.read_excel('./辅助数据/询盘表头.xlsx')"
   ]
  },
  {
   "cell_type": "code",
   "execution_count": 59,
   "id": "681d9632",
   "metadata": {
    "ExecuteTime": {
     "end_time": "2022-06-28T01:50:12.385465Z",
     "start_time": "2022-06-28T01:50:12.377487Z"
    }
   },
   "outputs": [],
   "source": [
    "inquiry_output_data['是否新客户'] = inquiry_output_data[\n",
    "    '二级产品类目'] = inquiry_output_data['产品线'] = inquiry_output_data[\n",
    "        '产品类型'] = inquiry_output_data['$单价'] = inquiry_output_data[\n",
    "            '成本价（￥）'] = inquiry_output_data[\n",
    "                '询盘状态（是否下单）'] = inquiry_output_data['PI'] = ''"
   ]
  },
  {
   "cell_type": "code",
   "execution_count": 60,
   "id": "59c9bbad",
   "metadata": {
    "ExecuteTime": {
     "end_time": "2022-06-28T01:50:12.926688Z",
     "start_time": "2022-06-28T01:50:12.914721Z"
    }
   },
   "outputs": [],
   "source": [
    "inquiry_output_data = inquiry_output_data[list(inquiry_header)]"
   ]
  },
  {
   "cell_type": "code",
   "execution_count": 61,
   "id": "40cdffc8",
   "metadata": {
    "ExecuteTime": {
     "end_time": "2022-06-28T01:50:13.480823Z",
     "start_time": "2022-06-28T01:50:13.471135Z"
    }
   },
   "outputs": [],
   "source": [
    "inquiry_output_data = inquiry_output_data[inquiry_output_data['业务员'].notnull()]"
   ]
  },
  {
   "cell_type": "code",
   "execution_count": 62,
   "id": "804e7042",
   "metadata": {
    "ExecuteTime": {
     "end_time": "2022-06-28T01:50:14.358585Z",
     "start_time": "2022-06-28T01:50:14.048207Z"
    }
   },
   "outputs": [],
   "source": [
    "inquiry_output_data.to_excel('询盘导出表维护结果.xlsx', index=False)"
   ]
  },
  {
   "cell_type": "code",
   "execution_count": null,
   "id": "2958eeaf",
   "metadata": {},
   "outputs": [],
   "source": []
  }
 ],
 "metadata": {
  "kernelspec": {
   "display_name": "Python 3 (ipykernel)",
   "language": "python",
   "name": "python3"
  },
  "language_info": {
   "codemirror_mode": {
    "name": "ipython",
    "version": 3
   },
   "file_extension": ".py",
   "mimetype": "text/x-python",
   "name": "python",
   "nbconvert_exporter": "python",
   "pygments_lexer": "ipython3",
   "version": "3.9.7"
  },
  "toc": {
   "base_numbering": 1,
   "nav_menu": {},
   "number_sections": true,
   "sideBar": true,
   "skip_h1_title": false,
   "title_cell": "Table of Contents",
   "title_sidebar": "Contents",
   "toc_cell": false,
   "toc_position": {},
   "toc_section_display": true,
   "toc_window_display": true
  },
  "varInspector": {
   "cols": {
    "lenName": 16,
    "lenType": 16,
    "lenVar": 40
   },
   "kernels_config": {
    "python": {
     "delete_cmd_postfix": "",
     "delete_cmd_prefix": "del ",
     "library": "var_list.py",
     "varRefreshCmd": "print(var_dic_list())"
    },
    "r": {
     "delete_cmd_postfix": ") ",
     "delete_cmd_prefix": "rm(",
     "library": "var_list.r",
     "varRefreshCmd": "cat(var_dic_list()) "
    }
   },
   "types_to_exclude": [
    "module",
    "function",
    "builtin_function_or_method",
    "instance",
    "_Feature"
   ],
   "window_display": false
  }
 },
 "nbformat": 4,
 "nbformat_minor": 5
}

{
 "cells": [
  {
   "cell_type": "markdown",
   "metadata": {},
   "source": [
    "# 预处理"
   ]
  },
  {
   "cell_type": "markdown",
   "metadata": {},
   "source": [
    "## 导包"
   ]
  },
  {
   "cell_type": "code",
   "execution_count": null,
   "metadata": {
    "ExecuteTime": {
     "end_time": "2022-04-02T01:48:50.593430Z",
     "start_time": "2022-04-02T01:48:50.586478Z"
    },
    "cell_style": "center"
   },
   "outputs": [],
   "source": [
    "import pandas as pd\n",
    "import numpy as np\n",
    "import re\n",
    "import os\n",
    "import time\n",
    "import math\n",
    "import datetime"
   ]
  },
  {
   "cell_type": "markdown",
   "metadata": {},
   "source": [
    "## 通用API"
   ]
  },
  {
   "cell_type": "code",
   "execution_count": null,
   "metadata": {
    "ExecuteTime": {
     "end_time": "2022-04-02T01:48:50.608390Z",
     "start_time": "2022-04-02T01:48:50.595425Z"
    },
    "code_folding": []
   },
   "outputs": [],
   "source": [
    "# 通用api\n",
    "# 清除字段首尾的空白字符\n",
    "def remove_space(x):\n",
    "    if type(x) == str:\n",
    "        x = x.strip()\n",
    "        if len(x) == 0:\n",
    "            return np.NaN\n",
    "    return x\n",
    "\n",
    "# 更新二级码\n",
    "def update_table(update_df):\n",
    "    f_data.loc[:, WH_HOUSE_USE] = f_data.loc[:, WH_HOUSE_USE].combine_first(update_df[WH_HOUSE_USE])\n",
    "\n",
    "#读取原始数据\n",
    "def get_r_data(r_data_file_path):\n",
    "    result = []\n",
    "    file_path = os.listdir(r_data_file_path)\n",
    "    for path in file_path:\n",
    "        data = pd.read_excel(r_data_file_path + path, dtype=object)\n",
    "        result.append(data)\n",
    "    r_data = pd.concat(result, ignore_index=True)\n",
    "    r_data.index = r_data[HOUSE_ID]\n",
    "    r_data.replace(r\"\\N\", np.NaN, inplace=True)\n",
    "#     r_data[HOUSE_USE] = r_data[HOUSE_USE].astype(int)\n",
    "    r_data = r_data.loc[:, ~r_data.columns.str.contains('Unnamed')]\n",
    "    return r_data\n",
    "\n",
    "#读取过程数据\n",
    "def get_data(file_path, dir_name):\n",
    "    result = []\n",
    "    for path in file_path:\n",
    "        data = pd.read_excel(dir_name + path, dtype=object)\n",
    "        result.append(data)\n",
    "    return pd.concat(result, ignore_index=True)\n",
    "\n",
    "#更新幢号、所在层、地上层\n",
    "def update_code(FILE_DIR,DATA,code):\n",
    "    if os.listdir(FILE_DIR):\n",
    "        file_path = os.listdir(FILE_DIR)\n",
    "        file_data = get_data(file_path, FILE_DIR)\n",
    "        file_data.index = file_data[HOUSE_ID]\n",
    "        DATA.loc[file_data[HOUSE_ID],\n",
    "            code] = file_data[code]\n",
    "        print (code+'已更新')\n",
    "    else:\n",
    "        print(code+'无需更新')\n",
    "        \n",
    "#导出人工清洗数据\n",
    "def output_ex_data(data, fields, path, code):\n",
    "    print(code+\" 总数据量 \"+str(len(data)))\n",
    "    if len(data) > 0:\n",
    "        data = data[fields]\n",
    "        data.to_excel(path, index=False)\n",
    "        \n",
    "#合并问题数据、字典之外数据\n",
    "def merge_ex_house_use(FILE_DIR,f_data):\n",
    "    if os.listdir(FILE_DIR):\n",
    "        ex_house_use_file_path = os.listdir(FILE_DIR)\n",
    "        ex_house_use_data = get_data(\n",
    "        ex_house_use_file_path, FILE_DIR)\n",
    "        ex_house_use_data.index = ex_house_use_data[HOUSE_ID]\n",
    "        f_data.loc[ex_house_use_data[HOUSE_ID], WH_HOUSE_USE] = ex_house_use_data[WH_HOUSE_USE]\n",
    "        print('二级码已合并补充')\n",
    "    else:\n",
    "        print('二级码无需合补充')\n",
    "    return f_data"
   ]
  },
  {
   "cell_type": "markdown",
   "metadata": {},
   "source": [
    "## 城市设置"
   ]
  },
  {
   "cell_type": "code",
   "execution_count": null,
   "metadata": {
    "ExecuteTime": {
     "end_time": "2022-04-02T01:48:50.623379Z",
     "start_time": "2022-04-02T01:48:50.610386Z"
    }
   },
   "outputs": [],
   "source": [
    "CITY_CODE = 1"
   ]
  },
  {
   "cell_type": "code",
   "execution_count": null,
   "metadata": {
    "ExecuteTime": {
     "end_time": "2022-04-02T01:48:50.639336Z",
     "start_time": "2022-04-02T01:48:50.625346Z"
    },
    "code_folding": []
   },
   "outputs": [],
   "source": [
    "# 城市选择\n",
    "FORE_CITY = ['aaa']\n",
    "if CITY_CODE == 0:\n",
    "    CITY = 'b'\n",
    "else:\n",
    "    CITY = 'c'"
   ]
  },
  {
   "cell_type": "markdown",
   "metadata": {},
   "source": [
    "## 全局设置"
   ]
  },
  {
   "cell_type": "code",
   "execution_count": null,
   "metadata": {
    "ExecuteTime": {
     "end_time": "2022-04-02T01:48:50.654267Z",
     "start_time": "2022-04-02T01:48:50.641302Z"
    },
    "code_folding": []
   },
   "outputs": [],
   "source": [
    "# 城市划分\n",
    "if CITY in FORE_CITY :\n",
    "    DIVIDE = 'xx'\n",
    "else:\n",
    "    DIVIDE = 'xx'\n"
   ]
  },
  {
   "cell_type": "code",
   "execution_count": null,
   "metadata": {
    "ExecuteTime": {
     "end_time": "2022-04-02T01:48:50.670266Z",
     "start_time": "2022-04-02T01:48:50.656263Z"
    },
    "code_folding": []
   },
   "outputs": [],
   "source": [
    "#设置输出的行数量\n",
    "pd.set_option('display.max_columns', None)\n",
    "pd.set_option('display.max_rows', 100)"
   ]
  },
  {
   "cell_type": "code",
   "execution_count": null,
   "metadata": {
    "ExecuteTime": {
     "end_time": "2022-04-02T01:48:50.686183Z",
     "start_time": "2022-04-02T01:48:50.672221Z"
    },
    "code_folding": []
   },
   "outputs": [],
   "source": [
    "# 字段设置\n",
    "HOUSE_ID = '1'\n",
    "HOUSE_CODE ='2'\n",
    "WH_HOUSE_USE = '3'\n",
    "COMMUNITY_NAME='4'\n",
    "HOUSE_LOCATE = '5'\n",
    "BUILD_NB='6'\n",
    "ON_LAYER = '7'\n",
    "ABOVE_GROUND_FLOOR='8'\n",
    "BLANK_PRICE='9(元/㎡)'\n",
    "HOUSE_AREA = '10'\n",
    "HOUSE_NB='11'\n",
    "NEW_BUILD_NB = '12'\n",
    "NEW_ON_LAYER = '13'\n",
    "NEW_ABOVE_GROUND_FLOOR = '14'\n",
    "DISTRICT = '15'\n",
    "\n",
    "if DIVIDE == 'zz':\n",
    "    HOUSE_USE = '111'\n",
    "    DEV_CITY = 'jx'\n",
    "elif DIVIDE == 'xx':\n",
    "    HOUSE_USE = '111'\n",
    "    DEV_CITY = 'jh'"
   ]
  },
  {
   "cell_type": "code",
   "execution_count": null,
   "metadata": {
    "ExecuteTime": {
     "end_time": "2022-04-02T01:48:50.701143Z",
     "start_time": "2022-04-02T01:48:50.690172Z"
    },
    "code_folding": []
   },
   "outputs": [],
   "source": [
    "# 导出字段设置\n",
    "# 导出商业办公任务所需字段\n",
    "COMMERCIAL_AND_OFFICE_FIELDS = [HOUSE_ID, HOUSE_CODE, HOUSE_USE, DISTRICT,\n",
    "                                HOUSE_AREA, HOUSE_LOCATE, COMMUNITY_NAME, BUILD_NB, ON_LAYER, HOUSE_NB, WH_HOUSE_USE]\n",
    "# 导出问题数据、非商业办公住宅数据所需字段\n",
    "PROB_FIELDS = [HOUSE_ID, HOUSE_CODE, HOUSE_USE, DISTRICT,\n",
    "               HOUSE_AREA, HOUSE_LOCATE, COMMUNITY_NAME, BUILD_NB, ON_LAYER, HOUSE_NB, NEW_BUILD_NB, NEW_ON_LAYER, NEW_ABOVE_GROUND_FLOOR, WH_HOUSE_USE]\n",
    "\n",
    "# 导出幢号清洗所需字段\n",
    "BUILD_NB_TASK_FIELDS = [HOUSE_ID, HOUSE_CODE, DISTRICT, HOUSE_LOCATE,\n",
    "                        HOUSE_AREA, COMMUNITY_NAME, HOUSE_NB, BUILD_NB, NEW_BUILD_NB]\n",
    "# 导出所在层清洗所需字段\n",
    "ON_LAYER_TASK_FIELDS = [HOUSE_ID, HOUSE_CODE, DISTRICT, HOUSE_LOCATE,\n",
    "                        HOUSE_AREA, COMMUNITY_NAME, HOUSE_NB, ON_LAYER, NEW_ON_LAYER]\n",
    "# 导出地上层清洗所需字段\n",
    "ABOVE_GROUND_TASK_FIELDS = [HOUSE_ID, HOUSE_CODE, DISTRICT, HOUSE_LOCATE, HOUSE_USE, HOUSE_AREA,\n",
    "                            ON_LAYER, NEW_ON_LAYER, HOUSE_NB, COMMUNITY_NAME, BUILD_NB, NEW_BUILD_NB, ABOVE_GROUND_FLOOR, NEW_ABOVE_GROUND_FLOOR]"
   ]
  },
  {
   "cell_type": "code",
   "execution_count": null,
   "metadata": {
    "ExecuteTime": {
     "end_time": "2022-04-02T01:48:50.717128Z",
     "start_time": "2022-04-02T01:48:50.704164Z"
    },
    "code_folding": []
   },
   "outputs": [],
   "source": [
    "# 日期设置\n",
    "dt = datetime.datetime.now()\n",
    "date = datetime.date.today()\n",
    "DATE ='{}-{}-{}'.format(date.year,date.month,date.day)\n",
    "EXPORT_DATE = time.strftime(\"%Y%m%d\", time.localtime())\n",
    "MONTH = str(date.month) + '月'\n",
    "print('月份:', MONTH, '日期:', DATE)"
   ]
  },
  {
   "cell_type": "code",
   "execution_count": null,
   "metadata": {
    "ExecuteTime": {
     "end_time": "2022-04-02T01:48:50.750014Z",
     "start_time": "2022-04-02T01:48:50.719094Z"
    },
    "code_folding": []
   },
   "outputs": [],
   "source": [
    "# 文件路径设置\n",
    "#原始数据路径\n",
    "R_DATA_FILE_PATH = MONTH + '/'+DATE+'/'+CITY+'/原数据/'\n",
    "\n",
    "#人工清洗数据路径\n",
    "COMMERCIAL_TASK_FILE_PATH = MONTH + '/' + DATE+'/'+CITY + '/'+CITY+'-商业数据-' +'-'+DATE+'.xlsx'\n",
    "OFFICE_TASK_FILE_PATH = MONTH + '/'+DATE+'/'+CITY +  '/'+CITY+'-办公数据-' +'-'+DATE+'.xlsx'\n",
    "EX_TASK_FILE_PATH = MONTH + '/'+DATE+'/'+CITY+'/' + CITY+'-非商业办公住宅数据-' +'-'+DATE+'.xlsx'\n",
    "DATA_88_TASK_FILE_PATH = MONTH + '/'+DATE+'/'+CITY+'/' + CITY+'-住宅问题数据-' +'-'+DATE+'.xlsx'\n",
    "\n",
    "#幢号、所在层、地上层\n",
    "BUILD_NB_TASK_FILE_PATH = MONTH + '/'+DATE+'/'+CITY+'/'+CITY+'-幢号人工清洗.xlsx'\n",
    "ON_LAYER_TASK_FILE_PATH =MONTH + '/'+DATE+'/'+CITY+'/'+CITY+'-所在层人工清洗.xlsx'\n",
    "ABOVE_GROUND_FLOOR_TASK_FILE_PATH = MONTH + '/' + DATE+'/'+CITY+'/'+CITY+'-地上层人工清洗.xlsx'\n",
    "\n",
    "#清洗结果导出\n",
    "DEV_RESULT_FILE_PATH = MONTH + '/'+DATE+'/房屋清洗结果-开发-'+DATE + '/' + CITY + '/'+EXPORT_DATE+'-dsp_house_'+DEV_CITY+'_wh.xlsx'\n",
    "SPLIT_DEV_RESULT_FILE_PATH =MONTH + '/'+DATE+'/房屋清洗结果-开发-'+DATE + '/' + CITY + '/'+EXPORT_DATE+'-dsp_house_'+DEV_CITY+'_wh-'\n",
    "RESULT_FILE_PATH = MONTH + '/'+DATE+'/房屋清洗结果-'+DATE + '/' + CITY + '/'+CITY+'-清洗结果-'+DATE+'.xlsx'\n",
    "# CONCAT_RESULT_FILE_PATH = 'H:/code/日常清洗房屋新增/清洗结果/'+CITY +\\\n",
    "#     '/' + str(dt.month) + '月' + '/'+CITY+'-清洗结果-'+DATE+'.xlsx'\n",
    "\n",
    "#新建文件夹路径\n",
    "MONTH_PATH = './' + MONTH\n",
    "COMMERCIAL_OFFICE_RESULT_DIR = MONTH + '/'+DATE+'/'+CITY+'/'+'本次其他结果/'\n",
    "PROB_RESULT_DIR = MONTH + '/' + DATE+'/'+CITY+'/'+'问题数据/'\n",
    "BUILD_NB_DIR = MONTH + '/'+DATE+'/'+CITY+'/'+'build_nb/'\n",
    "ON_LAYER_DIR =MONTH + '/'+DATE+'/'+CITY+'/'+'on_layer/'\n",
    "AB_FLOOR_DIR =MONTH + '/'+DATE+'/'+CITY+'/'+'ab_floor/'\n",
    "RESULT_DIR =MONTH + '/'+DATE+'/房屋清洗结果-'+DATE+'/' + CITY + '/'\n",
    "DEV_RESULT_DIR = MONTH + '/'+DATE+'/房屋清洗结果-开发-'+DATE+'/' + CITY + '/'\n",
    "# CONCAT_RESULT_DIR = 'H:/code/日常清洗房屋新增/清洗结果/'+CITY+'/' + str(dt.month) + '月'  # 存放合并数据的文件夹\n",
    "\n",
    "DIRS = [MONTH_PATH, COMMERCIAL_OFFICE_RESULT_DIR, PROB_RESULT_DIR,\n",
    "        BUILD_NB_DIR, ON_LAYER_DIR, AB_FLOOR_DIR, RESULT_DIR, \n",
    "        R_DATA_FILE_PATH, DEV_RESULT_DIR]\n",
    "\n",
    "# 批量创建文件夹\n",
    "for output_dir in DIRS:\n",
    "    if not os.path.exists(output_dir):\n",
    "        os.makedirs(output_dir)"
   ]
  },
  {
   "cell_type": "code",
   "execution_count": null,
   "metadata": {
    "ExecuteTime": {
     "end_time": "2022-04-02T01:48:50.766966Z",
     "start_time": "2022-04-02T01:48:50.754002Z"
    },
    "code_folding": []
   },
   "outputs": [],
   "source": [
    "#房屋用途划分\n",
    "if DIVIDE == 'xx':\n",
    "    ghyt_10  = ['111']\n",
    "    ghyt_123 = ['111']\n",
    "    ghyt_126 =['111']\n",
    "    ex_ghyt = ghyt_1+ghyt_12+ghyt_16\n",
    "elif DIVIDE == '11':\n",
    "    ghyt_10  = ['111']\n",
    "    ghyt_123 = ['3111']\n",
    "    ghyt_126 =['111']\n",
    "    ex_ghyt = ['111']    "
   ]
  },
  {
   "cell_type": "markdown",
   "metadata": {},
   "source": [
    "# 数据整理"
   ]
  },
  {
   "cell_type": "markdown",
   "metadata": {},
   "source": [
    "## 导入数据"
   ]
  },
  {
   "cell_type": "code",
   "execution_count": null,
   "metadata": {
    "ExecuteTime": {
     "end_time": "2022-04-02T01:53:20.145078Z",
     "start_time": "2022-04-02T01:53:20.010127Z"
    },
    "scrolled": true
   },
   "outputs": [],
   "source": [
    "r_data = get_r_data(R_DATA_FILE_PATH)\n",
    "len(r_data)"
   ]
  },
  {
   "cell_type": "code",
   "execution_count": null,
   "metadata": {
    "ExecuteTime": {
     "end_time": "2022-04-02T01:53:20.345853Z",
     "start_time": "2022-04-02T01:53:20.291001Z"
    },
    "code_folding": []
   },
   "outputs": [],
   "source": [
    "# 拷贝原始数据\n",
    "f_data = r_data.copy()\n",
    "f_data = f_data[f_data[HOUSE_CODE].notnull()]\n",
    "f_data.index = f_data[HOUSE_ID]\n",
    "f_data[WH_HOUSE_USE] = np.NaN\n",
    "f_data"
   ]
  },
  {
   "cell_type": "code",
   "execution_count": null,
   "metadata": {
    "ExecuteTime": {
     "end_time": "2022-04-02T01:53:20.784497Z",
     "start_time": "2022-04-02T01:53:20.771534Z"
    },
    "scrolled": true
   },
   "outputs": [],
   "source": [
    "f_data[HOUSE_USE].groupby(f_data[HOUSE_USE]).count()"
   ]
  },
  {
   "cell_type": "markdown",
   "metadata": {},
   "source": [
    "## 商办数据导出"
   ]
  },
  {
   "cell_type": "code",
   "execution_count": null,
   "metadata": {
    "ExecuteTime": {
     "end_time": "2022-04-02T01:53:21.143707Z",
     "start_time": "2022-04-02T01:53:21.137722Z"
    }
   },
   "outputs": [],
   "source": [
    "data_14 = f_data[f_data[HOUSE_USE].isin(ghyt_14)].copy()\n",
    "data_18 = f_data[(f_data[HOUSE_USE].isin(ghyt_18))].copy()"
   ]
  },
  {
   "cell_type": "code",
   "execution_count": null,
   "metadata": {
    "ExecuteTime": {
     "end_time": "2022-04-02T01:53:21.347536Z",
     "start_time": "2022-04-02T01:53:21.330610Z"
    }
   },
   "outputs": [],
   "source": [
    "output_ex_data(data_14,COMMERCIAL_AND_OFFICE_FIELDS, COMMERCIAL_TASK_FILE_PATH, '商业')\n",
    "output_ex_data(data_18,COMMERCIAL_AND_OFFICE_FIELDS, OFFICE_TASK_FILE_PATH, '办公')"
   ]
  },
  {
   "cell_type": "markdown",
   "metadata": {},
   "source": [
    "## 住宅数据处理"
   ]
  },
  {
   "cell_type": "code",
   "execution_count": null,
   "metadata": {
    "ExecuteTime": {
     "end_time": "2022-04-02T01:53:21.913176Z",
     "start_time": "2022-04-02T01:53:21.906195Z"
    }
   },
   "outputs": [],
   "source": [
    "data_1 = f_data[f_data[HOUSE_USE].isin(ghyt_1)].copy()\n",
    "len(data_1)"
   ]
  },
  {
   "cell_type": "markdown",
   "metadata": {},
   "source": [
    "# 数据清洗"
   ]
  },
  {
   "cell_type": "markdown",
   "metadata": {},
   "source": [
    "## 房屋小区名称清洗"
   ]
  },
  {
   "cell_type": "code",
   "execution_count": null,
   "metadata": {
    "ExecuteTime": {
     "end_time": "2022-04-02T01:53:22.649473Z",
     "start_time": "2022-04-02T01:53:22.634486Z"
    }
   },
   "outputs": [],
   "source": [
    "def parse_community_name(x):\n",
    "    if type(x) == str:\n",
    "        x = x.strip()\n",
    "        r_path = '(.*?)[\\d|A-Z|a-z、~-]+?(幢|号楼|#|室).*?'\n",
    "        r = re.compile(r_path, re.S).search(x)\n",
    "        left_path = '(衢州市|衢江区|柯城区|湖州市|吴兴区|南浔区|台州市|黄岩区|椒江区|绍兴市|嵊州市|台州市|玉环市|黄岩区|路桥区|温岭市|嘉兴市|南湖区|秀洲区|桐乡市|街道|镇|县)(.*)'\n",
    "        left_special = re.compile(left_path, re.S).search(x)\n",
    "        num_end = '(.*)\\d+$'\n",
    "        num = re.compile(num_end, re.S).search(x)\n",
    "        if r:\n",
    "            if len(r.group(1)) > 0:\n",
    "                left = re.compile(left_path, re.S).search(r.group(1))\n",
    "                if left:\n",
    "                    if len(left.group(2)) > 0:\n",
    "                        return left.group(2)\n",
    "                return r.group(1)\n",
    "        if left_special:\n",
    "            if len(left_special.group(2)) > 0:\n",
    "                return left_special.group(2)\n",
    "        if num:\n",
    "            if len(num.group(1)) > 0:\n",
    "                return num.group(1)\n",
    "        return x"
   ]
  },
  {
   "cell_type": "code",
   "execution_count": null,
   "metadata": {
    "ExecuteTime": {
     "end_time": "2022-04-02T01:53:22.884458Z",
     "start_time": "2022-04-02T01:53:22.850522Z"
    }
   },
   "outputs": [],
   "source": [
    "data_10['房屋小区名称'] = data_10[COMMUNITY_NAME].apply(parse_community_name)\n",
    "data_10['房屋小区名称'] = data_10.loc[:, '房屋小区名称'].combine_first(\n",
    "    data_10[HOUSE_LOCATE].apply(parse_community_name))\n",
    "data_10['房屋小区名称'] = data_10.loc[:, '房屋小区名称'].combine_first(\n",
    "    data_10['房屋小区名称'].apply(parse_community_name))\n",
    "data_10['房屋小区名称'].drop_duplicates()"
   ]
  },
  {
   "cell_type": "code",
   "execution_count": null,
   "metadata": {
    "ExecuteTime": {
     "end_time": "2022-04-02T01:53:23.056030Z",
     "start_time": "2022-04-02T01:53:23.042069Z"
    }
   },
   "outputs": [],
   "source": [
    "data_10[data_10['房屋小区名称'] == '']"
   ]
  },
  {
   "cell_type": "markdown",
   "metadata": {},
   "source": [
    "## 幢号清洗"
   ]
  },
  {
   "cell_type": "code",
   "execution_count": null,
   "metadata": {
    "ExecuteTime": {
     "end_time": "2022-04-02T01:53:23.491582Z",
     "start_time": "2022-04-02T01:53:23.474625Z"
    },
    "code_folding": []
   },
   "outputs": [],
   "source": [
    "def parse_unit(x):\n",
    "    if type(x) == str:\n",
    "        x = x.strip()\n",
    "        path = re.compile('.*?([A-Z|\\d+]+?)(幢|号楼|#).*?')\n",
    "        r = path.search(x)\n",
    "        if r:\n",
    "            return r.group(1)\n",
    "    return np.NaN"
   ]
  },
  {
   "cell_type": "code",
   "execution_count": null,
   "metadata": {
    "ExecuteTime": {
     "end_time": "2022-04-02T01:53:23.740479Z",
     "start_time": "2022-04-02T01:53:23.722501Z"
    }
   },
   "outputs": [],
   "source": [
    "data_10.loc[:, '幢号-清洗后'] = data_10[HOUSE_LOCATE].apply(parse_unit)\n",
    "data_10.loc[:, '幢号-清洗后'] = data_10['幢号-清洗后'].combine_first(data_10[BUILD_NB].apply(parse_unit))\n",
    "data_10['幢号-清洗后'] = data_10['幢号-清洗后']\n",
    "data_10['幢号-清洗后'].drop_duplicates()"
   ]
  },
  {
   "cell_type": "code",
   "execution_count": null,
   "metadata": {
    "ExecuteTime": {
     "end_time": "2022-04-02T01:53:23.977862Z",
     "start_time": "2022-04-02T01:53:23.953926Z"
    }
   },
   "outputs": [],
   "source": [
    "# 导出幢号\n",
    "build_nb = data_10[data_10[BUILD_NB] != data_10['幢号-清洗后']][[HOUSE_ID, HOUSE_CODE, DISTRICT, COMMUNITY_NAME, HOUSE_LOCATE, HOUSE_USE, HOUSE_AREA,\n",
    "                                                          BLANK_PRICE,BUILD_NB, HOUSE_NB, '幢号-清洗后']]\n",
    "if build_nb[BUILD_NB].isnull().all():\n",
    "    print('原数据幢号为空')\n",
    "else:\n",
    "    output_ex_data(build_nb,BUILD_NB_TASK_FIELDS, BUILD_NB_TASK_FILE_PATH, '幢号')\n",
    "build_nb.head(5)"
   ]
  },
  {
   "cell_type": "code",
   "execution_count": null,
   "metadata": {
    "ExecuteTime": {
     "end_time": "2022-04-02T01:53:24.228082Z",
     "start_time": "2022-04-02T01:53:24.211099Z"
    }
   },
   "outputs": [],
   "source": [
    "# 更新清洗后的幢号\n",
    "update_code(BUILD_NB_DIR,data_10,'幢号-清洗后')\n",
    "data_10['幢号-清洗后'].drop_duplicates()"
   ]
  },
  {
   "cell_type": "markdown",
   "metadata": {},
   "source": [
    "## 所在层清洗"
   ]
  },
  {
   "cell_type": "code",
   "execution_count": null,
   "metadata": {
    "ExecuteTime": {
     "end_time": "2022-04-02T01:53:24.775621Z",
     "start_time": "2022-04-02T01:53:24.746670Z"
    },
    "code_folding": []
   },
   "outputs": [],
   "source": [
    "# 所在层清洗\n",
    "def split_on_layer(x):\n",
    "    x = str(x)\n",
    "    path = re.compile('.*?(\\d+)[0-9](\\d+?)室')\n",
    "    r = path.search(x)\n",
    "    if r:\n",
    "        return r.group(1)\n",
    "    return np.NaN\n",
    "\n",
    "\n",
    "def parse_on_layer(x):\n",
    "    x = str(x)\n",
    "    exist_number = re.search(r'\\d', x)\n",
    "    if exist_number:\n",
    "        all_nums = re.findall(r'\\d+', x, re.S)\n",
    "        max_layer = max(all_nums)\n",
    "        return max_layer\n",
    "    return np.NaN\n",
    "\n",
    "\n",
    "def split_house_nb(x):\n",
    "    x = str(x)\n",
    "    path = re.compile('.*?(\\d\\d?)\\d\\d$')\n",
    "    r = path.search(x)\n",
    "    if r:\n",
    "        return r.group(1)\n",
    "    return np.NaN\n",
    "\n",
    "\n",
    "data_10['所在层-纯数'] = data_10[HOUSE_LOCATE].apply(split_on_layer)\n",
    "data_10.loc[:, '所在层-纯数'] = data_10['所在层-纯数'].combine_first(\n",
    "    data_10[ON_LAYER].apply(parse_on_layer))\n",
    "data_10.loc[:, '所在层-纯数'] = data_10['所在层-纯数'].combine_first(\n",
    "    data_10[HOUSE_NB].apply(split_house_nb))\n",
    "data_10.loc[:, '所在层-纯数'] = data_10['所在层-纯数'].apply(parse_on_layer)\n",
    "data_10.loc[:, '所在层-纯数'] = data_10.loc[:, '所在层-纯数']\n",
    "# data_10['所在层-纯数'].drop_duplicates()"
   ]
  },
  {
   "cell_type": "code",
   "execution_count": null,
   "metadata": {
    "ExecuteTime": {
     "end_time": "2022-04-02T01:53:25.041098Z",
     "start_time": "2022-04-02T01:53:25.017161Z"
    }
   },
   "outputs": [],
   "source": [
    "# 导出所在层\n",
    "data_10[ON_LAYER] = data_10[ON_LAYER].apply(remove_space)\n",
    "on_layer = data_10[data_10[ON_LAYER] != data_10['所在层-纯数']][[HOUSE_ID,HOUSE_CODE, DISTRICT, COMMUNITY_NAME, HOUSE_LOCATE, HOUSE_USE, HOUSE_AREA,\n",
    "                                                          BLANK_PRICE,BUILD_NB, HOUSE_NB, ON_LAYER,'所在层-纯数']]\n",
    "\n",
    "if on_layer[ON_LAYER].isnull().all():\n",
    "    print('不一致数据原数据所在层为空')\n",
    "else:\n",
    "    output_ex_data(on_layer,ON_LAYER_TASK_FIELDS, ON_LAYER_TASK_FILE_PATH, '所在层')\n",
    "on_layer"
   ]
  },
  {
   "cell_type": "code",
   "execution_count": null,
   "metadata": {
    "ExecuteTime": {
     "end_time": "2022-04-02T01:53:25.244670Z",
     "start_time": "2022-04-02T01:53:25.227710Z"
    }
   },
   "outputs": [],
   "source": [
    "# 更新人工后的所在层\n",
    "update_code(ON_LAYER_DIR,data_10,'所在层-纯数')\n",
    "data_10['所在层-纯数'].drop_duplicates()"
   ]
  },
  {
   "cell_type": "markdown",
   "metadata": {},
   "source": [
    "## 地上层清洗"
   ]
  },
  {
   "cell_type": "code",
   "execution_count": null,
   "metadata": {
    "ExecuteTime": {
     "end_time": "2022-04-02T01:53:26.058250Z",
     "start_time": "2022-04-02T01:53:26.034285Z"
    },
    "code_folding": []
   },
   "outputs": [],
   "source": [
    "def parse_above_ground_layer(data):\n",
    "    floor_data = data[data['所在层-纯数'].notnull()].copy()\n",
    "    floor_data['所在层-纯数'] = floor_data['所在层-纯数'].apply(remove_space)   \n",
    "    floor_data['所在层-纯数'] = floor_data['所在层-纯数'].astype(int)\n",
    "    max_floor = floor_data.groupby(['房屋小区名称', '幢号-清洗后'])['所在层-纯数'].max()\n",
    "    max_floor = pd.DataFrame(max_floor).reset_index()\n",
    "    max_floor.columns = ['房屋小区名称', '幢号-清洗后', '地上层-清洗后']\n",
    "    data = pd.merge(data, max_floor, on=['房屋小区名称', '幢号-清洗后'], how='outer')\n",
    "#     data.loc[:, '地上层'] = data['地上层'].astype(str)\n",
    "    data.index = data[HOUSE_ID]\n",
    "    return data\n",
    "\n",
    "data_10 = parse_above_ground_layer(data_10)"
   ]
  },
  {
   "cell_type": "code",
   "execution_count": null,
   "metadata": {
    "ExecuteTime": {
     "end_time": "2022-04-02T01:53:26.294357Z",
     "start_time": "2022-04-02T01:53:26.242496Z"
    }
   },
   "outputs": [],
   "source": [
    "# 导出地上层-清洗和原字段值不一致数据\n",
    "data_10[ABOVE_GROUND_FLOOR] = data_10[ABOVE_GROUND_FLOOR].apply(remove_space)\n",
    "ab_floor_diff = data_10[data_10[ABOVE_GROUND_FLOOR] != data_10['地上层-清洗后'].astype(str)][[HOUSE_ID,HOUSE_CODE, DISTRICT, COMMUNITY_NAME, HOUSE_LOCATE, HOUSE_USE, HOUSE_AREA,\n",
    "                                                          BLANK_PRICE,BUILD_NB ,'幢号-清洗后',HOUSE_NB, ON_LAYER,'所在层-纯数','房屋小区名称',ABOVE_GROUND_FLOOR,'地上层-清洗后']]\n",
    "if ab_floor_diff[ABOVE_GROUND_FLOOR].isnull().all():\n",
    "    print('原数据地上层为空')\n",
    "else:\n",
    "#     output_data(ab_floor_diff,ABOVE_GROUND_FLOOR_TASK_FILE_PATH)\n",
    "    output_ex_data(ab_floor_diff,ABOVE_GROUND_TASK_FIELDS, ABOVE_GROUND_FLOOR_TASK_FILE_PATH, '地上层')\n",
    "ab_floor_diff.head(5)"
   ]
  },
  {
   "cell_type": "code",
   "execution_count": null,
   "metadata": {
    "ExecuteTime": {
     "end_time": "2022-04-02T01:53:26.448031Z",
     "start_time": "2022-04-02T01:53:26.427115Z"
    }
   },
   "outputs": [],
   "source": [
    "# 更新人工比对后的地上层\n",
    "update_code(AB_FLOOR_DIR,data_10,'地上层-清洗后')\n",
    "data_10['地上层-清洗后'].drop_duplicates()"
   ]
  },
  {
   "cell_type": "markdown",
   "metadata": {},
   "source": [
    "## 更新房屋小区名称、幢号、地上层、所在层"
   ]
  },
  {
   "cell_type": "code",
   "execution_count": null,
   "metadata": {
    "ExecuteTime": {
     "end_time": "2022-04-02T01:53:26.763385Z",
     "start_time": "2022-04-02T01:53:26.722752Z"
    }
   },
   "outputs": [],
   "source": [
    "f_data.loc[:,'xx'] = np.NaN"
   ]
  },
  {
   "cell_type": "markdown",
   "metadata": {},
   "source": [
    "## 房屋打码"
   ]
  },
  {
   "cell_type": "markdown",
   "metadata": {},
   "source": [
    "### 地上层为空的数据（问题数据）"
   ]
  },
  {
   "cell_type": "code",
   "execution_count": null,
   "metadata": {
    "ExecuteTime": {
     "end_time": "2022-04-02T01:53:27.417847Z",
     "start_time": "2022-04-02T01:53:27.401912Z"
    },
    "scrolled": true
   },
   "outputs": [],
   "source": [
    "nan_10_data = data_10[data_10['地上层-清洗后'].isnull()].copy()\n",
    "nan_10_data.loc[:,WH_HOUSE_USE] = 'v'\n",
    "len(nan_10_data)"
   ]
  },
  {
   "cell_type": "code",
   "execution_count": null,
   "metadata": {
    "ExecuteTime": {
     "end_time": "2022-04-02T01:53:27.591572Z",
     "start_time": "2022-04-02T01:53:27.585587Z"
    }
   },
   "outputs": [],
   "source": [
    "update_table(nan_10_data)\n",
    "# f_data[f_data[WH_HOUSE_USE].notnull()]"
   ]
  },
  {
   "cell_type": "markdown",
   "metadata": {},
   "source": [
    "### 地上层不为空的数据"
   ]
  },
  {
   "cell_type": "code",
   "execution_count": null,
   "metadata": {
    "ExecuteTime": {
     "end_time": "2022-04-02T01:53:28.015215Z",
     "start_time": "2022-04-02T01:53:28.002222Z"
    }
   },
   "outputs": [],
   "source": [
    "re_ex_10_data = data_10[data_10['地上层-清洗后'].notnull()].copy()\n",
    "re_ex_10_data.loc[:, '地上层-清洗后'] = re_ex_10_data['地上层-清洗后'].apply(int)\n",
    "re_ex_10_data.groupby('地上层-清洗后')['地上层-清洗后'].count()"
   ]
  },
  {
   "cell_type": "code",
   "execution_count": null,
   "metadata": {
    "ExecuteTime": {
     "end_time": "2022-04-02T01:53:28.220637Z",
     "start_time": "2022-04-02T01:53:28.195704Z"
    }
   },
   "outputs": [],
   "source": [
    "# 根据地上层标注\n",
    "dsc = re_ex_10_data['地上层-清洗后']\n",
    "re_ex_10_data.loc[dsc <= 0, WH_HOUSE_USE] = '1'\n",
    "re_ex_10_data.loc[(dsc > 0) & (dsc <= 3), WH_HOUSE_USE] = '2'\n",
    "re_ex_10_data.loc[(dsc > 3) & (dsc <= 7), WH_HOUSE_USE] = '3'\n",
    "re_ex_10_data.loc[(dsc > 7) & (dsc <= 11), WH_HOUSE_USE] = '4'\n",
    "re_ex_10_data.loc[(dsc > 11) & (dsc <= 33), WH_HOUSE_USE] = '5'\n",
    "re_ex_10_data.loc[(dsc > 33),WH_HOUSE_USE] = '6'\n",
    "update_table(re_ex_10_data)\n",
    "len(f_data[f_data[WH_HOUSE_USE].notnull()])"
   ]
  },
  {
   "cell_type": "markdown",
   "metadata": {},
   "source": [
    "## 字典值比对"
   ]
  },
  {
   "cell_type": "markdown",
   "metadata": {},
   "source": [
    "### 对应杭州字典"
   ]
  },
  {
   "cell_type": "code",
   "execution_count": null,
   "metadata": {
    "ExecuteTime": {
     "end_time": "2022-04-02T01:53:28.910598Z",
     "start_time": "2022-04-02T01:53:28.905610Z"
    }
   },
   "outputs": [],
   "source": [
    "if DIVIDE == 'x':\n",
    "    code = pd.read_excel('房屋字典'+'/'+CITY+'字典'+'.xlsx', sheet_name='脚本')\n",
    "    code['杭州'] = code['杭州'].astype(str)\n",
    "    code[CITY] = code[CITY].astype(str)\n",
    "    code.replace('nan', np.NaN, inplace=True)\n",
    "    code_dict = dict(zip(code[CITY], code['杭州']))\n",
    "else:\n",
    "    pass"
   ]
  },
  {
   "cell_type": "markdown",
   "metadata": {},
   "source": [
    "### 查询不包含的字典值"
   ]
  },
  {
   "cell_type": "code",
   "execution_count": null,
   "metadata": {
    "ExecuteTime": {
     "end_time": "2022-04-02T01:53:29.268352Z",
     "start_time": "2022-04-02T01:53:29.250427Z"
    }
   },
   "outputs": [],
   "source": [
    "def preproccess_code(code):\n",
    "    for key, value in code_dict.items():\n",
    "        if code == key:\n",
    "            return value"
   ]
  },
  {
   "cell_type": "code",
   "execution_count": null,
   "metadata": {
    "ExecuteTime": {
     "end_time": "2022-04-02T01:53:29.455971Z",
     "start_time": "2022-04-02T01:53:29.450983Z"
    }
   },
   "outputs": [],
   "source": [
    "if DIVIDE == 'x':\n",
    "    house_use_notnull = r_data[r_data.loc[:,\n",
    "                                      HOUSE_USE].notnull()].copy()\n",
    "    house_use_notnull.loc[:, WH_HOUSE_USE] = house_use_notnull[HOUSE_USE].apply(\n",
    "    preproccess_code)\n",
    "    house_use_notnull[house_use_notnull[WH_HOUSE_USE].isnull()\n",
    "                  ][HOUSE_USE].drop_duplicates()"
   ]
  },
  {
   "cell_type": "code",
   "execution_count": null,
   "metadata": {
    "ExecuteTime": {
     "end_time": "2022-04-02T01:53:29.660613Z",
     "start_time": "2022-04-02T01:53:29.652659Z"
    },
    "scrolled": true
   },
   "outputs": [],
   "source": [
    "if DIVIDE == 'd':\n",
    "    house_use_notnull = r_data[r_data.loc[:,\n",
    "                                          HOUSE_USE].notnull()].copy()\n",
    "    house_use_notnull.loc[:, WH_HOUSE_USE] = house_use_notnull[HOUSE_USE].apply(\n",
    "        preproccess_code)\n",
    "    not_exist_code = house_use_notnull[house_use_notnull[WH_HOUSE_USE].isnull(\n",
    "    )][HOUSE_USE].drop_duplicates()\n",
    "    df_not_exist_code = pd.DataFrame(not_exist_code)\n",
    "    df_not_exist_code = df_not_exist_code[~df_not_exist_code[HOUSE_USE].isin(\n",
    "        ex_ghyt_10_123_126)]\n",
    "    df_not_exist_code"
   ]
  },
  {
   "cell_type": "code",
   "execution_count": null,
   "metadata": {
    "ExecuteTime": {
     "end_time": "2022-04-02T01:53:29.847617Z",
     "start_time": "2022-04-02T01:53:29.841632Z"
    }
   },
   "outputs": [],
   "source": [
    "if DIVIDE == 'x':\n",
    "    house_use_notnull[house_use_notnull[WH_HOUSE_USE].isnull()][HOUSE_USE].drop_duplicates()"
   ]
  },
  {
   "cell_type": "markdown",
   "metadata": {},
   "source": [
    "### 更新二级码"
   ]
  },
  {
   "cell_type": "code",
   "execution_count": null,
   "metadata": {
    "ExecuteTime": {
     "end_time": "2022-04-02T01:53:30.226265Z",
     "start_time": "2022-04-02T01:53:30.210273Z"
    }
   },
   "outputs": [],
   "source": [
    "if DIVIDE == 'ew':\n",
    "    update_table(house_use_notnull)\n",
    "    f_data[f_data[WH_HOUSE_USE].notnull()]"
   ]
  },
  {
   "cell_type": "markdown",
   "metadata": {},
   "source": [
    "## 字典之外的数据处理"
   ]
  },
  {
   "cell_type": "code",
   "execution_count": null,
   "metadata": {
    "ExecuteTime": {
     "end_time": "2022-04-02T01:53:30.633248Z",
     "start_time": "2022-04-02T01:53:30.625271Z"
    }
   },
   "outputs": [],
   "source": [
    "if DIVIDE == 'g':\n",
    "    not_exist_code_data = f_data[f_data[HOUSE_USE].isin(\n",
    "        df_not_exist_code[HOUSE_USE])].copy()\n",
    "    output_ex_data(not_exist_code_data, PROB_FIELDS, EX_TASK_FILE_PATH, '字典之外')\n",
    "elif DIVIDE == 'g':\n",
    "    not_exist_code_data = f_data[~f_data[HOUSE_USE].isin(ex_ghyt_10_123_126)]\n",
    "    output_ex_data(not_exist_code_data,PROB_FIELDS,  EX_TASK_FILE_PATH, '字典之外')"
   ]
  },
  {
   "cell_type": "markdown",
   "metadata": {},
   "source": [
    "## 问题数据处理"
   ]
  },
  {
   "cell_type": "code",
   "execution_count": null,
   "metadata": {
    "ExecuteTime": {
     "end_time": "2022-04-02T01:53:32.038709Z",
     "start_time": "2022-04-02T01:53:32.025716Z"
    }
   },
   "outputs": [],
   "source": [
    "data_88 = f_data[f_data[WH_HOUSE_USE] == 'sd']\n",
    "output_ex_data(data_88, PROB_FIELDS, DATA_88_TASK_FILE_PATH, '问题数据')"
   ]
  },
  {
   "cell_type": "markdown",
   "metadata": {},
   "source": [
    "# 合并清洗结果"
   ]
  },
  {
   "cell_type": "markdown",
   "metadata": {},
   "source": [
    "## 合并补充二级码商业办公数据"
   ]
  },
  {
   "cell_type": "code",
   "execution_count": null,
   "metadata": {
    "ExecuteTime": {
     "end_time": "2022-04-02T01:53:32.897387Z",
     "start_time": "2022-04-02T01:53:32.874449Z"
    }
   },
   "outputs": [],
   "source": [
    "f_data = merge_ex_house_use(COMMERCIAL_OFFICE_RESULT_DIR,f_data)\n",
    "f_data['房屋用途'] = f_data['房屋用途'].astype(str)\n",
    "f_data['房屋用途'].groupby(f_data['房屋用途']).count()"
   ]
  },
  {
   "cell_type": "markdown",
   "metadata": {},
   "source": [
    "## 合并字典之外的数据"
   ]
  },
  {
   "cell_type": "code",
   "execution_count": null,
   "metadata": {
    "ExecuteTime": {
     "end_time": "2022-04-02T01:53:33.260707Z",
     "start_time": "2022-04-02T01:53:33.253720Z"
    }
   },
   "outputs": [],
   "source": [
    "f_data = merge_ex_house_use(PROB_RESULT_DIR,f_data)\n",
    "f_data['房屋用途'] = f_data['房屋用途'].astype(str)\n",
    "# f_data['房屋用途'].groupby(f_data['房屋用途']).count()"
   ]
  },
  {
   "cell_type": "markdown",
   "metadata": {},
   "source": [
    "## 导出清洗结果"
   ]
  },
  {
   "cell_type": "markdown",
   "metadata": {},
   "source": [
    "### 导出本地存储清洗结果"
   ]
  },
  {
   "cell_type": "code",
   "execution_count": null,
   "metadata": {
    "ExecuteTime": {
     "end_time": "2022-04-02T01:53:33.952661Z",
     "start_time": "2022-04-02T01:53:33.745804Z"
    },
    "code_folding": []
   },
   "outputs": [],
   "source": [
    "def save_data(f_data):\n",
    "    f_data.to_excel(RESULT_FILE_PATH,index=False)\n",
    "    print('此次清洗数量为：',len(f_data))\n",
    "save_data(f_data)\n",
    "f_data['房屋用途'].groupby(f_data['房屋用途']).count()"
   ]
  },
  {
   "cell_type": "code",
   "execution_count": null,
   "metadata": {
    "ExecuteTime": {
     "end_time": "2022-04-02T01:53:34.094253Z",
     "start_time": "2022-04-02T01:53:34.074318Z"
    }
   },
   "outputs": [],
   "source": [
    "print('房屋用途为空数据量为：',len(f_data[f_data['房屋用途'].isnull()]), '条')"
   ]
  },
  {
   "cell_type": "markdown",
   "metadata": {},
   "source": [
    "### 导出平台维护结果"
   ]
  },
  {
   "cell_type": "code",
   "execution_count": null,
   "metadata": {
    "ExecuteTime": {
     "end_time": "2022-04-02T01:53:34.359413Z",
     "start_time": "2022-04-02T01:53:34.346425Z"
    }
   },
   "outputs": [],
   "source": [
    "# 平台导入所需字段\n",
    "import_fields = ['xxxxx']"
   ]
  },
  {
   "cell_type": "code",
   "execution_count": null,
   "metadata": {
    "ExecuteTime": {
     "end_time": "2022-04-02T01:53:34.734700Z",
     "start_time": "2022-04-02T01:53:34.571238Z"
    },
    "code_folding": []
   },
   "outputs": [],
   "source": [
    "# 1000条以上数据做拆分\n",
    "upper_limit = 1400\n",
    "single_quantity = 700\n",
    "if len(f_data) < upper_limit:\n",
    "    f_data[import_fields].to_excel(DEV_RESULT_FILE_PATH, index=False)\n",
    "else:\n",
    "    f_data[import_fields].to_excel(DEV_RESULT_FILE_PATH, index=False)\n",
    "    for i in range(math.ceil(len(f_data)/single_quantity)):\n",
    "        f_data[import_fields][i*single_quantity: (i+1)*single_quantity].to_excel(\n",
    "            SPLIT_DEV_RESULT_FILE_PATH + str(i) + '.xlsx', index=False)"
   ]
  }
 ],
 "metadata": {
  "kernelspec": {
   "display_name": "Python 3",
   "language": "python",
   "name": "python3"
  },
  "language_info": {
   "codemirror_mode": {
    "name": "ipython",
    "version": 3
   },
   "file_extension": ".py",
   "mimetype": "text/x-python",
   "name": "python",
   "nbconvert_exporter": "python",
   "pygments_lexer": "ipython3",
   "version": "3.7.6"
  },
  "toc": {
   "base_numbering": 1,
   "nav_menu": {},
   "number_sections": true,
   "sideBar": true,
   "skip_h1_title": false,
   "title_cell": "Table of Contents",
   "title_sidebar": "Contents",
   "toc_cell": false,
   "toc_position": {
    "height": "calc(100% - 180px)",
    "left": "10px",
    "top": "150px",
    "width": "294px"
   },
   "toc_section_display": true,
   "toc_window_display": false
  },
  "varInspector": {
   "cols": {
    "lenName": 16,
    "lenType": 16,
    "lenVar": 40
   },
   "kernels_config": {
    "python": {
     "delete_cmd_postfix": "",
     "delete_cmd_prefix": "del ",
     "library": "var_list.py",
     "varRefreshCmd": "print(var_dic_list())"
    },
    "r": {
     "delete_cmd_postfix": ") ",
     "delete_cmd_prefix": "rm(",
     "library": "var_list.r",
     "varRefreshCmd": "cat(var_dic_list()) "
    }
   },
   "position": {
    "height": "443.797px",
    "left": "1521.97px",
    "right": "20px",
    "top": "75.9375px",
    "width": "350px"
   },
   "types_to_exclude": [
    "module",
    "function",
    "builtin_function_or_method",
    "instance",
    "_Feature"
   ],
   "window_display": true
  }
 },
 "nbformat": 4,
 "nbformat_minor": 4
}

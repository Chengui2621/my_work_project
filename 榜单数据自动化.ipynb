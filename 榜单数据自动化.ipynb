{
 "cells": [
  {
   "cell_type": "markdown",
   "metadata": {},
   "source": [
    "# 导包"
   ]
  },
  {
   "cell_type": "code",
   "execution_count": null,
   "metadata": {
    "ExecuteTime": {
     "end_time": "2022-03-31T02:36:24.761146Z",
     "start_time": "2022-03-31T02:36:24.744164Z"
    }
   },
   "outputs": [],
   "source": [
    "import re\n",
    "import numpy as np\n",
    "import pandas as pd\n",
    "import os\n",
    "import xlwt\n",
    "import xlrd\n",
    "import openpyxl\n",
    "import xlsxwriter\n",
    "import datetime\n",
    "from xlutils import copy\n",
    "from openpyxl import load_workbook\n",
    "from xlrd import open_workbook"
   ]
  },
  {
   "cell_type": "code",
   "execution_count": null,
   "metadata": {
    "ExecuteTime": {
     "end_time": "2022-03-31T02:36:25.028843Z",
     "start_time": "2022-03-31T02:36:25.024824Z"
    }
   },
   "outputs": [],
   "source": [
    "from IPython.core.interactiveshell import InteractiveShell\n",
    "InteractiveShell.ast_node_interactivity = 'all'"
   ]
  },
  {
   "cell_type": "markdown",
   "metadata": {},
   "source": [
    "# 参数设置"
   ]
  },
  {
   "cell_type": "code",
   "execution_count": null,
   "metadata": {
    "ExecuteTime": {
     "end_time": "2022-03-31T02:36:25.731142Z",
     "start_time": "2022-03-31T02:36:25.712040Z"
    }
   },
   "outputs": [],
   "source": [
    "date = datetime.date.today()\n",
    "month = str(date.month) + '月'\n",
    "month"
   ]
  },
  {
   "cell_type": "markdown",
   "metadata": {},
   "source": [
    "<b><font size=1 color=green>特殊时间段：</font></b>"
   ]
  },
  {
   "cell_type": "code",
   "execution_count": null,
   "metadata": {
    "ExecuteTime": {
     "end_time": "2022-03-31T02:36:26.437365Z",
     "start_time": "2022-03-31T02:36:26.424401Z"
    }
   },
   "outputs": [],
   "source": [
    "month = '一季度'"
   ]
  },
  {
   "cell_type": "markdown",
   "metadata": {},
   "source": [
    "# 导入数据"
   ]
  },
  {
   "cell_type": "code",
   "execution_count": null,
   "metadata": {
    "ExecuteTime": {
     "end_time": "2022-03-31T05:45:50.719967Z",
     "start_time": "2022-03-31T05:45:50.711982Z"
    }
   },
   "outputs": [],
   "source": [
    "block_dir = '原始数据/' + month + '/'\n",
    "block_data_file_path = os.listdir(block_dir)"
   ]
  },
  {
   "cell_type": "code",
   "execution_count": null,
   "metadata": {
    "ExecuteTime": {
     "end_time": "2022-03-31T05:45:51.397909Z",
     "start_time": "2022-03-31T05:45:50.934925Z"
    }
   },
   "outputs": [],
   "source": [
    "for file in os.listdir(block_dir):\n",
    "    if '新房' in file:\n",
    "        new_house_data = pd.read_excel(block_dir + file, dtype=object)\n",
    "    if '住宅' in file and '非' not in file:\n",
    "        house_data = pd.read_excel(block_dir + file, dtype=object)\n",
    "    if '非住宅' in file:\n",
    "        non_house_data = pd.read_excel(block_dir + file, dtype=object)\n",
    "    if '全市' in file:\n",
    "        all_data = pd.read_excel(block_dir + file, dtype=object)"
   ]
  },
  {
   "cell_type": "markdown",
   "metadata": {},
   "source": [
    "## 楼市排行榜"
   ]
  },
  {
   "cell_type": "markdown",
   "metadata": {},
   "source": [
    "### 计算排行"
   ]
  },
  {
   "cell_type": "code",
   "execution_count": null,
   "metadata": {
    "ExecuteTime": {
     "end_time": "2022-03-31T05:45:52.881918Z",
     "start_time": "2022-03-31T05:45:52.846015Z"
    }
   },
   "outputs": [],
   "source": [
    "new_house_data = new_house_data.drop(0)[['项目名称', '城区', '成交套数', '成交面积(㎡)', '预测成交总价(万元)', '预测成交均价(元/㎡)']]\n",
    "new_house_data.columns = ['项目名称', '所属区域', '签约套数', '签约面积（㎡）', '签约金额（万元）', '签约均价（元/㎡）']\n",
    "\n",
    "calc_data_new_house = new_house_data.copy()\n",
    "new_house_data.head()"
   ]
  },
  {
   "cell_type": "code",
   "execution_count": null,
   "metadata": {
    "ExecuteTime": {
     "end_time": "2022-03-31T05:45:54.139918Z",
     "start_time": "2022-03-31T05:45:54.070821Z"
    }
   },
   "outputs": [],
   "source": [
    "merge_data = calc_data_new_house.groupby(['所属区域', '项目名称'])[['签约套数', '签约面积（㎡）', '签约金额（万元）']].sum()\n",
    "merge_data.loc[:, '均价'] = merge_data.loc[:, '签约金额（万元）']*10000/merge_data.loc[:, '签约面积（㎡）']\n",
    "merge_data.loc[:, ['签约面积（㎡）', '均价', '签约金额（万元）']] = round(merge_data.loc[:, ['签约面积（㎡）', '均价', '签约金额（万元）']], 0).astype(int)\n",
    "merge_data = merge_data.reset_index()\n",
    "merge_data.rename(columns={'均价':'签约均价（元/㎡）'},inplace=True) \n",
    "merge_data=merge_data[['项目名称', '所属区域', '签约套数', '签约面积（㎡）', '签约金额（万元）', '签约均价（元/㎡）']]\n",
    "merge_data"
   ]
  },
  {
   "cell_type": "code",
   "execution_count": null,
   "metadata": {
    "ExecuteTime": {
     "end_time": "2022-03-31T05:45:55.525798Z",
     "start_time": "2022-03-31T05:45:55.517819Z"
    }
   },
   "outputs": [],
   "source": [
    "merge_data[merge_data['签约均价（元/㎡）']<0]"
   ]
  },
  {
   "cell_type": "code",
   "execution_count": null,
   "metadata": {
    "ExecuteTime": {
     "end_time": "2022-03-31T05:45:56.501091Z",
     "start_time": "2022-03-31T05:45:56.486131Z"
    }
   },
   "outputs": [],
   "source": [
    "# 主城区套数\n",
    "main_city = ['上城区', '下城区', '江干区', '拱墅区', '西湖区', '滨江区', '钱塘新区']\n",
    "main_city_quantity = merge_data[merge_data['所属区域'].isin(main_city)].sort_values(by=['签约套数', '签约面积（㎡）'], ascending=False).head(11)\n",
    "main_city_quantity.insert(0, '排名', list(range(1,12,1)))\n",
    "main_city_quantity"
   ]
  },
  {
   "cell_type": "code",
   "execution_count": null,
   "metadata": {
    "ExecuteTime": {
     "end_time": "2022-03-31T05:45:59.859023Z",
     "start_time": "2022-03-31T05:45:59.838079Z"
    }
   },
   "outputs": [],
   "source": [
    "# 主城区面积\n",
    "main_city_area = merge_data[merge_data['所属区域'].isin(main_city)].sort_values('签约面积（㎡）', ascending=False).head(11)\n",
    "main_city_area.insert(0, '排名', list(range(1,12,1)))\n",
    "main_city_area"
   ]
  },
  {
   "cell_type": "code",
   "execution_count": null,
   "metadata": {
    "ExecuteTime": {
     "end_time": "2022-03-31T05:46:01.540839Z",
     "start_time": "2022-03-31T05:46:01.525880Z"
    }
   },
   "outputs": [],
   "source": [
    "# 萧山\n",
    "xiaoshan_quantity = merge_data[merge_data['所属区域'] =='萧山区'].sort_values(by=['签约套数', '签约面积（㎡）'], ascending=False).head(11)\n",
    "xiaoshan_quantity.insert(0, '排名', list(range(1,12,1)))\n",
    "xiaoshan_quantity"
   ]
  },
  {
   "cell_type": "code",
   "execution_count": null,
   "metadata": {
    "ExecuteTime": {
     "end_time": "2022-03-31T05:46:03.185804Z",
     "start_time": "2022-03-31T05:46:03.166826Z"
    }
   },
   "outputs": [],
   "source": [
    "yuhang_quantity = merge_data[merge_data['所属区域'] =='余杭区'].sort_values(by=['签约套数', '签约面积（㎡）'], ascending=False).head(11)\n",
    "yuhang_quantity.insert(0, '排名', list(range(1,12,1)))\n",
    "yuhang_quantity"
   ]
  },
  {
   "cell_type": "code",
   "execution_count": null,
   "metadata": {
    "ExecuteTime": {
     "end_time": "2022-03-31T05:46:04.554154Z",
     "start_time": "2022-03-31T05:46:04.527253Z"
    }
   },
   "outputs": [],
   "source": [
    "fuyang_quantity = merge_data[merge_data['所属区域'] =='富阳区'].sort_values(by=['签约套数', '签约面积（㎡）'], ascending=False).head(11)\n",
    "fuyang_quantity.insert(0, '排名', list(range(1,12,1)))\n",
    "fuyang_quantity"
   ]
  },
  {
   "cell_type": "code",
   "execution_count": null,
   "metadata": {
    "ExecuteTime": {
     "end_time": "2022-03-31T05:46:05.457959Z",
     "start_time": "2022-03-31T05:46:05.430866Z"
    }
   },
   "outputs": [],
   "source": [
    "linan_quantity = merge_data[merge_data['所属区域'] =='临安区'].sort_values(by=['签约套数', '签约面积（㎡）'], ascending=False).head(11)\n",
    "linan_quantity.insert(0, '排名', list(range(1,12,1)))\n",
    "linan_quantity"
   ]
  },
  {
   "cell_type": "markdown",
   "metadata": {},
   "source": [
    "### 导出数据"
   ]
  },
  {
   "cell_type": "code",
   "execution_count": null,
   "metadata": {
    "ExecuteTime": {
     "end_time": "2022-03-31T05:46:06.834630Z",
     "start_time": "2022-03-31T05:46:06.733591Z"
    },
    "scrolled": false
   },
   "outputs": [],
   "source": [
    "file_path1 = '排行结果/' + month + '/'\n",
    "if not os.path.exists(file_path1):\n",
    "    os.mkdir(file_path1)\n",
    "file_name1 = month + '楼市成交排行榜.xlsx'\n",
    "writer = pd.ExcelWriter(file_path1 + file_name1)\n",
    "data_list = [\n",
    "    main_city_quantity, main_city_area, xiaoshan_quantity, yuhang_quantity,\n",
    "    linan_quantity, fuyang_quantity\n",
    "]\n",
    "row = 2\n",
    "for d in data_list:\n",
    "    d.to_excel(writer, startrow=row, sheet_name=\"新房排行\", index=False)\n",
    "    row += 15\n",
    "\n",
    "# 保存\n",
    "writer.save()\n",
    "writer.close()\n",
    "\n",
    "rb = xlrd.open_workbook(file_path1+file_name1)   \n",
    "# rb = openpyxl.load_workbook(file_path1+file_name1)   \n",
    "wb = copy.copy(rb) \n",
    "# sheets = wb.worksheets\n",
    "ws = wb.get_sheet(0)    \n",
    "ws.write(1, 0, '主城套数') \n",
    "ws.write(16, 0, '主城面积') \n",
    "ws.write(31, 0, '萧山套数') \n",
    "ws.write(46, 0, '余杭套数') \n",
    "ws.write(61, 0, '临安套数') \n",
    "ws.write(76, 0, '富阳套数') \n",
    "wb.save(file_path1+file_name1)  "
   ]
  },
  {
   "cell_type": "markdown",
   "metadata": {},
   "source": [
    "## 住宅非住宅成交榜"
   ]
  },
  {
   "cell_type": "markdown",
   "metadata": {},
   "source": [
    "### 计算排行"
   ]
  },
  {
   "cell_type": "code",
   "execution_count": null,
   "metadata": {
    "ExecuteTime": {
     "end_time": "2022-03-31T05:46:08.265639Z",
     "start_time": "2022-03-31T05:46:08.245646Z"
    }
   },
   "outputs": [],
   "source": [
    "house_data = house_data.drop(0)[['项目名称', '城区', '成交套数', '成交面积(㎡)', '预测成交总价(万元)', '预测成交均价(元/㎡)']]\n",
    "house_data.columns = ['项目名称', '所属区域', '签约套数', '签约面积（㎡）', '签约金额（万元）', '签约均价（元/㎡）']\n",
    "\n",
    "calc_data_house = house_data.copy()\n",
    "house_data.head()"
   ]
  },
  {
   "cell_type": "code",
   "execution_count": null,
   "metadata": {
    "ExecuteTime": {
     "end_time": "2022-03-31T05:46:09.324858Z",
     "start_time": "2022-03-31T05:46:09.310924Z"
    }
   },
   "outputs": [],
   "source": [
    "non_house_data = non_house_data.drop(0)[['项目名称', '城区', '成交套数', '成交面积(㎡)', '预测成交总价(万元)', '预测成交均价(元/㎡)']]\n",
    "non_house_data.columns = ['项目名称', '所属区域', '签约套数', '签约面积（㎡）', '签约金额（万元）', '签约均价（元/㎡）']\n",
    "calc_data_non_house = non_house_data.copy()\n",
    "non_house_data.head()"
   ]
  },
  {
   "cell_type": "code",
   "execution_count": null,
   "metadata": {
    "ExecuteTime": {
     "end_time": "2022-03-31T05:46:11.261332Z",
     "start_time": "2022-03-31T05:46:11.214484Z"
    }
   },
   "outputs": [],
   "source": [
    "# 住宅数据排行\n",
    "merge_data_house = calc_data_house.groupby(\n",
    "    ['所属区域', '项目名称'])[['签约套数', '签约面积（㎡）', '签约金额（万元）']].sum()\n",
    "merge_data_house.loc[:, ['签约面积（㎡）', '签约金额（万元）']] = round(merge_data_house.loc[:, ['签约面积（㎡）', '签约金额（万元）']], 0)\n",
    "merge_data_house.loc[:, '签约均价'] =(merge_data_house.loc[:, '签约金额（万元）']*10000/merge_data_house.loc[:, '签约面积（㎡）']).round().astype(int)\n",
    "merge_data_house.loc[:, '均价'] = round(merge_data_house.loc[:, '签约均价'], -2)\n",
    "merge_data_house = merge_data_house.reset_index()\n",
    "merge_data_house.rename(columns={'签约均价': '签约均价（元/㎡）'}, inplace=True)\n",
    "merge_data_house = merge_data_house[['项目名称', '所属区域', '签约套数', '签约面积（㎡）', '签约金额（万元）', '签约均价（元/㎡）', '均价']]\n",
    "merge_data_house.columns = ['楼盘名称', '城区', '套数', '签约面积', '签约金额', '签约均价', '均价']\n",
    "merge_data_house"
   ]
  },
  {
   "cell_type": "code",
   "execution_count": null,
   "metadata": {
    "ExecuteTime": {
     "end_time": "2022-03-31T05:46:12.682219Z",
     "start_time": "2022-03-31T05:46:12.662244Z"
    }
   },
   "outputs": [],
   "source": [
    "merge_data_house[merge_data_house['均价']<0]"
   ]
  },
  {
   "cell_type": "code",
   "execution_count": null,
   "metadata": {
    "ExecuteTime": {
     "end_time": "2022-03-31T05:46:13.418794Z",
     "start_time": "2022-03-31T05:46:13.397850Z"
    }
   },
   "outputs": [],
   "source": [
    "# 住宅成交榜\n",
    "house_rank = merge_data_house.sort_values('套数', ascending=False).head(10)\n",
    "house_rank = house_rank[['楼盘名称', '城区', '套数', '均价']]\n",
    "house_rank"
   ]
  },
  {
   "cell_type": "code",
   "execution_count": null,
   "metadata": {
    "ExecuteTime": {
     "end_time": "2022-03-31T05:46:13.904758Z",
     "start_time": "2022-03-31T05:46:13.885781Z"
    }
   },
   "outputs": [],
   "source": [
    "# 住宅均价35000以上\n",
    "house_rank1 = merge_data_house[merge_data_house['签约均价']>35000].sort_values('套数', ascending=False).head(10)\n",
    "house_rank1 = house_rank1[['楼盘名称', '城区', '套数', '均价']]\n",
    "house_rank1"
   ]
  },
  {
   "cell_type": "code",
   "execution_count": null,
   "metadata": {
    "ExecuteTime": {
     "end_time": "2022-03-31T05:46:14.423771Z",
     "start_time": "2022-03-31T05:46:14.398843Z"
    }
   },
   "outputs": [],
   "source": [
    "# 住宅均价20000以上35000以下\n",
    "house_rank2 = merge_data_house[(merge_data_house['签约均价'] > 20000) & (\n",
    "    merge_data_house['签约均价'] <= 35000)].sort_values('套数', ascending=False).head(10)\n",
    "house_rank2 = house_rank2[['楼盘名称', '城区', '套数', '均价']]\n",
    "house_rank2"
   ]
  },
  {
   "cell_type": "code",
   "execution_count": null,
   "metadata": {
    "ExecuteTime": {
     "end_time": "2022-03-31T05:46:15.170325Z",
     "start_time": "2022-03-31T05:46:15.158358Z"
    }
   },
   "outputs": [],
   "source": [
    "# 住宅均价20000以下\n",
    "house_rank3 = merge_data_house[merge_data_house['签约均价']<=20000].sort_values('套数', ascending=False).head(10)\n",
    "house_rank3 = house_rank3[['楼盘名称', '城区', '套数', '均价']]\n",
    "house_rank3"
   ]
  },
  {
   "cell_type": "code",
   "execution_count": null,
   "metadata": {
    "ExecuteTime": {
     "end_time": "2022-03-31T05:46:15.829473Z",
     "start_time": "2022-03-31T05:46:15.694089Z"
    }
   },
   "outputs": [],
   "source": [
    "#非住宅数据排行\n",
    "merge_data_non_house = calc_data_non_house.groupby(\n",
    "    ['所属区域', '项目名称'])[['签约套数', '签约面积（㎡）', '签约金额（万元）']].sum()\n",
    "merge_data_non_house.loc[:, ['签约面积（㎡）', '签约金额（万元）']] = merge_data_non_house.loc[:, ['签约面积（㎡）', '签约金额（万元）']].round()\n",
    "merge_data_non_house.loc[:, '签约均价'] = (merge_data_non_house.loc[:,\n",
    "                                                     '签约金额（万元）']*10000/merge_data_non_house.loc[:, '签约面积（㎡）']).astype(int)\n",
    "merge_data_non_house.loc[:, '均价'] = round(merge_data_non_house.loc[:, '签约均价'], -2)\n",
    "merge_data_non_house = merge_data_non_house.reset_index()\n",
    "merge_data_non_house.rename(columns={'签约均价': '签约均价（元/㎡）'}, inplace=True)\n",
    "merge_data_non_house = merge_data_non_house[[\n",
    "    '项目名称', '所属区域', '签约套数', '签约面积（㎡）', '签约金额（万元）', '签约均价（元/㎡）', '均价']]\n",
    "merge_data_non_house.columns = ['楼盘名称', '城区', '套数', '签约面积', '签约金额', '签约均价', '均价']\n",
    "merge_data_non_house"
   ]
  },
  {
   "cell_type": "code",
   "execution_count": null,
   "metadata": {
    "ExecuteTime": {
     "end_time": "2022-03-31T05:46:22.970556Z",
     "start_time": "2022-03-31T05:46:22.950610Z"
    }
   },
   "outputs": [],
   "source": [
    "merge_data_non_house[merge_data_non_house.loc[:, '均价']<0]"
   ]
  },
  {
   "cell_type": "code",
   "execution_count": null,
   "metadata": {
    "ExecuteTime": {
     "end_time": "2022-03-31T05:46:24.074458Z",
     "start_time": "2022-03-31T05:46:24.053508Z"
    }
   },
   "outputs": [],
   "source": [
    "# 非住宅成交榜\n",
    "non_house_rank = merge_data_non_house.sort_values('套数', ascending=False).head(10)\n",
    "non_house_rank = non_house_rank[['楼盘名称', '城区', '套数', '均价']]\n",
    "non_house_rank"
   ]
  },
  {
   "cell_type": "markdown",
   "metadata": {},
   "source": [
    "### 导出数据"
   ]
  },
  {
   "cell_type": "code",
   "execution_count": null,
   "metadata": {
    "ExecuteTime": {
     "end_time": "2022-03-31T05:46:28.284643Z",
     "start_time": "2022-03-31T05:46:28.213813Z"
    }
   },
   "outputs": [],
   "source": [
    "file_path2 = './排行结果/' + month + '/'\n",
    "if not os.path.exists(file_path2):\n",
    "    os.mkdir(file_path2)\n",
    "file_name2 = month + '新房成交榜(住宅非住宅均价).xlsx'\n",
    "writer = pd.ExcelWriter(file_path2 + file_name2)\n",
    "\n",
    "house_rank.to_excel(writer, startrow=1, startcol=0, sheet_name='Sheet1', index=False)\n",
    "non_house_rank.to_excel(writer, startrow=1, startcol=5, index=False)\n",
    "house_rank1.to_excel(writer, startrow=15, startcol=0, index=False)\n",
    "house_rank2.to_excel(writer, startrow=15, startcol=5, index=False)\n",
    "house_rank3.to_excel(writer, startrow=15, startcol=10, index=False)\n",
    "\n",
    "# 保存\n",
    "writer.save()\n",
    "writer.close()\n",
    "\n",
    "rb = xlrd.open_workbook(file_path2 + file_name2)   \n",
    "wb = copy.copy(rb)                         \n",
    "ws = wb.get_sheet(0)                 \n",
    "ws.write(0, 0, month + '市区住宅成交排名前十数据') \n",
    "ws.write(0, 5, month + '市区非住宅项目成交排名前十数据') \n",
    "ws.write(14, 0, month + '市区住宅均价在35000元/㎡以上成交排名前十数据') \n",
    "ws.write(14, 5, month + '市区住宅均价在20000-35000元/㎡成交排名前十数据') \n",
    "ws.write(14, 10, month + '市区住宅均价在20000元/㎡以下成交排名前十数据') \n",
    "wb.save(file_path2 + file_name2)  "
   ]
  },
  {
   "cell_type": "code",
   "execution_count": null,
   "metadata": {},
   "outputs": [],
   "source": []
  },
  {
   "cell_type": "markdown",
   "metadata": {},
   "source": [
    "## 房企排行榜"
   ]
  },
  {
   "cell_type": "code",
   "execution_count": null,
   "metadata": {
    "ExecuteTime": {
     "end_time": "2022-03-31T03:02:08.274864Z",
     "start_time": "2022-03-31T03:02:08.246939Z"
    }
   },
   "outputs": [],
   "source": [
    "all_data = all_data.drop(0)[['项目名称', '城区', '成交套数', '成交面积(㎡)', '预测成交总价(万元)', '预测成交均价(元/㎡)']]\n",
    "all_data.columns = ['楼盘名称', '所属区域', '签约套数', '签约面积（㎡）', '销售金额', '签约均价（元/㎡）']\n",
    "calc_data_all = all_data.copy()\n",
    "all_data.head()"
   ]
  },
  {
   "cell_type": "code",
   "execution_count": null,
   "metadata": {
    "ExecuteTime": {
     "end_time": "2022-03-31T03:02:10.299451Z",
     "start_time": "2022-03-31T03:02:10.294462Z"
    }
   },
   "outputs": [],
   "source": [
    "file_path3 = '排行结果/' + month + '/'\n",
    "if not os.path.exists(file_path3):\n",
    "    os.mkdir(file_path3)"
   ]
  },
  {
   "cell_type": "code",
   "execution_count": null,
   "metadata": {
    "ExecuteTime": {
     "end_time": "2022-03-31T03:02:10.644553Z",
     "start_time": "2022-03-31T03:02:10.631561Z"
    }
   },
   "outputs": [],
   "source": [
    "for file in os.listdir(block_dir):\n",
    "    if '房企' in file:\n",
    "        print(file)\n",
    "        group_data_file_path = block_dir + file"
   ]
  },
  {
   "cell_type": "code",
   "execution_count": null,
   "metadata": {
    "ExecuteTime": {
     "end_time": "2022-03-31T03:02:10.959684Z",
     "start_time": "2022-03-31T03:02:10.883886Z"
    }
   },
   "outputs": [],
   "source": [
    "table=open_workbook(group_data_file_path)   #打开文件\n",
    "get_sheets = table.sheet_names()    #获取excel的sheet页的名称，全部打印出来\n",
    "group_list = [[] for _ in range(len(get_sheets))]\n",
    "df_list = [pd.DataFrame() for _ in range(len(get_sheets))]\n",
    "for i in get_sheets:\n",
    "    get_each_sheet = table.sheet_by_name(i)  #获取到每个sheet页的名称，单独打印\n",
    "    print(get_each_sheet.name)\n",
    "    count_rows = get_each_sheet.nrows   \n",
    "    for j in range(count_rows):  \n",
    "        col_values = get_each_sheet.row_values(j, start_colx=0, end_colx=None)\n",
    "        group_list[get_sheets.index(i)].append(col_values)\n",
    "    df_list[get_sheets.index(i)] = pd.DataFrame(group_list[get_sheets.index(i)])\n",
    "    df_list[get_sheets.index(i)].columns = ['楼盘名称', '销售金额']\n",
    "    df_list[get_sheets.index(i)].drop(index = 0, inplace=True)\n",
    "    df_list[get_sheets.index(i)].drop('销售金额', axis=1, inplace=True)\n",
    "    print(df_list[get_sheets.index(i)], '\\n')"
   ]
  },
  {
   "cell_type": "code",
   "execution_count": null,
   "metadata": {
    "ExecuteTime": {
     "end_time": "2022-03-31T03:02:11.416504Z",
     "start_time": "2022-03-31T03:02:11.399507Z"
    }
   },
   "outputs": [],
   "source": [
    "writer = pd.ExcelWriter(file_path3 + '房企榜单数据需求.xlsx')"
   ]
  },
  {
   "cell_type": "code",
   "execution_count": null,
   "metadata": {
    "ExecuteTime": {
     "end_time": "2022-03-31T03:02:12.154488Z",
     "start_time": "2022-03-31T03:02:12.079688Z"
    }
   },
   "outputs": [],
   "source": [
    "a=0\n",
    "for i in range(len(df_list)):\n",
    "    df_list[i] = pd.merge(df_list[i], calc_data_all, on='楼盘名称', how='left')\n",
    "    df_list[i] = df_list[i][['楼盘名称', '销售金额']]\n",
    "    print(get_sheets[i])\n",
    "    df_list[i].to_excel(writer, get_sheets[a], index=False)\n",
    "    a = a+1\n",
    "#     print(df)"
   ]
  },
  {
   "cell_type": "code",
   "execution_count": null,
   "metadata": {
    "ExecuteTime": {
     "end_time": "2022-03-31T03:02:12.625228Z",
     "start_time": "2022-03-31T03:02:12.510535Z"
    }
   },
   "outputs": [],
   "source": [
    "writer.save()\n",
    "writer.close()"
   ]
  },
  {
   "cell_type": "code",
   "execution_count": null,
   "metadata": {},
   "outputs": [],
   "source": []
  }
 ],
 "metadata": {
  "kernelspec": {
   "display_name": "Python 3",
   "language": "python",
   "name": "python3"
  },
  "language_info": {
   "codemirror_mode": {
    "name": "ipython",
    "version": 3
   },
   "file_extension": ".py",
   "mimetype": "text/x-python",
   "name": "python",
   "nbconvert_exporter": "python",
   "pygments_lexer": "ipython3",
   "version": "3.7.6"
  },
  "toc": {
   "base_numbering": 1,
   "nav_menu": {},
   "number_sections": true,
   "sideBar": true,
   "skip_h1_title": false,
   "title_cell": "Table of Contents",
   "title_sidebar": "Contents",
   "toc_cell": false,
   "toc_position": {
    "height": "calc(100% - 180px)",
    "left": "10px",
    "top": "150px",
    "width": "308.797px"
   },
   "toc_section_display": true,
   "toc_window_display": false
  },
  "varInspector": {
   "cols": {
    "lenName": 16,
    "lenType": 16,
    "lenVar": 40
   },
   "kernels_config": {
    "python": {
     "delete_cmd_postfix": "",
     "delete_cmd_prefix": "del ",
     "library": "var_list.py",
     "varRefreshCmd": "print(var_dic_list())"
    },
    "r": {
     "delete_cmd_postfix": ") ",
     "delete_cmd_prefix": "rm(",
     "library": "var_list.r",
     "varRefreshCmd": "cat(var_dic_list()) "
    }
   },
   "types_to_exclude": [
    "module",
    "function",
    "builtin_function_or_method",
    "instance",
    "_Feature"
   ],
   "window_display": false
  }
 },
 "nbformat": 4,
 "nbformat_minor": 4
}

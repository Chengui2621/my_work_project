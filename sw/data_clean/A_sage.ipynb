{
 "cells": [
  {
   "cell_type": "code",
   "execution_count": 68,
   "id": "408ab4af",
   "metadata": {
    "ExecuteTime": {
     "end_time": "2022-06-29T01:26:45.651093Z",
     "start_time": "2022-06-29T01:26:45.630150Z"
    }
   },
   "outputs": [],
   "source": [
    "import re\n",
    "import pandas as pd\n",
    "import datetime"
   ]
  },
  {
   "cell_type": "markdown",
   "id": "d70aa391",
   "metadata": {},
   "source": [
    "# sage流量"
   ]
  },
  {
   "cell_type": "code",
   "execution_count": 69,
   "id": "61bfe871",
   "metadata": {
    "ExecuteTime": {
     "end_time": "2022-06-29T01:26:46.900231Z",
     "start_time": "2022-06-29T01:26:46.508098Z"
    }
   },
   "outputs": [],
   "source": [
    "sage_flow_data = pd.read_excel('sage流量.xls')"
   ]
  },
  {
   "cell_type": "code",
   "execution_count": 70,
   "id": "29c96595",
   "metadata": {
    "ExecuteTime": {
     "end_time": "2022-06-29T01:26:47.388684Z",
     "start_time": "2022-06-29T01:26:47.308079Z"
    }
   },
   "outputs": [],
   "source": [
    "product_list = pd.read_excel('SAGE_Product_List.xls')"
   ]
  },
  {
   "cell_type": "code",
   "execution_count": 71,
   "id": "8205a61b",
   "metadata": {
    "ExecuteTime": {
     "end_time": "2022-06-29T01:26:47.969189Z",
     "start_time": "2022-06-29T01:26:47.867393Z"
    }
   },
   "outputs": [
    {
     "data": {
      "text/html": [
       "<div>\n",
       "<style scoped>\n",
       "    .dataframe tbody tr th:only-of-type {\n",
       "        vertical-align: middle;\n",
       "    }\n",
       "\n",
       "    .dataframe tbody tr th {\n",
       "        vertical-align: top;\n",
       "    }\n",
       "\n",
       "    .dataframe thead th {\n",
       "        text-align: right;\n",
       "    }\n",
       "</style>\n",
       "<table border=\"1\" class=\"dataframe\">\n",
       "  <thead>\n",
       "    <tr style=\"text-align: right;\">\n",
       "      <th></th>\n",
       "      <th>ItemNum</th>\n",
       "      <th>ProductName</th>\n",
       "      <th>OnlineViews</th>\n",
       "      <th>AddedToPres</th>\n",
       "      <th>AddedToPC</th>\n",
       "      <th>AddedToOrder</th>\n",
       "    </tr>\n",
       "  </thead>\n",
       "  <tbody>\n",
       "    <tr>\n",
       "      <th>0</th>\n",
       "      <td>120044</td>\n",
       "      <td>Silicone Phone Wallet</td>\n",
       "      <td>3</td>\n",
       "      <td>2</td>\n",
       "      <td>2</td>\n",
       "      <td>0</td>\n",
       "    </tr>\n",
       "    <tr>\n",
       "      <th>1</th>\n",
       "      <td>120090</td>\n",
       "      <td>6 in 1 Multi Functional Engineer Tool Pen</td>\n",
       "      <td>4</td>\n",
       "      <td>0</td>\n",
       "      <td>0</td>\n",
       "      <td>0</td>\n",
       "    </tr>\n",
       "    <tr>\n",
       "      <th>2</th>\n",
       "      <td>120337</td>\n",
       "      <td>Plastic Hotel Keychain / Motel Key Tag</td>\n",
       "      <td>6</td>\n",
       "      <td>4</td>\n",
       "      <td>4</td>\n",
       "      <td>0</td>\n",
       "    </tr>\n",
       "    <tr>\n",
       "      <th>3</th>\n",
       "      <td>120356</td>\n",
       "      <td>Non-Woven Value Tote Bag</td>\n",
       "      <td>1</td>\n",
       "      <td>0</td>\n",
       "      <td>0</td>\n",
       "      <td>0</td>\n",
       "    </tr>\n",
       "    <tr>\n",
       "      <th>4</th>\n",
       "      <td>120356-OCEAN</td>\n",
       "      <td>Non-Woven Value Tote Bag</td>\n",
       "      <td>1</td>\n",
       "      <td>0</td>\n",
       "      <td>0</td>\n",
       "      <td>0</td>\n",
       "    </tr>\n",
       "    <tr>\n",
       "      <th>...</th>\n",
       "      <td>...</td>\n",
       "      <td>...</td>\n",
       "      <td>...</td>\n",
       "      <td>...</td>\n",
       "      <td>...</td>\n",
       "      <td>...</td>\n",
       "    </tr>\n",
       "    <tr>\n",
       "      <th>362</th>\n",
       "      <td>301044</td>\n",
       "      <td>Waffle Golf Towel With Carabiner Clip</td>\n",
       "      <td>3</td>\n",
       "      <td>1</td>\n",
       "      <td>1</td>\n",
       "      <td>0</td>\n",
       "    </tr>\n",
       "    <tr>\n",
       "      <th>363</th>\n",
       "      <td>301069</td>\n",
       "      <td>10' X 20' Tent W/ Full Color Canopy And Back Wall</td>\n",
       "      <td>1</td>\n",
       "      <td>1</td>\n",
       "      <td>0</td>\n",
       "      <td>0</td>\n",
       "    </tr>\n",
       "    <tr>\n",
       "      <th>364</th>\n",
       "      <td>301136</td>\n",
       "      <td>Outdoor Tactical Sling Bag Backpack</td>\n",
       "      <td>2</td>\n",
       "      <td>0</td>\n",
       "      <td>0</td>\n",
       "      <td>0</td>\n",
       "    </tr>\n",
       "    <tr>\n",
       "      <th>365</th>\n",
       "      <td>301291</td>\n",
       "      <td>Custom Sublimation Board Shorts-135gsm Stretch...</td>\n",
       "      <td>1</td>\n",
       "      <td>0</td>\n",
       "      <td>0</td>\n",
       "      <td>0</td>\n",
       "    </tr>\n",
       "    <tr>\n",
       "      <th>366</th>\n",
       "      <td>301398</td>\n",
       "      <td>7 Can Insulated Beverage Golf Bag Cooler Sleeve</td>\n",
       "      <td>3</td>\n",
       "      <td>1</td>\n",
       "      <td>1</td>\n",
       "      <td>0</td>\n",
       "    </tr>\n",
       "  </tbody>\n",
       "</table>\n",
       "<p>367 rows × 6 columns</p>\n",
       "</div>"
      ],
      "text/plain": [
       "          ItemNum                                        ProductName  \\\n",
       "0          120044                              Silicone Phone Wallet   \n",
       "1          120090          6 in 1 Multi Functional Engineer Tool Pen   \n",
       "2          120337             Plastic Hotel Keychain / Motel Key Tag   \n",
       "3          120356                           Non-Woven Value Tote Bag   \n",
       "4    120356-OCEAN                           Non-Woven Value Tote Bag   \n",
       "..            ...                                                ...   \n",
       "362        301044              Waffle Golf Towel With Carabiner Clip   \n",
       "363        301069  10' X 20' Tent W/ Full Color Canopy And Back Wall   \n",
       "364        301136                Outdoor Tactical Sling Bag Backpack   \n",
       "365        301291  Custom Sublimation Board Shorts-135gsm Stretch...   \n",
       "366        301398    7 Can Insulated Beverage Golf Bag Cooler Sleeve   \n",
       "\n",
       "     OnlineViews  AddedToPres  AddedToPC  AddedToOrder  \n",
       "0              3            2          2             0  \n",
       "1              4            0          0             0  \n",
       "2              6            4          4             0  \n",
       "3              1            0          0             0  \n",
       "4              1            0          0             0  \n",
       "..           ...          ...        ...           ...  \n",
       "362            3            1          1             0  \n",
       "363            1            1          0             0  \n",
       "364            2            0          0             0  \n",
       "365            1            0          0             0  \n",
       "366            3            1          1             0  \n",
       "\n",
       "[367 rows x 6 columns]"
      ]
     },
     "execution_count": 71,
     "metadata": {},
     "output_type": "execute_result"
    }
   ],
   "source": [
    "sage_flow_data"
   ]
  },
  {
   "cell_type": "code",
   "execution_count": 72,
   "id": "30b1ae0b",
   "metadata": {
    "ExecuteTime": {
     "end_time": "2022-06-29T01:26:48.393979Z",
     "start_time": "2022-06-29T01:26:48.369045Z"
    }
   },
   "outputs": [
    {
     "data": {
      "text/html": [
       "<div>\n",
       "<style scoped>\n",
       "    .dataframe tbody tr th:only-of-type {\n",
       "        vertical-align: middle;\n",
       "    }\n",
       "\n",
       "    .dataframe tbody tr th {\n",
       "        vertical-align: top;\n",
       "    }\n",
       "\n",
       "    .dataframe thead th {\n",
       "        text-align: right;\n",
       "    }\n",
       "</style>\n",
       "<table border=\"1\" class=\"dataframe\">\n",
       "  <thead>\n",
       "    <tr style=\"text-align: right;\">\n",
       "      <th></th>\n",
       "      <th>ItemNum</th>\n",
       "      <th>Name</th>\n",
       "    </tr>\n",
       "  </thead>\n",
       "  <tbody>\n",
       "    <tr>\n",
       "      <th>0</th>\n",
       "      <td>120044</td>\n",
       "      <td>Silicone Phone Wallet</td>\n",
       "    </tr>\n",
       "    <tr>\n",
       "      <th>1</th>\n",
       "      <td>120082</td>\n",
       "      <td>6 in 1 Multi Functional Stylus Tool Pen</td>\n",
       "    </tr>\n",
       "    <tr>\n",
       "      <th>2</th>\n",
       "      <td>120090</td>\n",
       "      <td>6 in 1 Multi Functional Engineer Tool Pen</td>\n",
       "    </tr>\n",
       "    <tr>\n",
       "      <th>3</th>\n",
       "      <td>120337</td>\n",
       "      <td>Plastic Hotel Keychain / Motel Key Tag</td>\n",
       "    </tr>\n",
       "    <tr>\n",
       "      <th>4</th>\n",
       "      <td>120356</td>\n",
       "      <td>Non-Woven Value Tote Bag</td>\n",
       "    </tr>\n",
       "    <tr>\n",
       "      <th>...</th>\n",
       "      <td>...</td>\n",
       "      <td>...</td>\n",
       "    </tr>\n",
       "    <tr>\n",
       "      <th>655</th>\n",
       "      <td>301291</td>\n",
       "      <td>Custom Sublimation Board Shorts-135gsm Stretch...</td>\n",
       "    </tr>\n",
       "    <tr>\n",
       "      <th>656</th>\n",
       "      <td>301292</td>\n",
       "      <td>Custom Sublimation Board Shorts-160gsm Quick D...</td>\n",
       "    </tr>\n",
       "    <tr>\n",
       "      <th>657</th>\n",
       "      <td>301398</td>\n",
       "      <td>7 Can Insulated Beverage Golf Bag Cooler Sleeve</td>\n",
       "    </tr>\n",
       "    <tr>\n",
       "      <th>658</th>\n",
       "      <td>301450</td>\n",
       "      <td>Waterproof 15.6\" Camo Laptop Backpack</td>\n",
       "    </tr>\n",
       "    <tr>\n",
       "      <th>659</th>\n",
       "      <td>301612</td>\n",
       "      <td>Men's Premium Full Sublimation 2-Button Front ...</td>\n",
       "    </tr>\n",
       "  </tbody>\n",
       "</table>\n",
       "<p>660 rows × 2 columns</p>\n",
       "</div>"
      ],
      "text/plain": [
       "    ItemNum                                               Name\n",
       "0    120044                              Silicone Phone Wallet\n",
       "1    120082            6 in 1 Multi Functional Stylus Tool Pen\n",
       "2    120090          6 in 1 Multi Functional Engineer Tool Pen\n",
       "3    120337             Plastic Hotel Keychain / Motel Key Tag\n",
       "4    120356                           Non-Woven Value Tote Bag\n",
       "..      ...                                                ...\n",
       "655  301291  Custom Sublimation Board Shorts-135gsm Stretch...\n",
       "656  301292  Custom Sublimation Board Shorts-160gsm Quick D...\n",
       "657  301398    7 Can Insulated Beverage Golf Bag Cooler Sleeve\n",
       "658  301450              Waterproof 15.6\" Camo Laptop Backpack\n",
       "659  301612  Men's Premium Full Sublimation 2-Button Front ...\n",
       "\n",
       "[660 rows x 2 columns]"
      ]
     },
     "execution_count": 72,
     "metadata": {},
     "output_type": "execute_result"
    }
   ],
   "source": [
    "product_list"
   ]
  },
  {
   "cell_type": "code",
   "execution_count": 73,
   "id": "35ac2fa3",
   "metadata": {
    "ExecuteTime": {
     "end_time": "2022-06-29T01:26:48.975036Z",
     "start_time": "2022-06-29T01:26:48.849373Z"
    }
   },
   "outputs": [],
   "source": [
    "sage_flow_data = pd.merge(product_list, sage_flow_data, on = 'ItemNum', how='left')"
   ]
  },
  {
   "cell_type": "code",
   "execution_count": 74,
   "id": "90db2b3f",
   "metadata": {
    "ExecuteTime": {
     "end_time": "2022-06-29T01:26:49.536668Z",
     "start_time": "2022-06-29T01:26:49.461807Z"
    }
   },
   "outputs": [],
   "source": [
    "# 编码拆分\n",
    "def split_num(x):\n",
    "    if x:\n",
    "        regex = '([0-9]+-?[0-9]+)'\n",
    "        result = re.compile(regex).search(x).group()\n",
    "        if result:\n",
    "            return result\n",
    "        else:\n",
    "            return x\n",
    "        \n",
    "def split_remark(x):\n",
    "    if x:\n",
    "        regex = '([A-Za-z]+-?[A-Za-z]+)'\n",
    "#         result = re.compile(regex).search(x).group()\n",
    "        if re.compile(regex).search(x):\n",
    "            return re.compile(regex).search(x).group()\n",
    "        else:\n",
    "            return ''\n",
    "\n",
    "sage_flow_data[\"ItemNum2(不加后缀)\"] = sage_flow_data['ItemNum'].astype(str).apply(split_num)\n",
    "sage_flow_data[\"注释\"] = sage_flow_data['ItemNum'].astype(str).apply(split_remark)"
   ]
  },
  {
   "cell_type": "code",
   "execution_count": 75,
   "id": "1e944ea7",
   "metadata": {
    "ExecuteTime": {
     "end_time": "2022-06-29T01:26:49.882503Z",
     "start_time": "2022-06-29T01:26:49.859565Z"
    }
   },
   "outputs": [],
   "source": [
    "sage_flow_data = sage_flow_data.sort_values(by ='OnlineViews', ascending='True' )"
   ]
  },
  {
   "cell_type": "code",
   "execution_count": 76,
   "id": "2910aba9",
   "metadata": {
    "ExecuteTime": {
     "end_time": "2022-06-29T01:26:50.269505Z",
     "start_time": "2022-06-29T01:26:50.244366Z"
    }
   },
   "outputs": [],
   "source": [
    "sage_flow_data['ItemNum'] = sage_flow_data['ItemNum'].astype(str)\n",
    "sage_flow_data['OnlineViews'] = sage_flow_data['OnlineViews'].fillna(0)\n",
    "sage_flow_data['AddedToPres'] = sage_flow_data['AddedToPres'].fillna(0)\n",
    "sage_flow_data['AddedToPres'] = sage_flow_data['AddedToPres'].fillna(0)\n",
    "sage_flow_data['AddedToOrder'] = sage_flow_data['AddedToOrder'].fillna(0)"
   ]
  },
  {
   "cell_type": "code",
   "execution_count": 77,
   "id": "76e3f8ef",
   "metadata": {
    "ExecuteTime": {
     "end_time": "2022-06-29T01:26:50.678892Z",
     "start_time": "2022-06-29T01:26:50.666889Z"
    }
   },
   "outputs": [],
   "source": [
    "sage_flow_data['年月'] = '2022/6/1'\n",
    "sage_flow_data['月'] = '6'"
   ]
  },
  {
   "cell_type": "code",
   "execution_count": 78,
   "id": "a0f0ec61",
   "metadata": {
    "ExecuteTime": {
     "end_time": "2022-06-29T01:26:51.712472Z",
     "start_time": "2022-06-29T01:26:51.695384Z"
    }
   },
   "outputs": [],
   "source": [
    "sage_flow_data = sage_flow_data[['年月', '月', 'ItemNum', 'Name', 'OnlineViews', 'AddedToPres', 'AddedToPres', 'AddedToOrder', 'ItemNum2(不加后缀)', '注释']]"
   ]
  },
  {
   "cell_type": "code",
   "execution_count": 79,
   "id": "2366d7db",
   "metadata": {
    "ExecuteTime": {
     "end_time": "2022-06-29T01:26:52.979640Z",
     "start_time": "2022-06-29T01:26:52.754200Z"
    }
   },
   "outputs": [],
   "source": [
    "sage_flow_data.to_excel('sage流量结果.xlsx', index=False)"
   ]
  },
  {
   "cell_type": "markdown",
   "id": "39ca73e7",
   "metadata": {},
   "source": [
    "# sage_most_popular"
   ]
  },
  {
   "cell_type": "code",
   "execution_count": 33,
   "id": "db94bebe",
   "metadata": {
    "ExecuteTime": {
     "end_time": "2022-06-28T02:53:32.246218Z",
     "start_time": "2022-06-28T02:53:25.432604Z"
    }
   },
   "outputs": [],
   "source": [
    "popular_data = pd.read_excel('popular.xlsx')"
   ]
  },
  {
   "cell_type": "code",
   "execution_count": 34,
   "id": "3ed5ac86",
   "metadata": {
    "ExecuteTime": {
     "end_time": "2022-06-28T02:53:32.339839Z",
     "start_time": "2022-06-28T02:53:32.249128Z"
    }
   },
   "outputs": [],
   "source": [
    "item_data = pd.read_excel('./辅助数据/sage_item.xlsx')"
   ]
  },
  {
   "cell_type": "code",
   "execution_count": 35,
   "id": "7e8c62c7",
   "metadata": {
    "ExecuteTime": {
     "end_time": "2022-06-28T02:53:32.971219Z",
     "start_time": "2022-06-28T02:53:32.936313Z"
    }
   },
   "outputs": [],
   "source": [
    "popular_data = pd.merge(popular_data, item_data, left_on='产品编号', right_on='item', how='left')"
   ]
  },
  {
   "cell_type": "code",
   "execution_count": 36,
   "id": "4a406e85",
   "metadata": {
    "ExecuteTime": {
     "end_time": "2022-06-28T02:53:33.325529Z",
     "start_time": "2022-06-28T02:53:33.312561Z"
    }
   },
   "outputs": [],
   "source": [
    "popular_data['产品归属'] = popular_data['产品编码']\n",
    "popular_data['来源'] = popular_data['地区']"
   ]
  },
  {
   "cell_type": "code",
   "execution_count": 37,
   "id": "67396706",
   "metadata": {
    "ExecuteTime": {
     "end_time": "2022-06-28T02:53:33.739795Z",
     "start_time": "2022-06-28T02:53:33.698779Z"
    }
   },
   "outputs": [],
   "source": [
    "popular_data['高价'] = popular_data['高价'].apply(lambda x: x.replace('$', ''))\n",
    "popular_data['低价'] = popular_data['低价'].apply(lambda x: x.replace('$', ''))"
   ]
  },
  {
   "cell_type": "code",
   "execution_count": 38,
   "id": "6d954cdb",
   "metadata": {
    "ExecuteTime": {
     "end_time": "2022-06-28T02:53:34.198421Z",
     "start_time": "2022-06-28T02:53:34.169490Z"
    }
   },
   "outputs": [],
   "source": [
    "popular_data[['产品归属', '来源']] = popular_data[['产品归属', '来源']].fillna('竞品')"
   ]
  },
  {
   "cell_type": "code",
   "execution_count": 39,
   "id": "0faff6eb",
   "metadata": {
    "ExecuteTime": {
     "end_time": "2022-06-28T02:53:34.846662Z",
     "start_time": "2022-06-28T02:53:34.839680Z"
    }
   },
   "outputs": [
    {
     "data": {
      "text/plain": [
       "Index(['类型', '产量数量', '产品编号', '产品名称', '产品位置', '低价', '高价', '图片链接', '产品链接', '日期',\n",
       "       'item', '产品编码', '地区', '产品归属', '来源'],\n",
       "      dtype='object')"
      ]
     },
     "execution_count": 39,
     "metadata": {},
     "output_type": "execute_result"
    }
   ],
   "source": [
    "popular_data.columns"
   ]
  },
  {
   "cell_type": "code",
   "execution_count": 40,
   "id": "740b47dd",
   "metadata": {
    "ExecuteTime": {
     "end_time": "2022-06-28T02:53:35.355342Z",
     "start_time": "2022-06-28T02:53:35.337311Z"
    }
   },
   "outputs": [],
   "source": [
    "popular_data.drop(columns=['item', '产品编码', '地区'], inplace=True)"
   ]
  },
  {
   "cell_type": "code",
   "execution_count": 41,
   "id": "0865b293",
   "metadata": {
    "ExecuteTime": {
     "end_time": "2022-06-28T02:53:48.793245Z",
     "start_time": "2022-06-28T02:53:36.023316Z"
    }
   },
   "outputs": [],
   "source": [
    "popular_data.to_excel('sage_most_popular.xlsx', index=False)"
   ]
  },
  {
   "cell_type": "markdown",
   "id": "d4d47650",
   "metadata": {},
   "source": [
    "# 独立站"
   ]
  },
  {
   "cell_type": "code",
   "execution_count": 15,
   "id": "fb9ce539",
   "metadata": {
    "ExecuteTime": {
     "end_time": "2022-06-27T03:46:49.977911Z",
     "start_time": "2022-06-27T03:46:49.914084Z"
    }
   },
   "outputs": [],
   "source": [
    "home = pd.read_csv('shopify_home.csv', dtype={\"page_resource_id\": str})\n",
    "outdoor = pd.read_csv('shopify_outdoor.csv', dtype={\"page_resource_id\": str})"
   ]
  },
  {
   "cell_type": "code",
   "execution_count": 16,
   "id": "ac1ae088",
   "metadata": {
    "ExecuteTime": {
     "end_time": "2022-06-27T03:46:50.473586Z",
     "start_time": "2022-06-27T03:46:50.442668Z"
    }
   },
   "outputs": [],
   "source": [
    "shopify_header = pd.read_excel('./辅助数据/独立站表头.xlsx')"
   ]
  },
  {
   "cell_type": "code",
   "execution_count": 18,
   "id": "eeec19fd",
   "metadata": {
    "ExecuteTime": {
     "end_time": "2022-06-27T03:49:15.426566Z",
     "start_time": "2022-06-27T03:49:15.339799Z"
    }
   },
   "outputs": [],
   "source": [
    "home['day'] = home['day'].apply(lambda x: re.sub(\"-\", \"/\", x)).apply(lambda x: datetime.datetime.strptime(x,'%Y/%m/%d').date())\n",
    "outdoor['day'] = outdoor['day'].apply(lambda x: re.sub(\"-\", \"/\", x)).apply(lambda x: datetime.datetime.strptime(x,'%Y/%m/%d').date())"
   ]
  },
  {
   "cell_type": "code",
   "execution_count": 19,
   "id": "9356eb66",
   "metadata": {
    "ExecuteTime": {
     "end_time": "2022-06-27T03:49:16.007014Z",
     "start_time": "2022-06-27T03:49:15.986070Z"
    }
   },
   "outputs": [],
   "source": [
    "home = home[list(shopify_header)]\n",
    "outdoor = outdoor[list(shopify_header)]"
   ]
  },
  {
   "cell_type": "code",
   "execution_count": 20,
   "id": "9910a8e2",
   "metadata": {
    "ExecuteTime": {
     "end_time": "2022-06-27T03:49:18.324811Z",
     "start_time": "2022-06-27T03:49:16.289259Z"
    }
   },
   "outputs": [],
   "source": [
    "home.to_excel('home数据.xlsx', index=False)\n",
    "outdoor.to_excel('outdoor数据.xlsx', index=False)"
   ]
  },
  {
   "cell_type": "code",
   "execution_count": null,
   "id": "30f425bd",
   "metadata": {},
   "outputs": [],
   "source": []
  },
  {
   "cell_type": "code",
   "execution_count": 63,
   "id": "6a3a4436",
   "metadata": {
    "ExecuteTime": {
     "end_time": "2022-06-28T08:33:31.603936Z",
     "start_time": "2022-06-28T08:33:31.585984Z"
    }
   },
   "outputs": [],
   "source": [
    "a= [[['Heritage-Inspired Textiles Handcrafted by the Afghan Refugee Collective', 'https://www.etsy.com/blog/uplift-makers-afghan-refugee-collective', 'Jun 20, 2022', '9'], ['The Best Towels for Home and Away', 'https://www.etsy.com/blog/best-towels', 'Jun 17, 2022', '3'], ['The Best Patio Furniture for Creating an Outdoor Oasis', 'https://www.etsy.com/blog/best-patio-furniture', 'Jun 14, 2022', 0], ['The 35 Best Planters for Indoor and Outdoor Plants', 'https://www.etsy.com/blog/best-planters', 'May 30, 2022', 0], ['The Best Duvet Covers for the Sweetest of Slumbers', 'https://www.etsy.com/blog/best-duvet-covers', 'May 27, 2022', '3'], ['Decorative Rugs to Transform Your Space', 'https://www.etsy.com/blog/best-rugs', 'May 27, 2022', '0'], ['The Best Floor Lamps to Light Up a Room', 'https://www.etsy.com/blog/best-floor-lamps', 'May 25, 2022', 0], ['Hand-Poured Concrete Home Goods and Gifts from Tara Jayne Designs', 'https://www.etsy.com/blog/featured-shop-tara-jayne-designs', 'May 18, 2022', '11'], ['The 15 Best Shower Curtains for an Instant Bathroom Makeover', 'https://www.etsy.com/blog/best-shower-curtains', 'May 17, 2022', 0], ['The Very Best Blankets for Cozying Up', 'https://www.etsy.com/blog/best-blankets', 'May 16, 2022', 0], ['21 Patio Decor Ideas and Backyard Essentials', 'https://www.etsy.com/blog/patio-decor-ideas', 'May 10, 2022', '25'], ['Cheerful, Gift-Worthy Kitchen Textiles From Softer and Wild', 'https://www.etsy.com/blog/featured-shop-softer-and-wild', 'Apr 25, 2022', '45'], ['11 Easy Ideas for a More Eco-Conscious Lifestyle', 'https://www.etsy.com/blog/eco-friendly-finds-to-celebrate-etsys-net-zero-goal', 'Apr 12, 2022', '78'], ['The Best Floating Shelves to Make the Most of Your Space', 'https://www.etsy.com/blog/best-floating-shelves', 'Apr 8, 2022', '0']]]\n"
   ]
  },
  {
   "cell_type": "code",
   "execution_count": 66,
   "id": "08c7abdb",
   "metadata": {
    "ExecuteTime": {
     "end_time": "2022-06-28T14:14:46.940686Z",
     "start_time": "2022-06-28T14:14:46.918748Z"
    }
   },
   "outputs": [],
   "source": [
    "a = [['1'], ['2']]\n",
    "b = [['3'], ['4']]"
   ]
  },
  {
   "cell_type": "code",
   "execution_count": 67,
   "id": "7aa5ffe9",
   "metadata": {
    "ExecuteTime": {
     "end_time": "2022-06-28T14:14:52.127560Z",
     "start_time": "2022-06-28T14:14:52.101631Z"
    }
   },
   "outputs": [
    {
     "data": {
      "text/plain": [
       "[['1'], ['2'], ['3'], ['4']]"
      ]
     },
     "execution_count": 67,
     "metadata": {},
     "output_type": "execute_result"
    }
   ],
   "source": [
    "a+b"
   ]
  },
  {
   "cell_type": "code",
   "execution_count": 65,
   "id": "719b6ef5",
   "metadata": {
    "ExecuteTime": {
     "end_time": "2022-06-28T08:33:53.381664Z",
     "start_time": "2022-06-28T08:33:53.354736Z"
    }
   },
   "outputs": [
    {
     "data": {
      "text/html": [
       "<div>\n",
       "<style scoped>\n",
       "    .dataframe tbody tr th:only-of-type {\n",
       "        vertical-align: middle;\n",
       "    }\n",
       "\n",
       "    .dataframe tbody tr th {\n",
       "        vertical-align: top;\n",
       "    }\n",
       "\n",
       "    .dataframe thead th {\n",
       "        text-align: right;\n",
       "    }\n",
       "</style>\n",
       "<table border=\"1\" class=\"dataframe\">\n",
       "  <thead>\n",
       "    <tr style=\"text-align: right;\">\n",
       "      <th></th>\n",
       "      <th>0</th>\n",
       "      <th>1</th>\n",
       "      <th>2</th>\n",
       "      <th>3</th>\n",
       "    </tr>\n",
       "  </thead>\n",
       "  <tbody>\n",
       "    <tr>\n",
       "      <th>0</th>\n",
       "      <td>Heritage-Inspired Textiles Handcrafted by the ...</td>\n",
       "      <td>https://www.etsy.com/blog/uplift-makers-afghan...</td>\n",
       "      <td>Jun 20, 2022</td>\n",
       "      <td>9</td>\n",
       "    </tr>\n",
       "    <tr>\n",
       "      <th>1</th>\n",
       "      <td>The Best Towels for Home and Away</td>\n",
       "      <td>https://www.etsy.com/blog/best-towels</td>\n",
       "      <td>Jun 17, 2022</td>\n",
       "      <td>3</td>\n",
       "    </tr>\n",
       "    <tr>\n",
       "      <th>2</th>\n",
       "      <td>The Best Patio Furniture for Creating an Outdo...</td>\n",
       "      <td>https://www.etsy.com/blog/best-patio-furniture</td>\n",
       "      <td>Jun 14, 2022</td>\n",
       "      <td>0</td>\n",
       "    </tr>\n",
       "    <tr>\n",
       "      <th>3</th>\n",
       "      <td>The 35 Best Planters for Indoor and Outdoor Pl...</td>\n",
       "      <td>https://www.etsy.com/blog/best-planters</td>\n",
       "      <td>May 30, 2022</td>\n",
       "      <td>0</td>\n",
       "    </tr>\n",
       "    <tr>\n",
       "      <th>4</th>\n",
       "      <td>The Best Duvet Covers for the Sweetest of Slum...</td>\n",
       "      <td>https://www.etsy.com/blog/best-duvet-covers</td>\n",
       "      <td>May 27, 2022</td>\n",
       "      <td>3</td>\n",
       "    </tr>\n",
       "    <tr>\n",
       "      <th>5</th>\n",
       "      <td>Decorative Rugs to Transform Your Space</td>\n",
       "      <td>https://www.etsy.com/blog/best-rugs</td>\n",
       "      <td>May 27, 2022</td>\n",
       "      <td>0</td>\n",
       "    </tr>\n",
       "    <tr>\n",
       "      <th>6</th>\n",
       "      <td>The Best Floor Lamps to Light Up a Room</td>\n",
       "      <td>https://www.etsy.com/blog/best-floor-lamps</td>\n",
       "      <td>May 25, 2022</td>\n",
       "      <td>0</td>\n",
       "    </tr>\n",
       "    <tr>\n",
       "      <th>7</th>\n",
       "      <td>Hand-Poured Concrete Home Goods and Gifts from...</td>\n",
       "      <td>https://www.etsy.com/blog/featured-shop-tara-j...</td>\n",
       "      <td>May 18, 2022</td>\n",
       "      <td>11</td>\n",
       "    </tr>\n",
       "    <tr>\n",
       "      <th>8</th>\n",
       "      <td>The 15 Best Shower Curtains for an Instant Bat...</td>\n",
       "      <td>https://www.etsy.com/blog/best-shower-curtains</td>\n",
       "      <td>May 17, 2022</td>\n",
       "      <td>0</td>\n",
       "    </tr>\n",
       "    <tr>\n",
       "      <th>9</th>\n",
       "      <td>The Very Best Blankets for Cozying Up</td>\n",
       "      <td>https://www.etsy.com/blog/best-blankets</td>\n",
       "      <td>May 16, 2022</td>\n",
       "      <td>0</td>\n",
       "    </tr>\n",
       "    <tr>\n",
       "      <th>10</th>\n",
       "      <td>21 Patio Decor Ideas and Backyard Essentials</td>\n",
       "      <td>https://www.etsy.com/blog/patio-decor-ideas</td>\n",
       "      <td>May 10, 2022</td>\n",
       "      <td>25</td>\n",
       "    </tr>\n",
       "    <tr>\n",
       "      <th>11</th>\n",
       "      <td>Cheerful, Gift-Worthy Kitchen Textiles From So...</td>\n",
       "      <td>https://www.etsy.com/blog/featured-shop-softer...</td>\n",
       "      <td>Apr 25, 2022</td>\n",
       "      <td>45</td>\n",
       "    </tr>\n",
       "    <tr>\n",
       "      <th>12</th>\n",
       "      <td>11 Easy Ideas for a More Eco-Conscious Lifestyle</td>\n",
       "      <td>https://www.etsy.com/blog/eco-friendly-finds-t...</td>\n",
       "      <td>Apr 12, 2022</td>\n",
       "      <td>78</td>\n",
       "    </tr>\n",
       "    <tr>\n",
       "      <th>13</th>\n",
       "      <td>The Best Floating Shelves to Make the Most of ...</td>\n",
       "      <td>https://www.etsy.com/blog/best-floating-shelves</td>\n",
       "      <td>Apr 8, 2022</td>\n",
       "      <td>0</td>\n",
       "    </tr>\n",
       "  </tbody>\n",
       "</table>\n",
       "</div>"
      ],
      "text/plain": [
       "                                                    0  \\\n",
       "0   Heritage-Inspired Textiles Handcrafted by the ...   \n",
       "1                   The Best Towels for Home and Away   \n",
       "2   The Best Patio Furniture for Creating an Outdo...   \n",
       "3   The 35 Best Planters for Indoor and Outdoor Pl...   \n",
       "4   The Best Duvet Covers for the Sweetest of Slum...   \n",
       "5             Decorative Rugs to Transform Your Space   \n",
       "6             The Best Floor Lamps to Light Up a Room   \n",
       "7   Hand-Poured Concrete Home Goods and Gifts from...   \n",
       "8   The 15 Best Shower Curtains for an Instant Bat...   \n",
       "9               The Very Best Blankets for Cozying Up   \n",
       "10       21 Patio Decor Ideas and Backyard Essentials   \n",
       "11  Cheerful, Gift-Worthy Kitchen Textiles From So...   \n",
       "12   11 Easy Ideas for a More Eco-Conscious Lifestyle   \n",
       "13  The Best Floating Shelves to Make the Most of ...   \n",
       "\n",
       "                                                    1             2   3  \n",
       "0   https://www.etsy.com/blog/uplift-makers-afghan...  Jun 20, 2022   9  \n",
       "1               https://www.etsy.com/blog/best-towels  Jun 17, 2022   3  \n",
       "2      https://www.etsy.com/blog/best-patio-furniture  Jun 14, 2022   0  \n",
       "3             https://www.etsy.com/blog/best-planters  May 30, 2022   0  \n",
       "4         https://www.etsy.com/blog/best-duvet-covers  May 27, 2022   3  \n",
       "5                 https://www.etsy.com/blog/best-rugs  May 27, 2022   0  \n",
       "6          https://www.etsy.com/blog/best-floor-lamps  May 25, 2022   0  \n",
       "7   https://www.etsy.com/blog/featured-shop-tara-j...  May 18, 2022  11  \n",
       "8      https://www.etsy.com/blog/best-shower-curtains  May 17, 2022   0  \n",
       "9             https://www.etsy.com/blog/best-blankets  May 16, 2022   0  \n",
       "10        https://www.etsy.com/blog/patio-decor-ideas  May 10, 2022  25  \n",
       "11  https://www.etsy.com/blog/featured-shop-softer...  Apr 25, 2022  45  \n",
       "12  https://www.etsy.com/blog/eco-friendly-finds-t...  Apr 12, 2022  78  \n",
       "13    https://www.etsy.com/blog/best-floating-shelves   Apr 8, 2022   0  "
      ]
     },
     "execution_count": 65,
     "metadata": {},
     "output_type": "execute_result"
    }
   ],
   "source": [
    "pd.DataFrame(a[0])"
   ]
  },
  {
   "cell_type": "code",
   "execution_count": 58,
   "id": "8b3efc72",
   "metadata": {
    "ExecuteTime": {
     "end_time": "2022-06-28T08:29:49.247574Z",
     "start_time": "2022-06-28T08:29:49.222641Z"
    }
   },
   "outputs": [],
   "source": [
    "data = [['Heritage-Inspired Textiles Handcrafted by the Afghan Refugee Collective', 'https://www.etsy.com/blog/uplift-makers-afghan-refugee-collective', 'Jun 20, 2022', '9'], ['The Best Towels for Home and Away', 'https://www.etsy.com/blog/best-towels', 'Jun 17, 2022', '3'], ['The Best Patio Furniture for Creating an Outdoor Oasis', 'https://www.etsy.com/blog/best-patio-furniture', 'Jun 14, 2022', 0], ['The 35 Best Planters for Indoor and Outdoor Plants', 'https://www.etsy.com/blog/best-planters', 'May 30, 2022', 0], ['The Best Duvet Covers for the Sweetest of Slumbers', 'https://www.etsy.com/blog/best-duvet-covers', 'May 27, 2022', '3'], ['Decorative Rugs to Transform Your Space', 'https://www.etsy.com/blog/best-rugs', 'May 27, 2022', '0'], ['The Best Floor Lamps to Light Up a Room', 'https://www.etsy.com/blog/best-floor-lamps', 'May 25, 2022', 0], ['Hand-Poured Concrete Home Goods and Gifts from Tara Jayne Designs', 'https://www.etsy.com/blog/featured-shop-tara-jayne-designs', 'May 18, 2022', '11'], ['The 15 Best Shower Curtains for an Instant Bathroom Makeover', 'https://www.etsy.com/blog/best-shower-curtains', 'May 17, 2022', 0], ['The Very Best Blankets for Cozying Up', 'https://www.etsy.com/blog/best-blankets', 'May 16, 2022', 0], ['21 Patio Decor Ideas and Backyard Essentials', 'https://www.etsy.com/blog/patio-decor-ideas', 'May 10, 2022', '25'], ['Cheerful, Gift-Worthy Kitchen Textiles From Softer and Wild', 'https://www.etsy.com/blog/featured-shop-softer-and-wild', 'Apr 25, 2022', '45'], ['11 Easy Ideas for a More Eco-Conscious Lifestyle', 'https://www.etsy.com/blog/eco-friendly-finds-to-celebrate-etsys-net-zero-goal', 'Apr 12, 2022', '78'], ['The Best Floating Shelves to Make the Most of Your Space', 'https://www.etsy.com/blog/best-floating-shelves', 'Apr 8, 2022', '0']]"
   ]
  },
  {
   "cell_type": "code",
   "execution_count": 59,
   "id": "b0b08890",
   "metadata": {
    "ExecuteTime": {
     "end_time": "2022-06-28T08:29:50.408467Z",
     "start_time": "2022-06-28T08:29:50.385529Z"
    }
   },
   "outputs": [],
   "source": [
    "f_data = pd.DataFrame(data, columns=['blog_title', 'blog_url', 'blog_time', 'blog_comments'])"
   ]
  },
  {
   "cell_type": "code",
   "execution_count": 60,
   "id": "842d04f3",
   "metadata": {
    "ExecuteTime": {
     "end_time": "2022-06-28T08:29:51.754867Z",
     "start_time": "2022-06-28T08:29:51.740903Z"
    }
   },
   "outputs": [],
   "source": [
    "f_data['blog_time'] = f_data['blog_time'].apply(lambda x: datetime.datetime.strptime(x, \"%b %d, %Y\").date())"
   ]
  },
  {
   "cell_type": "code",
   "execution_count": 61,
   "id": "8cfe6e5e",
   "metadata": {
    "ExecuteTime": {
     "end_time": "2022-06-28T08:29:52.197680Z",
     "start_time": "2022-06-28T08:29:52.179729Z"
    }
   },
   "outputs": [
    {
     "data": {
      "text/plain": [
       "datetime.date(2022, 6, 20)"
      ]
     },
     "execution_count": 61,
     "metadata": {},
     "output_type": "execute_result"
    }
   ],
   "source": [
    "datetime.datetime.strptime('Jun 20, 2022', \"%b %d, %Y\").date()"
   ]
  },
  {
   "cell_type": "code",
   "execution_count": 62,
   "id": "5dd948b2",
   "metadata": {
    "ExecuteTime": {
     "end_time": "2022-06-28T08:29:52.809044Z",
     "start_time": "2022-06-28T08:29:52.785108Z"
    }
   },
   "outputs": [
    {
     "data": {
      "text/html": [
       "<div>\n",
       "<style scoped>\n",
       "    .dataframe tbody tr th:only-of-type {\n",
       "        vertical-align: middle;\n",
       "    }\n",
       "\n",
       "    .dataframe tbody tr th {\n",
       "        vertical-align: top;\n",
       "    }\n",
       "\n",
       "    .dataframe thead th {\n",
       "        text-align: right;\n",
       "    }\n",
       "</style>\n",
       "<table border=\"1\" class=\"dataframe\">\n",
       "  <thead>\n",
       "    <tr style=\"text-align: right;\">\n",
       "      <th></th>\n",
       "      <th>blog_title</th>\n",
       "      <th>blog_url</th>\n",
       "      <th>blog_time</th>\n",
       "      <th>blog_comments</th>\n",
       "    </tr>\n",
       "  </thead>\n",
       "  <tbody>\n",
       "    <tr>\n",
       "      <th>0</th>\n",
       "      <td>Heritage-Inspired Textiles Handcrafted by the ...</td>\n",
       "      <td>https://www.etsy.com/blog/uplift-makers-afghan...</td>\n",
       "      <td>2022-06-20</td>\n",
       "      <td>9</td>\n",
       "    </tr>\n",
       "    <tr>\n",
       "      <th>1</th>\n",
       "      <td>The Best Towels for Home and Away</td>\n",
       "      <td>https://www.etsy.com/blog/best-towels</td>\n",
       "      <td>2022-06-17</td>\n",
       "      <td>3</td>\n",
       "    </tr>\n",
       "    <tr>\n",
       "      <th>2</th>\n",
       "      <td>The Best Patio Furniture for Creating an Outdo...</td>\n",
       "      <td>https://www.etsy.com/blog/best-patio-furniture</td>\n",
       "      <td>2022-06-14</td>\n",
       "      <td>0</td>\n",
       "    </tr>\n",
       "    <tr>\n",
       "      <th>3</th>\n",
       "      <td>The 35 Best Planters for Indoor and Outdoor Pl...</td>\n",
       "      <td>https://www.etsy.com/blog/best-planters</td>\n",
       "      <td>2022-05-30</td>\n",
       "      <td>0</td>\n",
       "    </tr>\n",
       "    <tr>\n",
       "      <th>4</th>\n",
       "      <td>The Best Duvet Covers for the Sweetest of Slum...</td>\n",
       "      <td>https://www.etsy.com/blog/best-duvet-covers</td>\n",
       "      <td>2022-05-27</td>\n",
       "      <td>3</td>\n",
       "    </tr>\n",
       "    <tr>\n",
       "      <th>5</th>\n",
       "      <td>Decorative Rugs to Transform Your Space</td>\n",
       "      <td>https://www.etsy.com/blog/best-rugs</td>\n",
       "      <td>2022-05-27</td>\n",
       "      <td>0</td>\n",
       "    </tr>\n",
       "    <tr>\n",
       "      <th>6</th>\n",
       "      <td>The Best Floor Lamps to Light Up a Room</td>\n",
       "      <td>https://www.etsy.com/blog/best-floor-lamps</td>\n",
       "      <td>2022-05-25</td>\n",
       "      <td>0</td>\n",
       "    </tr>\n",
       "    <tr>\n",
       "      <th>7</th>\n",
       "      <td>Hand-Poured Concrete Home Goods and Gifts from...</td>\n",
       "      <td>https://www.etsy.com/blog/featured-shop-tara-j...</td>\n",
       "      <td>2022-05-18</td>\n",
       "      <td>11</td>\n",
       "    </tr>\n",
       "    <tr>\n",
       "      <th>8</th>\n",
       "      <td>The 15 Best Shower Curtains for an Instant Bat...</td>\n",
       "      <td>https://www.etsy.com/blog/best-shower-curtains</td>\n",
       "      <td>2022-05-17</td>\n",
       "      <td>0</td>\n",
       "    </tr>\n",
       "    <tr>\n",
       "      <th>9</th>\n",
       "      <td>The Very Best Blankets for Cozying Up</td>\n",
       "      <td>https://www.etsy.com/blog/best-blankets</td>\n",
       "      <td>2022-05-16</td>\n",
       "      <td>0</td>\n",
       "    </tr>\n",
       "    <tr>\n",
       "      <th>10</th>\n",
       "      <td>21 Patio Decor Ideas and Backyard Essentials</td>\n",
       "      <td>https://www.etsy.com/blog/patio-decor-ideas</td>\n",
       "      <td>2022-05-10</td>\n",
       "      <td>25</td>\n",
       "    </tr>\n",
       "    <tr>\n",
       "      <th>11</th>\n",
       "      <td>Cheerful, Gift-Worthy Kitchen Textiles From So...</td>\n",
       "      <td>https://www.etsy.com/blog/featured-shop-softer...</td>\n",
       "      <td>2022-04-25</td>\n",
       "      <td>45</td>\n",
       "    </tr>\n",
       "    <tr>\n",
       "      <th>12</th>\n",
       "      <td>11 Easy Ideas for a More Eco-Conscious Lifestyle</td>\n",
       "      <td>https://www.etsy.com/blog/eco-friendly-finds-t...</td>\n",
       "      <td>2022-04-12</td>\n",
       "      <td>78</td>\n",
       "    </tr>\n",
       "    <tr>\n",
       "      <th>13</th>\n",
       "      <td>The Best Floating Shelves to Make the Most of ...</td>\n",
       "      <td>https://www.etsy.com/blog/best-floating-shelves</td>\n",
       "      <td>2022-04-08</td>\n",
       "      <td>0</td>\n",
       "    </tr>\n",
       "  </tbody>\n",
       "</table>\n",
       "</div>"
      ],
      "text/plain": [
       "                                           blog_title  \\\n",
       "0   Heritage-Inspired Textiles Handcrafted by the ...   \n",
       "1                   The Best Towels for Home and Away   \n",
       "2   The Best Patio Furniture for Creating an Outdo...   \n",
       "3   The 35 Best Planters for Indoor and Outdoor Pl...   \n",
       "4   The Best Duvet Covers for the Sweetest of Slum...   \n",
       "5             Decorative Rugs to Transform Your Space   \n",
       "6             The Best Floor Lamps to Light Up a Room   \n",
       "7   Hand-Poured Concrete Home Goods and Gifts from...   \n",
       "8   The 15 Best Shower Curtains for an Instant Bat...   \n",
       "9               The Very Best Blankets for Cozying Up   \n",
       "10       21 Patio Decor Ideas and Backyard Essentials   \n",
       "11  Cheerful, Gift-Worthy Kitchen Textiles From So...   \n",
       "12   11 Easy Ideas for a More Eco-Conscious Lifestyle   \n",
       "13  The Best Floating Shelves to Make the Most of ...   \n",
       "\n",
       "                                             blog_url   blog_time  \\\n",
       "0   https://www.etsy.com/blog/uplift-makers-afghan...  2022-06-20   \n",
       "1               https://www.etsy.com/blog/best-towels  2022-06-17   \n",
       "2      https://www.etsy.com/blog/best-patio-furniture  2022-06-14   \n",
       "3             https://www.etsy.com/blog/best-planters  2022-05-30   \n",
       "4         https://www.etsy.com/blog/best-duvet-covers  2022-05-27   \n",
       "5                 https://www.etsy.com/blog/best-rugs  2022-05-27   \n",
       "6          https://www.etsy.com/blog/best-floor-lamps  2022-05-25   \n",
       "7   https://www.etsy.com/blog/featured-shop-tara-j...  2022-05-18   \n",
       "8      https://www.etsy.com/blog/best-shower-curtains  2022-05-17   \n",
       "9             https://www.etsy.com/blog/best-blankets  2022-05-16   \n",
       "10        https://www.etsy.com/blog/patio-decor-ideas  2022-05-10   \n",
       "11  https://www.etsy.com/blog/featured-shop-softer...  2022-04-25   \n",
       "12  https://www.etsy.com/blog/eco-friendly-finds-t...  2022-04-12   \n",
       "13    https://www.etsy.com/blog/best-floating-shelves  2022-04-08   \n",
       "\n",
       "   blog_comments  \n",
       "0              9  \n",
       "1              3  \n",
       "2              0  \n",
       "3              0  \n",
       "4              3  \n",
       "5              0  \n",
       "6              0  \n",
       "7             11  \n",
       "8              0  \n",
       "9              0  \n",
       "10            25  \n",
       "11            45  \n",
       "12            78  \n",
       "13             0  "
      ]
     },
     "execution_count": 62,
     "metadata": {},
     "output_type": "execute_result"
    }
   ],
   "source": [
    "f_data"
   ]
  },
  {
   "cell_type": "code",
   "execution_count": null,
   "id": "4c035041",
   "metadata": {},
   "outputs": [],
   "source": []
  },
  {
   "cell_type": "code",
   "execution_count": 80,
   "id": "3d715eed",
   "metadata": {
    "ExecuteTime": {
     "end_time": "2022-06-29T02:43:21.274042Z",
     "start_time": "2022-06-29T02:43:21.248112Z"
    }
   },
   "outputs": [],
   "source": [
    "url = 'https://www.etsy.com/listing/1000759717/myra-genuine-leather-and-hair-on-cowhide?click_key=4826816347be55f44cfa1f36d60f2d0408fb9f25%3A1000759717&click_sum=687815b6&ga_order=most_relevant&ga_search_type=all&ga_view_type=gallery&ga_search_query=&ref=listing_grid-1-4&frs=1'"
   ]
  },
  {
   "cell_type": "code",
   "execution_count": 85,
   "id": "17b1342f",
   "metadata": {
    "ExecuteTime": {
     "end_time": "2022-06-29T02:44:37.252695Z",
     "start_time": "2022-06-29T02:44:37.242721Z"
    }
   },
   "outputs": [],
   "source": [
    "id = re.search('https://www.etsy.com/listing/(\\d+?)/', url).group(1)"
   ]
  },
  {
   "cell_type": "code",
   "execution_count": 86,
   "id": "a2b1118f",
   "metadata": {
    "ExecuteTime": {
     "end_time": "2022-06-29T02:44:37.470112Z",
     "start_time": "2022-06-29T02:44:37.459142Z"
    }
   },
   "outputs": [
    {
     "data": {
      "text/plain": [
       "'1000759717'"
      ]
     },
     "execution_count": 86,
     "metadata": {},
     "output_type": "execute_result"
    }
   ],
   "source": [
    "id"
   ]
  },
  {
   "cell_type": "code",
   "execution_count": null,
   "id": "f991aaa7",
   "metadata": {},
   "outputs": [],
   "source": []
  }
 ],
 "metadata": {
  "kernelspec": {
   "display_name": "Python 3 (ipykernel)",
   "language": "python",
   "name": "python3"
  },
  "language_info": {
   "codemirror_mode": {
    "name": "ipython",
    "version": 3
   },
   "file_extension": ".py",
   "mimetype": "text/x-python",
   "name": "python",
   "nbconvert_exporter": "python",
   "pygments_lexer": "ipython3",
   "version": "3.9.7"
  },
  "toc": {
   "base_numbering": 1,
   "nav_menu": {},
   "number_sections": true,
   "sideBar": true,
   "skip_h1_title": false,
   "title_cell": "Table of Contents",
   "title_sidebar": "Contents",
   "toc_cell": false,
   "toc_position": {
    "height": "calc(100% - 180px)",
    "left": "10px",
    "top": "150px",
    "width": "384px"
   },
   "toc_section_display": true,
   "toc_window_display": true
  },
  "varInspector": {
   "cols": {
    "lenName": 16,
    "lenType": 16,
    "lenVar": 40
   },
   "kernels_config": {
    "python": {
     "delete_cmd_postfix": "",
     "delete_cmd_prefix": "del ",
     "library": "var_list.py",
     "varRefreshCmd": "print(var_dic_list())"
    },
    "r": {
     "delete_cmd_postfix": ") ",
     "delete_cmd_prefix": "rm(",
     "library": "var_list.r",
     "varRefreshCmd": "cat(var_dic_list()) "
    }
   },
   "types_to_exclude": [
    "module",
    "function",
    "builtin_function_or_method",
    "instance",
    "_Feature"
   ],
   "window_display": false
  }
 },
 "nbformat": 4,
 "nbformat_minor": 5
}

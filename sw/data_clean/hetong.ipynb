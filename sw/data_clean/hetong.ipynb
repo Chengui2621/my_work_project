{
 "cells": [
  {
   "cell_type": "code",
   "execution_count": 54,
   "metadata": {
    "ExecuteTime": {
     "end_time": "2022-06-24T05:16:25.891270Z",
     "start_time": "2022-06-24T05:16:25.853371Z"
    }
   },
   "outputs": [],
   "source": [
    "import pandas as pd\n",
    "import re\n",
    "import numpy as np\n",
    "import datetime"
   ]
  },
  {
   "cell_type": "markdown",
   "metadata": {},
   "source": [
    "# 销售订单数据"
   ]
  },
  {
   "cell_type": "code",
   "execution_count": 55,
   "metadata": {
    "ExecuteTime": {
     "end_time": "2022-06-24T05:21:59.871519Z",
     "start_time": "2022-06-24T05:21:59.835617Z"
    }
   },
   "outputs": [],
   "source": [
    "# 预先处理好业务员、采购员名称、产品名称、地区"
   ]
  },
  {
   "cell_type": "code",
   "execution_count": 56,
   "metadata": {
    "ExecuteTime": {
     "end_time": "2022-06-24T05:22:01.900092Z",
     "start_time": "2022-06-24T05:22:00.093925Z"
    }
   },
   "outputs": [],
   "source": [
    "original_data = pd.read_excel('销售订单.xls', dtype=object)"
   ]
  },
  {
   "cell_type": "code",
   "execution_count": 57,
   "metadata": {
    "ExecuteTime": {
     "end_time": "2022-06-24T05:22:02.604208Z",
     "start_time": "2022-06-24T05:22:02.355874Z"
    },
    "collapsed": true
   },
   "outputs": [
    {
     "data": {
      "text/html": [
       "<div>\n",
       "<style scoped>\n",
       "    .dataframe tbody tr th:only-of-type {\n",
       "        vertical-align: middle;\n",
       "    }\n",
       "\n",
       "    .dataframe tbody tr th {\n",
       "        vertical-align: top;\n",
       "    }\n",
       "\n",
       "    .dataframe thead th {\n",
       "        text-align: right;\n",
       "    }\n",
       "</style>\n",
       "<table border=\"1\" class=\"dataframe\">\n",
       "  <thead>\n",
       "    <tr style=\"text-align: right;\">\n",
       "      <th></th>\n",
       "      <th>合同号</th>\n",
       "      <th>合同总价</th>\n",
       "      <th>产品编码</th>\n",
       "      <th>产品数量</th>\n",
       "      <th>产品sku</th>\n",
       "      <th>产品中文名称</th>\n",
       "      <th>产品英文名称</th>\n",
       "      <th>产品分类</th>\n",
       "      <th>产品金额</th>\n",
       "      <th>其他金额</th>\n",
       "      <th>...</th>\n",
       "      <th>创建时间</th>\n",
       "      <th>订单状态</th>\n",
       "      <th>审核时间</th>\n",
       "      <th>采购员</th>\n",
       "      <th>是否采购</th>\n",
       "      <th>采购员地区</th>\n",
       "      <th>产品线</th>\n",
       "      <th>产品类型</th>\n",
       "      <th>备注</th>\n",
       "      <th>ID</th>\n",
       "    </tr>\n",
       "  </thead>\n",
       "  <tbody>\n",
       "    <tr>\n",
       "      <th>0</th>\n",
       "      <td>ORP22237377</td>\n",
       "      <td>5540</td>\n",
       "      <td>123926</td>\n",
       "      <td>10000</td>\n",
       "      <td>123926-17</td>\n",
       "      <td>涤纶抽绳包</td>\n",
       "      <td>Budget Custom Drawstring Bag with Reinforced C...</td>\n",
       "      <td>包/抽绳包</td>\n",
       "      <td>5500</td>\n",
       "      <td>40</td>\n",
       "      <td>...</td>\n",
       "      <td>2022-02-17 13:38:35</td>\n",
       "      <td>已完成</td>\n",
       "      <td>2022-02-17 16:04:06</td>\n",
       "      <td>周盼盼</td>\n",
       "      <td>是</td>\n",
       "      <td>合肥</td>\n",
       "      <td>抽绳包</td>\n",
       "      <td>标准品</td>\n",
       "      <td>返单，前期订单RP21060472(logo不一样）,走海运（有报价）  无明确交期  确认...</td>\n",
       "      <td>0</td>\n",
       "    </tr>\n",
       "    <tr>\n",
       "      <th>1</th>\n",
       "      <td>ORG22245176</td>\n",
       "      <td>620</td>\n",
       "      <td>123926</td>\n",
       "      <td>550</td>\n",
       "      <td>123926-18</td>\n",
       "      <td>涤纶抽绳包</td>\n",
       "      <td>Budget Custom Drawstring Bag with Reinforced C...</td>\n",
       "      <td>包/抽绳包</td>\n",
       "      <td>495</td>\n",
       "      <td>125</td>\n",
       "      <td>...</td>\n",
       "      <td>2022-02-18 13:58:51</td>\n",
       "      <td>待发货</td>\n",
       "      <td>2022-02-18 14:04:38</td>\n",
       "      <td>周盼盼</td>\n",
       "      <td>是</td>\n",
       "      <td>合肥</td>\n",
       "      <td>抽绳包</td>\n",
       "      <td>标准品</td>\n",
       "      <td>2色印刷收65美金运费 (走快递）（有报价）  有明确交期3.9</td>\n",
       "      <td>1</td>\n",
       "    </tr>\n",
       "    <tr>\n",
       "      <th>2</th>\n",
       "      <td>ORG22336866</td>\n",
       "      <td>149</td>\n",
       "      <td>123926</td>\n",
       "      <td>100</td>\n",
       "      <td>123926-16</td>\n",
       "      <td>涤纶抽绳包</td>\n",
       "      <td>Budget Custom Drawstring Bag with Reinforced C...</td>\n",
       "      <td>包/抽绳包</td>\n",
       "      <td>84</td>\n",
       "      <td>65</td>\n",
       "      <td>...</td>\n",
       "      <td>2022-03-04 14:55:16</td>\n",
       "      <td>已完成</td>\n",
       "      <td>2022-03-04 15:43:13</td>\n",
       "      <td>周盼盼</td>\n",
       "      <td>是</td>\n",
       "      <td>合肥</td>\n",
       "      <td>抽绳包</td>\n",
       "      <td>标准品</td>\n",
       "      <td>收25美金运费 走快递（有报价） 有明确交期3.18，  确认并付款后生产5个工作日，但由于...</td>\n",
       "      <td>2</td>\n",
       "    </tr>\n",
       "    <tr>\n",
       "      <th>3</th>\n",
       "      <td>ORP22274942</td>\n",
       "      <td>380</td>\n",
       "      <td>123975</td>\n",
       "      <td>250</td>\n",
       "      <td>123975-17</td>\n",
       "      <td>热封口抽绳袋</td>\n",
       "      <td>Large Non-Woven Drawstring Backpack</td>\n",
       "      <td>包/抽绳包</td>\n",
       "      <td>285</td>\n",
       "      <td>95</td>\n",
       "      <td>...</td>\n",
       "      <td>2022-02-15 13:18:36</td>\n",
       "      <td>已完成</td>\n",
       "      <td>2022-02-15 17:05:06</td>\n",
       "      <td>周盼盼</td>\n",
       "      <td>是</td>\n",
       "      <td>合肥</td>\n",
       "      <td>抽绳包</td>\n",
       "      <td>标准品</td>\n",
       "      <td>返单，前期订单 RP21020562,收60美金运费（快递）（有报价）  有明确交期3.2,...</td>\n",
       "      <td>3</td>\n",
       "    </tr>\n",
       "    <tr>\n",
       "      <th>4</th>\n",
       "      <td>ORP22213390</td>\n",
       "      <td>190.8</td>\n",
       "      <td>122168</td>\n",
       "      <td>250</td>\n",
       "      <td>122168-15</td>\n",
       "      <td>龙虾扣+插扣挂绳</td>\n",
       "      <td>3/4\" Full Color Dye Sublimated Lanyard w/ Lobs...</td>\n",
       "      <td>活动与节日庆祝/挂绳 &amp; 证件套/挂绳</td>\n",
       "      <td>140</td>\n",
       "      <td>50.8</td>\n",
       "      <td>...</td>\n",
       "      <td>2022-02-18 16:27:45</td>\n",
       "      <td>已收货</td>\n",
       "      <td>2022-02-18 16:28:37</td>\n",
       "      <td>马威</td>\n",
       "      <td>是</td>\n",
       "      <td>苏州</td>\n",
       "      <td>挂绳</td>\n",
       "      <td>标准品</td>\n",
       "      <td>NaN</td>\n",
       "      <td>4</td>\n",
       "    </tr>\n",
       "    <tr>\n",
       "      <th>...</th>\n",
       "      <td>...</td>\n",
       "      <td>...</td>\n",
       "      <td>...</td>\n",
       "      <td>...</td>\n",
       "      <td>...</td>\n",
       "      <td>...</td>\n",
       "      <td>...</td>\n",
       "      <td>...</td>\n",
       "      <td>...</td>\n",
       "      <td>...</td>\n",
       "      <td>...</td>\n",
       "      <td>...</td>\n",
       "      <td>...</td>\n",
       "      <td>...</td>\n",
       "      <td>...</td>\n",
       "      <td>...</td>\n",
       "      <td>...</td>\n",
       "      <td>...</td>\n",
       "      <td>...</td>\n",
       "      <td>...</td>\n",
       "      <td>...</td>\n",
       "    </tr>\n",
       "    <tr>\n",
       "      <th>8986</th>\n",
       "      <td>ORP22693889</td>\n",
       "      <td>23275</td>\n",
       "      <td>301728</td>\n",
       "      <td>175000</td>\n",
       "      <td>301728-01</td>\n",
       "      <td>磁贴</td>\n",
       "      <td>MagnetCard</td>\n",
       "      <td>活动与节日庆祝/赛事 &amp; 比赛用品</td>\n",
       "      <td>23275</td>\n",
       "      <td>0</td>\n",
       "      <td>...</td>\n",
       "      <td>2022-06-22 11:51:12</td>\n",
       "      <td>已通过</td>\n",
       "      <td>2022-06-24 09:01:39</td>\n",
       "      <td>NaN</td>\n",
       "      <td>否</td>\n",
       "      <td>NaN</td>\n",
       "      <td>NaN</td>\n",
       "      <td>订制品</td>\n",
       "      <td>NaN</td>\n",
       "      <td>8986</td>\n",
       "    </tr>\n",
       "    <tr>\n",
       "      <th>8987</th>\n",
       "      <td>ORP22657763</td>\n",
       "      <td>640</td>\n",
       "      <td>301729</td>\n",
       "      <td>500</td>\n",
       "      <td>301729-01</td>\n",
       "      <td>手机支架</td>\n",
       "      <td>Cell Phone Holder</td>\n",
       "      <td>电子与科技/手机配件/手机支架</td>\n",
       "      <td>600</td>\n",
       "      <td>40</td>\n",
       "      <td>...</td>\n",
       "      <td>2022-06-24 07:15:19</td>\n",
       "      <td>已通过</td>\n",
       "      <td>2022-06-24 09:51:48</td>\n",
       "      <td>NaN</td>\n",
       "      <td>否</td>\n",
       "      <td>NaN</td>\n",
       "      <td>NaN</td>\n",
       "      <td>订制品</td>\n",
       "      <td>NaN</td>\n",
       "      <td>8987</td>\n",
       "    </tr>\n",
       "    <tr>\n",
       "      <th>8988</th>\n",
       "      <td>ORP22652856</td>\n",
       "      <td>780</td>\n",
       "      <td>301730</td>\n",
       "      <td>50</td>\n",
       "      <td>301730-01</td>\n",
       "      <td>旅行包三件套</td>\n",
       "      <td>Packing Cubes 3 In 1</td>\n",
       "      <td>包/旅行包 &amp; 附件/服装袋</td>\n",
       "      <td>730</td>\n",
       "      <td>50</td>\n",
       "      <td>...</td>\n",
       "      <td>2022-06-24 09:46:32</td>\n",
       "      <td>待发货</td>\n",
       "      <td>2022-06-24 10:40:46</td>\n",
       "      <td>陈坤</td>\n",
       "      <td>是</td>\n",
       "      <td>苏州</td>\n",
       "      <td>NaN</td>\n",
       "      <td>订制品</td>\n",
       "      <td>NaN</td>\n",
       "      <td>8988</td>\n",
       "    </tr>\n",
       "    <tr>\n",
       "      <th>8989</th>\n",
       "      <td>ORP22621984</td>\n",
       "      <td>369</td>\n",
       "      <td>301731</td>\n",
       "      <td>110</td>\n",
       "      <td>301731-01</td>\n",
       "      <td>棒球帽</td>\n",
       "      <td>CUSTOM HAT</td>\n",
       "      <td>服装&amp;配饰/帽子/棒球帽</td>\n",
       "      <td>319</td>\n",
       "      <td>50</td>\n",
       "      <td>...</td>\n",
       "      <td>2022-06-24 10:20:25</td>\n",
       "      <td>待发货</td>\n",
       "      <td>2022-06-24 11:15:04</td>\n",
       "      <td>徐凯</td>\n",
       "      <td>是</td>\n",
       "      <td>苏州</td>\n",
       "      <td>NaN</td>\n",
       "      <td>订制品</td>\n",
       "      <td>NaN</td>\n",
       "      <td>8989</td>\n",
       "    </tr>\n",
       "    <tr>\n",
       "      <th>8990</th>\n",
       "      <td>ORG22647349</td>\n",
       "      <td>210</td>\n",
       "      <td>301732</td>\n",
       "      <td>2</td>\n",
       "      <td>301732-01</td>\n",
       "      <td>简约防盗背包</td>\n",
       "      <td>Small Anti-Theft Backpack</td>\n",
       "      <td>包/背包/电脑双肩包</td>\n",
       "      <td>150</td>\n",
       "      <td>0</td>\n",
       "      <td>...</td>\n",
       "      <td>2022-06-24 11:10:14</td>\n",
       "      <td>已通过</td>\n",
       "      <td>2022-06-24 11:15:29</td>\n",
       "      <td>NaN</td>\n",
       "      <td>否</td>\n",
       "      <td>NaN</td>\n",
       "      <td>双肩包</td>\n",
       "      <td>订制品</td>\n",
       "      <td>NaN</td>\n",
       "      <td>8990</td>\n",
       "    </tr>\n",
       "  </tbody>\n",
       "</table>\n",
       "<p>8991 rows × 31 columns</p>\n",
       "</div>"
      ],
      "text/plain": [
       "              合同号   合同总价    产品编码    产品数量      产品sku    产品中文名称  \\\n",
       "0     ORP22237377   5540  123926   10000  123926-17     涤纶抽绳包   \n",
       "1     ORG22245176    620  123926     550  123926-18     涤纶抽绳包   \n",
       "2     ORG22336866    149  123926     100  123926-16     涤纶抽绳包   \n",
       "3     ORP22274942    380  123975     250  123975-17    热封口抽绳袋   \n",
       "4     ORP22213390  190.8  122168     250  122168-15  龙虾扣+插扣挂绳   \n",
       "...           ...    ...     ...     ...        ...       ...   \n",
       "8986  ORP22693889  23275  301728  175000  301728-01        磁贴   \n",
       "8987  ORP22657763    640  301729     500  301729-01      手机支架   \n",
       "8988  ORP22652856    780  301730      50  301730-01    旅行包三件套   \n",
       "8989  ORP22621984    369  301731     110  301731-01       棒球帽   \n",
       "8990  ORG22647349    210  301732       2  301732-01    简约防盗背包   \n",
       "\n",
       "                                                 产品英文名称                 产品分类  \\\n",
       "0     Budget Custom Drawstring Bag with Reinforced C...                包/抽绳包   \n",
       "1     Budget Custom Drawstring Bag with Reinforced C...                包/抽绳包   \n",
       "2     Budget Custom Drawstring Bag with Reinforced C...                包/抽绳包   \n",
       "3                   Large Non-Woven Drawstring Backpack                包/抽绳包   \n",
       "4     3/4\" Full Color Dye Sublimated Lanyard w/ Lobs...  活动与节日庆祝/挂绳 & 证件套/挂绳   \n",
       "...                                                 ...                  ...   \n",
       "8986                                         MagnetCard    活动与节日庆祝/赛事 & 比赛用品   \n",
       "8987                                  Cell Phone Holder      电子与科技/手机配件/手机支架   \n",
       "8988                               Packing Cubes 3 In 1       包/旅行包 & 附件/服装袋   \n",
       "8989                                         CUSTOM HAT         服装&配饰/帽子/棒球帽   \n",
       "8990                          Small Anti-Theft Backpack           包/背包/电脑双肩包   \n",
       "\n",
       "       产品金额  其他金额  ...                创建时间 订单状态                审核时间  采购员 是否采购  \\\n",
       "0      5500    40  ... 2022-02-17 13:38:35  已完成 2022-02-17 16:04:06  周盼盼    是   \n",
       "1       495   125  ... 2022-02-18 13:58:51  待发货 2022-02-18 14:04:38  周盼盼    是   \n",
       "2        84    65  ... 2022-03-04 14:55:16  已完成 2022-03-04 15:43:13  周盼盼    是   \n",
       "3       285    95  ... 2022-02-15 13:18:36  已完成 2022-02-15 17:05:06  周盼盼    是   \n",
       "4       140  50.8  ... 2022-02-18 16:27:45  已收货 2022-02-18 16:28:37   马威    是   \n",
       "...     ...   ...  ...                 ...  ...                 ...  ...  ...   \n",
       "8986  23275     0  ... 2022-06-22 11:51:12  已通过 2022-06-24 09:01:39  NaN    否   \n",
       "8987    600    40  ... 2022-06-24 07:15:19  已通过 2022-06-24 09:51:48  NaN    否   \n",
       "8988    730    50  ... 2022-06-24 09:46:32  待发货 2022-06-24 10:40:46   陈坤    是   \n",
       "8989    319    50  ... 2022-06-24 10:20:25  待发货 2022-06-24 11:15:04   徐凯    是   \n",
       "8990    150     0  ... 2022-06-24 11:10:14  已通过 2022-06-24 11:15:29  NaN    否   \n",
       "\n",
       "     采购员地区  产品线 产品类型                                                 备注    ID  \n",
       "0       合肥  抽绳包  标准品  返单，前期订单RP21060472(logo不一样）,走海运（有报价）  无明确交期  确认...     0  \n",
       "1       合肥  抽绳包  标准品                   2色印刷收65美金运费 (走快递）（有报价）  有明确交期3.9     1  \n",
       "2       合肥  抽绳包  标准品  收25美金运费 走快递（有报价） 有明确交期3.18，  确认并付款后生产5个工作日，但由于...     2  \n",
       "3       合肥  抽绳包  标准品  返单，前期订单 RP21020562,收60美金运费（快递）（有报价）  有明确交期3.2,...     3  \n",
       "4       苏州   挂绳  标准品                                                NaN     4  \n",
       "...    ...  ...  ...                                                ...   ...  \n",
       "8986   NaN  NaN  订制品                                                NaN  8986  \n",
       "8987   NaN  NaN  订制品                                                NaN  8987  \n",
       "8988    苏州  NaN  订制品                                                NaN  8988  \n",
       "8989    苏州  NaN  订制品                                                NaN  8989  \n",
       "8990   NaN  双肩包  订制品                                                NaN  8990  \n",
       "\n",
       "[8991 rows x 31 columns]"
      ]
     },
     "execution_count": 57,
     "metadata": {},
     "output_type": "execute_result"
    }
   ],
   "source": [
    "f_data = original_data.copy()\n",
    "# f_data = f_data[f_data['产品总价']!=0]\n",
    "f_data = f_data[~((f_data['产品金额']==0)&(f_data['其他金额']==0))]\n",
    "f_data['ID'] = list(range(len(f_data)))\n",
    "f_data=f_data.reset_index(drop=True)\n",
    "f_data"
   ]
  },
  {
   "cell_type": "code",
   "execution_count": 58,
   "metadata": {
    "ExecuteTime": {
     "end_time": "2022-06-24T05:22:03.245549Z",
     "start_time": "2022-06-24T05:22:03.221614Z"
    }
   },
   "outputs": [
    {
     "name": "stdout",
     "output_type": "stream",
     "text": [
      "(8991, 145)\n"
     ]
    }
   ],
   "source": [
    "# print((len(f_data),len(original_data[original_data['产品总价']==0])))\n",
    "print((len(original_data[~((original_data['产品金额']==0)&(original_data['其他金额']==0))]), len(original_data[(original_data['产品金额']==0)&(original_data['其他金额']==0)])))"
   ]
  },
  {
   "cell_type": "code",
   "execution_count": 59,
   "metadata": {
    "ExecuteTime": {
     "end_time": "2022-06-24T05:22:03.989723Z",
     "start_time": "2022-06-24T05:22:03.973767Z"
    }
   },
   "outputs": [
    {
     "name": "stdout",
     "output_type": "stream",
     "text": [
      "145\n"
     ]
    }
   ],
   "source": [
    "print(len(original_data[(original_data['产品金额']==0)&(original_data['其他金额']==0)]))"
   ]
  },
  {
   "cell_type": "markdown",
   "metadata": {},
   "source": [
    "## 产品分类"
   ]
  },
  {
   "cell_type": "code",
   "execution_count": 60,
   "metadata": {
    "ExecuteTime": {
     "end_time": "2022-06-24T05:22:07.559711Z",
     "start_time": "2022-06-24T05:22:07.536773Z"
    },
    "code_folding": [
     0
    ]
   },
   "outputs": [],
   "source": [
    "def divide_type(x):\n",
    "    if type(x) == str and len(x) > 0:\n",
    "        regex_three = '(.*?)/(.*?)/(.*)'\n",
    "        regex_two = '(.*?)/(.*)'   # 非贪婪模式，/后的内容会取不到\n",
    "        result_three = re.compile(regex_three, re.S).search(x)\n",
    "        result_two = re.compile(regex_two, re.S).search(x)\n",
    "        if result_three:\n",
    "            class_one = result_three.group(1)\n",
    "            class_two = result_three.group(2)\n",
    "            class_three = result_three.group(3)\n",
    "            return class_one,class_two,class_three\n",
    "        if result_two:\n",
    "            class_one = result_two.group(1)\n",
    "            class_two = result_two.group(2)\n",
    "            class_three = result_two.group(2)\n",
    "            return class_one,class_two,class_three\n",
    "        if '/' not in x:\n",
    "            class_one = x\n",
    "            class_two = x\n",
    "            class_three = x\n",
    "            return class_one,class_two,class_three\n",
    "    return x"
   ]
  },
  {
   "cell_type": "code",
   "execution_count": 61,
   "metadata": {
    "ExecuteTime": {
     "end_time": "2022-06-24T05:22:08.316686Z",
     "start_time": "2022-06-24T05:22:08.261833Z"
    }
   },
   "outputs": [],
   "source": [
    "f_data['一级分类'] = f_data['产品分类']\n",
    "f_data['二级分类'] = f_data['产品分类'].apply(lambda x: divide_type(x)[1])"
   ]
  },
  {
   "cell_type": "markdown",
   "metadata": {},
   "source": [
    "## 产品总价"
   ]
  },
  {
   "cell_type": "code",
   "execution_count": 62,
   "metadata": {
    "ExecuteTime": {
     "end_time": "2022-06-24T05:22:10.145141Z",
     "start_time": "2022-06-24T05:22:10.126191Z"
    },
    "scrolled": true
   },
   "outputs": [],
   "source": [
    "f_data['产品总价'] = f_data['产品金额']+f_data['其他金额']"
   ]
  },
  {
   "cell_type": "markdown",
   "metadata": {},
   "source": [
    "## 产品颜色"
   ]
  },
  {
   "cell_type": "code",
   "execution_count": 63,
   "metadata": {
    "ExecuteTime": {
     "end_time": "2022-06-24T05:22:11.461619Z",
     "start_time": "2022-06-24T05:22:11.453639Z"
    }
   },
   "outputs": [],
   "source": [
    "f_data['产品颜色'] = f_data['产品规格']"
   ]
  },
  {
   "cell_type": "markdown",
   "metadata": {},
   "source": [
    "## 采购"
   ]
  },
  {
   "cell_type": "code",
   "execution_count": 64,
   "metadata": {
    "ExecuteTime": {
     "end_time": "2022-06-24T05:22:13.237513Z",
     "start_time": "2022-06-24T05:22:13.013115Z"
    }
   },
   "outputs": [],
   "source": [
    "manager_list = pd.read_excel('E:/code/pbi_data/业务员.xlsx', dtype=object)"
   ]
  },
  {
   "cell_type": "code",
   "execution_count": 65,
   "metadata": {
    "ExecuteTime": {
     "end_time": "2022-06-24T05:22:14.013438Z",
     "start_time": "2022-06-24T05:22:14.001471Z"
    }
   },
   "outputs": [],
   "source": [
    "f_data['业务员'] = f_data['业务员英文名']"
   ]
  },
  {
   "cell_type": "code",
   "execution_count": 66,
   "metadata": {
    "ExecuteTime": {
     "end_time": "2022-06-24T05:22:14.770666Z",
     "start_time": "2022-06-24T05:22:14.711825Z"
    }
   },
   "outputs": [
    {
     "data": {
      "text/html": [
       "<div>\n",
       "<style scoped>\n",
       "    .dataframe tbody tr th:only-of-type {\n",
       "        vertical-align: middle;\n",
       "    }\n",
       "\n",
       "    .dataframe tbody tr th {\n",
       "        vertical-align: top;\n",
       "    }\n",
       "\n",
       "    .dataframe thead th {\n",
       "        text-align: right;\n",
       "    }\n",
       "</style>\n",
       "<table border=\"1\" class=\"dataframe\">\n",
       "  <thead>\n",
       "    <tr style=\"text-align: right;\">\n",
       "      <th></th>\n",
       "      <th>合同号</th>\n",
       "      <th>合同总价</th>\n",
       "      <th>产品编码</th>\n",
       "      <th>产品数量</th>\n",
       "      <th>产品sku</th>\n",
       "      <th>产品中文名称</th>\n",
       "      <th>产品英文名称</th>\n",
       "      <th>产品分类</th>\n",
       "      <th>产品金额</th>\n",
       "      <th>其他金额</th>\n",
       "      <th>...</th>\n",
       "      <th>审核时间</th>\n",
       "      <th>采购员</th>\n",
       "      <th>产品线</th>\n",
       "      <th>产品类型</th>\n",
       "      <th>备注</th>\n",
       "      <th>ID</th>\n",
       "      <th>一级分类</th>\n",
       "      <th>二级分类</th>\n",
       "      <th>产品总价</th>\n",
       "      <th>产品颜色</th>\n",
       "    </tr>\n",
       "  </thead>\n",
       "  <tbody>\n",
       "  </tbody>\n",
       "</table>\n",
       "<p>0 rows × 33 columns</p>\n",
       "</div>"
      ],
      "text/plain": [
       "Empty DataFrame\n",
       "Columns: [合同号, 合同总价, 产品编码, 产品数量, 产品sku, 产品中文名称, 产品英文名称, 产品分类, 产品金额, 其他金额, 币种, 税率, 产品规格, 业务员, 业务员英文名, 地区, 客户编码, 客户名称, 客户邮箱, 公司名称, 联系电话, 创建时间, 订单状态, 审核时间, 采购员, 产品线, 产品类型, 备注, ID, 一级分类, 二级分类, 产品总价, 产品颜色]\n",
       "Index: []\n",
       "\n",
       "[0 rows x 33 columns]"
      ]
     },
     "execution_count": 66,
     "metadata": {},
     "output_type": "execute_result"
    }
   ],
   "source": [
    "f_data = f_data.drop(['是否采购', '采购员地区'], axis=1)\n",
    "f_data['采购员'] = f_data['采购员'].fillna('未分配')\n",
    "f_data[f_data['采购员'].isnull()]"
   ]
  },
  {
   "cell_type": "code",
   "execution_count": 67,
   "metadata": {
    "ExecuteTime": {
     "end_time": "2022-06-24T05:22:16.301572Z",
     "start_time": "2022-06-24T05:22:16.230760Z"
    }
   },
   "outputs": [
    {
     "data": {
      "text/html": [
       "<div>\n",
       "<style scoped>\n",
       "    .dataframe tbody tr th:only-of-type {\n",
       "        vertical-align: middle;\n",
       "    }\n",
       "\n",
       "    .dataframe tbody tr th {\n",
       "        vertical-align: top;\n",
       "    }\n",
       "\n",
       "    .dataframe thead th {\n",
       "        text-align: right;\n",
       "    }\n",
       "</style>\n",
       "<table border=\"1\" class=\"dataframe\">\n",
       "  <thead>\n",
       "    <tr style=\"text-align: right;\">\n",
       "      <th></th>\n",
       "      <th>ID</th>\n",
       "      <th>采购员中文</th>\n",
       "      <th>业务员</th>\n",
       "      <th>地区</th>\n",
       "      <th>英文名</th>\n",
       "      <th>采购</th>\n",
       "      <th>是否采购</th>\n",
       "      <th>名</th>\n",
       "      <th>英中名</th>\n",
       "    </tr>\n",
       "  </thead>\n",
       "  <tbody>\n",
       "    <tr>\n",
       "      <th>0</th>\n",
       "      <td>0</td>\n",
       "      <td>周盼盼</td>\n",
       "      <td>周盼盼</td>\n",
       "      <td>合肥</td>\n",
       "      <td>Phoebe Zhou</td>\n",
       "      <td>Phoebe Zhou</td>\n",
       "      <td>是</td>\n",
       "      <td>Phoebe</td>\n",
       "      <td>Phoebe 周盼盼</td>\n",
       "    </tr>\n",
       "    <tr>\n",
       "      <th>1</th>\n",
       "      <td>1</td>\n",
       "      <td>周盼盼</td>\n",
       "      <td>周盼盼</td>\n",
       "      <td>合肥</td>\n",
       "      <td>Phoebe Zhou</td>\n",
       "      <td>Phoebe Zhou</td>\n",
       "      <td>是</td>\n",
       "      <td>Phoebe</td>\n",
       "      <td>Phoebe 周盼盼</td>\n",
       "    </tr>\n",
       "    <tr>\n",
       "      <th>2</th>\n",
       "      <td>2</td>\n",
       "      <td>周盼盼</td>\n",
       "      <td>周盼盼</td>\n",
       "      <td>合肥</td>\n",
       "      <td>Phoebe Zhou</td>\n",
       "      <td>Phoebe Zhou</td>\n",
       "      <td>是</td>\n",
       "      <td>Phoebe</td>\n",
       "      <td>Phoebe 周盼盼</td>\n",
       "    </tr>\n",
       "    <tr>\n",
       "      <th>3</th>\n",
       "      <td>3</td>\n",
       "      <td>周盼盼</td>\n",
       "      <td>周盼盼</td>\n",
       "      <td>合肥</td>\n",
       "      <td>Phoebe Zhou</td>\n",
       "      <td>Phoebe Zhou</td>\n",
       "      <td>是</td>\n",
       "      <td>Phoebe</td>\n",
       "      <td>Phoebe 周盼盼</td>\n",
       "    </tr>\n",
       "    <tr>\n",
       "      <th>4</th>\n",
       "      <td>4</td>\n",
       "      <td>马威</td>\n",
       "      <td>马威</td>\n",
       "      <td>苏州</td>\n",
       "      <td>Jesse Ma</td>\n",
       "      <td>Jesse Ma</td>\n",
       "      <td>是</td>\n",
       "      <td>Jesse</td>\n",
       "      <td>Jesse 马威</td>\n",
       "    </tr>\n",
       "    <tr>\n",
       "      <th>...</th>\n",
       "      <td>...</td>\n",
       "      <td>...</td>\n",
       "      <td>...</td>\n",
       "      <td>...</td>\n",
       "      <td>...</td>\n",
       "      <td>...</td>\n",
       "      <td>...</td>\n",
       "      <td>...</td>\n",
       "      <td>...</td>\n",
       "    </tr>\n",
       "    <tr>\n",
       "      <th>8986</th>\n",
       "      <td>8986</td>\n",
       "      <td>未分配</td>\n",
       "      <td>未分配</td>\n",
       "      <td>NaN</td>\n",
       "      <td>未分配</td>\n",
       "      <td>其他</td>\n",
       "      <td>否</td>\n",
       "      <td>未分配</td>\n",
       "      <td>未分配</td>\n",
       "    </tr>\n",
       "    <tr>\n",
       "      <th>8987</th>\n",
       "      <td>8987</td>\n",
       "      <td>未分配</td>\n",
       "      <td>未分配</td>\n",
       "      <td>NaN</td>\n",
       "      <td>未分配</td>\n",
       "      <td>其他</td>\n",
       "      <td>否</td>\n",
       "      <td>未分配</td>\n",
       "      <td>未分配</td>\n",
       "    </tr>\n",
       "    <tr>\n",
       "      <th>8988</th>\n",
       "      <td>8988</td>\n",
       "      <td>陈坤</td>\n",
       "      <td>陈坤</td>\n",
       "      <td>苏州</td>\n",
       "      <td>Kun Chen</td>\n",
       "      <td>Kun Chen</td>\n",
       "      <td>是</td>\n",
       "      <td>Kun</td>\n",
       "      <td>Kun 陈坤</td>\n",
       "    </tr>\n",
       "    <tr>\n",
       "      <th>8989</th>\n",
       "      <td>8989</td>\n",
       "      <td>徐凯</td>\n",
       "      <td>徐凯</td>\n",
       "      <td>苏州</td>\n",
       "      <td>Kevin Xu</td>\n",
       "      <td>Kevin Xu</td>\n",
       "      <td>是</td>\n",
       "      <td>Kevin</td>\n",
       "      <td>Kevin 徐凯</td>\n",
       "    </tr>\n",
       "    <tr>\n",
       "      <th>8990</th>\n",
       "      <td>8990</td>\n",
       "      <td>未分配</td>\n",
       "      <td>未分配</td>\n",
       "      <td>NaN</td>\n",
       "      <td>未分配</td>\n",
       "      <td>其他</td>\n",
       "      <td>否</td>\n",
       "      <td>未分配</td>\n",
       "      <td>未分配</td>\n",
       "    </tr>\n",
       "  </tbody>\n",
       "</table>\n",
       "<p>8991 rows × 9 columns</p>\n",
       "</div>"
      ],
      "text/plain": [
       "        ID 采购员中文  业务员   地区          英文名           采购 是否采购       名         英中名\n",
       "0        0   周盼盼  周盼盼   合肥  Phoebe Zhou  Phoebe Zhou    是  Phoebe  Phoebe 周盼盼\n",
       "1        1   周盼盼  周盼盼   合肥  Phoebe Zhou  Phoebe Zhou    是  Phoebe  Phoebe 周盼盼\n",
       "2        2   周盼盼  周盼盼   合肥  Phoebe Zhou  Phoebe Zhou    是  Phoebe  Phoebe 周盼盼\n",
       "3        3   周盼盼  周盼盼   合肥  Phoebe Zhou  Phoebe Zhou    是  Phoebe  Phoebe 周盼盼\n",
       "4        4    马威   马威   苏州     Jesse Ma     Jesse Ma    是   Jesse    Jesse 马威\n",
       "...    ...   ...  ...  ...          ...          ...  ...     ...         ...\n",
       "8986  8986   未分配  未分配  NaN          未分配           其他    否     未分配         未分配\n",
       "8987  8987   未分配  未分配  NaN          未分配           其他    否     未分配         未分配\n",
       "8988  8988    陈坤   陈坤   苏州     Kun Chen     Kun Chen    是     Kun      Kun 陈坤\n",
       "8989  8989    徐凯   徐凯   苏州     Kevin Xu     Kevin Xu    是   Kevin    Kevin 徐凯\n",
       "8990  8990   未分配  未分配  NaN          未分配           其他    否     未分配         未分配\n",
       "\n",
       "[8991 rows x 9 columns]"
      ]
     },
     "execution_count": 67,
     "metadata": {},
     "output_type": "execute_result"
    }
   ],
   "source": [
    "f_data.rename(columns={'采购员':'采购员中文'},inplace=True)\n",
    "maneger_data = pd.merge(f_data[['ID', '采购员中文', ]], manager_list,left_on = '采购员中文', right_on = '业务员', how='left')\n",
    "maneger_data"
   ]
  },
  {
   "cell_type": "code",
   "execution_count": 68,
   "metadata": {
    "ExecuteTime": {
     "end_time": "2022-06-24T05:22:17.705813Z",
     "start_time": "2022-06-24T05:22:17.665920Z"
    }
   },
   "outputs": [],
   "source": [
    "f_data.loc[maneger_data['ID'], '采购员'] = maneger_data['英文名']\n",
    "f_data.loc[maneger_data['ID'], '采购'] = maneger_data['采购']\n",
    "f_data.loc[maneger_data['ID'], '是否采购'] = maneger_data['是否采购']\n",
    "#  是采购的，匹配对应地区\n",
    "f_data.loc[maneger_data['ID'], '采购员地区'] = maneger_data[maneger_data['是否采购']=='是']['地区']\n",
    "f_data.loc[f_data['采购员']=='未分配', '是否已分配']='未分配'\n",
    "f_data.loc[f_data['采购员']!='未分配', '是否已分配']='已分配'"
   ]
  },
  {
   "cell_type": "code",
   "execution_count": 69,
   "metadata": {
    "ExecuteTime": {
     "end_time": "2022-06-24T05:22:21.473731Z",
     "start_time": "2022-06-24T05:22:21.445806Z"
    }
   },
   "outputs": [
    {
     "data": {
      "text/plain": [
       "Series([], Name: 采购员中文, dtype: object)"
      ]
     },
     "execution_count": 69,
     "metadata": {},
     "output_type": "execute_result"
    }
   ],
   "source": [
    "f_data[f_data['采购员'].isnull()]['采购员中文']"
   ]
  },
  {
   "cell_type": "code",
   "execution_count": 70,
   "metadata": {
    "ExecuteTime": {
     "end_time": "2022-06-24T05:22:22.323460Z",
     "start_time": "2022-06-24T05:22:22.310494Z"
    }
   },
   "outputs": [],
   "source": [
    "# f_data[f_data['采购员'].isnull()].to_excel('check.xlsx', index=False)"
   ]
  },
  {
   "cell_type": "markdown",
   "metadata": {},
   "source": [
    "## 产线"
   ]
  },
  {
   "cell_type": "code",
   "execution_count": 71,
   "metadata": {
    "ExecuteTime": {
     "end_time": "2022-06-24T05:22:23.871259Z",
     "start_time": "2022-06-24T05:22:23.814411Z"
    }
   },
   "outputs": [
    {
     "data": {
      "text/plain": [
       "7327"
      ]
     },
     "execution_count": 71,
     "metadata": {},
     "output_type": "execute_result"
    }
   ],
   "source": [
    "product_line_data = pd.read_excel('E:/code/pbi_data/产线归属.xlsx', dtype=object)\n",
    "\n",
    "len(f_data[f_data['产品线'].notnull()])"
   ]
  },
  {
   "cell_type": "code",
   "execution_count": 72,
   "metadata": {
    "ExecuteTime": {
     "end_time": "2022-06-24T05:22:24.465650Z",
     "start_time": "2022-06-24T05:22:24.453682Z"
    }
   },
   "outputs": [],
   "source": [
    "# 原始数据产品线为空的，赋值为非产线\n",
    "f_data['产品线'] = f_data['产品线'].fillna('非产线')"
   ]
  },
  {
   "cell_type": "code",
   "execution_count": 73,
   "metadata": {
    "ExecuteTime": {
     "end_time": "2022-06-24T05:22:25.305046Z",
     "start_time": "2022-06-24T05:22:25.253187Z"
    }
   },
   "outputs": [],
   "source": [
    "# 产品线2不为空且不为非产线，即在公司产品线的数据\n",
    "# f_data.rename(columns={'产品线': '产品线2'}, inplace=True)\n",
    "f_productline = f_data[(f_data['产品线'].notnull()) & (f_data['产品线'] != '非产线')]\n",
    "productline_match_data = pd.merge(f_productline[['ID', '地区', '产品分类', '产品线']],\n",
    "                                  product_line_data,\n",
    "                                  left_on='产品线',\n",
    "                                  right_on='产品线2_0',\n",
    "                                  how='left')"
   ]
  },
  {
   "cell_type": "code",
   "execution_count": 74,
   "metadata": {
    "ExecuteTime": {
     "end_time": "2022-06-24T05:22:25.994689Z",
     "start_time": "2022-06-24T05:22:25.982723Z"
    }
   },
   "outputs": [
    {
     "data": {
      "text/plain": [
       "7326"
      ]
     },
     "execution_count": 74,
     "metadata": {},
     "output_type": "execute_result"
    }
   ],
   "source": [
    "len(f_productline)"
   ]
  },
  {
   "cell_type": "code",
   "execution_count": 75,
   "metadata": {
    "ExecuteTime": {
     "end_time": "2022-06-24T05:22:26.752661Z",
     "start_time": "2022-06-24T05:22:26.725735Z"
    }
   },
   "outputs": [],
   "source": [
    "# 产品线2为空或为非产线，即不在公司产品线的数据\n",
    "f_productline_no = f_data[(f_data['产品线'].isnull())|(f_data['产品线']=='非产线')]"
   ]
  },
  {
   "cell_type": "code",
   "execution_count": 76,
   "metadata": {
    "ExecuteTime": {
     "end_time": "2022-06-24T05:22:27.477446Z",
     "start_time": "2022-06-24T05:22:27.469469Z"
    }
   },
   "outputs": [],
   "source": [
    "# 产品名称需核查：产品线2不为空但产线归属为空\n",
    "productline_match_data[productline_match_data['产品线2'].notnull() & productline_match_data['产品线归属'].isnull()]\n",
    "\n",
    "productline_match_data.index = productline_match_data['ID']"
   ]
  },
  {
   "cell_type": "code",
   "execution_count": 77,
   "metadata": {
    "ExecuteTime": {
     "end_time": "2022-06-24T05:22:28.192533Z",
     "start_time": "2022-06-24T05:22:28.157627Z"
    }
   },
   "outputs": [],
   "source": [
    "# 地区与产线归属匹配的，直接赋值产品线2的值\n",
    "temp1 = productline_match_data[productline_match_data['地区'] == productline_match_data['产品线归属']].copy()\n",
    "temp1['产品线']= temp1['产品线2']\n",
    "# 地区与产线归属不匹配的，赋值为非产线\n",
    "temp2 = productline_match_data[productline_match_data['地区'] != productline_match_data['产品线归属']].copy()\n",
    "temp2['产品线'] = '非产线'\n",
    "productline_match_data.loc[temp1['ID'], '产品线']= temp1['产品线']\n",
    "productline_match_data.loc[temp2['ID'], '产品线']= temp2['产品线']\n",
    "\n",
    "# 是否产线。该数据为公司产线数据，故直接赋值为产线\n",
    "productline_match_data['产品线归属'] = '产线'\n",
    "\n",
    "#产品类型\n",
    "productline_match_data.loc[:, '产品类型'] = productline_match_data['产品线2']"
   ]
  },
  {
   "cell_type": "code",
   "execution_count": 78,
   "metadata": {
    "ExecuteTime": {
     "end_time": "2022-06-24T05:22:28.886675Z",
     "start_time": "2022-06-24T05:22:28.869723Z"
    }
   },
   "outputs": [],
   "source": [
    "f_data.loc[productline_match_data['ID'], '产品线'] = productline_match_data['产品线']\n",
    "f_data.loc[productline_match_data['ID'], '产品类型'] = productline_match_data['产品类型']\n",
    "f_data.loc[productline_match_data['ID'], '产品线2'] = productline_match_data['产品线2']\n",
    "f_data.loc[productline_match_data['ID'], '是否产品线'] = productline_match_data['产品线归属']"
   ]
  },
  {
   "cell_type": "code",
   "execution_count": 79,
   "metadata": {
    "ExecuteTime": {
     "end_time": "2022-06-24T05:22:29.518983Z",
     "start_time": "2022-06-24T05:22:29.502029Z"
    }
   },
   "outputs": [],
   "source": [
    "f_data['辅助项']= ''"
   ]
  },
  {
   "cell_type": "code",
   "execution_count": 80,
   "metadata": {
    "ExecuteTime": {
     "end_time": "2022-06-24T05:22:30.259005Z",
     "start_time": "2022-06-24T05:22:30.229085Z"
    }
   },
   "outputs": [
    {
     "name": "stderr",
     "output_type": "stream",
     "text": [
      "C:\\Users\\ADMINI~1\\AppData\\Local\\Temp/ipykernel_12328/4280139119.py:1: SettingWithCopyWarning: \n",
      "A value is trying to be set on a copy of a slice from a DataFrame.\n",
      "Try using .loc[row_indexer,col_indexer] = value instead\n",
      "\n",
      "See the caveats in the documentation: https://pandas.pydata.org/pandas-docs/stable/user_guide/indexing.html#returning-a-view-versus-a-copy\n",
      "  f_productline_no['产品线'] = '非产线'\n",
      "D:\\anaconda\\lib\\site-packages\\pandas\\core\\indexing.py:1773: SettingWithCopyWarning: \n",
      "A value is trying to be set on a copy of a slice from a DataFrame.\n",
      "Try using .loc[row_indexer,col_indexer] = value instead\n",
      "\n",
      "See the caveats in the documentation: https://pandas.pydata.org/pandas-docs/stable/user_guide/indexing.html#returning-a-view-versus-a-copy\n",
      "  self._setitem_single_column(ilocs[0], value, pi)\n",
      "C:\\Users\\ADMINI~1\\AppData\\Local\\Temp/ipykernel_12328/4280139119.py:4: SettingWithCopyWarning: \n",
      "A value is trying to be set on a copy of a slice from a DataFrame.\n",
      "Try using .loc[row_indexer,col_indexer] = value instead\n",
      "\n",
      "See the caveats in the documentation: https://pandas.pydata.org/pandas-docs/stable/user_guide/indexing.html#returning-a-view-versus-a-copy\n",
      "  f_productline_no['产品线归属'] = '非产线'\n"
     ]
    }
   ],
   "source": [
    "f_productline_no['产品线'] = '非产线'\n",
    "\n",
    "f_productline_no.loc[:,'产品类型'] =f_productline_no['产品分类'].apply(lambda x: divide_type(x)[2])\n",
    "f_productline_no['产品线归属'] = '非产线'"
   ]
  },
  {
   "cell_type": "code",
   "execution_count": 81,
   "metadata": {
    "ExecuteTime": {
     "end_time": "2022-06-24T05:22:31.288249Z",
     "start_time": "2022-06-24T05:22:31.269301Z"
    }
   },
   "outputs": [],
   "source": [
    "f_data['产品名称'] = f_data['产品中文名称']"
   ]
  },
  {
   "cell_type": "code",
   "execution_count": 82,
   "metadata": {
    "ExecuteTime": {
     "end_time": "2022-06-24T05:22:32.188013Z",
     "start_time": "2022-06-24T05:22:32.150115Z"
    },
    "scrolled": true
   },
   "outputs": [
    {
     "data": {
      "text/html": [
       "<div>\n",
       "<style scoped>\n",
       "    .dataframe tbody tr th:only-of-type {\n",
       "        vertical-align: middle;\n",
       "    }\n",
       "\n",
       "    .dataframe tbody tr th {\n",
       "        vertical-align: top;\n",
       "    }\n",
       "\n",
       "    .dataframe thead th {\n",
       "        text-align: right;\n",
       "    }\n",
       "</style>\n",
       "<table border=\"1\" class=\"dataframe\">\n",
       "  <thead>\n",
       "    <tr style=\"text-align: right;\">\n",
       "      <th></th>\n",
       "      <th>合同号</th>\n",
       "      <th>合同总价</th>\n",
       "      <th>产品编码</th>\n",
       "      <th>产品数量</th>\n",
       "      <th>产品sku</th>\n",
       "      <th>产品中文名称</th>\n",
       "      <th>产品英文名称</th>\n",
       "      <th>产品分类</th>\n",
       "      <th>产品金额</th>\n",
       "      <th>其他金额</th>\n",
       "      <th>...</th>\n",
       "      <th>产品颜色</th>\n",
       "      <th>采购员</th>\n",
       "      <th>采购</th>\n",
       "      <th>是否采购</th>\n",
       "      <th>采购员地区</th>\n",
       "      <th>是否已分配</th>\n",
       "      <th>产品线2</th>\n",
       "      <th>是否产品线</th>\n",
       "      <th>辅助项</th>\n",
       "      <th>产品名称</th>\n",
       "    </tr>\n",
       "  </thead>\n",
       "  <tbody>\n",
       "  </tbody>\n",
       "</table>\n",
       "<p>0 rows × 42 columns</p>\n",
       "</div>"
      ],
      "text/plain": [
       "Empty DataFrame\n",
       "Columns: [合同号, 合同总价, 产品编码, 产品数量, 产品sku, 产品中文名称, 产品英文名称, 产品分类, 产品金额, 其他金额, 币种, 税率, 产品规格, 业务员, 业务员英文名, 地区, 客户编码, 客户名称, 客户邮箱, 公司名称, 联系电话, 创建时间, 订单状态, 审核时间, 采购员中文, 产品线, 产品类型, 备注, ID, 一级分类, 二级分类, 产品总价, 产品颜色, 采购员, 采购, 是否采购, 采购员地区, 是否已分配, 产品线2, 是否产品线, 辅助项, 产品名称]\n",
       "Index: []\n",
       "\n",
       "[0 rows x 42 columns]"
      ]
     },
     "execution_count": 82,
     "metadata": {},
     "output_type": "execute_result"
    }
   ],
   "source": [
    "f_data.loc[f_productline_no['ID'], '产品线'] = f_productline_no['产品线']\n",
    "f_data.loc[f_productline_no['ID'], '产品类型'] = f_productline_no['产品类型']\n",
    "f_data.loc[f_productline_no['ID'], '产品线2'] = f_productline_no['产品线']\n",
    "f_data.loc[f_productline_no['ID'], '是否产品线'] = f_productline_no['产品线归属']\n",
    "\n",
    "f_data[f_data['产品类型'].isnull()]"
   ]
  },
  {
   "cell_type": "markdown",
   "metadata": {
    "ExecuteTime": {
     "end_time": "2022-05-02T14:22:30.407552Z",
     "start_time": "2022-05-02T14:22:30.368970Z"
    }
   },
   "source": [
    "## 表头"
   ]
  },
  {
   "cell_type": "code",
   "execution_count": 83,
   "metadata": {
    "ExecuteTime": {
     "end_time": "2022-06-24T05:22:34.556448Z",
     "start_time": "2022-06-24T05:22:34.502593Z"
    }
   },
   "outputs": [],
   "source": [
    "header = pd.read_excel('./辅助数据/表头.xlsx',dtype=object)"
   ]
  },
  {
   "cell_type": "code",
   "execution_count": 84,
   "metadata": {
    "ExecuteTime": {
     "end_time": "2022-06-24T05:22:35.323397Z",
     "start_time": "2022-06-24T05:22:35.302452Z"
    }
   },
   "outputs": [],
   "source": [
    "final_data = f_data[list(header)]"
   ]
  },
  {
   "cell_type": "code",
   "execution_count": 86,
   "metadata": {
    "ExecuteTime": {
     "end_time": "2022-06-24T05:23:44.321388Z",
     "start_time": "2022-06-24T05:23:44.296455Z"
    }
   },
   "outputs": [
    {
     "name": "stdout",
     "output_type": "stream",
     "text": [
      "(8991, 145)\n"
     ]
    }
   ],
   "source": [
    "print((len(original_data[~((original_data['产品金额']==0)&(original_data['其他金额']==0))]), len(original_data[(original_data['产品金额']==0)&(original_data['其他金额']==0)])))"
   ]
  },
  {
   "cell_type": "code",
   "execution_count": 85,
   "metadata": {
    "ExecuteTime": {
     "end_time": "2022-06-24T05:22:36.414323Z",
     "start_time": "2022-06-24T05:22:36.405349Z"
    }
   },
   "outputs": [
    {
     "data": {
      "text/plain": [
       "8991"
      ]
     },
     "execution_count": 85,
     "metadata": {},
     "output_type": "execute_result"
    }
   ],
   "source": [
    "len(final_data)"
   ]
  },
  {
   "cell_type": "code",
   "execution_count": 87,
   "metadata": {
    "ExecuteTime": {
     "end_time": "2022-06-24T05:23:54.144324Z",
     "start_time": "2022-06-24T05:23:46.725955Z"
    }
   },
   "outputs": [],
   "source": [
    "final_data.to_excel('维护结果.xlsx', index=False)"
   ]
  },
  {
   "cell_type": "markdown",
   "metadata": {},
   "source": [
    "# 内销数据"
   ]
  },
  {
   "cell_type": "code",
   "execution_count": 88,
   "metadata": {
    "ExecuteTime": {
     "end_time": "2022-06-24T05:41:33.521078Z",
     "start_time": "2022-06-24T05:41:33.503126Z"
    }
   },
   "outputs": [],
   "source": [
    "# 一级分类、二级分类、产品线2、产品类型自行创建"
   ]
  },
  {
   "cell_type": "code",
   "execution_count": 89,
   "metadata": {
    "ExecuteTime": {
     "end_time": "2022-06-24T05:41:34.034243Z",
     "start_time": "2022-06-24T05:41:33.956451Z"
    },
    "scrolled": true
   },
   "outputs": [
    {
     "data": {
      "text/html": [
       "<div>\n",
       "<style scoped>\n",
       "    .dataframe tbody tr th:only-of-type {\n",
       "        vertical-align: middle;\n",
       "    }\n",
       "\n",
       "    .dataframe tbody tr th {\n",
       "        vertical-align: top;\n",
       "    }\n",
       "\n",
       "    .dataframe thead th {\n",
       "        text-align: right;\n",
       "    }\n",
       "</style>\n",
       "<table border=\"1\" class=\"dataframe\">\n",
       "  <thead>\n",
       "    <tr style=\"text-align: right;\">\n",
       "      <th></th>\n",
       "      <th>平台渠道</th>\n",
       "      <th>店铺账号</th>\n",
       "      <th>下单时间</th>\n",
       "      <th>付款时间</th>\n",
       "      <th>订单号</th>\n",
       "      <th>SKU</th>\n",
       "      <th>产品ID</th>\n",
       "      <th>产品名称</th>\n",
       "      <th>一级分类</th>\n",
       "      <th>二级分类</th>\n",
       "      <th>...</th>\n",
       "      <th>订单备注</th>\n",
       "      <th>退款金额</th>\n",
       "      <th>币种缩写</th>\n",
       "      <th>付款方式</th>\n",
       "      <th>英文报关名</th>\n",
       "      <th>申报单价</th>\n",
       "      <th>中文报关名</th>\n",
       "      <th>商品采购价</th>\n",
       "      <th>产品线2</th>\n",
       "      <th>产品类型</th>\n",
       "    </tr>\n",
       "  </thead>\n",
       "  <tbody>\n",
       "    <tr>\n",
       "      <th>0</th>\n",
       "      <td>手工订单</td>\n",
       "      <td>手工订单</td>\n",
       "      <td>2022-06-17 16:05:33</td>\n",
       "      <td>2022-06-17 16:05:33</td>\n",
       "      <td>2703244863950733754</td>\n",
       "      <td>1688EWxb211122-24</td>\n",
       "      <td>946505</td>\n",
       "      <td>战术包胸挂包</td>\n",
       "      <td>包</td>\n",
       "      <td>胸包</td>\n",
       "      <td>...</td>\n",
       "      <td>NaN</td>\n",
       "      <td>NaN</td>\n",
       "      <td>CNY</td>\n",
       "      <td>NaN</td>\n",
       "      <td>11</td>\n",
       "      <td>1.0</td>\n",
       "      <td>1</td>\n",
       "      <td>240.0</td>\n",
       "      <td>胸包</td>\n",
       "      <td>胸包</td>\n",
       "    </tr>\n",
       "    <tr>\n",
       "      <th>1</th>\n",
       "      <td>手工订单</td>\n",
       "      <td>手工订单</td>\n",
       "      <td>2022-06-17 16:20:57</td>\n",
       "      <td>2022-06-17 16:20:57</td>\n",
       "      <td>2700534278089476572</td>\n",
       "      <td>A204467-WHITE</td>\n",
       "      <td>946505</td>\n",
       "      <td>冰袖白</td>\n",
       "      <td>服装和配件</td>\n",
       "      <td>配件</td>\n",
       "      <td>...</td>\n",
       "      <td>NaN</td>\n",
       "      <td>NaN</td>\n",
       "      <td>CNY</td>\n",
       "      <td>NaN</td>\n",
       "      <td>ice sleeve</td>\n",
       "      <td>10.0</td>\n",
       "      <td>冰袖</td>\n",
       "      <td>2.55</td>\n",
       "      <td>非产线</td>\n",
       "      <td>其它/小类</td>\n",
       "    </tr>\n",
       "    <tr>\n",
       "      <th>2</th>\n",
       "      <td>手工订单</td>\n",
       "      <td>手工订单</td>\n",
       "      <td>2022-06-20 10:09:56</td>\n",
       "      <td>2022-06-20 10:09:56</td>\n",
       "      <td>220618-320646706192296</td>\n",
       "      <td>pddEWxb211116-40</td>\n",
       "      <td>946505</td>\n",
       "      <td>跨境野营军迷彩战术腿包腿挂 户外登山钓鱼骑行腿包 摄影运动腿包</td>\n",
       "      <td>包</td>\n",
       "      <td>运动包</td>\n",
       "      <td>...</td>\n",
       "      <td>NaN</td>\n",
       "      <td>NaN</td>\n",
       "      <td>CNY</td>\n",
       "      <td>NaN</td>\n",
       "      <td>bag</td>\n",
       "      <td>1.0</td>\n",
       "      <td>腿包</td>\n",
       "      <td>0.0</td>\n",
       "      <td>非产线</td>\n",
       "      <td>非产线</td>\n",
       "    </tr>\n",
       "  </tbody>\n",
       "</table>\n",
       "<p>3 rows × 39 columns</p>\n",
       "</div>"
      ],
      "text/plain": [
       "   平台渠道  店铺账号                 下单时间                 付款时间  \\\n",
       "0  手工订单  手工订单  2022-06-17 16:05:33  2022-06-17 16:05:33   \n",
       "1  手工订单  手工订单  2022-06-17 16:20:57  2022-06-17 16:20:57   \n",
       "2  手工订单  手工订单  2022-06-20 10:09:56  2022-06-20 10:09:56   \n",
       "\n",
       "                      订单号                SKU    产品ID  \\\n",
       "0     2703244863950733754  1688EWxb211122-24  946505   \n",
       "1     2700534278089476572      A204467-WHITE  946505   \n",
       "2  220618-320646706192296   pddEWxb211116-40  946505   \n",
       "\n",
       "                              产品名称   一级分类 二级分类  ... 订单备注 退款金额 币种缩写 付款方式  \\\n",
       "0                           战术包胸挂包      包   胸包  ...  NaN  NaN  CNY  NaN   \n",
       "1                              冰袖白  服装和配件   配件  ...  NaN  NaN  CNY  NaN   \n",
       "2  跨境野营军迷彩战术腿包腿挂 户外登山钓鱼骑行腿包 摄影运动腿包      包  运动包  ...  NaN  NaN  CNY  NaN   \n",
       "\n",
       "        英文报关名  申报单价 中文报关名  商品采购价 产品线2   产品类型  \n",
       "0          11   1.0     1  240.0   胸包     胸包  \n",
       "1  ice sleeve  10.0    冰袖   2.55  非产线  其它/小类  \n",
       "2         bag   1.0    腿包    0.0  非产线    非产线  \n",
       "\n",
       "[3 rows x 39 columns]"
      ]
     },
     "execution_count": 89,
     "metadata": {},
     "output_type": "execute_result"
    }
   ],
   "source": [
    "original_nxdata = pd.read_excel('阿里巴巴.xlsx', dtype=object)\n",
    "original_nxdata.head(3)"
   ]
  },
  {
   "cell_type": "code",
   "execution_count": 90,
   "metadata": {
    "ExecuteTime": {
     "end_time": "2022-06-24T05:41:34.659681Z",
     "start_time": "2022-06-24T05:41:34.652700Z"
    }
   },
   "outputs": [],
   "source": [
    "f_nxdata = original_nxdata.copy()\n",
    "f_nxdata['ID'] = list(range(len(f_nxdata)))"
   ]
  },
  {
   "cell_type": "markdown",
   "metadata": {},
   "source": [
    "## 字段填充"
   ]
  },
  {
   "cell_type": "code",
   "execution_count": 91,
   "metadata": {
    "ExecuteTime": {
     "end_time": "2022-06-24T05:41:36.071832Z",
     "start_time": "2022-06-24T05:41:36.039917Z"
    },
    "code_folding": [
     0
    ]
   },
   "outputs": [],
   "source": [
    "# 字段填充\n",
    "# 合同号\n",
    "f_nxdata['合同号'] = f_nxdata['订单号'].apply(lambda x: \"NX\" + str(x))\n",
    "\n",
    "# 产品编码\n",
    "f_nxdata['产品编码'] = f_nxdata['商品SKU']\n",
    "\n",
    "#创建时间\n",
    "f_nxdata['创建时间'] = f_nxdata['下单时间']\n",
    "\n",
    "# 地区\n",
    "f_nxdata['地区'] = '苏州'\n",
    "\n",
    "# 产品总价\n",
    "f_nxdata['产品售价'] = f_nxdata['产品售价'].astype(float)\n",
    "f_nxdata['产品总价'] = f_nxdata['产品售价']*f_nxdata['产品数量']/6.5\n",
    "f_nxdata['币种'] = '美金(换算)'\n",
    "f_nxdata['税率'] = 6.5\n",
    "\n",
    "f_nxdata['产品颜色'] = np.nan\n",
    "f_nxdata['业务员'] = '阿里巴巴'\n",
    "f_nxdata['客户编码'] = np.nan\n",
    "f_nxdata['客户名称'] = np.nan\n",
    "f_nxdata['客户邮箱'] = np.nan\n",
    "f_nxdata['公司名称'] = '阿里巴巴'\n",
    "f_nxdata['联系电话'] = np.nan\n",
    "f_nxdata['辅助项'] = np.nan\n",
    "f_nxdata['采购员'] = '已分配'\n",
    "f_nxdata['采购'] = '其他'\n",
    "f_nxdata['是否采购'] = '否'\n",
    "f_nxdata['是否已分配'] = '已分配'\n",
    "f_nxdata['采购员地区'] = np.nan\n",
    "f_nxdata['备注'] = f_nxdata['订单备注']"
   ]
  },
  {
   "cell_type": "markdown",
   "metadata": {},
   "source": [
    "## 产线"
   ]
  },
  {
   "cell_type": "code",
   "execution_count": 92,
   "metadata": {
    "ExecuteTime": {
     "end_time": "2022-06-24T05:41:37.442166Z",
     "start_time": "2022-06-24T05:41:37.419229Z"
    }
   },
   "outputs": [
    {
     "data": {
      "text/html": [
       "<div>\n",
       "<style scoped>\n",
       "    .dataframe tbody tr th:only-of-type {\n",
       "        vertical-align: middle;\n",
       "    }\n",
       "\n",
       "    .dataframe tbody tr th {\n",
       "        vertical-align: top;\n",
       "    }\n",
       "\n",
       "    .dataframe thead th {\n",
       "        text-align: right;\n",
       "    }\n",
       "</style>\n",
       "<table border=\"1\" class=\"dataframe\">\n",
       "  <thead>\n",
       "    <tr style=\"text-align: right;\">\n",
       "      <th></th>\n",
       "      <th>ID</th>\n",
       "      <th>地区</th>\n",
       "      <th>产品名称</th>\n",
       "      <th>产品线2</th>\n",
       "      <th>产品线归属</th>\n",
       "    </tr>\n",
       "    <tr>\n",
       "      <th>ID</th>\n",
       "      <th></th>\n",
       "      <th></th>\n",
       "      <th></th>\n",
       "      <th></th>\n",
       "      <th></th>\n",
       "    </tr>\n",
       "  </thead>\n",
       "  <tbody>\n",
       "    <tr>\n",
       "      <th>0</th>\n",
       "      <td>0</td>\n",
       "      <td>苏州</td>\n",
       "      <td>战术包胸挂包</td>\n",
       "      <td>胸包</td>\n",
       "      <td>合肥</td>\n",
       "    </tr>\n",
       "    <tr>\n",
       "      <th>1</th>\n",
       "      <td>1</td>\n",
       "      <td>苏州</td>\n",
       "      <td>冰袖白</td>\n",
       "      <td>非产线</td>\n",
       "      <td>NaN</td>\n",
       "    </tr>\n",
       "    <tr>\n",
       "      <th>2</th>\n",
       "      <td>2</td>\n",
       "      <td>苏州</td>\n",
       "      <td>跨境野营军迷彩战术腿包腿挂 户外登山钓鱼骑行腿包 摄影运动腿包</td>\n",
       "      <td>非产线</td>\n",
       "      <td>NaN</td>\n",
       "    </tr>\n",
       "    <tr>\n",
       "      <th>3</th>\n",
       "      <td>3</td>\n",
       "      <td>苏州</td>\n",
       "      <td>健身防水运动跑步腰包户外便捷斜跨水壶腰包登山贴身包</td>\n",
       "      <td>非产线</td>\n",
       "      <td>NaN</td>\n",
       "    </tr>\n",
       "    <tr>\n",
       "      <th>4</th>\n",
       "      <td>4</td>\n",
       "      <td>苏州</td>\n",
       "      <td>彩虹条纹镭射双肩包-紫色彩条</td>\n",
       "      <td>双肩包</td>\n",
       "      <td>合肥</td>\n",
       "    </tr>\n",
       "    <tr>\n",
       "      <th>5</th>\n",
       "      <td>5</td>\n",
       "      <td>苏州</td>\n",
       "      <td>运动健身男女户外腰包时尚斜挎包多色骑行徒步专业潮流通用</td>\n",
       "      <td>腰包/臂包</td>\n",
       "      <td>苏州</td>\n",
       "    </tr>\n",
       "    <tr>\n",
       "      <th>6</th>\n",
       "      <td>6</td>\n",
       "      <td>苏州</td>\n",
       "      <td>折叠双肩包</td>\n",
       "      <td>折叠包</td>\n",
       "      <td>苏州</td>\n",
       "    </tr>\n",
       "    <tr>\n",
       "      <th>7</th>\n",
       "      <td>7</td>\n",
       "      <td>苏州</td>\n",
       "      <td>折叠双肩包</td>\n",
       "      <td>折叠包</td>\n",
       "      <td>苏州</td>\n",
       "    </tr>\n",
       "    <tr>\n",
       "      <th>8</th>\n",
       "      <td>8</td>\n",
       "      <td>苏州</td>\n",
       "      <td>彩虹条纹镭射双肩包-紫色彩条</td>\n",
       "      <td>双肩包</td>\n",
       "      <td>合肥</td>\n",
       "    </tr>\n",
       "    <tr>\n",
       "      <th>9</th>\n",
       "      <td>9</td>\n",
       "      <td>苏州</td>\n",
       "      <td>彩虹条纹镭射双肩包-紫色彩条</td>\n",
       "      <td>双肩包</td>\n",
       "      <td>合肥</td>\n",
       "    </tr>\n",
       "    <tr>\n",
       "      <th>10</th>\n",
       "      <td>10</td>\n",
       "      <td>苏州</td>\n",
       "      <td>彩虹条纹镭射双肩包-紫色彩条</td>\n",
       "      <td>双肩包</td>\n",
       "      <td>合肥</td>\n",
       "    </tr>\n",
       "    <tr>\n",
       "      <th>11</th>\n",
       "      <td>11</td>\n",
       "      <td>苏州</td>\n",
       "      <td>彩虹条纹镭射双肩包-紫色彩条</td>\n",
       "      <td>双肩包</td>\n",
       "      <td>合肥</td>\n",
       "    </tr>\n",
       "    <tr>\n",
       "      <th>12</th>\n",
       "      <td>12</td>\n",
       "      <td>苏州</td>\n",
       "      <td>2021跨境热款韩版斜挎帆布包时尚休闲手提包单肩包尼龙牛津布女包</td>\n",
       "      <td>双肩包</td>\n",
       "      <td>合肥</td>\n",
       "    </tr>\n",
       "    <tr>\n",
       "      <th>13</th>\n",
       "      <td>13</td>\n",
       "      <td>苏州</td>\n",
       "      <td>运动健身男女户外腰包时尚斜挎包多色骑行徒步专业潮流通用</td>\n",
       "      <td>腰包/臂包</td>\n",
       "      <td>苏州</td>\n",
       "    </tr>\n",
       "    <tr>\n",
       "      <th>14</th>\n",
       "      <td>14</td>\n",
       "      <td>苏州</td>\n",
       "      <td>彩虹条纹镭射双肩包-紫色彩条</td>\n",
       "      <td>双肩包</td>\n",
       "      <td>合肥</td>\n",
       "    </tr>\n",
       "    <tr>\n",
       "      <th>15</th>\n",
       "      <td>15</td>\n",
       "      <td>苏州</td>\n",
       "      <td>2021跨境热款韩版斜挎帆布包时尚休闲手提包单肩包尼龙牛津布女包</td>\n",
       "      <td>双肩包</td>\n",
       "      <td>合肥</td>\n",
       "    </tr>\n",
       "    <tr>\n",
       "      <th>16</th>\n",
       "      <td>16</td>\n",
       "      <td>苏州</td>\n",
       "      <td>腿包</td>\n",
       "      <td>非产线</td>\n",
       "      <td>NaN</td>\n",
       "    </tr>\n",
       "    <tr>\n",
       "      <th>17</th>\n",
       "      <td>17</td>\n",
       "      <td>苏州</td>\n",
       "      <td>折叠双肩包</td>\n",
       "      <td>折叠包</td>\n",
       "      <td>苏州</td>\n",
       "    </tr>\n",
       "    <tr>\n",
       "      <th>18</th>\n",
       "      <td>18</td>\n",
       "      <td>苏州</td>\n",
       "      <td>新款野餐包分格保温冰袋购物袋阳离子单肩手提网格袋旅行沙滩包</td>\n",
       "      <td>冰包</td>\n",
       "      <td>合肥</td>\n",
       "    </tr>\n",
       "    <tr>\n",
       "      <th>19</th>\n",
       "      <td>19</td>\n",
       "      <td>苏州</td>\n",
       "      <td>旅行pvc收纳包透明大容量双肩包-黑色</td>\n",
       "      <td>NaN</td>\n",
       "      <td>NaN</td>\n",
       "    </tr>\n",
       "    <tr>\n",
       "      <th>20</th>\n",
       "      <td>20</td>\n",
       "      <td>苏州</td>\n",
       "      <td>折叠双肩包</td>\n",
       "      <td>折叠包</td>\n",
       "      <td>苏州</td>\n",
       "    </tr>\n",
       "    <tr>\n",
       "      <th>21</th>\n",
       "      <td>21</td>\n",
       "      <td>苏州</td>\n",
       "      <td>折叠双肩包</td>\n",
       "      <td>折叠包</td>\n",
       "      <td>苏州</td>\n",
       "    </tr>\n",
       "    <tr>\n",
       "      <th>22</th>\n",
       "      <td>22</td>\n",
       "      <td>苏州</td>\n",
       "      <td>泼墨双肩包 绿色</td>\n",
       "      <td>双肩包</td>\n",
       "      <td>合肥</td>\n",
       "    </tr>\n",
       "  </tbody>\n",
       "</table>\n",
       "</div>"
      ],
      "text/plain": [
       "    ID  地区                              产品名称   产品线2 产品线归属\n",
       "ID                                                       \n",
       "0    0  苏州                            战术包胸挂包     胸包    合肥\n",
       "1    1  苏州                               冰袖白    非产线   NaN\n",
       "2    2  苏州   跨境野营军迷彩战术腿包腿挂 户外登山钓鱼骑行腿包 摄影运动腿包    非产线   NaN\n",
       "3    3  苏州         健身防水运动跑步腰包户外便捷斜跨水壶腰包登山贴身包    非产线   NaN\n",
       "4    4  苏州                    彩虹条纹镭射双肩包-紫色彩条    双肩包    合肥\n",
       "5    5  苏州       运动健身男女户外腰包时尚斜挎包多色骑行徒步专业潮流通用  腰包/臂包    苏州\n",
       "6    6  苏州                             折叠双肩包    折叠包    苏州\n",
       "7    7  苏州                             折叠双肩包    折叠包    苏州\n",
       "8    8  苏州                    彩虹条纹镭射双肩包-紫色彩条    双肩包    合肥\n",
       "9    9  苏州                    彩虹条纹镭射双肩包-紫色彩条    双肩包    合肥\n",
       "10  10  苏州                    彩虹条纹镭射双肩包-紫色彩条    双肩包    合肥\n",
       "11  11  苏州                    彩虹条纹镭射双肩包-紫色彩条    双肩包    合肥\n",
       "12  12  苏州  2021跨境热款韩版斜挎帆布包时尚休闲手提包单肩包尼龙牛津布女包    双肩包    合肥\n",
       "13  13  苏州       运动健身男女户外腰包时尚斜挎包多色骑行徒步专业潮流通用  腰包/臂包    苏州\n",
       "14  14  苏州                    彩虹条纹镭射双肩包-紫色彩条    双肩包    合肥\n",
       "15  15  苏州  2021跨境热款韩版斜挎帆布包时尚休闲手提包单肩包尼龙牛津布女包    双肩包    合肥\n",
       "16  16  苏州                                腿包    非产线   NaN\n",
       "17  17  苏州                             折叠双肩包    折叠包    苏州\n",
       "18  18  苏州     新款野餐包分格保温冰袋购物袋阳离子单肩手提网格袋旅行沙滩包     冰包    合肥\n",
       "19  19  苏州               旅行pvc收纳包透明大容量双肩包-黑色    NaN   NaN\n",
       "20  20  苏州                             折叠双肩包    折叠包    苏州\n",
       "21  21  苏州                             折叠双肩包    折叠包    苏州\n",
       "22  22  苏州                          泼墨双肩包 绿色    双肩包    合肥"
      ]
     },
     "execution_count": 92,
     "metadata": {},
     "output_type": "execute_result"
    }
   ],
   "source": [
    "productline_match_nxdata = pd.merge(f_nxdata[['ID', '地区', '产品名称', '产品线2']],\n",
    "                                    product_line_data[['产品线2', '产品线归属']],\n",
    "                                    on='产品线2',\n",
    "                                    how='left')\n",
    "\n",
    "productline_match_nxdata.index = productline_match_nxdata['ID']\n",
    "\n",
    "productline_match_nxdata = productline_match_nxdata.drop_duplicates()\n",
    "productline_match_nxdata"
   ]
  },
  {
   "cell_type": "code",
   "execution_count": 93,
   "metadata": {
    "ExecuteTime": {
     "end_time": "2022-06-24T05:41:38.134315Z",
     "start_time": "2022-06-24T05:41:38.115366Z"
    }
   },
   "outputs": [],
   "source": [
    "# 产品线\n",
    "tempnx1 = productline_match_nxdata[productline_match_nxdata['地区'] == productline_match_nxdata['产品线归属']].copy()\n",
    "tempnx1['产品线']= tempnx1['产品线2']\n",
    "tempnx2 = productline_match_nxdata[productline_match_nxdata['地区'] != productline_match_nxdata['产品线归属']].copy()\n",
    "tempnx2['产品线'] = '非产线'\n",
    "productline_match_nxdata.loc[tempnx1['ID'], '产品线']= tempnx1['产品线']\n",
    "productline_match_nxdata.loc[tempnx2['ID'], '产品线']= tempnx2['产品线']"
   ]
  },
  {
   "cell_type": "code",
   "execution_count": 94,
   "metadata": {
    "ExecuteTime": {
     "end_time": "2022-06-24T05:42:05.350196Z",
     "start_time": "2022-06-24T05:42:05.340224Z"
    }
   },
   "outputs": [],
   "source": [
    "# 是否产品线\n",
    "productline_match_nxdata['是否产品线'] = productline_match_nxdata['产品线归属'].apply(lambda x: '非产线' if len(str(x))!=2 else '产线')"
   ]
  },
  {
   "cell_type": "code",
   "execution_count": 95,
   "metadata": {
    "ExecuteTime": {
     "end_time": "2022-06-24T05:42:05.919672Z",
     "start_time": "2022-06-24T05:42:05.899727Z"
    }
   },
   "outputs": [],
   "source": [
    "f_nxdata.loc[productline_match_nxdata['ID'], '产品线'] = productline_match_nxdata['产品线']\n",
    "f_nxdata.loc[productline_match_nxdata['ID'], '是否产品线'] = productline_match_nxdata['是否产品线']"
   ]
  },
  {
   "cell_type": "code",
   "execution_count": 96,
   "metadata": {
    "ExecuteTime": {
     "end_time": "2022-06-24T05:42:06.420334Z",
     "start_time": "2022-06-24T05:42:06.411358Z"
    }
   },
   "outputs": [],
   "source": [
    "f_nxdata['创建时间'] = f_nxdata['创建时间'].apply(lambda x: datetime.datetime.strptime(x,'%Y-%m-%d %H:%M:%S'))"
   ]
  },
  {
   "cell_type": "code",
   "execution_count": 97,
   "metadata": {
    "ExecuteTime": {
     "end_time": "2022-06-24T05:42:07.146358Z",
     "start_time": "2022-06-24T05:42:07.131400Z"
    }
   },
   "outputs": [],
   "source": [
    "f_nxdata['产品英文名称'] = ''"
   ]
  },
  {
   "cell_type": "code",
   "execution_count": 98,
   "metadata": {
    "ExecuteTime": {
     "end_time": "2022-06-24T05:42:07.602895Z",
     "start_time": "2022-06-24T05:42:07.594916Z"
    }
   },
   "outputs": [],
   "source": [
    "final_nxdata = f_nxdata[list(header)]"
   ]
  },
  {
   "cell_type": "code",
   "execution_count": 99,
   "metadata": {
    "ExecuteTime": {
     "end_time": "2022-06-24T05:42:08.159938Z",
     "start_time": "2022-06-24T05:42:08.107546Z"
    }
   },
   "outputs": [],
   "source": [
    "final_nxdata.to_excel('内销维护结果.xlsx', index=False)"
   ]
  },
  {
   "cell_type": "markdown",
   "metadata": {},
   "source": [
    "# Tom数据"
   ]
  },
  {
   "cell_type": "code",
   "execution_count": 100,
   "metadata": {
    "ExecuteTime": {
     "end_time": "2022-06-24T05:42:51.865268Z",
     "start_time": "2022-06-24T05:42:51.819390Z"
    }
   },
   "outputs": [],
   "source": [
    "tom_header = pd.read_excel('./辅助数据/Tom数据表头.xlsx')"
   ]
  },
  {
   "cell_type": "code",
   "execution_count": 101,
   "metadata": {
    "ExecuteTime": {
     "end_time": "2022-06-24T05:42:52.530488Z",
     "start_time": "2022-06-24T05:42:52.515529Z"
    }
   },
   "outputs": [],
   "source": [
    "start_date = datetime.datetime.strptime('2022/6/1', '%Y/%m/%d')\n",
    "end_date = datetime.datetime.strptime('2022/6/30', '%Y/%m/%d')"
   ]
  },
  {
   "cell_type": "code",
   "execution_count": 102,
   "metadata": {
    "ExecuteTime": {
     "end_time": "2022-06-24T05:42:52.975297Z",
     "start_time": "2022-06-24T05:42:52.963330Z"
    }
   },
   "outputs": [],
   "source": [
    "tom_data = final_data[list(tom_header)]"
   ]
  },
  {
   "cell_type": "code",
   "execution_count": 103,
   "metadata": {
    "ExecuteTime": {
     "end_time": "2022-06-24T05:42:53.493909Z",
     "start_time": "2022-06-24T05:42:53.483937Z"
    }
   },
   "outputs": [],
   "source": [
    "tom_data = tom_data[(tom_data['创建时间']>=start_date)&(tom_data['创建时间']<=end_date)]"
   ]
  },
  {
   "cell_type": "code",
   "execution_count": 104,
   "metadata": {
    "ExecuteTime": {
     "end_time": "2022-06-24T05:42:55.489126Z",
     "start_time": "2022-06-24T05:42:54.659348Z"
    }
   },
   "outputs": [],
   "source": [
    "tom_data.to_excel('Tom合同数据.xlsx', index=False)"
   ]
  },
  {
   "cell_type": "code",
   "execution_count": 105,
   "metadata": {
    "ExecuteTime": {
     "end_time": "2022-06-24T05:42:55.962858Z",
     "start_time": "2022-06-24T05:42:55.946903Z"
    }
   },
   "outputs": [
    {
     "data": {
      "text/plain": [
       "1932"
      ]
     },
     "execution_count": 105,
     "metadata": {},
     "output_type": "execute_result"
    }
   ],
   "source": [
    "len(tom_data)"
   ]
  },
  {
   "cell_type": "code",
   "execution_count": null,
   "metadata": {},
   "outputs": [],
   "source": []
  }
 ],
 "metadata": {
  "kernelspec": {
   "display_name": "Python 3 (ipykernel)",
   "language": "python",
   "name": "python3"
  },
  "language_info": {
   "codemirror_mode": {
    "name": "ipython",
    "version": 3
   },
   "file_extension": ".py",
   "mimetype": "text/x-python",
   "name": "python",
   "nbconvert_exporter": "python",
   "pygments_lexer": "ipython3",
   "version": "3.9.7"
  },
  "toc": {
   "base_numbering": 1,
   "nav_menu": {},
   "number_sections": true,
   "sideBar": true,
   "skip_h1_title": false,
   "title_cell": "Table of Contents",
   "title_sidebar": "Contents",
   "toc_cell": false,
   "toc_position": {
    "height": "calc(100% - 180px)",
    "left": "10px",
    "top": "150px",
    "width": "384px"
   },
   "toc_section_display": true,
   "toc_window_display": true
  },
  "varInspector": {
   "cols": {
    "lenName": 16,
    "lenType": 16,
    "lenVar": 40
   },
   "kernels_config": {
    "python": {
     "delete_cmd_postfix": "",
     "delete_cmd_prefix": "del ",
     "library": "var_list.py",
     "varRefreshCmd": "print(var_dic_list())"
    },
    "r": {
     "delete_cmd_postfix": ") ",
     "delete_cmd_prefix": "rm(",
     "library": "var_list.r",
     "varRefreshCmd": "cat(var_dic_list()) "
    }
   },
   "types_to_exclude": [
    "module",
    "function",
    "builtin_function_or_method",
    "instance",
    "_Feature"
   ],
   "window_display": false
  }
 },
 "nbformat": 4,
 "nbformat_minor": 4
}

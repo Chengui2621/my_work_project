{
 "cells": [
  {
   "cell_type": "code",
   "execution_count": 1,
   "metadata": {
    "ExecuteTime": {
     "end_time": "2022-06-27T01:24:33.044642Z",
     "start_time": "2022-06-27T01:24:31.617463Z"
    }
   },
   "outputs": [],
   "source": [
    "import pandas as pd\n",
    "import re"
   ]
  },
  {
   "cell_type": "markdown",
   "metadata": {},
   "source": [
    "# 采购订单数据"
   ]
  },
  {
   "cell_type": "code",
   "execution_count": 2,
   "metadata": {
    "ExecuteTime": {
     "end_time": "2022-06-27T01:24:34.213515Z",
     "start_time": "2022-06-27T01:24:34.209526Z"
    }
   },
   "outputs": [],
   "source": [
    "# 预先处理采购员英文名，填充不完整的"
   ]
  },
  {
   "cell_type": "code",
   "execution_count": 3,
   "metadata": {
    "ExecuteTime": {
     "end_time": "2022-06-27T01:24:35.650669Z",
     "start_time": "2022-06-27T01:24:35.017366Z"
    }
   },
   "outputs": [],
   "source": [
    "purchase_data = pd.read_excel('采购订单.xls', dtype=object)"
   ]
  },
  {
   "cell_type": "code",
   "execution_count": 4,
   "metadata": {
    "ExecuteTime": {
     "end_time": "2022-06-27T01:24:36.997067Z",
     "start_time": "2022-06-27T01:24:36.937228Z"
    },
    "scrolled": true
   },
   "outputs": [
    {
     "data": {
      "text/html": [
       "<div>\n",
       "<style scoped>\n",
       "    .dataframe tbody tr th:only-of-type {\n",
       "        vertical-align: middle;\n",
       "    }\n",
       "\n",
       "    .dataframe tbody tr th {\n",
       "        vertical-align: top;\n",
       "    }\n",
       "\n",
       "    .dataframe thead th {\n",
       "        text-align: right;\n",
       "    }\n",
       "</style>\n",
       "<table border=\"1\" class=\"dataframe\">\n",
       "  <thead>\n",
       "    <tr style=\"text-align: right;\">\n",
       "      <th></th>\n",
       "      <th>采购单号</th>\n",
       "      <th>合同号</th>\n",
       "      <th>产品编码</th>\n",
       "      <th>产品中文名称</th>\n",
       "      <th>产品英文名称</th>\n",
       "      <th>产品分类</th>\n",
       "      <th>税率</th>\n",
       "      <th>采购总金额</th>\n",
       "      <th>数量</th>\n",
       "      <th>产品单价</th>\n",
       "      <th>...</th>\n",
       "      <th>协助业务员英文名</th>\n",
       "      <th>采购员地区</th>\n",
       "      <th>供应商名称</th>\n",
       "      <th>供应商编码</th>\n",
       "      <th>供应商等级</th>\n",
       "      <th>创建时间</th>\n",
       "      <th>审核时间</th>\n",
       "      <th>产品类型</th>\n",
       "      <th>产品线</th>\n",
       "      <th>合同状态</th>\n",
       "    </tr>\n",
       "  </thead>\n",
       "  <tbody>\n",
       "    <tr>\n",
       "      <th>0</th>\n",
       "      <td>CRP22332112</td>\n",
       "      <td>ORP22212707</td>\n",
       "      <td>300158-01</td>\n",
       "      <td>挂绳</td>\n",
       "      <td>Lanyards</td>\n",
       "      <td>活动与节日庆祝/挂绳 &amp; 证件套/挂绳</td>\n",
       "      <td>0</td>\n",
       "      <td>9750</td>\n",
       "      <td>7500</td>\n",
       "      <td>1.3</td>\n",
       "      <td>...</td>\n",
       "      <td>NaN</td>\n",
       "      <td>苏州</td>\n",
       "      <td>东莞市辉鸿工艺礼品有限公司</td>\n",
       "      <td>SU22499348</td>\n",
       "      <td>1</td>\n",
       "      <td>2022-03-12 10:32:27</td>\n",
       "      <td>2022-03-14 09:23:41</td>\n",
       "      <td>订制品</td>\n",
       "      <td>挂绳</td>\n",
       "      <td>已完成</td>\n",
       "    </tr>\n",
       "    <tr>\n",
       "      <th>1</th>\n",
       "      <td>CRP22286024</td>\n",
       "      <td>ORP22251390</td>\n",
       "      <td>300147-01</td>\n",
       "      <td>黑色KN95</td>\n",
       "      <td>KN95</td>\n",
       "      <td>PPE/面部保护/防护面罩</td>\n",
       "      <td>0</td>\n",
       "      <td>4324.16</td>\n",
       "      <td>13513</td>\n",
       "      <td>0.32</td>\n",
       "      <td>...</td>\n",
       "      <td>Leon Zhang</td>\n",
       "      <td>苏州</td>\n",
       "      <td>安徽瑞尔鑫防护用品有限公司</td>\n",
       "      <td>SU22284227</td>\n",
       "      <td>1</td>\n",
       "      <td>2022-02-21 13:49:19</td>\n",
       "      <td>2022-02-21 14:01:46</td>\n",
       "      <td>订制品</td>\n",
       "      <td>NaN</td>\n",
       "      <td>已完成</td>\n",
       "    </tr>\n",
       "    <tr>\n",
       "      <th>2</th>\n",
       "      <td>CRP22254014</td>\n",
       "      <td>ORP22248480</td>\n",
       "      <td>129057-01</td>\n",
       "      <td>狗牌钥匙扣</td>\n",
       "      <td>Engraved Metal Dog Tag Keychain</td>\n",
       "      <td>居家  &amp; 工具/家居用品/钥匙扣</td>\n",
       "      <td>0</td>\n",
       "      <td>5665</td>\n",
       "      <td>1000</td>\n",
       "      <td>5.6</td>\n",
       "      <td>...</td>\n",
       "      <td>Funny</td>\n",
       "      <td>义乌</td>\n",
       "      <td>东莞市浔鑫金属制品有限公司</td>\n",
       "      <td>SU22232425</td>\n",
       "      <td>1</td>\n",
       "      <td>2022-02-15 15:04:58</td>\n",
       "      <td>2022-02-15 16:44:50</td>\n",
       "      <td>标准品</td>\n",
       "      <td>钥匙扣</td>\n",
       "      <td>已完成</td>\n",
       "    </tr>\n",
       "    <tr>\n",
       "      <th>3</th>\n",
       "      <td>CSW22295315</td>\n",
       "      <td>OSW22248707</td>\n",
       "      <td>300149-01</td>\n",
       "      <td>机器人U盘</td>\n",
       "      <td>Robot Flash Drive</td>\n",
       "      <td>电子与科技/定制(电子与技术)</td>\n",
       "      <td>0</td>\n",
       "      <td>2020</td>\n",
       "      <td>100</td>\n",
       "      <td>20</td>\n",
       "      <td>...</td>\n",
       "      <td>NaN</td>\n",
       "      <td>义乌</td>\n",
       "      <td>深圳市卓鑫兴电子有限公司</td>\n",
       "      <td>SU22218321</td>\n",
       "      <td>5</td>\n",
       "      <td>2022-02-21 23:55:48</td>\n",
       "      <td>2022-02-22 14:52:14</td>\n",
       "      <td>订制品</td>\n",
       "      <td>NaN</td>\n",
       "      <td>已完成</td>\n",
       "    </tr>\n",
       "    <tr>\n",
       "      <th>4</th>\n",
       "      <td>CRG22297780</td>\n",
       "      <td>ORG22216830</td>\n",
       "      <td>203050-02</td>\n",
       "      <td>数据线收纳包</td>\n",
       "      <td>Electronic Accessories Organizer Bag</td>\n",
       "      <td>包/旅行包 &amp; 附件/洗漱包</td>\n",
       "      <td>0</td>\n",
       "      <td>375</td>\n",
       "      <td>50</td>\n",
       "      <td>7</td>\n",
       "      <td>...</td>\n",
       "      <td>NaN</td>\n",
       "      <td>合肥</td>\n",
       "      <td>义乌市互盾电子商务有限公司</td>\n",
       "      <td>SU22266019</td>\n",
       "      <td>1</td>\n",
       "      <td>2022-02-24 14:27:17</td>\n",
       "      <td>2022-02-24 15:05:41</td>\n",
       "      <td>标准品</td>\n",
       "      <td>洗漱包</td>\n",
       "      <td>已完成</td>\n",
       "    </tr>\n",
       "    <tr>\n",
       "      <th>...</th>\n",
       "      <td>...</td>\n",
       "      <td>...</td>\n",
       "      <td>...</td>\n",
       "      <td>...</td>\n",
       "      <td>...</td>\n",
       "      <td>...</td>\n",
       "      <td>...</td>\n",
       "      <td>...</td>\n",
       "      <td>...</td>\n",
       "      <td>...</td>\n",
       "      <td>...</td>\n",
       "      <td>...</td>\n",
       "      <td>...</td>\n",
       "      <td>...</td>\n",
       "      <td>...</td>\n",
       "      <td>...</td>\n",
       "      <td>...</td>\n",
       "      <td>...</td>\n",
       "      <td>...</td>\n",
       "      <td>...</td>\n",
       "      <td>...</td>\n",
       "    </tr>\n",
       "    <tr>\n",
       "      <th>6776</th>\n",
       "      <td>C22685671</td>\n",
       "      <td>PD22676485-13</td>\n",
       "      <td>204734-04</td>\n",
       "      <td>网纱拉绳洗衣袋</td>\n",
       "      <td>Large Mesh Polyester Laundry Bag</td>\n",
       "      <td>包/抽绳包</td>\n",
       "      <td>0</td>\n",
       "      <td>4771.8</td>\n",
       "      <td>990</td>\n",
       "      <td>4.82</td>\n",
       "      <td>...</td>\n",
       "      <td>NaN</td>\n",
       "      <td>合肥</td>\n",
       "      <td>苍南全臻箱包有限公司</td>\n",
       "      <td>SU22550737</td>\n",
       "      <td>1</td>\n",
       "      <td>2022-06-21 13:50:26</td>\n",
       "      <td>2022-06-21 14:10:32</td>\n",
       "      <td>标准品</td>\n",
       "      <td>抽绳包</td>\n",
       "      <td>已入库</td>\n",
       "    </tr>\n",
       "    <tr>\n",
       "      <th>6777</th>\n",
       "      <td>C22670118</td>\n",
       "      <td>PD22660523-1</td>\n",
       "      <td>204852-01</td>\n",
       "      <td>大号保温手提袋</td>\n",
       "      <td>Large Insulated Zipper Top Cooler Tote Bag (13...</td>\n",
       "      <td>包/冰包/手提冰包</td>\n",
       "      <td>0</td>\n",
       "      <td>3000</td>\n",
       "      <td>500</td>\n",
       "      <td>6</td>\n",
       "      <td>...</td>\n",
       "      <td>NaN</td>\n",
       "      <td>合肥</td>\n",
       "      <td>温州款达包装有限公司</td>\n",
       "      <td>SU22641394</td>\n",
       "      <td>5</td>\n",
       "      <td>2022-06-21 16:36:47</td>\n",
       "      <td>2022-06-22 10:25:20</td>\n",
       "      <td>标准品</td>\n",
       "      <td>冰包</td>\n",
       "      <td>采购中</td>\n",
       "    </tr>\n",
       "    <tr>\n",
       "      <th>6778</th>\n",
       "      <td>C22613451</td>\n",
       "      <td>PD22696503-1</td>\n",
       "      <td>301589-01</td>\n",
       "      <td>单肩包</td>\n",
       "      <td>Sling Bag</td>\n",
       "      <td>包/腰包</td>\n",
       "      <td>0</td>\n",
       "      <td>3750</td>\n",
       "      <td>150</td>\n",
       "      <td>25</td>\n",
       "      <td>...</td>\n",
       "      <td>NaN</td>\n",
       "      <td>苏州</td>\n",
       "      <td>保定白沟新城森蓝箱包厂</td>\n",
       "      <td>SU22630237</td>\n",
       "      <td>5</td>\n",
       "      <td>2022-06-21 14:55:17</td>\n",
       "      <td>2022-06-21 15:42:14</td>\n",
       "      <td>标准品</td>\n",
       "      <td>胸包/单肩包</td>\n",
       "      <td>采购中</td>\n",
       "    </tr>\n",
       "    <tr>\n",
       "      <th>6779</th>\n",
       "      <td>C22688253</td>\n",
       "      <td>PD22689079-1</td>\n",
       "      <td>301629-01</td>\n",
       "      <td>宠物阅读器，动物阅读器</td>\n",
       "      <td>Pet Microchip Reader Scannera Animal Tag Reader</td>\n",
       "      <td>居家  &amp; 工具/宠物用品/宠物ID</td>\n",
       "      <td>0</td>\n",
       "      <td>5000</td>\n",
       "      <td>40</td>\n",
       "      <td>125</td>\n",
       "      <td>...</td>\n",
       "      <td>NaN</td>\n",
       "      <td>苏州</td>\n",
       "      <td>深圳市思远创智能设备有限公司</td>\n",
       "      <td>SU22623891</td>\n",
       "      <td>1</td>\n",
       "      <td>2022-06-20 16:00:25</td>\n",
       "      <td>2022-06-21 10:35:53</td>\n",
       "      <td>标准品</td>\n",
       "      <td>其它/小类</td>\n",
       "      <td>采购中</td>\n",
       "    </tr>\n",
       "    <tr>\n",
       "      <th>6780</th>\n",
       "      <td>C22688253</td>\n",
       "      <td>PD22689079-2</td>\n",
       "      <td>301629-02</td>\n",
       "      <td>宠物阅读器，动物阅读器</td>\n",
       "      <td>Pet Microchip Reader Scannera Animal Tag Reader</td>\n",
       "      <td>居家  &amp; 工具/宠物用品/宠物ID</td>\n",
       "      <td>0</td>\n",
       "      <td>3750</td>\n",
       "      <td>30</td>\n",
       "      <td>125</td>\n",
       "      <td>...</td>\n",
       "      <td>NaN</td>\n",
       "      <td>苏州</td>\n",
       "      <td>深圳市思远创智能设备有限公司</td>\n",
       "      <td>SU22623891</td>\n",
       "      <td>1</td>\n",
       "      <td>2022-06-20 16:00:25</td>\n",
       "      <td>2022-06-21 10:35:53</td>\n",
       "      <td>标准品</td>\n",
       "      <td>其它/小类</td>\n",
       "      <td>采购中</td>\n",
       "    </tr>\n",
       "  </tbody>\n",
       "</table>\n",
       "<p>6781 rows × 29 columns</p>\n",
       "</div>"
      ],
      "text/plain": [
       "             采购单号            合同号       产品编码       产品中文名称  \\\n",
       "0     CRP22332112    ORP22212707  300158-01           挂绳   \n",
       "1     CRP22286024    ORP22251390  300147-01       黑色KN95   \n",
       "2     CRP22254014    ORP22248480  129057-01        狗牌钥匙扣   \n",
       "3     CSW22295315    OSW22248707  300149-01        机器人U盘   \n",
       "4     CRG22297780    ORG22216830  203050-02       数据线收纳包   \n",
       "...           ...            ...        ...          ...   \n",
       "6776    C22685671  PD22676485-13  204734-04      网纱拉绳洗衣袋   \n",
       "6777    C22670118   PD22660523-1  204852-01      大号保温手提袋   \n",
       "6778    C22613451   PD22696503-1  301589-01          单肩包   \n",
       "6779    C22688253   PD22689079-1  301629-01  宠物阅读器，动物阅读器   \n",
       "6780    C22688253   PD22689079-2  301629-02  宠物阅读器，动物阅读器   \n",
       "\n",
       "                                                 产品英文名称                 产品分类  \\\n",
       "0                                              Lanyards  活动与节日庆祝/挂绳 & 证件套/挂绳   \n",
       "1                                                  KN95        PPE/面部保护/防护面罩   \n",
       "2                       Engraved Metal Dog Tag Keychain    居家  & 工具/家居用品/钥匙扣   \n",
       "3                                     Robot Flash Drive      电子与科技/定制(电子与技术)   \n",
       "4                  Electronic Accessories Organizer Bag       包/旅行包 & 附件/洗漱包   \n",
       "...                                                 ...                  ...   \n",
       "6776                   Large Mesh Polyester Laundry Bag                包/抽绳包   \n",
       "6777  Large Insulated Zipper Top Cooler Tote Bag (13...            包/冰包/手提冰包   \n",
       "6778                                          Sling Bag                 包/腰包   \n",
       "6779    Pet Microchip Reader Scannera Animal Tag Reader   居家  & 工具/宠物用品/宠物ID   \n",
       "6780    Pet Microchip Reader Scannera Animal Tag Reader   居家  & 工具/宠物用品/宠物ID   \n",
       "\n",
       "     税率    采购总金额     数量  产品单价  ...    协助业务员英文名 采购员地区           供应商名称  \\\n",
       "0     0     9750   7500   1.3  ...         NaN    苏州   东莞市辉鸿工艺礼品有限公司   \n",
       "1     0  4324.16  13513  0.32  ...  Leon Zhang    苏州   安徽瑞尔鑫防护用品有限公司   \n",
       "2     0     5665   1000   5.6  ...       Funny    义乌   东莞市浔鑫金属制品有限公司   \n",
       "3     0     2020    100    20  ...         NaN    义乌    深圳市卓鑫兴电子有限公司   \n",
       "4     0      375     50     7  ...         NaN    合肥   义乌市互盾电子商务有限公司   \n",
       "...  ..      ...    ...   ...  ...         ...   ...             ...   \n",
       "6776  0   4771.8    990  4.82  ...         NaN    合肥      苍南全臻箱包有限公司   \n",
       "6777  0     3000    500     6  ...         NaN    合肥      温州款达包装有限公司   \n",
       "6778  0     3750    150    25  ...         NaN    苏州     保定白沟新城森蓝箱包厂   \n",
       "6779  0     5000     40   125  ...         NaN    苏州  深圳市思远创智能设备有限公司   \n",
       "6780  0     3750     30   125  ...         NaN    苏州  深圳市思远创智能设备有限公司   \n",
       "\n",
       "           供应商编码 供应商等级                创建时间                审核时间 产品类型     产品线  \\\n",
       "0     SU22499348     1 2022-03-12 10:32:27 2022-03-14 09:23:41  订制品      挂绳   \n",
       "1     SU22284227     1 2022-02-21 13:49:19 2022-02-21 14:01:46  订制品     NaN   \n",
       "2     SU22232425     1 2022-02-15 15:04:58 2022-02-15 16:44:50  标准品     钥匙扣   \n",
       "3     SU22218321     5 2022-02-21 23:55:48 2022-02-22 14:52:14  订制品     NaN   \n",
       "4     SU22266019     1 2022-02-24 14:27:17 2022-02-24 15:05:41  标准品     洗漱包   \n",
       "...          ...   ...                 ...                 ...  ...     ...   \n",
       "6776  SU22550737     1 2022-06-21 13:50:26 2022-06-21 14:10:32  标准品     抽绳包   \n",
       "6777  SU22641394     5 2022-06-21 16:36:47 2022-06-22 10:25:20  标准品      冰包   \n",
       "6778  SU22630237     5 2022-06-21 14:55:17 2022-06-21 15:42:14  标准品  胸包/单肩包   \n",
       "6779  SU22623891     1 2022-06-20 16:00:25 2022-06-21 10:35:53  标准品   其它/小类   \n",
       "6780  SU22623891     1 2022-06-20 16:00:25 2022-06-21 10:35:53  标准品   其它/小类   \n",
       "\n",
       "     合同状态  \n",
       "0     已完成  \n",
       "1     已完成  \n",
       "2     已完成  \n",
       "3     已完成  \n",
       "4     已完成  \n",
       "...   ...  \n",
       "6776  已入库  \n",
       "6777  采购中  \n",
       "6778  采购中  \n",
       "6779  采购中  \n",
       "6780  采购中  \n",
       "\n",
       "[6781 rows x 29 columns]"
      ]
     },
     "execution_count": 4,
     "metadata": {},
     "output_type": "execute_result"
    }
   ],
   "source": [
    "purchase_data"
   ]
  },
  {
   "cell_type": "code",
   "execution_count": 5,
   "metadata": {
    "ExecuteTime": {
     "end_time": "2022-06-27T01:24:38.573849Z",
     "start_time": "2022-06-27T01:24:38.537945Z"
    }
   },
   "outputs": [
    {
     "data": {
      "text/html": [
       "<div>\n",
       "<style scoped>\n",
       "    .dataframe tbody tr th:only-of-type {\n",
       "        vertical-align: middle;\n",
       "    }\n",
       "\n",
       "    .dataframe tbody tr th {\n",
       "        vertical-align: top;\n",
       "    }\n",
       "\n",
       "    .dataframe thead th {\n",
       "        text-align: right;\n",
       "    }\n",
       "</style>\n",
       "<table border=\"1\" class=\"dataframe\">\n",
       "  <thead>\n",
       "    <tr style=\"text-align: right;\">\n",
       "      <th></th>\n",
       "      <th>采购单号</th>\n",
       "      <th>合同号</th>\n",
       "      <th>产品编码</th>\n",
       "      <th>产品中文名称</th>\n",
       "      <th>产品英文名称</th>\n",
       "      <th>产品分类</th>\n",
       "      <th>税率</th>\n",
       "      <th>采购总金额</th>\n",
       "      <th>数量</th>\n",
       "      <th>产品单价</th>\n",
       "      <th>...</th>\n",
       "      <th>采购员地区</th>\n",
       "      <th>供应商名称</th>\n",
       "      <th>供应商编码</th>\n",
       "      <th>供应商等级</th>\n",
       "      <th>创建时间</th>\n",
       "      <th>审核时间</th>\n",
       "      <th>产品类型</th>\n",
       "      <th>产品线</th>\n",
       "      <th>合同状态</th>\n",
       "      <th>地区</th>\n",
       "    </tr>\n",
       "  </thead>\n",
       "  <tbody>\n",
       "  </tbody>\n",
       "</table>\n",
       "<p>0 rows × 30 columns</p>\n",
       "</div>"
      ],
      "text/plain": [
       "Empty DataFrame\n",
       "Columns: [采购单号, 合同号, 产品编码, 产品中文名称, 产品英文名称, 产品分类, 税率, 采购总金额, 数量, 产品单价, 币种, 产品规格, 产品尺寸, 采购员, 采购员英文名, 业务员, 业务员英文名, 业务员地区, 协助业务员, 协助业务员英文名, 采购员地区, 供应商名称, 供应商编码, 供应商等级, 创建时间, 审核时间, 产品类型, 产品线, 合同状态, 地区]\n",
       "Index: []\n",
       "\n",
       "[0 rows x 30 columns]"
      ]
     },
     "execution_count": 5,
     "metadata": {},
     "output_type": "execute_result"
    }
   ],
   "source": [
    "purchase_data['地区'] = purchase_data['采购员地区']\n",
    "purchase_data[purchase_data['地区'].isnull()]\n",
    "# 地区为空的需人工核验！！！"
   ]
  },
  {
   "cell_type": "code",
   "execution_count": 6,
   "metadata": {
    "ExecuteTime": {
     "end_time": "2022-06-27T01:24:46.484680Z",
     "start_time": "2022-06-27T01:24:45.377643Z"
    }
   },
   "outputs": [],
   "source": [
    "product_line_data = pd.read_excel('E:/code/pbi_data/产线归属.xlsx', dtype=object)"
   ]
  },
  {
   "cell_type": "code",
   "execution_count": 7,
   "metadata": {
    "ExecuteTime": {
     "end_time": "2022-06-27T01:24:47.304487Z",
     "start_time": "2022-06-27T01:24:47.289529Z"
    }
   },
   "outputs": [],
   "source": [
    "line_dict = dict(product_line_data[['产品线2_0', '产品线2']].values.tolist())"
   ]
  },
  {
   "cell_type": "code",
   "execution_count": 8,
   "metadata": {
    "ExecuteTime": {
     "end_time": "2022-06-27T01:24:48.341712Z",
     "start_time": "2022-06-27T01:24:48.321766Z"
    }
   },
   "outputs": [],
   "source": [
    "purchase_data['产品线'] = purchase_data['产品线'].map(line_dict)"
   ]
  },
  {
   "cell_type": "code",
   "execution_count": 9,
   "metadata": {
    "ExecuteTime": {
     "end_time": "2022-06-27T01:24:49.228340Z",
     "start_time": "2022-06-27T01:24:49.209391Z"
    },
    "code_folding": [
     0
    ]
   },
   "outputs": [],
   "source": [
    "# 拆分产品分类\n",
    "def divide_type(x):\n",
    "    if type(x) == str:\n",
    "        regex_three = '(.*?)/(.*?)/(.*)'\n",
    "        regex_two = '(.*?)/(.*)'   # 非贪婪模式，/后的内容会取不到\n",
    "        result_three = re.compile(regex_three, re.S).search(x)\n",
    "        result_two = re.compile(regex_two, re.S).search(x)\n",
    "        if result_three:\n",
    "            class_one = result_three.group(1)\n",
    "            class_two = result_three.group(2)\n",
    "            class_three = result_three.group(3)\n",
    "            return class_one,class_two,class_three\n",
    "        if result_two:\n",
    "            class_one = result_two.group(1)\n",
    "            class_two = result_two.group(2)\n",
    "            class_three = result_two.group(2)\n",
    "            return class_one,class_two,class_three\n",
    "        if '/' not in x:\n",
    "            class_one = x\n",
    "            class_two = x\n",
    "            class_three = x\n",
    "            return class_one,class_two,class_three\n",
    "    return x"
   ]
  },
  {
   "cell_type": "code",
   "execution_count": 10,
   "metadata": {
    "ExecuteTime": {
     "end_time": "2022-06-27T01:24:50.651530Z",
     "start_time": "2022-06-27T01:24:50.560775Z"
    }
   },
   "outputs": [],
   "source": [
    "purchase_data['一级分类'] = purchase_data[purchase_data['产品分类'].notnull()]['产品分类'].apply(lambda x: divide_type(x)[0])\n",
    "purchase_data['二级分类'] = purchase_data[purchase_data['产品分类'].notnull()]['产品分类'].apply(lambda x: divide_type(x)[1])\n",
    "purchase_data['二级分类'] = purchase_data['二级分类'].combine_first(purchase_data['一级分类'] )"
   ]
  },
  {
   "cell_type": "code",
   "execution_count": 11,
   "metadata": {
    "ExecuteTime": {
     "end_time": "2022-06-27T01:24:51.683769Z",
     "start_time": "2022-06-27T01:24:51.672799Z"
    }
   },
   "outputs": [],
   "source": [
    "purchase_data['产品类型'] = purchase_data['产品线'].combine_first(purchase_data['二级分类'])"
   ]
  },
  {
   "cell_type": "code",
   "execution_count": 12,
   "metadata": {
    "ExecuteTime": {
     "end_time": "2022-06-27T01:24:52.703044Z",
     "start_time": "2022-06-27T01:24:52.675117Z"
    },
    "scrolled": true
   },
   "outputs": [
    {
     "data": {
      "text/html": [
       "<div>\n",
       "<style scoped>\n",
       "    .dataframe tbody tr th:only-of-type {\n",
       "        vertical-align: middle;\n",
       "    }\n",
       "\n",
       "    .dataframe tbody tr th {\n",
       "        vertical-align: top;\n",
       "    }\n",
       "\n",
       "    .dataframe thead th {\n",
       "        text-align: right;\n",
       "    }\n",
       "</style>\n",
       "<table border=\"1\" class=\"dataframe\">\n",
       "  <thead>\n",
       "    <tr style=\"text-align: right;\">\n",
       "      <th></th>\n",
       "      <th>采购单号</th>\n",
       "      <th>合同号</th>\n",
       "      <th>产品编码</th>\n",
       "      <th>产品中文名称</th>\n",
       "      <th>产品英文名称</th>\n",
       "      <th>产品分类</th>\n",
       "      <th>税率</th>\n",
       "      <th>采购总金额</th>\n",
       "      <th>数量</th>\n",
       "      <th>产品单价</th>\n",
       "      <th>...</th>\n",
       "      <th>供应商编码</th>\n",
       "      <th>供应商等级</th>\n",
       "      <th>创建时间</th>\n",
       "      <th>审核时间</th>\n",
       "      <th>产品类型</th>\n",
       "      <th>产品线</th>\n",
       "      <th>合同状态</th>\n",
       "      <th>地区</th>\n",
       "      <th>一级分类</th>\n",
       "      <th>二级分类</th>\n",
       "    </tr>\n",
       "  </thead>\n",
       "  <tbody>\n",
       "  </tbody>\n",
       "</table>\n",
       "<p>0 rows × 32 columns</p>\n",
       "</div>"
      ],
      "text/plain": [
       "Empty DataFrame\n",
       "Columns: [采购单号, 合同号, 产品编码, 产品中文名称, 产品英文名称, 产品分类, 税率, 采购总金额, 数量, 产品单价, 币种, 产品规格, 产品尺寸, 采购员, 采购员英文名, 业务员, 业务员英文名, 业务员地区, 协助业务员, 协助业务员英文名, 采购员地区, 供应商名称, 供应商编码, 供应商等级, 创建时间, 审核时间, 产品类型, 产品线, 合同状态, 地区, 一级分类, 二级分类]\n",
       "Index: []\n",
       "\n",
       "[0 rows x 32 columns]"
      ]
     },
     "execution_count": 12,
     "metadata": {},
     "output_type": "execute_result"
    }
   ],
   "source": [
    "purchase_data[purchase_data['产品类型'].isnull()]"
   ]
  },
  {
   "cell_type": "code",
   "execution_count": 13,
   "metadata": {
    "ExecuteTime": {
     "end_time": "2022-06-27T01:24:56.013185Z",
     "start_time": "2022-06-27T01:24:56.001218Z"
    }
   },
   "outputs": [],
   "source": [
    "purchase_data['产品线'] = purchase_data['产品线'].fillna('非产线')"
   ]
  },
  {
   "cell_type": "code",
   "execution_count": 14,
   "metadata": {
    "ExecuteTime": {
     "end_time": "2022-06-27T01:24:56.873882Z",
     "start_time": "2022-06-27T01:24:56.864906Z"
    }
   },
   "outputs": [],
   "source": [
    "purchase_data['采购员'] = purchase_data['采购员英文名']\n",
    "purchase_data['业务员'] = purchase_data['业务员英文名']"
   ]
  },
  {
   "cell_type": "code",
   "execution_count": 15,
   "metadata": {
    "ExecuteTime": {
     "end_time": "2022-06-27T01:24:57.615897Z",
     "start_time": "2022-06-27T01:24:57.601934Z"
    }
   },
   "outputs": [],
   "source": [
    "purchase_data['产品金额'] = purchase_data['采购总金额']\n",
    "purchase_data['颜色'] = purchase_data['产品规格']\n",
    "purchase_data['材质'] = '' \n",
    "purchase_data['辅助项'] = '' \n",
    "purchase_data.rename(columns={'产品中文名称':'产品名称'}, inplace=True)"
   ]
  },
  {
   "cell_type": "code",
   "execution_count": 16,
   "metadata": {
    "ExecuteTime": {
     "end_time": "2022-06-27T01:24:59.967603Z",
     "start_time": "2022-06-27T01:24:59.912752Z"
    }
   },
   "outputs": [],
   "source": [
    "purchase_header = pd.read_excel('./辅助数据/采购订单表头.xlsx')\n",
    "purchase_data = purchase_data[list(purchase_header)]"
   ]
  },
  {
   "cell_type": "code",
   "execution_count": 17,
   "metadata": {
    "ExecuteTime": {
     "end_time": "2022-06-27T01:25:03.531068Z",
     "start_time": "2022-06-27T01:25:00.505165Z"
    }
   },
   "outputs": [],
   "source": [
    "purchase_data.to_excel('采购订单维护结果.xlsx', index=False)"
   ]
  },
  {
   "cell_type": "markdown",
   "metadata": {},
   "source": [
    "## 导出后检查地区、产品类型为空的数据"
   ]
  }
 ],
 "metadata": {
  "kernelspec": {
   "display_name": "Python 3 (ipykernel)",
   "language": "python",
   "name": "python3"
  },
  "language_info": {
   "codemirror_mode": {
    "name": "ipython",
    "version": 3
   },
   "file_extension": ".py",
   "mimetype": "text/x-python",
   "name": "python",
   "nbconvert_exporter": "python",
   "pygments_lexer": "ipython3",
   "version": "3.9.7"
  },
  "toc": {
   "base_numbering": 1,
   "nav_menu": {},
   "number_sections": true,
   "sideBar": true,
   "skip_h1_title": false,
   "title_cell": "Table of Contents",
   "title_sidebar": "Contents",
   "toc_cell": false,
   "toc_position": {},
   "toc_section_display": true,
   "toc_window_display": true
  },
  "varInspector": {
   "cols": {
    "lenName": 16,
    "lenType": 16,
    "lenVar": 40
   },
   "kernels_config": {
    "python": {
     "delete_cmd_postfix": "",
     "delete_cmd_prefix": "del ",
     "library": "var_list.py",
     "varRefreshCmd": "print(var_dic_list())"
    },
    "r": {
     "delete_cmd_postfix": ") ",
     "delete_cmd_prefix": "rm(",
     "library": "var_list.r",
     "varRefreshCmd": "cat(var_dic_list()) "
    }
   },
   "types_to_exclude": [
    "module",
    "function",
    "builtin_function_or_method",
    "instance",
    "_Feature"
   ],
   "window_display": false
  }
 },
 "nbformat": 4,
 "nbformat_minor": 4
}
